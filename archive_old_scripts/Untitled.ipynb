{
 "cells": [
  {
   "cell_type": "code",
   "execution_count": 1,
   "metadata": {},
   "outputs": [],
   "source": [
    "import pandas as pd\n",
    "import numpy as np\n",
    "from BorutaShap import BorutaShap\n",
    "\n",
    "full = pd.read_csv('InputPythonUTF8.csv')"
   ]
  },
  {
   "cell_type": "code",
   "execution_count": 4,
   "metadata": {},
   "outputs": [
    {
     "data": {
      "text/plain": [
       "Index(['Pro_year', 'Points_as_neopro', 'numberResults', 'nrbAbandons',\n",
       "       'abandonRatio', 'victory_ratio_MJ', 'podium_ratio_MJ', 'top5_ratio_MJ',\n",
       "       'victories_MJ', 'victory_ratio_U23',\n",
       "       ...\n",
       "       'uci.world.championships.itt.mj..best.result',\n",
       "       'uci.world.championships.itt.mj..minimum.TimeDiff',\n",
       "       'uci.world.championships.itt.mj..participation',\n",
       "       'uci.world.championships.mj..best.result',\n",
       "       'uci.world.championships.mj..minimum.TimeDiff',\n",
       "       'uci.world.championships.mj..participation', 'evolutionWins',\n",
       "       'evolutionPodiumRatio', 'evolutionTop5', 'Rider'],\n",
       "      dtype='object', length=245)"
      ]
     },
     "execution_count": 4,
     "metadata": {},
     "output_type": "execute_result"
    }
   ],
   "source": [
    "full.columns"
   ]
  }
 ],
 "metadata": {
  "kernelspec": {
   "display_name": "Python 3",
   "language": "python",
   "name": "python3"
  },
  "language_info": {
   "codemirror_mode": {
    "name": "ipython",
    "version": 3
   },
   "file_extension": ".py",
   "mimetype": "text/x-python",
   "name": "python",
   "nbconvert_exporter": "python",
   "pygments_lexer": "ipython3",
   "version": "3.7.0"
  }
 },
 "nbformat": 4,
 "nbformat_minor": 2
}
