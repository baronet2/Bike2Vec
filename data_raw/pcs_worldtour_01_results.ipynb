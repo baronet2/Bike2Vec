{
 "cells": [
  {
   "cell_type": "code",
   "execution_count": 1,
   "id": "67663916",
   "metadata": {},
   "outputs": [
    {
     "name": "stdout",
     "output_type": "stream",
     "text": [
      "Collecting procyclingstats\n",
      "  Downloading procyclingstats-0.1.2.tar.gz (28 kB)\n",
      "  Preparing metadata (setup.py) ... \u001b[?25ldone\n",
      "\u001b[?25hRequirement already satisfied: requests in /opt/conda/lib/python3.10/site-packages (from procyclingstats) (2.28.1)\n",
      "Collecting selectolax\n",
      "  Using cached selectolax-0.3.12-cp310-cp310-manylinux_2_17_x86_64.manylinux2014_x86_64.whl (5.1 MB)\n",
      "Requirement already satisfied: charset-normalizer<3,>=2 in /opt/conda/lib/python3.10/site-packages (from requests->procyclingstats) (2.1.1)\n",
      "Requirement already satisfied: certifi>=2017.4.17 in /opt/conda/lib/python3.10/site-packages (from requests->procyclingstats) (2022.12.7)\n",
      "Requirement already satisfied: urllib3<1.27,>=1.21.1 in /opt/conda/lib/python3.10/site-packages (from requests->procyclingstats) (1.26.13)\n",
      "Requirement already satisfied: idna<4,>=2.5 in /opt/conda/lib/python3.10/site-packages (from requests->procyclingstats) (3.4)\n",
      "Collecting Cython>=0.29.23\n",
      "  Using cached Cython-0.29.33-cp310-cp310-manylinux_2_17_x86_64.manylinux2014_x86_64.manylinux_2_24_x86_64.whl (1.9 MB)\n",
      "Building wheels for collected packages: procyclingstats\n",
      "  Building wheel for procyclingstats (setup.py) ... \u001b[?25ldone\n",
      "\u001b[?25h  Created wheel for procyclingstats: filename=procyclingstats-0.1.2-py3-none-any.whl size=35732 sha256=0e5d5929eaa634a580e882c8ba8c7892f681eebcf8e055ce1ae2a212d5c9738d\n",
      "  Stored in directory: /home/jovyan/.cache/pip/wheels/31/8c/f2/01ce9d3751b2a9cb2e14a512f089aebebf43af3f4936d369e1\n",
      "Successfully built procyclingstats\n",
      "Installing collected packages: Cython, selectolax, procyclingstats\n",
      "Successfully installed Cython-0.29.33 procyclingstats-0.1.2 selectolax-0.3.12\n"
     ]
    }
   ],
   "source": [
    "!pip install procyclingstats"
   ]
  },
  {
   "cell_type": "code",
   "execution_count": 2,
   "id": "84763164",
   "metadata": {},
   "outputs": [
    {
     "data": {
      "text/html": [
       "<div>\n",
       "<style scoped>\n",
       "    .dataframe tbody tr th:only-of-type {\n",
       "        vertical-align: middle;\n",
       "    }\n",
       "\n",
       "    .dataframe tbody tr th {\n",
       "        vertical-align: top;\n",
       "    }\n",
       "\n",
       "    .dataframe thead th {\n",
       "        text-align: right;\n",
       "    }\n",
       "</style>\n",
       "<table border=\"1\" class=\"dataframe\">\n",
       "  <thead>\n",
       "    <tr style=\"text-align: right;\">\n",
       "      <th></th>\n",
       "      <th>race_name</th>\n",
       "      <th>year</th>\n",
       "      <th>stage_race</th>\n",
       "      <th>race_url</th>\n",
       "    </tr>\n",
       "  </thead>\n",
       "  <tbody>\n",
       "    <tr>\n",
       "      <th>83</th>\n",
       "      <td>tour-down-under</td>\n",
       "      <td>2016</td>\n",
       "      <td>True</td>\n",
       "      <td>race/tour-down-under/2016</td>\n",
       "    </tr>\n",
       "    <tr>\n",
       "      <th>84</th>\n",
       "      <td>paris-nice</td>\n",
       "      <td>2016</td>\n",
       "      <td>True</td>\n",
       "      <td>race/paris-nice/2016</td>\n",
       "    </tr>\n",
       "    <tr>\n",
       "      <th>85</th>\n",
       "      <td>tirreno-adriatico</td>\n",
       "      <td>2016</td>\n",
       "      <td>True</td>\n",
       "      <td>race/tirreno-adriatico/2016</td>\n",
       "    </tr>\n",
       "    <tr>\n",
       "      <th>86</th>\n",
       "      <td>milano-sanremo</td>\n",
       "      <td>2016</td>\n",
       "      <td>False</td>\n",
       "      <td>race/milano-sanremo/2016</td>\n",
       "    </tr>\n",
       "    <tr>\n",
       "      <th>87</th>\n",
       "      <td>volta-a-catalunya</td>\n",
       "      <td>2016</td>\n",
       "      <td>True</td>\n",
       "      <td>race/volta-a-catalunya/2016</td>\n",
       "    </tr>\n",
       "    <tr>\n",
       "      <th>...</th>\n",
       "      <td>...</td>\n",
       "      <td>...</td>\n",
       "      <td>...</td>\n",
       "      <td>...</td>\n",
       "    </tr>\n",
       "    <tr>\n",
       "      <th>322</th>\n",
       "      <td>benelux-tour</td>\n",
       "      <td>2022</td>\n",
       "      <td>True</td>\n",
       "      <td>race/benelux-tour/2022</td>\n",
       "    </tr>\n",
       "    <tr>\n",
       "      <th>323</th>\n",
       "      <td>gp-quebec</td>\n",
       "      <td>2022</td>\n",
       "      <td>False</td>\n",
       "      <td>race/gp-quebec/2022</td>\n",
       "    </tr>\n",
       "    <tr>\n",
       "      <th>324</th>\n",
       "      <td>gp-montreal</td>\n",
       "      <td>2022</td>\n",
       "      <td>False</td>\n",
       "      <td>race/gp-montreal/2022</td>\n",
       "    </tr>\n",
       "    <tr>\n",
       "      <th>325</th>\n",
       "      <td>il-lombardia</td>\n",
       "      <td>2022</td>\n",
       "      <td>False</td>\n",
       "      <td>race/il-lombardia/2022</td>\n",
       "    </tr>\n",
       "    <tr>\n",
       "      <th>326</th>\n",
       "      <td>tour-of-guangxi</td>\n",
       "      <td>2022</td>\n",
       "      <td>True</td>\n",
       "      <td>race/tour-of-guangxi/2022</td>\n",
       "    </tr>\n",
       "  </tbody>\n",
       "</table>\n",
       "<p>244 rows × 4 columns</p>\n",
       "</div>"
      ],
      "text/plain": [
       "             race_name  year  stage_race                     race_url\n",
       "83     tour-down-under  2016        True    race/tour-down-under/2016\n",
       "84          paris-nice  2016        True         race/paris-nice/2016\n",
       "85   tirreno-adriatico  2016        True  race/tirreno-adriatico/2016\n",
       "86      milano-sanremo  2016       False     race/milano-sanremo/2016\n",
       "87   volta-a-catalunya  2016        True  race/volta-a-catalunya/2016\n",
       "..                 ...   ...         ...                          ...\n",
       "322       benelux-tour  2022        True       race/benelux-tour/2022\n",
       "323          gp-quebec  2022       False          race/gp-quebec/2022\n",
       "324        gp-montreal  2022       False        race/gp-montreal/2022\n",
       "325       il-lombardia  2022       False       race/il-lombardia/2022\n",
       "326    tour-of-guangxi  2022        True    race/tour-of-guangxi/2022\n",
       "\n",
       "[244 rows x 4 columns]"
      ]
     },
     "execution_count": 2,
     "metadata": {},
     "output_type": "execute_result"
    }
   ],
   "source": [
    "import pandas as pd\n",
    "world_tour_races = pd.read_csv('world_tour_races.csv')\n",
    "world_tour_races = world_tour_races.query('year >= 2016')\n",
    "world_tour_races"
   ]
  },
  {
   "cell_type": "code",
   "execution_count": 3,
   "id": "e979070c",
   "metadata": {
    "scrolled": false
   },
   "outputs": [
    {
     "name": "stderr",
     "output_type": "stream",
     "text": [
      "2it [00:01,  2.07it/s]"
     ]
    },
    {
     "name": "stdout",
     "output_type": "stream",
     "text": [
      "Unable to add results from race/e3-harelbeke/2016 - bad HTML\n"
     ]
    },
    {
     "name": "stderr",
     "output_type": "stream",
     "text": [
      "35it [00:16,  1.88it/s]"
     ]
    },
    {
     "name": "stdout",
     "output_type": "stream",
     "text": [
      "Unable to add results from race/great-ocean-race/2018 - bad HTML\n"
     ]
    },
    {
     "name": "stderr",
     "output_type": "stream",
     "text": [
      "47it [00:20,  3.02it/s]"
     ]
    },
    {
     "name": "stdout",
     "output_type": "stream",
     "text": [
      "Unable to add results from race/eschborn-frankfurt/2018 - bad HTML\n"
     ]
    },
    {
     "name": "stderr",
     "output_type": "stream",
     "text": [
      "79it [00:33,  2.97it/s]"
     ]
    },
    {
     "name": "stdout",
     "output_type": "stream",
     "text": [
      "Unable to add results from race/e3-harelbeke/2020 - bad HTML (possibly TTT or cancelled)\n",
      "Unable to add results from race/eschborn-frankfurt/2020 - bad HTML (possibly TTT or cancelled)\n"
     ]
    },
    {
     "name": "stderr",
     "output_type": "stream",
     "text": [
      "80it [00:34,  3.17it/s]"
     ]
    },
    {
     "name": "stdout",
     "output_type": "stream",
     "text": [
      "Unable to add results from race/san-sebastian/2020 - bad HTML (possibly TTT or cancelled)\n"
     ]
    },
    {
     "name": "stderr",
     "output_type": "stream",
     "text": [
      "84it [00:35,  3.77it/s]"
     ]
    },
    {
     "name": "stdout",
     "output_type": "stream",
     "text": [
      "Unable to add results from race/ride-london-classic/2020 - bad HTML (possibly TTT or cancelled)\n"
     ]
    },
    {
     "name": "stderr",
     "output_type": "stream",
     "text": [
      "87it [00:36,  3.66it/s]"
     ]
    },
    {
     "name": "stdout",
     "output_type": "stream",
     "text": [
      "Unable to add results from race/gp-quebec/2020 - bad HTML (possibly TTT or cancelled)\n",
      "Unable to add results from race/gp-montreal/2020 - bad HTML (possibly TTT or cancelled)\n"
     ]
    },
    {
     "name": "stderr",
     "output_type": "stream",
     "text": [
      "89it [00:36,  3.90it/s]"
     ]
    },
    {
     "name": "stdout",
     "output_type": "stream",
     "text": [
      "Unable to add results from race/cyclassics-hamburg/2020 - bad HTML (possibly TTT or cancelled)\n"
     ]
    },
    {
     "name": "stderr",
     "output_type": "stream",
     "text": [
      "91it [00:38,  2.08it/s]"
     ]
    },
    {
     "name": "stdout",
     "output_type": "stream",
     "text": [
      "Unable to add results from race/amstel-gold-race/2020 - bad HTML (possibly TTT or cancelled)\n"
     ]
    },
    {
     "name": "stderr",
     "output_type": "stream",
     "text": [
      "93it [00:38,  2.75it/s]"
     ]
    },
    {
     "name": "stdout",
     "output_type": "stream",
     "text": [
      "Unable to add results from race/dwars-door-vlaanderen/2020 - bad HTML (possibly TTT or cancelled)\n"
     ]
    },
    {
     "name": "stderr",
     "output_type": "stream",
     "text": [
      "97it [00:40,  2.98it/s]"
     ]
    },
    {
     "name": "stdout",
     "output_type": "stream",
     "text": [
      "Unable to add results from race/paris-roubaix/2020 - bad HTML (possibly TTT or cancelled)\n",
      "Unable to add results from race/great-ocean-race/2021 - bad HTML (possibly TTT or cancelled)\n"
     ]
    },
    {
     "name": "stderr",
     "output_type": "stream",
     "text": [
      "110it [00:45,  2.67it/s]"
     ]
    },
    {
     "name": "stdout",
     "output_type": "stream",
     "text": [
      "Unable to add results from race/cyclassics-hamburg/2021 - bad HTML (possibly TTT or cancelled)\n"
     ]
    },
    {
     "name": "stderr",
     "output_type": "stream",
     "text": [
      "113it [00:45,  3.14it/s]"
     ]
    },
    {
     "name": "stdout",
     "output_type": "stream",
     "text": [
      "Unable to add results from race/gp-quebec/2021 - bad HTML (possibly TTT or cancelled)\n",
      "Unable to add results from race/gp-montreal/2021 - bad HTML (possibly TTT or cancelled)\n"
     ]
    },
    {
     "name": "stderr",
     "output_type": "stream",
     "text": [
      "117it [00:47,  2.85it/s]"
     ]
    },
    {
     "name": "stdout",
     "output_type": "stream",
     "text": [
      "Unable to add results from race/great-ocean-race/2022 - bad HTML (possibly TTT or cancelled)\n"
     ]
    },
    {
     "name": "stderr",
     "output_type": "stream",
     "text": [
      "136it [00:54,  2.51it/s]\n",
      "1it [00:03,  3.40s/it]"
     ]
    },
    {
     "name": "stdout",
     "output_type": "stream",
     "text": [
      "Unable to add results from race/paris-nice/2016/stage-3 - bad HTML (possibly TTT or cancelled)\n"
     ]
    },
    {
     "name": "stderr",
     "output_type": "stream",
     "text": [
      "2it [00:08,  4.67s/it]"
     ]
    },
    {
     "name": "stdout",
     "output_type": "stream",
     "text": [
      "Unable to add results from race/tirreno-adriatico/2016/stage-5 - bad HTML (possibly TTT or cancelled)\n"
     ]
    },
    {
     "name": "stderr",
     "output_type": "stream",
     "text": [
      "6it [00:23,  3.70s/it]"
     ]
    },
    {
     "name": "stdout",
     "output_type": "stream",
     "text": [
      "Unable to add results from race/giro-d-italia/2016/stage-8 - bad HTML\n"
     ]
    },
    {
     "name": "stderr",
     "output_type": "stream",
     "text": [
      "10it [00:59,  7.96s/it]"
     ]
    },
    {
     "name": "stdout",
     "output_type": "stream",
     "text": [
      "Unable to add results from race/tour-de-pologne/2016/stage-6 - bad HTML (possibly TTT or cancelled)\n"
     ]
    },
    {
     "name": "stderr",
     "output_type": "stream",
     "text": [
      "17it [01:40,  5.36s/it]"
     ]
    },
    {
     "name": "stdout",
     "output_type": "stream",
     "text": [
      "Unable to add results from race/volta-a-catalunya/2017/stage-2 - bad HTML (possibly TTT or cancelled)\n"
     ]
    },
    {
     "name": "stderr",
     "output_type": "stream",
     "text": [
      "33it [03:10,  4.15s/it]"
     ]
    },
    {
     "name": "stdout",
     "output_type": "stream",
     "text": [
      "Unable to add results from race/tirreno-adriatico/2018/stage-1 - bad HTML (possibly TTT or cancelled)\n"
     ]
    },
    {
     "name": "stderr",
     "output_type": "stream",
     "text": [
      "35it [03:19,  4.52s/it]"
     ]
    },
    {
     "name": "stdout",
     "output_type": "stream",
     "text": [
      "Unable to add results from race/itzulia-basque-country/2018/stage-4 - bad HTML\n"
     ]
    },
    {
     "name": "stderr",
     "output_type": "stream",
     "text": [
      "37it [03:26,  3.85s/it]"
     ]
    },
    {
     "name": "stdout",
     "output_type": "stream",
     "text": [
      "Unable to add results from race/giro-d-italia/2018/stage-20 - bad HTML\n"
     ]
    },
    {
     "name": "stderr",
     "output_type": "stream",
     "text": [
      "39it [03:44,  6.14s/it]"
     ]
    },
    {
     "name": "stdout",
     "output_type": "stream",
     "text": [
      "Unable to add results from race/dauphine/2018/stage-3 - bad HTML\n"
     ]
    },
    {
     "name": "stderr",
     "output_type": "stream",
     "text": [
      "40it [03:48,  5.41s/it]"
     ]
    },
    {
     "name": "stdout",
     "output_type": "stream",
     "text": [
      "Unable to add results from race/tour-de-suisse/2018/stage-1 - bad HTML (possibly TTT or cancelled)\n"
     ]
    },
    {
     "name": "stderr",
     "output_type": "stream",
     "text": [
      "41it [03:53,  5.14s/it]"
     ]
    },
    {
     "name": "stdout",
     "output_type": "stream",
     "text": [
      "Unable to add results from race/tour-de-france/2018/stage-3 - bad HTML (possibly TTT or cancelled)\n",
      "Unable to add results from race/tour-de-france/2018/stage-9 - bad HTML\n"
     ]
    },
    {
     "name": "stderr",
     "output_type": "stream",
     "text": [
      "48it [04:37,  4.98s/it]"
     ]
    },
    {
     "name": "stdout",
     "output_type": "stream",
     "text": [
      "Unable to add results from race/uae-tour/2019/stage-1 - bad HTML (possibly TTT or cancelled)\n"
     ]
    },
    {
     "name": "stderr",
     "output_type": "stream",
     "text": [
      "50it [04:46,  4.94s/it]"
     ]
    },
    {
     "name": "stdout",
     "output_type": "stream",
     "text": [
      "Unable to add results from race/tirreno-adriatico/2019/stage-1 - bad HTML (possibly TTT or cancelled)\n"
     ]
    },
    {
     "name": "stderr",
     "output_type": "stream",
     "text": [
      "59it [05:32,  5.43s/it]"
     ]
    },
    {
     "name": "stdout",
     "output_type": "stream",
     "text": [
      "Unable to add results from race/tour-de-france/2019/stage-2 - bad HTML (possibly TTT or cancelled)\n"
     ]
    },
    {
     "name": "stderr",
     "output_type": "stream",
     "text": [
      "60it [05:45,  7.91s/it]"
     ]
    },
    {
     "name": "stdout",
     "output_type": "stream",
     "text": [
      "Unable to add results from race/tour-de-pologne/2019/stage-4 - bad HTML (possibly TTT or cancelled)\n"
     ]
    },
    {
     "name": "stderr",
     "output_type": "stream",
     "text": [
      "67it [06:20,  4.71s/it]"
     ]
    },
    {
     "name": "stdout",
     "output_type": "stream",
     "text": [
      "Unable to add results from race/paris-nice/2020/stage-8 - bad HTML (possibly TTT or cancelled)\n"
     ]
    },
    {
     "name": "stderr",
     "output_type": "stream",
     "text": [
      "72it [06:27,  2.46s/it]"
     ]
    },
    {
     "name": "stdout",
     "output_type": "stream",
     "text": [
      "Unable to add results from race/tour-de-france/2020/stage-8 - bad HTML (possibly TTT or cancelled)\n",
      "Unable to add results from race/tour-de-france/2020/stage-9 - bad HTML (possibly TTT or cancelled)\n"
     ]
    },
    {
     "name": "stderr",
     "output_type": "stream",
     "text": [
      "74it [06:48,  6.09s/it]"
     ]
    },
    {
     "name": "stdout",
     "output_type": "stream",
     "text": [
      "Unable to add results from race/benelux-tour/2020/stage-2 - bad HTML (possibly TTT or cancelled)\n"
     ]
    },
    {
     "name": "stderr",
     "output_type": "stream",
     "text": [
      "77it [07:16,  8.82s/it]"
     ]
    },
    {
     "name": "stdout",
     "output_type": "stream",
     "text": [
      "Unable to add results from race/tour-of-guangxi/2020/stage-1 - bad HTML (possibly TTT or cancelled)\n",
      "Unable to add results from race/tour-of-guangxi/2020/stage-2 - bad HTML (possibly TTT or cancelled)\n",
      "Unable to add results from race/tour-of-guangxi/2020/stage-3 - bad HTML (possibly TTT or cancelled)\n",
      "Unable to add results from race/tour-of-guangxi/2020/stage-4 - bad HTML (possibly TTT or cancelled)\n",
      "Unable to add results from race/tour-of-guangxi/2020/stage-5 - bad HTML (possibly TTT or cancelled)\n"
     ]
    },
    {
     "name": "stderr",
     "output_type": "stream",
     "text": [
      "78it [07:18,  6.74s/it]"
     ]
    },
    {
     "name": "stdout",
     "output_type": "stream",
     "text": [
      "Unable to add results from race/tour-of-guangxi/2020/stage-6 - bad HTML (possibly TTT or cancelled)\n",
      "Unable to add results from race/tour-down-under/2021/stage-1 - bad HTML (possibly TTT or cancelled)\n",
      "Unable to add results from race/tour-down-under/2021/stage-2 - bad HTML (possibly TTT or cancelled)\n",
      "Unable to add results from race/tour-down-under/2021/stage-3 - bad HTML (possibly TTT or cancelled)\n",
      "Unable to add results from race/tour-down-under/2021/stage-4 - bad HTML (possibly TTT or cancelled)\n"
     ]
    },
    {
     "name": "stderr",
     "output_type": "stream",
     "text": [
      "79it [07:19,  5.21s/it]"
     ]
    },
    {
     "name": "stdout",
     "output_type": "stream",
     "text": [
      "Unable to add results from race/tour-down-under/2021/stage-5 - bad HTML (possibly TTT or cancelled)\n",
      "Unable to add results from race/tour-down-under/2021/stage-6 - bad HTML (possibly TTT or cancelled)\n"
     ]
    },
    {
     "name": "stderr",
     "output_type": "stream",
     "text": [
      "93it [08:46,  5.65s/it]"
     ]
    },
    {
     "name": "stdout",
     "output_type": "stream",
     "text": [
      "Unable to add results from race/tour-down-under/2022/stage-1 - bad HTML (possibly TTT or cancelled)\n",
      "Unable to add results from race/tour-down-under/2022/stage-2 - bad HTML (possibly TTT or cancelled)\n",
      "Unable to add results from race/tour-down-under/2022/stage-3 - bad HTML (possibly TTT or cancelled)\n",
      "Unable to add results from race/tour-down-under/2022/stage-4 - bad HTML (possibly TTT or cancelled)\n",
      "Unable to add results from race/tour-down-under/2022/stage-5 - bad HTML (possibly TTT or cancelled)\n"
     ]
    },
    {
     "name": "stderr",
     "output_type": "stream",
     "text": [
      "94it [08:48,  4.43s/it]"
     ]
    },
    {
     "name": "stdout",
     "output_type": "stream",
     "text": [
      "Unable to add results from race/tour-down-under/2022/stage-6 - bad HTML (possibly TTT or cancelled)\n"
     ]
    },
    {
     "name": "stderr",
     "output_type": "stream",
     "text": [
      "106it [10:12,  9.71s/it]"
     ]
    },
    {
     "name": "stdout",
     "output_type": "stream",
     "text": [
      "Unable to add results from race/benelux-tour/2022/stage-1 - bad HTML (possibly TTT or cancelled)\n",
      "Unable to add results from race/benelux-tour/2022/stage-2 - bad HTML (possibly TTT or cancelled)\n",
      "Unable to add results from race/benelux-tour/2022/stage-3 - bad HTML (possibly TTT or cancelled)\n",
      "Unable to add results from race/benelux-tour/2022/stage-4 - bad HTML (possibly TTT or cancelled)\n",
      "Unable to add results from race/benelux-tour/2022/stage-5 - bad HTML (possibly TTT or cancelled)\n",
      "Unable to add results from race/benelux-tour/2022/stage-6 - bad HTML (possibly TTT or cancelled)\n"
     ]
    },
    {
     "name": "stderr",
     "output_type": "stream",
     "text": [
      "107it [10:14,  7.55s/it]"
     ]
    },
    {
     "name": "stdout",
     "output_type": "stream",
     "text": [
      "Unable to add results from race/benelux-tour/2022/stage-7 - bad HTML (possibly TTT or cancelled)\n",
      "Unable to add results from race/tour-of-guangxi/2022/stage-1 - bad HTML (possibly TTT or cancelled)\n",
      "Unable to add results from race/tour-of-guangxi/2022/stage-2 - bad HTML (possibly TTT or cancelled)\n",
      "Unable to add results from race/tour-of-guangxi/2022/stage-3 - bad HTML (possibly TTT or cancelled)\n",
      "Unable to add results from race/tour-of-guangxi/2022/stage-4 - bad HTML (possibly TTT or cancelled)\n"
     ]
    },
    {
     "name": "stderr",
     "output_type": "stream",
     "text": [
      "108it [10:16,  5.71s/it]"
     ]
    },
    {
     "name": "stdout",
     "output_type": "stream",
     "text": [
      "Unable to add results from race/tour-of-guangxi/2022/stage-5 - bad HTML (possibly TTT or cancelled)\n",
      "Unable to add results from race/tour-of-guangxi/2022/stage-6 - bad HTML (possibly TTT or cancelled)\n"
     ]
    },
    {
     "name": "stderr",
     "output_type": "stream",
     "text": [
      "\n"
     ]
    }
   ],
   "source": [
    "from procyclingstats import Stage, Race\n",
    "from tqdm import tqdm\n",
    "\n",
    "riders = pd.DataFrame(columns = ['rider_url', 'rider_name', 'nationality'])\n",
    "teams = pd.DataFrame(columns = ['team_url', 'team_name'])\n",
    "results = pd.DataFrame(columns = ['rider_url', 'team_url', 'rank', 'status', 'age', 'time', 'pcs_points', 'uci_points'])\n",
    "\n",
    "def add_results_from_stage(race_url):\n",
    "    global riders, teams, results\n",
    "    \n",
    "    try:\n",
    "        stage = Stage(race_url)\n",
    "    except ValueError:\n",
    "        print(f\"Unable to add results from {race_url} - bad URL\")\n",
    "        return\n",
    "    \n",
    "    try:\n",
    "        parsed = stage.parse()\n",
    "    except IndexError:\n",
    "        print(f\"Unable to add results from {race_url} - bad HTML (possibly TTT or cancelled)\")\n",
    "        return\n",
    "    except:\n",
    "        print(f\"Unable to add results from {race_url} - bad HTML\")\n",
    "        return\n",
    "    \n",
    "    full_df = pd.DataFrame(parsed['results'])\n",
    "    \n",
    "    # Clean links   \n",
    "    full_df['rider_url'] = full_df['rider_url'].str.removeprefix('rider/')\n",
    "    full_df['team_url'] = full_df['team_url'].str.removeprefix('team/')\n",
    "    full_df['race_url'] = race_url\n",
    "    \n",
    "    rider = full_df[['rider_url', 'rider_name', 'nationality']]\n",
    "    riders = pd.concat([riders, rider]).drop_duplicates()\n",
    "    team = full_df[['team_url', 'team_name']]\n",
    "    teams = pd.concat([teams, team]).drop_duplicates()\n",
    "    result = full_df[['race_url', 'rider_url', 'team_url', 'rank', 'status', 'age', 'time', 'pcs_points', 'uci_points']]\n",
    "    results = pd.concat([results, result])\n",
    "    \n",
    "def get_stage_urls(race_url):\n",
    "    stage = Race(f\"{race_url}/overview\")\n",
    "    stages = stage.parse()['stages']\n",
    "    return [stage['stage_url'] for stage in stages]\n",
    "\n",
    "for i, race_url in tqdm(world_tour_races.query('not stage_race').race_url.items()):\n",
    "    add_results_from_stage(race_url)\n",
    "    \n",
    "for i, race_url in tqdm(world_tour_races.query('stage_race').race_url.items()):\n",
    "    stage_urls = get_stage_urls(race_url)\n",
    "    for stage in stage_urls:\n",
    "        add_results_from_stage(stage)\n",
    "        \n",
    "riders.to_csv('pcs_riders.csv')\n",
    "teams.to_csv('pcs_teams.csv')\n",
    "results.to_csv('pcs_results.csv')"
   ]
  }
 ],
 "metadata": {
  "kernelspec": {
   "display_name": "Python 3 (ipykernel)",
   "language": "python",
   "name": "python3"
  },
  "language_info": {
   "codemirror_mode": {
    "name": "ipython",
    "version": 3
   },
   "file_extension": ".py",
   "mimetype": "text/x-python",
   "name": "python",
   "nbconvert_exporter": "python",
   "pygments_lexer": "ipython3",
   "version": "3.10.8"
  }
 },
 "nbformat": 4,
 "nbformat_minor": 5
}
