{
 "cells": [
  {
   "cell_type": "code",
   "execution_count": 1,
   "id": "6328d84a",
   "metadata": {},
   "outputs": [
    {
     "name": "stderr",
     "output_type": "stream",
     "text": [
      "2023-03-16 22:02:50.423942: I tensorflow/core/platform/cpu_feature_guard.cc:193] This TensorFlow binary is optimized with oneAPI Deep Neural Network Library (oneDNN) to use the following CPU instructions in performance-critical operations:  SSE4.1 SSE4.2 AVX AVX2 AVX512F FMA\n",
      "To enable them in other operations, rebuild TensorFlow with the appropriate compiler flags.\n"
     ]
    }
   ],
   "source": [
    "import pandas as pd\n",
    "from tensorflow import keras, constant\n",
    "from sklearn.neighbors import NearestNeighbors\n",
    "import numpy as np\n",
    "from sklearn.metrics import pairwise_distances\n",
    "from sklearn.cluster import KMeans"
   ]
  },
  {
   "cell_type": "code",
   "execution_count": 4,
   "id": "72b04385",
   "metadata": {
    "scrolled": true
   },
   "outputs": [
    {
     "data": {
      "text/html": [
       "<div>\n",
       "<style scoped>\n",
       "    .dataframe tbody tr th:only-of-type {\n",
       "        vertical-align: middle;\n",
       "    }\n",
       "\n",
       "    .dataframe tbody tr th {\n",
       "        vertical-align: top;\n",
       "    }\n",
       "\n",
       "    .dataframe thead th {\n",
       "        text-align: right;\n",
       "    }\n",
       "</style>\n",
       "<table border=\"1\" class=\"dataframe\">\n",
       "  <thead>\n",
       "    <tr style=\"text-align: right;\">\n",
       "      <th></th>\n",
       "      <th>rider_url</th>\n",
       "      <th>team_url</th>\n",
       "      <th>rank</th>\n",
       "      <th>status</th>\n",
       "      <th>age</th>\n",
       "      <th>time</th>\n",
       "      <th>pcs_points</th>\n",
       "      <th>uci_points</th>\n",
       "      <th>race_url</th>\n",
       "      <th>points</th>\n",
       "      <th>one_day</th>\n",
       "      <th>race_name</th>\n",
       "      <th>year</th>\n",
       "      <th>stage_race</th>\n",
       "      <th>rider_name</th>\n",
       "      <th>nationality</th>\n",
       "    </tr>\n",
       "  </thead>\n",
       "  <tbody>\n",
       "    <tr>\n",
       "      <th>0</th>\n",
       "      <td>arnaud-demare</td>\n",
       "      <td>fdj-2016</td>\n",
       "      <td>1.0</td>\n",
       "      <td>DF</td>\n",
       "      <td>24</td>\n",
       "      <td>6:54:45</td>\n",
       "      <td>275</td>\n",
       "      <td>500.0</td>\n",
       "      <td>race/milano-sanremo/2016</td>\n",
       "      <td>1.000000</td>\n",
       "      <td>True</td>\n",
       "      <td>milano-sanremo</td>\n",
       "      <td>2016</td>\n",
       "      <td>False</td>\n",
       "      <td>DÉMARE Arnaud</td>\n",
       "      <td>FR</td>\n",
       "    </tr>\n",
       "    <tr>\n",
       "      <th>1</th>\n",
       "      <td>arnaud-demare</td>\n",
       "      <td>fdj-2016</td>\n",
       "      <td>5.0</td>\n",
       "      <td>DF</td>\n",
       "      <td>24</td>\n",
       "      <td>5:55:23</td>\n",
       "      <td>80</td>\n",
       "      <td>225.0</td>\n",
       "      <td>race/gent-wevelgem/2016</td>\n",
       "      <td>0.355556</td>\n",
       "      <td>True</td>\n",
       "      <td>gent-wevelgem</td>\n",
       "      <td>2016</td>\n",
       "      <td>False</td>\n",
       "      <td>DÉMARE Arnaud</td>\n",
       "      <td>FR</td>\n",
       "    </tr>\n",
       "    <tr>\n",
       "      <th>2</th>\n",
       "      <td>arnaud-demare</td>\n",
       "      <td>fdj-2016</td>\n",
       "      <td>NaN</td>\n",
       "      <td>DNF</td>\n",
       "      <td>24</td>\n",
       "      <td>NaN</td>\n",
       "      <td>0</td>\n",
       "      <td>0.0</td>\n",
       "      <td>race/ronde-van-vlaanderen/2016</td>\n",
       "      <td>0.000000</td>\n",
       "      <td>True</td>\n",
       "      <td>ronde-van-vlaanderen</td>\n",
       "      <td>2016</td>\n",
       "      <td>False</td>\n",
       "      <td>DÉMARE Arnaud</td>\n",
       "      <td>FR</td>\n",
       "    </tr>\n",
       "    <tr>\n",
       "      <th>3</th>\n",
       "      <td>arnaud-demare</td>\n",
       "      <td>fdj-2016</td>\n",
       "      <td>34.0</td>\n",
       "      <td>DF</td>\n",
       "      <td>24</td>\n",
       "      <td>4:54:45</td>\n",
       "      <td>5</td>\n",
       "      <td>8.0</td>\n",
       "      <td>race/cyclassics-hamburg/2016</td>\n",
       "      <td>0.022222</td>\n",
       "      <td>True</td>\n",
       "      <td>cyclassics-hamburg</td>\n",
       "      <td>2016</td>\n",
       "      <td>False</td>\n",
       "      <td>DÉMARE Arnaud</td>\n",
       "      <td>FR</td>\n",
       "    </tr>\n",
       "    <tr>\n",
       "      <th>4</th>\n",
       "      <td>arnaud-demare</td>\n",
       "      <td>fdj-2016</td>\n",
       "      <td>NaN</td>\n",
       "      <td>DNF</td>\n",
       "      <td>25</td>\n",
       "      <td>NaN</td>\n",
       "      <td>0</td>\n",
       "      <td>0.0</td>\n",
       "      <td>race/bretagne-classic/2016</td>\n",
       "      <td>0.000000</td>\n",
       "      <td>True</td>\n",
       "      <td>bretagne-classic</td>\n",
       "      <td>2016</td>\n",
       "      <td>False</td>\n",
       "      <td>DÉMARE Arnaud</td>\n",
       "      <td>FR</td>\n",
       "    </tr>\n",
       "    <tr>\n",
       "      <th>...</th>\n",
       "      <td>...</td>\n",
       "      <td>...</td>\n",
       "      <td>...</td>\n",
       "      <td>...</td>\n",
       "      <td>...</td>\n",
       "      <td>...</td>\n",
       "      <td>...</td>\n",
       "      <td>...</td>\n",
       "      <td>...</td>\n",
       "      <td>...</td>\n",
       "      <td>...</td>\n",
       "      <td>...</td>\n",
       "      <td>...</td>\n",
       "      <td>...</td>\n",
       "      <td>...</td>\n",
       "      <td>...</td>\n",
       "    </tr>\n",
       "    <tr>\n",
       "      <th>20153</th>\n",
       "      <td>santiago-umba</td>\n",
       "      <td>drone-hopper-androni-giocattoli-2022</td>\n",
       "      <td>88.0</td>\n",
       "      <td>DF</td>\n",
       "      <td>19</td>\n",
       "      <td>6:39:45</td>\n",
       "      <td>5</td>\n",
       "      <td>0.0</td>\n",
       "      <td>race/il-lombardia/2022</td>\n",
       "      <td>0.018182</td>\n",
       "      <td>True</td>\n",
       "      <td>il-lombardia</td>\n",
       "      <td>2022</td>\n",
       "      <td>False</td>\n",
       "      <td>UMBA Santiago</td>\n",
       "      <td>CO</td>\n",
       "    </tr>\n",
       "    <tr>\n",
       "      <th>20154</th>\n",
       "      <td>natnael-tesfatsion</td>\n",
       "      <td>drone-hopper-androni-giocattoli-2022</td>\n",
       "      <td>NaN</td>\n",
       "      <td>DNF</td>\n",
       "      <td>23</td>\n",
       "      <td>NaN</td>\n",
       "      <td>0</td>\n",
       "      <td>0.0</td>\n",
       "      <td>race/il-lombardia/2022</td>\n",
       "      <td>0.000000</td>\n",
       "      <td>True</td>\n",
       "      <td>il-lombardia</td>\n",
       "      <td>2022</td>\n",
       "      <td>False</td>\n",
       "      <td>TESFATSION Natnael</td>\n",
       "      <td>ER</td>\n",
       "    </tr>\n",
       "    <tr>\n",
       "      <th>20155</th>\n",
       "      <td>sean-quinn</td>\n",
       "      <td>ef-education-easypost-2022</td>\n",
       "      <td>NaN</td>\n",
       "      <td>DNF</td>\n",
       "      <td>22</td>\n",
       "      <td>NaN</td>\n",
       "      <td>0</td>\n",
       "      <td>0.0</td>\n",
       "      <td>race/il-lombardia/2022</td>\n",
       "      <td>0.000000</td>\n",
       "      <td>True</td>\n",
       "      <td>il-lombardia</td>\n",
       "      <td>2022</td>\n",
       "      <td>False</td>\n",
       "      <td>QUINN Sean</td>\n",
       "      <td>US</td>\n",
       "    </tr>\n",
       "    <tr>\n",
       "      <th>20156</th>\n",
       "      <td>sergio-martin</td>\n",
       "      <td>caja-rural-seguros-rga-2022</td>\n",
       "      <td>NaN</td>\n",
       "      <td>DNF</td>\n",
       "      <td>25</td>\n",
       "      <td>NaN</td>\n",
       "      <td>0</td>\n",
       "      <td>0.0</td>\n",
       "      <td>race/il-lombardia/2022</td>\n",
       "      <td>0.000000</td>\n",
       "      <td>True</td>\n",
       "      <td>il-lombardia</td>\n",
       "      <td>2022</td>\n",
       "      <td>False</td>\n",
       "      <td>MARTÍN Sergio Roman</td>\n",
       "      <td>ES</td>\n",
       "    </tr>\n",
       "    <tr>\n",
       "      <th>20157</th>\n",
       "      <td>henok-mulubrhan</td>\n",
       "      <td>bardiani-csf-faizane-2022</td>\n",
       "      <td>NaN</td>\n",
       "      <td>DNF</td>\n",
       "      <td>22</td>\n",
       "      <td>NaN</td>\n",
       "      <td>0</td>\n",
       "      <td>0.0</td>\n",
       "      <td>race/il-lombardia/2022</td>\n",
       "      <td>0.000000</td>\n",
       "      <td>True</td>\n",
       "      <td>il-lombardia</td>\n",
       "      <td>2022</td>\n",
       "      <td>False</td>\n",
       "      <td>MULUBRHAN Henok</td>\n",
       "      <td>ER</td>\n",
       "    </tr>\n",
       "  </tbody>\n",
       "</table>\n",
       "<p>20158 rows × 16 columns</p>\n",
       "</div>"
      ],
      "text/plain": [
       "                rider_url                              team_url  rank status  \\\n",
       "0           arnaud-demare                              fdj-2016   1.0     DF   \n",
       "1           arnaud-demare                              fdj-2016   5.0     DF   \n",
       "2           arnaud-demare                              fdj-2016   NaN    DNF   \n",
       "3           arnaud-demare                              fdj-2016  34.0     DF   \n",
       "4           arnaud-demare                              fdj-2016   NaN    DNF   \n",
       "...                   ...                                   ...   ...    ...   \n",
       "20153       santiago-umba  drone-hopper-androni-giocattoli-2022  88.0     DF   \n",
       "20154  natnael-tesfatsion  drone-hopper-androni-giocattoli-2022   NaN    DNF   \n",
       "20155          sean-quinn            ef-education-easypost-2022   NaN    DNF   \n",
       "20156       sergio-martin           caja-rural-seguros-rga-2022   NaN    DNF   \n",
       "20157     henok-mulubrhan             bardiani-csf-faizane-2022   NaN    DNF   \n",
       "\n",
       "       age     time  pcs_points  uci_points                        race_url  \\\n",
       "0       24  6:54:45         275       500.0        race/milano-sanremo/2016   \n",
       "1       24  5:55:23          80       225.0         race/gent-wevelgem/2016   \n",
       "2       24      NaN           0         0.0  race/ronde-van-vlaanderen/2016   \n",
       "3       24  4:54:45           5         8.0    race/cyclassics-hamburg/2016   \n",
       "4       25      NaN           0         0.0      race/bretagne-classic/2016   \n",
       "...    ...      ...         ...         ...                             ...   \n",
       "20153   19  6:39:45           5         0.0          race/il-lombardia/2022   \n",
       "20154   23      NaN           0         0.0          race/il-lombardia/2022   \n",
       "20155   22      NaN           0         0.0          race/il-lombardia/2022   \n",
       "20156   25      NaN           0         0.0          race/il-lombardia/2022   \n",
       "20157   22      NaN           0         0.0          race/il-lombardia/2022   \n",
       "\n",
       "         points  one_day             race_name  year  stage_race  \\\n",
       "0      1.000000     True        milano-sanremo  2016       False   \n",
       "1      0.355556     True         gent-wevelgem  2016       False   \n",
       "2      0.000000     True  ronde-van-vlaanderen  2016       False   \n",
       "3      0.022222     True    cyclassics-hamburg  2016       False   \n",
       "4      0.000000     True      bretagne-classic  2016       False   \n",
       "...         ...      ...                   ...   ...         ...   \n",
       "20153  0.018182     True          il-lombardia  2022       False   \n",
       "20154  0.000000     True          il-lombardia  2022       False   \n",
       "20155  0.000000     True          il-lombardia  2022       False   \n",
       "20156  0.000000     True          il-lombardia  2022       False   \n",
       "20157  0.000000     True          il-lombardia  2022       False   \n",
       "\n",
       "                rider_name nationality  \n",
       "0            DÉMARE Arnaud          FR  \n",
       "1            DÉMARE Arnaud          FR  \n",
       "2            DÉMARE Arnaud          FR  \n",
       "3            DÉMARE Arnaud          FR  \n",
       "4            DÉMARE Arnaud          FR  \n",
       "...                    ...         ...  \n",
       "20153        UMBA Santiago          CO  \n",
       "20154   TESFATSION Natnael          ER  \n",
       "20155           QUINN Sean          US  \n",
       "20156  MARTÍN Sergio Roman          ES  \n",
       "20157      MULUBRHAN Henok          ER  \n",
       "\n",
       "[20158 rows x 16 columns]"
      ]
     },
     "execution_count": 4,
     "metadata": {},
     "output_type": "execute_result"
    }
   ],
   "source": [
    "results_file_name = '../data/pcs_worldtour_results.csv'\n",
    "results = pd.read_csv(results_file_name, index_col = 0)\n",
    "results['points'] = results.groupby('race_url').pcs_points.transform(lambda x: x / x.max())\n",
    "results['one_day'] = results['race_url'].str.count('/') == 2\n",
    "results = results.query('one_day')\n",
    "\n",
    "races = pd.read_csv('../data/pcs_worldtour_races.csv')\n",
    "riders = pd.read_csv('../data/pcs_worldtour_riders.csv', index_col = 0)\n",
    "results = pd.merge(results, races)\n",
    "results = pd.merge(results, riders)\n",
    "results"
   ]
  },
  {
   "cell_type": "code",
   "execution_count": 5,
   "id": "7df6c819",
   "metadata": {},
   "outputs": [
    {
     "name": "stdout",
     "output_type": "stream",
     "text": [
      "630/630 [==============================] - 1s 886us/step\n"
     ]
    },
    {
     "data": {
      "text/html": [
       "<div>\n",
       "<style scoped>\n",
       "    .dataframe tbody tr th:only-of-type {\n",
       "        vertical-align: middle;\n",
       "    }\n",
       "\n",
       "    .dataframe tbody tr th {\n",
       "        vertical-align: top;\n",
       "    }\n",
       "\n",
       "    .dataframe thead th {\n",
       "        text-align: right;\n",
       "    }\n",
       "</style>\n",
       "<table border=\"1\" class=\"dataframe\">\n",
       "  <thead>\n",
       "    <tr style=\"text-align: right;\">\n",
       "      <th></th>\n",
       "      <th>rider_name</th>\n",
       "      <th>race_name</th>\n",
       "      <th>year</th>\n",
       "      <th>rank</th>\n",
       "      <th>points</th>\n",
       "      <th>pred</th>\n",
       "    </tr>\n",
       "  </thead>\n",
       "  <tbody>\n",
       "    <tr>\n",
       "      <th>18173</th>\n",
       "      <td>EVENEPOEL Remco</td>\n",
       "      <td>san-sebastian</td>\n",
       "      <td>2022</td>\n",
       "      <td>1.0</td>\n",
       "      <td>1.000000</td>\n",
       "      <td>1.0044</td>\n",
       "    </tr>\n",
       "    <tr>\n",
       "      <th>18166</th>\n",
       "      <td>EVENEPOEL Remco</td>\n",
       "      <td>san-sebastian</td>\n",
       "      <td>2019</td>\n",
       "      <td>1.0</td>\n",
       "      <td>1.000000</td>\n",
       "      <td>1.0044</td>\n",
       "    </tr>\n",
       "    <tr>\n",
       "      <th>4774</th>\n",
       "      <td>ARNDT Nikias</td>\n",
       "      <td>great-ocean-race</td>\n",
       "      <td>2017</td>\n",
       "      <td>1.0</td>\n",
       "      <td>1.000000</td>\n",
       "      <td>0.8349</td>\n",
       "    </tr>\n",
       "    <tr>\n",
       "      <th>16326</th>\n",
       "      <td>VAN AERT Wout</td>\n",
       "      <td>bretagne-classic</td>\n",
       "      <td>2022</td>\n",
       "      <td>1.0</td>\n",
       "      <td>1.000000</td>\n",
       "      <td>0.8129</td>\n",
       "    </tr>\n",
       "    <tr>\n",
       "      <th>17976</th>\n",
       "      <td>VAN DER POEL Mathieu</td>\n",
       "      <td>ronde-van-vlaanderen</td>\n",
       "      <td>2021</td>\n",
       "      <td>2.0</td>\n",
       "      <td>0.727273</td>\n",
       "      <td>0.8094</td>\n",
       "    </tr>\n",
       "    <tr>\n",
       "      <th>17970</th>\n",
       "      <td>VAN DER POEL Mathieu</td>\n",
       "      <td>ronde-van-vlaanderen</td>\n",
       "      <td>2020</td>\n",
       "      <td>1.0</td>\n",
       "      <td>1.000000</td>\n",
       "      <td>0.8094</td>\n",
       "    </tr>\n",
       "    <tr>\n",
       "      <th>17980</th>\n",
       "      <td>VAN DER POEL Mathieu</td>\n",
       "      <td>ronde-van-vlaanderen</td>\n",
       "      <td>2022</td>\n",
       "      <td>1.0</td>\n",
       "      <td>1.000000</td>\n",
       "      <td>0.8094</td>\n",
       "    </tr>\n",
       "    <tr>\n",
       "      <th>17963</th>\n",
       "      <td>VAN DER POEL Mathieu</td>\n",
       "      <td>ronde-van-vlaanderen</td>\n",
       "      <td>2019</td>\n",
       "      <td>4.0</td>\n",
       "      <td>0.436364</td>\n",
       "      <td>0.8094</td>\n",
       "    </tr>\n",
       "    <tr>\n",
       "      <th>12611</th>\n",
       "      <td>GROENEWEGEN Dylan</td>\n",
       "      <td>oxyclean-classic-brugge-de-panne</td>\n",
       "      <td>2019</td>\n",
       "      <td>1.0</td>\n",
       "      <td>1.000000</td>\n",
       "      <td>0.7941</td>\n",
       "    </tr>\n",
       "    <tr>\n",
       "      <th>12614</th>\n",
       "      <td>GROENEWEGEN Dylan</td>\n",
       "      <td>oxyclean-classic-brugge-de-panne</td>\n",
       "      <td>2022</td>\n",
       "      <td>2.0</td>\n",
       "      <td>0.666667</td>\n",
       "      <td>0.7941</td>\n",
       "    </tr>\n",
       "    <tr>\n",
       "      <th>18172</th>\n",
       "      <td>EVENEPOEL Remco</td>\n",
       "      <td>liege-bastogne-liege</td>\n",
       "      <td>2022</td>\n",
       "      <td>1.0</td>\n",
       "      <td>1.000000</td>\n",
       "      <td>0.7801</td>\n",
       "    </tr>\n",
       "    <tr>\n",
       "      <th>9101</th>\n",
       "      <td>ALAPHILIPPE Julian</td>\n",
       "      <td>la-fleche-wallone</td>\n",
       "      <td>2016</td>\n",
       "      <td>2.0</td>\n",
       "      <td>0.666667</td>\n",
       "      <td>0.7510</td>\n",
       "    </tr>\n",
       "    <tr>\n",
       "      <th>9116</th>\n",
       "      <td>ALAPHILIPPE Julian</td>\n",
       "      <td>la-fleche-wallone</td>\n",
       "      <td>2019</td>\n",
       "      <td>1.0</td>\n",
       "      <td>1.000000</td>\n",
       "      <td>0.7510</td>\n",
       "    </tr>\n",
       "    <tr>\n",
       "      <th>9110</th>\n",
       "      <td>ALAPHILIPPE Julian</td>\n",
       "      <td>la-fleche-wallone</td>\n",
       "      <td>2018</td>\n",
       "      <td>1.0</td>\n",
       "      <td>1.000000</td>\n",
       "      <td>0.7510</td>\n",
       "    </tr>\n",
       "    <tr>\n",
       "      <th>9131</th>\n",
       "      <td>ALAPHILIPPE Julian</td>\n",
       "      <td>la-fleche-wallone</td>\n",
       "      <td>2021</td>\n",
       "      <td>1.0</td>\n",
       "      <td>1.000000</td>\n",
       "      <td>0.7510</td>\n",
       "    </tr>\n",
       "  </tbody>\n",
       "</table>\n",
       "</div>"
      ],
      "text/plain": [
       "                 rider_name                         race_name  year  rank  \\\n",
       "18173       EVENEPOEL Remco                     san-sebastian  2022   1.0   \n",
       "18166       EVENEPOEL Remco                     san-sebastian  2019   1.0   \n",
       "4774           ARNDT Nikias                  great-ocean-race  2017   1.0   \n",
       "16326         VAN AERT Wout                  bretagne-classic  2022   1.0   \n",
       "17976  VAN DER POEL Mathieu              ronde-van-vlaanderen  2021   2.0   \n",
       "17970  VAN DER POEL Mathieu              ronde-van-vlaanderen  2020   1.0   \n",
       "17980  VAN DER POEL Mathieu              ronde-van-vlaanderen  2022   1.0   \n",
       "17963  VAN DER POEL Mathieu              ronde-van-vlaanderen  2019   4.0   \n",
       "12611     GROENEWEGEN Dylan  oxyclean-classic-brugge-de-panne  2019   1.0   \n",
       "12614     GROENEWEGEN Dylan  oxyclean-classic-brugge-de-panne  2022   2.0   \n",
       "18172       EVENEPOEL Remco              liege-bastogne-liege  2022   1.0   \n",
       "9101     ALAPHILIPPE Julian                 la-fleche-wallone  2016   2.0   \n",
       "9116     ALAPHILIPPE Julian                 la-fleche-wallone  2019   1.0   \n",
       "9110     ALAPHILIPPE Julian                 la-fleche-wallone  2018   1.0   \n",
       "9131     ALAPHILIPPE Julian                 la-fleche-wallone  2021   1.0   \n",
       "\n",
       "         points    pred  \n",
       "18173  1.000000  1.0044  \n",
       "18166  1.000000  1.0044  \n",
       "4774   1.000000  0.8349  \n",
       "16326  1.000000  0.8129  \n",
       "17976  0.727273  0.8094  \n",
       "17970  1.000000  0.8094  \n",
       "17980  1.000000  0.8094  \n",
       "17963  0.436364  0.8094  \n",
       "12611  1.000000  0.7941  \n",
       "12614  0.666667  0.7941  \n",
       "18172  1.000000  0.7801  \n",
       "9101   0.666667  0.7510  \n",
       "9116   1.000000  0.7510  \n",
       "9110   1.000000  0.7510  \n",
       "9131   1.000000  0.7510  "
      ]
     },
     "execution_count": 5,
     "metadata": {},
     "output_type": "execute_result"
    }
   ],
   "source": [
    "model = keras.models.load_model('../models/pcs_worldtour_oneday_direct_embeddings')\n",
    "results['pred'] = model.predict([results.rider_name, results.race_name]).round(4)\n",
    "results.sort_values('pred', ascending = False).head(15)[['rider_name', 'race_name', 'year', 'rank', 'points', 'pred']]"
   ]
  },
  {
   "cell_type": "code",
   "execution_count": 6,
   "id": "c4b5e74b",
   "metadata": {
    "scrolled": true
   },
   "outputs": [
    {
     "data": {
      "text/plain": [
       "(<tf.Tensor: shape=(1, 10), dtype=float32, numpy=\n",
       " array([[-0.62507236, -0.21986185, -0.45205355,  0.6254721 ,  0.20994172,\n",
       "         -0.13009325, -0.33821023,  0.23531958,  0.24564373, -0.17589954]],\n",
       "       dtype=float32)>,\n",
       " <tf.Tensor: shape=(2, 10), dtype=float32, numpy=\n",
       " array([[-0.62507236, -0.21986185, -0.45205355,  0.6254721 ,  0.20994172,\n",
       "         -0.13009325, -0.33821023,  0.23531958,  0.24564373, -0.17589954],\n",
       "        [ 0.03581891,  0.01626286, -0.01412892,  0.04499895, -0.04219389,\n",
       "          0.01523323,  0.04704999, -0.03320879,  0.00237893,  0.01307596]],\n",
       "       dtype=float32)>)"
      ]
     },
     "execution_count": 6,
     "metadata": {},
     "output_type": "execute_result"
    }
   ],
   "source": [
    "rider_dict = {i: v for i, v in enumerate(model.get_layer('rider_name_to_int').get_vocabulary())} \n",
    "all_rider_names = np.array(list(rider_dict.values())[1:])\n",
    "\n",
    "rider_encoder = keras.Model(model.input[0], model.get_layer('rider_vector').output)\n",
    "\n",
    "def rider_name_to_vector(rider_name):\n",
    "    if not isinstance(rider_name, list):\n",
    "        rider_name = [rider_name]\n",
    "    return rider_encoder(constant(rider_name))\n",
    "    \n",
    "rider_name_to_vector('EVENEPOEL Remco'), rider_name_to_vector(['EVENEPOEL Remco', 'VAN Aert'])"
   ]
  },
  {
   "cell_type": "markdown",
   "id": "7d59987f",
   "metadata": {},
   "source": [
    "## Similar Riders"
   ]
  },
  {
   "cell_type": "code",
   "execution_count": 7,
   "id": "550f62bd",
   "metadata": {
    "scrolled": true
   },
   "outputs": [
    {
     "data": {
      "text/plain": [
       "{'EVENEPOEL Remco': 'RODRÍGUEZ Joaquim',\n",
       " 'POGAČAR Tadej': 'PINOT Thibaut',\n",
       " 'VAN AERT Wout': 'NAESEN Oliver',\n",
       " 'VAN DER POEL Mathieu': 'CANCELLARA Fabian',\n",
       " 'SAGAN Peter': 'GIRMAY Biniam',\n",
       " 'ALAPHILIPPE Julian': 'VALVERDE Alejandro',\n",
       " 'BENNETT Sam': 'PHILIPSEN Jasper',\n",
       " 'NIBALI Vincenzo': 'URÁN Rigoberto',\n",
       " 'GILBERT Philippe': 'VAN BAARLE Dylan'}"
      ]
     },
     "execution_count": 7,
     "metadata": {},
     "output_type": "execute_result"
    }
   ],
   "source": [
    "rider_nn = NearestNeighbors(n_neighbors = 2)\n",
    "rider_nn.fit(rider_encoder(all_rider_names).numpy())\n",
    "\n",
    "def rider_int_to_name(rider_int):\n",
    "    return rider_dict[rider_int]\n",
    "    \n",
    "def get_nearest_rider(rider_name = 'EVENEPOEL Remco'):\n",
    "    embedding = rider_name_to_vector(rider_name)\n",
    "    distances, indices = rider_nn.kneighbors(embedding)\n",
    "    return rider_int_to_name(indices[0][1] + 1)\n",
    "\n",
    "riders_to_check = [\n",
    "    'EVENEPOEL Remco',\n",
    "    'POGAČAR Tadej',\n",
    "    'VAN AERT Wout',\n",
    "    'VAN DER POEL Mathieu',\n",
    "    'SAGAN Peter',\n",
    "    'ALAPHILIPPE Julian',\n",
    "    'BENNETT Sam',\n",
    "    'NIBALI Vincenzo',\n",
    "    'GILBERT Philippe'\n",
    "]\n",
    "\n",
    "{r: get_nearest_rider(r) for r in riders_to_check}"
   ]
  },
  {
   "cell_type": "markdown",
   "id": "f9bbd5dc",
   "metadata": {},
   "source": [
    "## Race Prediction"
   ]
  },
  {
   "cell_type": "code",
   "execution_count": 8,
   "id": "c7723f1f",
   "metadata": {},
   "outputs": [
    {
     "name": "stdout",
     "output_type": "stream",
     "text": [
      "49/49 [==============================] - 0s 1ms/step\n"
     ]
    },
    {
     "data": {
      "text/html": [
       "<div>\n",
       "<style scoped>\n",
       "    .dataframe tbody tr th:only-of-type {\n",
       "        vertical-align: middle;\n",
       "    }\n",
       "\n",
       "    .dataframe tbody tr th {\n",
       "        vertical-align: top;\n",
       "    }\n",
       "\n",
       "    .dataframe thead th {\n",
       "        text-align: right;\n",
       "    }\n",
       "</style>\n",
       "<table border=\"1\" class=\"dataframe\">\n",
       "  <thead>\n",
       "    <tr style=\"text-align: right;\">\n",
       "      <th></th>\n",
       "      <th>rider</th>\n",
       "      <th>pred</th>\n",
       "    </tr>\n",
       "  </thead>\n",
       "  <tbody>\n",
       "    <tr>\n",
       "      <th>1148</th>\n",
       "      <td>VAN DER POEL Mathieu</td>\n",
       "      <td>0.379775</td>\n",
       "    </tr>\n",
       "    <tr>\n",
       "      <th>359</th>\n",
       "      <td>HAYMAN Mathew</td>\n",
       "      <td>0.360545</td>\n",
       "    </tr>\n",
       "    <tr>\n",
       "      <th>4</th>\n",
       "      <td>VAN AVERMAET Greg</td>\n",
       "      <td>0.338408</td>\n",
       "    </tr>\n",
       "    <tr>\n",
       "      <th>58</th>\n",
       "      <td>MATTHEWS Michael</td>\n",
       "      <td>0.331758</td>\n",
       "    </tr>\n",
       "    <tr>\n",
       "      <th>1242</th>\n",
       "      <td>VERMEERSCH Florian</td>\n",
       "      <td>0.327866</td>\n",
       "    </tr>\n",
       "    <tr>\n",
       "      <th>11</th>\n",
       "      <td>SAGAN Peter</td>\n",
       "      <td>0.326582</td>\n",
       "    </tr>\n",
       "    <tr>\n",
       "      <th>54</th>\n",
       "      <td>BOONEN Tom</td>\n",
       "      <td>0.323533</td>\n",
       "    </tr>\n",
       "    <tr>\n",
       "      <th>8</th>\n",
       "      <td>COLBRELLI Sonny</td>\n",
       "      <td>0.307826</td>\n",
       "    </tr>\n",
       "    <tr>\n",
       "      <th>433</th>\n",
       "      <td>GILBERT Philippe</td>\n",
       "      <td>0.288705</td>\n",
       "    </tr>\n",
       "    <tr>\n",
       "      <th>23</th>\n",
       "      <td>VANMARCKE Sep</td>\n",
       "      <td>0.287994</td>\n",
       "    </tr>\n",
       "    <tr>\n",
       "      <th>57</th>\n",
       "      <td>ULISSI Diego</td>\n",
       "      <td>0.263953</td>\n",
       "    </tr>\n",
       "    <tr>\n",
       "      <th>970</th>\n",
       "      <td>VAN AERT Wout</td>\n",
       "      <td>0.252346</td>\n",
       "    </tr>\n",
       "    <tr>\n",
       "      <th>517</th>\n",
       "      <td>PICHON Laurent</td>\n",
       "      <td>0.250107</td>\n",
       "    </tr>\n",
       "    <tr>\n",
       "      <th>1486</th>\n",
       "      <td>O'BRIEN Kelland</td>\n",
       "      <td>0.233010</td>\n",
       "    </tr>\n",
       "    <tr>\n",
       "      <th>1088</th>\n",
       "      <td>SIVAKOV Pavel</td>\n",
       "      <td>0.232623</td>\n",
       "    </tr>\n",
       "  </tbody>\n",
       "</table>\n",
       "</div>"
      ],
      "text/plain": [
       "                     rider      pred\n",
       "1148  VAN DER POEL Mathieu  0.379775\n",
       "359          HAYMAN Mathew  0.360545\n",
       "4        VAN AVERMAET Greg  0.338408\n",
       "58        MATTHEWS Michael  0.331758\n",
       "1242    VERMEERSCH Florian  0.327866\n",
       "11             SAGAN Peter  0.326582\n",
       "54              BOONEN Tom  0.323533\n",
       "8          COLBRELLI Sonny  0.307826\n",
       "433       GILBERT Philippe  0.288705\n",
       "23           VANMARCKE Sep  0.287994\n",
       "57            ULISSI Diego  0.263953\n",
       "970          VAN AERT Wout  0.252346\n",
       "517         PICHON Laurent  0.250107\n",
       "1486       O'BRIEN Kelland  0.233010\n",
       "1088         SIVAKOV Pavel  0.232623"
      ]
     },
     "execution_count": 8,
     "metadata": {},
     "output_type": "execute_result"
    }
   ],
   "source": [
    "preds = model.predict(\n",
    "    [all_rider_names,\n",
    "     np.array(['paris-roubaix'] * len(all_rider_names))])\n",
    "pd.DataFrame({'rider': all_rider_names, 'pred': preds.flatten()}).sort_values('pred', ascending = False).head(15)"
   ]
  },
  {
   "cell_type": "markdown",
   "id": "89b5647e",
   "metadata": {},
   "source": [
    "## Similar Races"
   ]
  },
  {
   "cell_type": "code",
   "execution_count": 9,
   "id": "986bf3e0",
   "metadata": {},
   "outputs": [
    {
     "data": {
      "text/html": [
       "<div>\n",
       "<style scoped>\n",
       "    .dataframe tbody tr th:only-of-type {\n",
       "        vertical-align: middle;\n",
       "    }\n",
       "\n",
       "    .dataframe tbody tr th {\n",
       "        vertical-align: top;\n",
       "    }\n",
       "\n",
       "    .dataframe thead th {\n",
       "        text-align: right;\n",
       "    }\n",
       "</style>\n",
       "<table border=\"1\" class=\"dataframe\">\n",
       "  <thead>\n",
       "    <tr style=\"text-align: right;\">\n",
       "      <th></th>\n",
       "      <th>race_1</th>\n",
       "      <th>race_2</th>\n",
       "      <th>similarity</th>\n",
       "    </tr>\n",
       "  </thead>\n",
       "  <tbody>\n",
       "    <tr>\n",
       "      <th>282</th>\n",
       "      <td>ride-london-classic</td>\n",
       "      <td>eschborn-frankfurt</td>\n",
       "      <td>0.486484</td>\n",
       "    </tr>\n",
       "    <tr>\n",
       "      <th>53</th>\n",
       "      <td>gent-wevelgem</td>\n",
       "      <td>gp-quebec</td>\n",
       "      <td>0.610980</td>\n",
       "    </tr>\n",
       "    <tr>\n",
       "      <th>76</th>\n",
       "      <td>ronde-van-vlaanderen</td>\n",
       "      <td>gp-montreal</td>\n",
       "      <td>0.674315</td>\n",
       "    </tr>\n",
       "    <tr>\n",
       "      <th>24</th>\n",
       "      <td>milano-sanremo</td>\n",
       "      <td>gent-wevelgem</td>\n",
       "      <td>0.694923</td>\n",
       "    </tr>\n",
       "    <tr>\n",
       "      <th>50</th>\n",
       "      <td>gent-wevelgem</td>\n",
       "      <td>omloop-het-nieuwsblad</td>\n",
       "      <td>0.734315</td>\n",
       "    </tr>\n",
       "    <tr>\n",
       "      <th>80</th>\n",
       "      <td>ronde-van-vlaanderen</td>\n",
       "      <td>amstel-gold-race</td>\n",
       "      <td>0.738469</td>\n",
       "    </tr>\n",
       "    <tr>\n",
       "      <th>77</th>\n",
       "      <td>ronde-van-vlaanderen</td>\n",
       "      <td>e3-harelbeke</td>\n",
       "      <td>0.759207</td>\n",
       "    </tr>\n",
       "    <tr>\n",
       "      <th>73</th>\n",
       "      <td>ronde-van-vlaanderen</td>\n",
       "      <td>dwars-door-vlaanderen</td>\n",
       "      <td>0.766796</td>\n",
       "    </tr>\n",
       "    <tr>\n",
       "      <th>140</th>\n",
       "      <td>omloop-het-nieuwsblad</td>\n",
       "      <td>paris-roubaix</td>\n",
       "      <td>0.770224</td>\n",
       "    </tr>\n",
       "    <tr>\n",
       "      <th>327</th>\n",
       "      <td>amstel-gold-race</td>\n",
       "      <td>strade-bianche</td>\n",
       "      <td>0.793467</td>\n",
       "    </tr>\n",
       "  </tbody>\n",
       "</table>\n",
       "</div>"
      ],
      "text/plain": [
       "                    race_1                 race_2  similarity\n",
       "282    ride-london-classic     eschborn-frankfurt    0.486484\n",
       "53           gent-wevelgem              gp-quebec    0.610980\n",
       "76    ronde-van-vlaanderen            gp-montreal    0.674315\n",
       "24          milano-sanremo          gent-wevelgem    0.694923\n",
       "50           gent-wevelgem  omloop-het-nieuwsblad    0.734315\n",
       "80    ronde-van-vlaanderen       amstel-gold-race    0.738469\n",
       "77    ronde-van-vlaanderen           e3-harelbeke    0.759207\n",
       "73    ronde-van-vlaanderen  dwars-door-vlaanderen    0.766796\n",
       "140  omloop-het-nieuwsblad          paris-roubaix    0.770224\n",
       "327       amstel-gold-race         strade-bianche    0.793467"
      ]
     },
     "execution_count": 9,
     "metadata": {},
     "output_type": "execute_result"
    }
   ],
   "source": [
    "race_dict = {i: v for i, v in enumerate(model.get_layer('race_name_to_int').get_vocabulary())}\n",
    "\n",
    "race_similarities = pairwise_distances(model.get_layer('race_encoder').get_weights()[0])\n",
    "race_similarities = (\n",
    "    pd.DataFrame(race_similarities)\n",
    "    .stack()\n",
    "    .reset_index()\n",
    "    .rename(columns = {'level_0': 'race_1', 'level_1': 'race_2', 0: 'similarity'})\n",
    "    .query('race_1 < race_2')\n",
    "    .assign(\n",
    "        race_1 = lambda x: x.race_1.replace(race_dict),\n",
    "        race_2 = lambda x: x.race_2.replace(race_dict)\n",
    "    )\n",
    "    .query('race_1 != \"[UNK]\" and race_2 != \"[UNK]\"')\n",
    ")\n",
    "race_similarities.sort_values('similarity', ascending = True).head(10)"
   ]
  },
  {
   "cell_type": "markdown",
   "id": "3481e40e",
   "metadata": {},
   "source": [
    "## Clustering Riders and Plotting PCA"
   ]
  },
  {
   "cell_type": "code",
   "execution_count": 33,
   "id": "c7306931",
   "metadata": {},
   "outputs": [
    {
     "name": "stderr",
     "output_type": "stream",
     "text": [
      "/opt/conda/lib/python3.10/site-packages/sklearn/cluster/_kmeans.py:870: FutureWarning: The default value of `n_init` will change from 10 to 'auto' in 1.4. Set the value of `n_init` explicitly to suppress the warning\n",
      "  warnings.warn(\n"
     ]
    },
    {
     "data": {
      "text/html": [
       "<div>\n",
       "<style scoped>\n",
       "    .dataframe tbody tr th:only-of-type {\n",
       "        vertical-align: middle;\n",
       "    }\n",
       "\n",
       "    .dataframe tbody tr th {\n",
       "        vertical-align: top;\n",
       "    }\n",
       "\n",
       "    .dataframe thead th {\n",
       "        text-align: right;\n",
       "    }\n",
       "</style>\n",
       "<table border=\"1\" class=\"dataframe\">\n",
       "  <thead>\n",
       "    <tr style=\"text-align: right;\">\n",
       "      <th></th>\n",
       "      <th>0</th>\n",
       "      <th>1</th>\n",
       "      <th>2</th>\n",
       "      <th>3</th>\n",
       "      <th>4</th>\n",
       "      <th>rider</th>\n",
       "      <th>cluster</th>\n",
       "    </tr>\n",
       "  </thead>\n",
       "  <tbody>\n",
       "    <tr>\n",
       "      <th>0</th>\n",
       "      <td>0.102667</td>\n",
       "      <td>0.226780</td>\n",
       "      <td>0.127007</td>\n",
       "      <td>0.121413</td>\n",
       "      <td>-0.138516</td>\n",
       "      <td>DÉMARE Arnaud</td>\n",
       "      <td>3</td>\n",
       "    </tr>\n",
       "    <tr>\n",
       "      <th>1</th>\n",
       "      <td>-0.001792</td>\n",
       "      <td>0.071277</td>\n",
       "      <td>0.033952</td>\n",
       "      <td>-0.017386</td>\n",
       "      <td>-0.064298</td>\n",
       "      <td>SWIFT Ben</td>\n",
       "      <td>0</td>\n",
       "    </tr>\n",
       "    <tr>\n",
       "      <th>2</th>\n",
       "      <td>0.123210</td>\n",
       "      <td>0.080417</td>\n",
       "      <td>0.035965</td>\n",
       "      <td>0.100485</td>\n",
       "      <td>-0.127835</td>\n",
       "      <td>ROELANDTS Jürgen</td>\n",
       "      <td>1</td>\n",
       "    </tr>\n",
       "    <tr>\n",
       "      <th>3</th>\n",
       "      <td>0.161298</td>\n",
       "      <td>0.259312</td>\n",
       "      <td>-0.102067</td>\n",
       "      <td>-0.095064</td>\n",
       "      <td>-0.009500</td>\n",
       "      <td>BOUHANNI Nacer</td>\n",
       "      <td>3</td>\n",
       "    </tr>\n",
       "    <tr>\n",
       "      <th>4</th>\n",
       "      <td>0.584798</td>\n",
       "      <td>-0.054788</td>\n",
       "      <td>0.038174</td>\n",
       "      <td>0.042928</td>\n",
       "      <td>0.254203</td>\n",
       "      <td>VAN AVERMAET Greg</td>\n",
       "      <td>2</td>\n",
       "    </tr>\n",
       "    <tr>\n",
       "      <th>...</th>\n",
       "      <td>...</td>\n",
       "      <td>...</td>\n",
       "      <td>...</td>\n",
       "      <td>...</td>\n",
       "      <td>...</td>\n",
       "      <td>...</td>\n",
       "      <td>...</td>\n",
       "    </tr>\n",
       "    <tr>\n",
       "      <th>1557</th>\n",
       "      <td>0.008887</td>\n",
       "      <td>0.003151</td>\n",
       "      <td>0.028424</td>\n",
       "      <td>0.010390</td>\n",
       "      <td>-0.006363</td>\n",
       "      <td>UMBA Santiago</td>\n",
       "      <td>0</td>\n",
       "    </tr>\n",
       "    <tr>\n",
       "      <th>1558</th>\n",
       "      <td>0.015305</td>\n",
       "      <td>0.013363</td>\n",
       "      <td>-0.012224</td>\n",
       "      <td>0.030630</td>\n",
       "      <td>0.014494</td>\n",
       "      <td>TESFATSION Natnael</td>\n",
       "      <td>0</td>\n",
       "    </tr>\n",
       "    <tr>\n",
       "      <th>1559</th>\n",
       "      <td>0.011204</td>\n",
       "      <td>0.021642</td>\n",
       "      <td>-0.040621</td>\n",
       "      <td>-0.032477</td>\n",
       "      <td>-0.049452</td>\n",
       "      <td>QUINN Sean</td>\n",
       "      <td>0</td>\n",
       "    </tr>\n",
       "    <tr>\n",
       "      <th>1560</th>\n",
       "      <td>0.005681</td>\n",
       "      <td>0.011428</td>\n",
       "      <td>-0.074108</td>\n",
       "      <td>0.019139</td>\n",
       "      <td>-0.024747</td>\n",
       "      <td>MARTÍN Sergio Roman</td>\n",
       "      <td>0</td>\n",
       "    </tr>\n",
       "    <tr>\n",
       "      <th>1561</th>\n",
       "      <td>-0.054083</td>\n",
       "      <td>0.037563</td>\n",
       "      <td>-0.030993</td>\n",
       "      <td>0.065108</td>\n",
       "      <td>-0.062763</td>\n",
       "      <td>MULUBRHAN Henok</td>\n",
       "      <td>0</td>\n",
       "    </tr>\n",
       "  </tbody>\n",
       "</table>\n",
       "<p>1562 rows × 7 columns</p>\n",
       "</div>"
      ],
      "text/plain": [
       "             0         1         2         3         4                rider  \\\n",
       "0     0.102667  0.226780  0.127007  0.121413 -0.138516        DÉMARE Arnaud   \n",
       "1    -0.001792  0.071277  0.033952 -0.017386 -0.064298            SWIFT Ben   \n",
       "2     0.123210  0.080417  0.035965  0.100485 -0.127835     ROELANDTS Jürgen   \n",
       "3     0.161298  0.259312 -0.102067 -0.095064 -0.009500       BOUHANNI Nacer   \n",
       "4     0.584798 -0.054788  0.038174  0.042928  0.254203    VAN AVERMAET Greg   \n",
       "...        ...       ...       ...       ...       ...                  ...   \n",
       "1557  0.008887  0.003151  0.028424  0.010390 -0.006363        UMBA Santiago   \n",
       "1558  0.015305  0.013363 -0.012224  0.030630  0.014494   TESFATSION Natnael   \n",
       "1559  0.011204  0.021642 -0.040621 -0.032477 -0.049452           QUINN Sean   \n",
       "1560  0.005681  0.011428 -0.074108  0.019139 -0.024747  MARTÍN Sergio Roman   \n",
       "1561 -0.054083  0.037563 -0.030993  0.065108 -0.062763      MULUBRHAN Henok   \n",
       "\n",
       "      cluster  \n",
       "0           3  \n",
       "1           0  \n",
       "2           1  \n",
       "3           3  \n",
       "4           2  \n",
       "...       ...  \n",
       "1557        0  \n",
       "1558        0  \n",
       "1559        0  \n",
       "1560        0  \n",
       "1561        0  \n",
       "\n",
       "[1562 rows x 7 columns]"
      ]
     },
     "execution_count": 33,
     "metadata": {},
     "output_type": "execute_result"
    }
   ],
   "source": [
    "# Cluster riders\n",
    "rider_embeddings = rider_encoder(all_rider_names).numpy()\n",
    "kmeans = KMeans(n_clusters = 5, random_state = 0).fit(rider_embeddings)\n",
    "\n",
    "# Perform PCA on embeddings\n",
    "from sklearn.decomposition import PCA\n",
    "pca = PCA(n_components = 5)\n",
    "pca_features = pca.fit_transform(rider_embeddings)\n",
    "\n",
    "# Combine results\n",
    "pca_df = pd.DataFrame(pca_features)\n",
    "pca_df['rider'] = all_rider_names\n",
    "pca_df['cluster'] = kmeans.labels_\n",
    "pca_df"
   ]
  },
  {
   "cell_type": "code",
   "execution_count": 34,
   "id": "08b7a8a5",
   "metadata": {},
   "outputs": [
    {
     "data": {
      "text/plain": [
       "0    1301\n",
       "1     180\n",
       "4      36\n",
       "3      29\n",
       "2      16\n",
       "Name: cluster, dtype: int64"
      ]
     },
     "execution_count": 34,
     "metadata": {},
     "output_type": "execute_result"
    }
   ],
   "source": [
    "pca_df.cluster.value_counts()"
   ]
  },
  {
   "cell_type": "code",
   "execution_count": 35,
   "id": "96ac1241",
   "metadata": {
    "scrolled": true
   },
   "outputs": [
    {
     "data": {
      "text/plain": [
       "cluster\n",
       "0    [SWIFT Ben, POZZATO Filippo, MONTAGUTI Matteo,...\n",
       "1    [ROELANDTS Jürgen, HAUSSLER Heinrich, COLBRELL...\n",
       "2    [VAN AVERMAET Greg, SAGAN Peter, VALVERDE Alej...\n",
       "3    [DÉMARE Arnaud, BOUHANNI Nacer, TRENTIN Matteo...\n",
       "4    [KRISTOFF Alexander, VANMARCKE Sep, NIZZOLO Gi...\n",
       "Name: rider, dtype: object"
      ]
     },
     "execution_count": 35,
     "metadata": {},
     "output_type": "execute_result"
    }
   ],
   "source": [
    "pca_df.groupby('cluster').rider.unique()"
   ]
  },
  {
   "cell_type": "code",
   "execution_count": 40,
   "id": "dfbae5d4",
   "metadata": {},
   "outputs": [
    {
     "data": {
      "text/html": [
       "<div>\n",
       "<style scoped>\n",
       "    .dataframe tbody tr th:only-of-type {\n",
       "        vertical-align: middle;\n",
       "    }\n",
       "\n",
       "    .dataframe tbody tr th {\n",
       "        vertical-align: top;\n",
       "    }\n",
       "\n",
       "    .dataframe thead th {\n",
       "        text-align: right;\n",
       "    }\n",
       "</style>\n",
       "<table border=\"1\" class=\"dataframe\">\n",
       "  <thead>\n",
       "    <tr style=\"text-align: right;\">\n",
       "      <th></th>\n",
       "      <th>0</th>\n",
       "      <th>1</th>\n",
       "      <th>2</th>\n",
       "      <th>3</th>\n",
       "      <th>4</th>\n",
       "      <th>rider</th>\n",
       "      <th>cluster</th>\n",
       "    </tr>\n",
       "  </thead>\n",
       "  <tbody>\n",
       "    <tr>\n",
       "      <th>190</th>\n",
       "      <td>-0.310916</td>\n",
       "      <td>0.035416</td>\n",
       "      <td>0.493906</td>\n",
       "      <td>0.503348</td>\n",
       "      <td>-0.291935</td>\n",
       "      <td>ARNDT Nikias</td>\n",
       "      <td>0</td>\n",
       "    </tr>\n",
       "    <tr>\n",
       "      <th>125</th>\n",
       "      <td>-0.207210</td>\n",
       "      <td>-0.006820</td>\n",
       "      <td>-0.012568</td>\n",
       "      <td>-0.359477</td>\n",
       "      <td>-0.031540</td>\n",
       "      <td>LIGTHART Pim</td>\n",
       "      <td>4</td>\n",
       "    </tr>\n",
       "    <tr>\n",
       "      <th>461</th>\n",
       "      <td>-0.181157</td>\n",
       "      <td>-0.053266</td>\n",
       "      <td>-0.061629</td>\n",
       "      <td>-0.248058</td>\n",
       "      <td>0.008983</td>\n",
       "      <td>BOLE Grega</td>\n",
       "      <td>0</td>\n",
       "    </tr>\n",
       "    <tr>\n",
       "      <th>633</th>\n",
       "      <td>-0.159012</td>\n",
       "      <td>0.636743</td>\n",
       "      <td>-0.326673</td>\n",
       "      <td>0.131114</td>\n",
       "      <td>0.000915</td>\n",
       "      <td>GROENEWEGEN Dylan</td>\n",
       "      <td>3</td>\n",
       "    </tr>\n",
       "    <tr>\n",
       "      <th>868</th>\n",
       "      <td>-0.157860</td>\n",
       "      <td>-0.046529</td>\n",
       "      <td>0.048920</td>\n",
       "      <td>0.030257</td>\n",
       "      <td>-0.029350</td>\n",
       "      <td>SAGIV Guy</td>\n",
       "      <td>0</td>\n",
       "    </tr>\n",
       "    <tr>\n",
       "      <th>...</th>\n",
       "      <td>...</td>\n",
       "      <td>...</td>\n",
       "      <td>...</td>\n",
       "      <td>...</td>\n",
       "      <td>...</td>\n",
       "      <td>...</td>\n",
       "      <td>...</td>\n",
       "    </tr>\n",
       "    <tr>\n",
       "      <th>30</th>\n",
       "      <td>0.578396</td>\n",
       "      <td>0.375968</td>\n",
       "      <td>0.044065</td>\n",
       "      <td>0.186382</td>\n",
       "      <td>0.185033</td>\n",
       "      <td>CANCELLARA Fabian</td>\n",
       "      <td>2</td>\n",
       "    </tr>\n",
       "    <tr>\n",
       "      <th>1169</th>\n",
       "      <td>0.582187</td>\n",
       "      <td>0.182759</td>\n",
       "      <td>-0.264000</td>\n",
       "      <td>0.225896</td>\n",
       "      <td>-0.476766</td>\n",
       "      <td>EVENEPOEL Remco</td>\n",
       "      <td>3</td>\n",
       "    </tr>\n",
       "    <tr>\n",
       "      <th>4</th>\n",
       "      <td>0.584798</td>\n",
       "      <td>-0.054788</td>\n",
       "      <td>0.038174</td>\n",
       "      <td>0.042928</td>\n",
       "      <td>0.254203</td>\n",
       "      <td>VAN AVERMAET Greg</td>\n",
       "      <td>2</td>\n",
       "    </tr>\n",
       "    <tr>\n",
       "      <th>970</th>\n",
       "      <td>0.885737</td>\n",
       "      <td>0.167176</td>\n",
       "      <td>-0.113625</td>\n",
       "      <td>-0.116343</td>\n",
       "      <td>-0.445782</td>\n",
       "      <td>VAN AERT Wout</td>\n",
       "      <td>2</td>\n",
       "    </tr>\n",
       "    <tr>\n",
       "      <th>1148</th>\n",
       "      <td>0.998038</td>\n",
       "      <td>0.173262</td>\n",
       "      <td>0.019090</td>\n",
       "      <td>0.171573</td>\n",
       "      <td>0.092486</td>\n",
       "      <td>VAN DER POEL Mathieu</td>\n",
       "      <td>2</td>\n",
       "    </tr>\n",
       "  </tbody>\n",
       "</table>\n",
       "<p>1562 rows × 7 columns</p>\n",
       "</div>"
      ],
      "text/plain": [
       "             0         1         2         3         4                 rider  \\\n",
       "190  -0.310916  0.035416  0.493906  0.503348 -0.291935          ARNDT Nikias   \n",
       "125  -0.207210 -0.006820 -0.012568 -0.359477 -0.031540          LIGTHART Pim   \n",
       "461  -0.181157 -0.053266 -0.061629 -0.248058  0.008983            BOLE Grega   \n",
       "633  -0.159012  0.636743 -0.326673  0.131114  0.000915     GROENEWEGEN Dylan   \n",
       "868  -0.157860 -0.046529  0.048920  0.030257 -0.029350             SAGIV Guy   \n",
       "...        ...       ...       ...       ...       ...                   ...   \n",
       "30    0.578396  0.375968  0.044065  0.186382  0.185033     CANCELLARA Fabian   \n",
       "1169  0.582187  0.182759 -0.264000  0.225896 -0.476766       EVENEPOEL Remco   \n",
       "4     0.584798 -0.054788  0.038174  0.042928  0.254203     VAN AVERMAET Greg   \n",
       "970   0.885737  0.167176 -0.113625 -0.116343 -0.445782         VAN AERT Wout   \n",
       "1148  0.998038  0.173262  0.019090  0.171573  0.092486  VAN DER POEL Mathieu   \n",
       "\n",
       "      cluster  \n",
       "190         0  \n",
       "125         4  \n",
       "461         0  \n",
       "633         3  \n",
       "868         0  \n",
       "...       ...  \n",
       "30          2  \n",
       "1169        3  \n",
       "4           2  \n",
       "970         2  \n",
       "1148        2  \n",
       "\n",
       "[1562 rows x 7 columns]"
      ]
     },
     "execution_count": 40,
     "metadata": {},
     "output_type": "execute_result"
    }
   ],
   "source": [
    "pca_df.sort_values(0)"
   ]
  },
  {
   "cell_type": "code",
   "execution_count": 41,
   "id": "df76484e",
   "metadata": {},
   "outputs": [
    {
     "data": {
      "text/html": [
       "<div>\n",
       "<style scoped>\n",
       "    .dataframe tbody tr th:only-of-type {\n",
       "        vertical-align: middle;\n",
       "    }\n",
       "\n",
       "    .dataframe tbody tr th {\n",
       "        vertical-align: top;\n",
       "    }\n",
       "\n",
       "    .dataframe thead th {\n",
       "        text-align: right;\n",
       "    }\n",
       "</style>\n",
       "<table border=\"1\" class=\"dataframe\">\n",
       "  <thead>\n",
       "    <tr style=\"text-align: right;\">\n",
       "      <th></th>\n",
       "      <th>0</th>\n",
       "      <th>1</th>\n",
       "      <th>2</th>\n",
       "      <th>3</th>\n",
       "      <th>4</th>\n",
       "      <th>rider</th>\n",
       "      <th>cluster</th>\n",
       "    </tr>\n",
       "  </thead>\n",
       "  <tbody>\n",
       "    <tr>\n",
       "      <th>14</th>\n",
       "      <td>0.469431</td>\n",
       "      <td>-0.505699</td>\n",
       "      <td>-0.187646</td>\n",
       "      <td>0.018391</td>\n",
       "      <td>-0.027860</td>\n",
       "      <td>VALVERDE Alejandro</td>\n",
       "      <td>2</td>\n",
       "    </tr>\n",
       "    <tr>\n",
       "      <th>817</th>\n",
       "      <td>0.049160</td>\n",
       "      <td>-0.489045</td>\n",
       "      <td>-0.103376</td>\n",
       "      <td>0.164352</td>\n",
       "      <td>-0.358281</td>\n",
       "      <td>ROGLIČ Primož</td>\n",
       "      <td>1</td>\n",
       "    </tr>\n",
       "    <tr>\n",
       "      <th>693</th>\n",
       "      <td>0.134836</td>\n",
       "      <td>-0.444835</td>\n",
       "      <td>0.122060</td>\n",
       "      <td>-0.189027</td>\n",
       "      <td>-0.107173</td>\n",
       "      <td>CHAVES Esteban</td>\n",
       "      <td>1</td>\n",
       "    </tr>\n",
       "    <tr>\n",
       "      <th>815</th>\n",
       "      <td>0.170474</td>\n",
       "      <td>-0.427211</td>\n",
       "      <td>-0.019218</td>\n",
       "      <td>-0.146370</td>\n",
       "      <td>-0.218922</td>\n",
       "      <td>PINOT Thibaut</td>\n",
       "      <td>1</td>\n",
       "    </tr>\n",
       "    <tr>\n",
       "      <th>995</th>\n",
       "      <td>0.252805</td>\n",
       "      <td>-0.379867</td>\n",
       "      <td>-0.137334</td>\n",
       "      <td>0.002626</td>\n",
       "      <td>0.012988</td>\n",
       "      <td>VLASOV Aleksandr</td>\n",
       "      <td>1</td>\n",
       "    </tr>\n",
       "    <tr>\n",
       "      <th>...</th>\n",
       "      <td>...</td>\n",
       "      <td>...</td>\n",
       "      <td>...</td>\n",
       "      <td>...</td>\n",
       "      <td>...</td>\n",
       "      <td>...</td>\n",
       "      <td>...</td>\n",
       "    </tr>\n",
       "    <tr>\n",
       "      <th>1090</th>\n",
       "      <td>-0.146622</td>\n",
       "      <td>0.531525</td>\n",
       "      <td>0.088655</td>\n",
       "      <td>-0.384692</td>\n",
       "      <td>-0.078573</td>\n",
       "      <td>PHILIPSEN Jasper</td>\n",
       "      <td>4</td>\n",
       "    </tr>\n",
       "    <tr>\n",
       "      <th>83</th>\n",
       "      <td>0.059516</td>\n",
       "      <td>0.611369</td>\n",
       "      <td>0.464854</td>\n",
       "      <td>-0.092866</td>\n",
       "      <td>-0.431373</td>\n",
       "      <td>VIVIANI Elia</td>\n",
       "      <td>4</td>\n",
       "    </tr>\n",
       "    <tr>\n",
       "      <th>633</th>\n",
       "      <td>-0.159012</td>\n",
       "      <td>0.636743</td>\n",
       "      <td>-0.326673</td>\n",
       "      <td>0.131114</td>\n",
       "      <td>0.000915</td>\n",
       "      <td>GROENEWEGEN Dylan</td>\n",
       "      <td>3</td>\n",
       "    </tr>\n",
       "    <tr>\n",
       "      <th>1302</th>\n",
       "      <td>0.303993</td>\n",
       "      <td>0.642296</td>\n",
       "      <td>-0.203647</td>\n",
       "      <td>-0.163886</td>\n",
       "      <td>0.100339</td>\n",
       "      <td>MERLIER Tim</td>\n",
       "      <td>3</td>\n",
       "    </tr>\n",
       "    <tr>\n",
       "      <th>1238</th>\n",
       "      <td>-0.086690</td>\n",
       "      <td>0.656844</td>\n",
       "      <td>0.223141</td>\n",
       "      <td>0.057520</td>\n",
       "      <td>-0.083540</td>\n",
       "      <td>HERMANS Quinten</td>\n",
       "      <td>4</td>\n",
       "    </tr>\n",
       "  </tbody>\n",
       "</table>\n",
       "<p>1562 rows × 7 columns</p>\n",
       "</div>"
      ],
      "text/plain": [
       "             0         1         2         3         4               rider  \\\n",
       "14    0.469431 -0.505699 -0.187646  0.018391 -0.027860  VALVERDE Alejandro   \n",
       "817   0.049160 -0.489045 -0.103376  0.164352 -0.358281       ROGLIČ Primož   \n",
       "693   0.134836 -0.444835  0.122060 -0.189027 -0.107173      CHAVES Esteban   \n",
       "815   0.170474 -0.427211 -0.019218 -0.146370 -0.218922       PINOT Thibaut   \n",
       "995   0.252805 -0.379867 -0.137334  0.002626  0.012988    VLASOV Aleksandr   \n",
       "...        ...       ...       ...       ...       ...                 ...   \n",
       "1090 -0.146622  0.531525  0.088655 -0.384692 -0.078573    PHILIPSEN Jasper   \n",
       "83    0.059516  0.611369  0.464854 -0.092866 -0.431373        VIVIANI Elia   \n",
       "633  -0.159012  0.636743 -0.326673  0.131114  0.000915   GROENEWEGEN Dylan   \n",
       "1302  0.303993  0.642296 -0.203647 -0.163886  0.100339         MERLIER Tim   \n",
       "1238 -0.086690  0.656844  0.223141  0.057520 -0.083540     HERMANS Quinten   \n",
       "\n",
       "      cluster  \n",
       "14          2  \n",
       "817         1  \n",
       "693         1  \n",
       "815         1  \n",
       "995         1  \n",
       "...       ...  \n",
       "1090        4  \n",
       "83          4  \n",
       "633         3  \n",
       "1302        3  \n",
       "1238        4  \n",
       "\n",
       "[1562 rows x 7 columns]"
      ]
     },
     "execution_count": 41,
     "metadata": {},
     "output_type": "execute_result"
    }
   ],
   "source": [
    "pca_df.sort_values(1)"
   ]
  },
  {
   "cell_type": "code",
   "execution_count": 42,
   "id": "3289f5c8",
   "metadata": {},
   "outputs": [
    {
     "name": "stderr",
     "output_type": "stream",
     "text": [
      "No artists with labels found to put in legend.  Note that artists whose label start with an underscore are ignored when legend() is called with no argument.\n"
     ]
    },
    {
     "data": {
      "image/png": "[encoded data removed]",
      "text/plain": [
       "<Figure size 640x480 with 1 Axes>"
      ]
     },
     "metadata": {},
     "output_type": "display_data"
    }
   ],
   "source": [
    "import matplotlib.pyplot as plt\n",
    "\n",
    "plt.scatter(pca_df[0], pca_df[1], alpha = 0.2, c = pca_df['cluster'])\n",
    "plt.legend()\n",
    "plt.show()"
   ]
  },
  {
   "cell_type": "code",
   "execution_count": 48,
   "id": "839162da",
   "metadata": {},
   "outputs": [
    {
     "data": {
      "application/vnd.plotly.v1+json": {
       "config": {
        "plotlyServerURL": "https://plot.ly"
       },
       "data": [
        {
         "customdata": [
          [
           "DÉMARE Arnaud"
          ],
          [
           "SWIFT Ben"
          ],
          [
           "ROELANDTS Jürgen"
          ],
          [
           "BOUHANNI Nacer"
          ],
          [
           "VAN AVERMAET Greg"
          ],
          [
           "KRISTOFF Alexander"
          ],
          [
           "HAUSSLER Heinrich"
          ],
          [
           "POZZATO Filippo"
          ],
          [
           "COLBRELLI Sonny"
          ],
          [
           "TRENTIN Matteo"
          ],
          [
           "SÁNCHEZ Luis León"
          ],
          [
           "SAGAN Peter"
          ],
          [
           "MONTAGUTI Matteo"
          ],
          [
           "SLAGTER Tom-Jelte"
          ],
          [
           "VALVERDE Alejandro"
          ],
          [
           "BAKELANTS Jan"
          ],
          [
           "BONIFAZIO Niccolò"
          ],
          [
           "VICHOT Arthur"
          ],
          [
           "GESCHKE Simon"
          ],
          [
           "GAVAZZI Francesco"
          ],
          [
           "REBELLIN Davide"
          ],
          [
           "FEDI Andrea"
          ],
          [
           "VOß Paul"
          ],
          [
           "VANMARCKE Sep"
          ],
          [
           "BOOM Lars"
          ],
          [
           "BOASSON HAGEN Edvald"
          ],
          [
           "CARUSO Damiano"
          ],
          [
           "QUINTANA Dayer"
          ],
          [
           "BATTAGLIN Enrico"
          ],
          [
           "PELLIZOTTI Franco"
          ],
          [
           "CANCELLARA Fabian"
          ],
          [
           "PANTANO Jarlinson"
          ],
          [
           "NIBALI Vincenzo"
          ],
          [
           "GALLOPIN Tony"
          ],
          [
           "DEBUSSCHERE Jens"
          ],
          [
           "JEANNESSON Arnold"
          ],
          [
           "GUARNIERI Jacopo"
          ],
          [
           "SOUPE Geoffrey"
          ],
          [
           "REYNÉS Vicente"
          ],
          [
           "KWIATKOWSKI Michał"
          ],
          [
           "NAVARDAUSKAS Ramūnas"
          ],
          [
           "NIZZOLO Giacomo"
          ],
          [
           "ELMIGER Martin"
          ],
          [
           "DE KORT Koen"
          ],
          [
           "VISCONTI Giovanni"
          ],
          [
           "AMADOR Andrey"
          ],
          [
           "HOWARD Leigh"
          ],
          [
           "SARAMOTINS Aleksejs"
          ],
          [
           "KENNAUGH Peter"
          ],
          [
           "MARTENS Paul"
          ],
          [
           "FELLINE Fabio"
          ],
          [
           "VIGANÒ Davide"
          ],
          [
           "SELVAGGI Mirko"
          ],
          [
           "MØRKØV Michael"
          ],
          [
           "BOONEN Tom"
          ],
          [
           "KREUZIGER Roman"
          ],
          [
           "STANNARD Ian"
          ],
          [
           "ULISSI Diego"
          ],
          [
           "MATTHEWS Michael"
          ],
          [
           "PUCCIO Salvatore"
          ],
          [
           "DE MARCHI Alessandro"
          ],
          [
           "NERZ Dominik"
          ],
          [
           "ROUX Anthony"
          ],
          [
           "WAEYTENS Zico"
          ],
          [
           "GATTO Oscar"
          ],
          [
           "DE VREESE Laurens"
          ],
          [
           "VANDENBERGH Stijn"
          ],
          [
           "KONOVALOVAS Ignatas"
          ],
          [
           "VAN BAARLE Dylan"
          ],
          [
           "BÁRTA Jan"
          ],
          [
           "WYSS Danilo"
          ],
          [
           "BARBIN Enrico"
          ],
          [
           "PONZI Simone"
          ],
          [
           "BYSTRØM Sven Erik"
          ],
          [
           "ŠPILAK Simon"
          ],
          [
           "VICIOSO Ángel"
          ],
          [
           "CUMMINGS Steve"
          ],
          [
           "SABATINI Fabio"
          ],
          [
           "GAVIRIA Fernando"
          ],
          [
           "BRAMBILLA Gianluca"
          ],
          [
           "SMUKULIS Gatis"
          ],
          [
           "GRIVKO Andrey"
          ],
          [
           "FRAPPORTI Marco"
          ],
          [
           "VIVIANI Elia"
          ],
          [
           "LAPORTE Christophe"
          ],
          [
           "LADAGNOUS Matthieu"
          ],
          [
           "RIBLON Christophe"
          ],
          [
           "VANENDERT Jelle"
          ],
          [
           "BURGHARDT Marcus"
          ],
          [
           "KONRAD Patrick"
          ],
          [
           "ROWE Luke"
          ],
          [
           "JANSE VAN RENSBURG Reinardt"
          ],
          [
           "REZA Kévin"
          ],
          [
           "LOZANO David"
          ],
          [
           "YATES Simon"
          ],
          [
           "OSS Daniel"
          ],
          [
           "AGNOLI Valerio"
          ],
          [
           "KOREN Kristijan"
          ],
          [
           "TJALLINGII Maarten"
          ],
          [
           "TOSATTO Matteo"
          ],
          [
           "MAESTRI Mirco"
          ],
          [
           "MOSER Moreno"
          ],
          [
           "ANDREETTA Simone"
          ],
          [
           "MODOLO Sacha"
          ],
          [
           "SELIG Rüdiger"
          ],
          [
           "MATYSIAK Bartłomiej"
          ],
          [
           "CAPECCHI Eros"
          ],
          [
           "CIMOLAI Davide"
          ],
          [
           "MARYCZ Jarosław"
          ],
          [
           "CAVENDISH Mark"
          ],
          [
           "RAST Grégory"
          ],
          [
           "ROTA Lorenzo"
          ],
          [
           "ANACONA Winner"
          ],
          [
           "SIMON Julien"
          ],
          [
           "MATÉ Luis Ángel"
          ],
          [
           "KLUGE Roger"
          ],
          [
           "HANSEN Adam"
          ],
          [
           "BODNAR Maciej"
          ],
          [
           "POPOVYCH Yaroslav"
          ],
          [
           "FERRARI Roberto"
          ],
          [
           "HOULE Hugo"
          ],
          [
           "ALBASINI Michael"
          ],
          [
           "MARTÍNEZ Daniel Felipe"
          ],
          [
           "CURVERS Roy"
          ],
          [
           "DE LA PARTE Víctor"
          ],
          [
           "LIGTHART Pim"
          ],
          [
           "HALLER Marco"
          ],
          [
           "BENEDETTI Cesare"
          ],
          [
           "BENNETT Sam"
          ],
          [
           "DE BACKER Bert"
          ],
          [
           "STAMSNIJDER Tom"
          ],
          [
           "VAN ASBROECK Tom"
          ],
          [
           "SERGENT Jesse"
          ],
          [
           "VENTOSO Francisco José"
          ],
          [
           "BAK Lars Ytting"
          ],
          [
           "QUINZIATO Manuel"
          ],
          [
           "AMEZQUETA Julen"
          ],
          [
           "MÜHLBERGER Gregor"
          ],
          [
           "RENSHAW Mark"
          ],
          [
           "DRUCKER Jempy"
          ],
          [
           "CHICCHI Francesco"
          ],
          [
           "ŠTYBAR Zdeněk"
          ],
          [
           "LOBATO Juan José"
          ],
          [
           "BOARO Manuele"
          ],
          [
           "COLEDAN Marco"
          ],
          [
           "CATTANEO Mattia"
          ],
          [
           "BONO Matteo"
          ],
          [
           "BELLETTI Manuel"
          ],
          [
           "TEDESCHI Mirko"
          ],
          [
           "GRETSCH Patrick"
          ],
          [
           "HENTTALA Joonas"
          ],
          [
           "MARANGONI Alan"
          ],
          [
           "VERSCHOOR Martijn"
          ],
          [
           "WILLIAMS Christopher"
          ],
          [
           "ȚVETCOV Serghei"
          ],
          [
           "BAGDONAS Gediminas"
          ],
          [
           "MEZGEC Luka"
          ],
          [
           "PLANET Charles"
          ],
          [
           "KEUKELEIRE Jens"
          ],
          [
           "DE MESMAEKER Kevin"
          ],
          [
           "HOLLENSTEIN Reto"
          ],
          [
           "VAN EMDEN Jos"
          ],
          [
           "DELAGE Mickaël"
          ],
          [
           "LEEZER Tom"
          ],
          [
           "BONNET William"
          ],
          [
           "SIEBERG Marcel"
          ],
          [
           "IMPEY Daryl"
          ],
          [
           "BLYTHE Adam"
          ],
          [
           "THOMAS Geraint"
          ],
          [
           "HONKISZ Adrian"
          ],
          [
           "JUUL-JENSEN Christopher"
          ],
          [
           "LANGEVELD Sebastian"
          ],
          [
           "KUREK Adrian"
          ],
          [
           "THOMSON Jay Robert"
          ],
          [
           "ALAFACI Eugenio"
          ],
          [
           "MIHAYLOV Nikolay"
          ],
          [
           "TONELLI Alessandro"
          ],
          [
           "CONTI Samuele"
          ],
          [
           "MARECZKO Jakub"
          ],
          [
           "DOMONT Axel"
          ],
          [
           "COUSIN Jérôme"
          ],
          [
           "LEMOINE Cyril"
          ],
          [
           "BEWLEY Sam"
          ],
          [
           "LAGUTIN Sergey"
          ],
          [
           "ZURLO Federico"
          ],
          [
           "MORI Manuele"
          ],
          [
           "PAUWELS Serge"
          ],
          [
           "HAAS Nathan"
          ],
          [
           "VERMOTE Julien"
          ],
          [
           "TIMMER Albert"
          ],
          [
           "ARNDT Nikias"
          ],
          [
           "MEGÍAS Javier"
          ],
          [
           "PERON Andrea"
          ],
          [
           "BETANCUR Carlos"
          ],
          [
           "BENNATI Daniele"
          ],
          [
           "CECCHINEL Giorgio"
          ],
          [
           "BOEM Nicola"
          ],
          [
           "PIRAZZI Stefano"
          ],
          [
           "CLARKE Simon"
          ],
          [
           "HOFLAND Moreno"
          ],
          [
           "KUZNETSOV Viacheslav"
          ],
          [
           "VANSPEYBROUCK Pieter"
          ],
          [
           "BENOOT Tiesj"
          ],
          [
           "BRUTT Pavel"
          ],
          [
           "TERPSTRA Niki"
          ],
          [
           "COQUARD Bryan"
          ],
          [
           "DE VRIES Berden"
          ],
          [
           "PORSEV Alexander"
          ],
          [
           "PHINNEY Taylor"
          ],
          [
           "THEUNS Edward"
          ],
          [
           "GOŁAŚ Michał"
          ],
          [
           "MAES Nikolas"
          ],
          [
           "VAN LERBERGHE Bert"
          ],
          [
           "TANKINK Bram"
          ],
          [
           "CAPIOT Amaury"
          ],
          [
           "GÈNE Yohann"
          ],
          [
           "SÜTTERLIN Jasha"
          ],
          [
           "DOCKER Mitchell"
          ],
          [
           "SIMION Paolo"
          ],
          [
           "SCHÄR Michael"
          ],
          [
           "ASSELMAN Jesper"
          ],
          [
           "JANS Roy"
          ],
          [
           "FISCHER Murilo Antonio"
          ],
          [
           "KIENDYŚ Tomasz"
          ],
          [
           "KUMP Marko"
          ],
          [
           "DE BUYST Jasper"
          ],
          [
           "KREDER Raymond"
          ],
          [
           "VAN STAEYEN Michael"
          ],
          [
           "WAGNER Robert"
          ],
          [
           "TEUNISSEN Mike"
          ],
          [
           "TURGOT Sébastien"
          ],
          [
           "VAN KEIRSBULCK Guillaume"
          ],
          [
           "VAN POPPEL Danny"
          ],
          [
           "CHAVANEL Sylvain"
          ],
          [
           "HELVEN Sander"
          ],
          [
           "ČERNÝ Josef"
          ],
          [
           "KREDER Wesley"
          ],
          [
           "FARRAR Tyler"
          ],
          [
           "DOUGALL Nic"
          ],
          [
           "PELLAUD Simon"
          ],
          [
           "DANIEL Maxime"
          ],
          [
           "JAUREGUI Quentin"
          ],
          [
           "DENZ Nico"
          ],
          [
           "GAUDIN Damien"
          ],
          [
           "ZABEL Rick"
          ],
          [
           "STĘPNIAK Grzegorz"
          ],
          [
           "PALUTA Michał"
          ],
          [
           "SÉNÉCHAL Florian"
          ],
          [
           "VANBILSEN Kenneth"
          ],
          [
           "HOFSTETTER Hugo"
          ],
          [
           "AHLSTRAND Jonas"
          ],
          [
           "MORICE Julien"
          ],
          [
           "PETIT Adrien"
          ],
          [
           "CARDIS Romain"
          ],
          [
           "TULIK Angélo"
          ],
          [
           "HUREL Tony"
          ],
          [
           "LE BON Johan"
          ],
          [
           "LE GAC Olivier"
          ],
          [
           "OFFREDO Yoann"
          ],
          [
           "TUFT Svein"
          ],
          [
           "DURBRIDGE Luke"
          ],
          [
           "CORT Magnus"
          ],
          [
           "PIBERNIK Luka"
          ],
          [
           "XU Gang"
          ],
          [
           "FENG Chun Kai"
          ],
          [
           "BEPPU Fumiyuki"
          ],
          [
           "DEBESAY Mekseb"
          ],
          [
           "BRAMMEIER Matt"
          ],
          [
           "KRAGH ANDERSEN Søren"
          ],
          [
           "SINKELDAM Ramon"
          ],
          [
           "GRUZDEV Dmitriy"
          ],
          [
           "WESTRA Lieuwe"
          ],
          [
           "KAMYSHEV Arman"
          ],
          [
           "LUTSENKO Alexey"
          ],
          [
           "KNEES Christian"
          ],
          [
           "FENN Andrew"
          ],
          [
           "RICKAERT Jonas"
          ],
          [
           "VAN HOECKE Gijs"
          ],
          [
           "VAN MEIRHAEGHE Jef"
          ],
          [
           "VAN HECKE Preben"
          ],
          [
           "DEMOITIÉ Antoine"
          ],
          [
           "NAPOLITANO Danilo"
          ],
          [
           "ANTONINI Simone"
          ],
          [
           "DEVRIENDT Tom"
          ],
          [
           "DEHAES Kenny"
          ],
          [
           "MARCATO Marco"
          ],
          [
           "MCNALLY Mark"
          ],
          [
           "NAESEN Oliver"
          ],
          [
           "LAENGEN Vegard Stake"
          ],
          [
           "OLIVEIRA Nelson"
          ],
          [
           "PEDRERO Antonio"
          ],
          [
           "ARCAS Jorge"
          ],
          [
           "FRISON Frederik"
          ],
          [
           "GREIPEL André"
          ],
          [
           "LOOIJ André"
          ],
          [
           "MARKUS Barry"
          ],
          [
           "SLIK Ivar"
          ],
          [
           "KERKHOF Tim"
          ],
          [
           "BAŠKA Erik"
          ],
          [
           "GOGL Michael"
          ],
          [
           "KOLÁŘ Michael"
          ],
          [
           "STERBINI Luca"
          ],
          [
           "RUFFONI Nicola"
          ],
          [
           "BRESCHEL Matti"
          ],
          [
           "BETTIOL Alberto"
          ],
          [
           "BEVIN Patrick"
          ],
          [
           "WIPPERT Wouter"
          ],
          [
           "BAUER Jack"
          ],
          [
           "GOUGEARD Alexis"
          ],
          [
           "ERVITI Imanol"
          ],
          [
           "CLAEYS Dimitri"
          ],
          [
           "THWAITES Scott"
          ],
          [
           "FUGLSANG Jakob"
          ],
          [
           "SAGAN Juraj"
          ],
          [
           "VAN GINNEKEN Sjoerd"
          ],
          [
           "ROOSEN Timo"
          ],
          [
           "BACKAERT Frederik"
          ],
          [
           "STEELS Stijn"
          ],
          [
           "DUCHESNE Antoine"
          ],
          [
           "SKUJIŅŠ Toms"
          ],
          [
           "DEMPSTER Zak"
          ],
          [
           "KÜNG Stefan"
          ],
          [
           "DECLERCQ Tim"
          ],
          [
           "PICHOT Alexandre"
          ],
          [
           "SCHILLINGER Andreas"
          ],
          [
           "MOSCON Gianni"
          ],
          [
           "MINARD Sébastien"
          ],
          [
           "IRIZAR Markel"
          ],
          [
           "THURAU Björn"
          ],
          [
           "POLITT Nils"
          ],
          [
           "WYNANTS Maarten"
          ],
          [
           "WEENING Pieter"
          ],
          [
           "DEVOLDER Stijn"
          ],
          [
           "KEISSE Iljo"
          ],
          [
           "ANDERSON Ryan"
          ],
          [
           "MARTIN Tony"
          ],
          [
           "KREDER Michel"
          ],
          [
           "STUYVEN Jasper"
          ],
          [
           "STOSZ Patryk"
          ],
          [
           "DAL COL Andrea"
          ],
          [
           "TROSINO Mirko"
          ],
          [
           "FONZI Giuseppe"
          ],
          [
           "DRAPERI Matteo"
          ],
          [
           "SANZ Enrique"
          ],
          [
           "SARREAU Marc"
          ],
          [
           "HAIG Jack"
          ],
          [
           "TSATEVICH Alexey"
          ],
          [
           "EISEL Bernhard"
          ],
          [
           "ARCHBOLD Shane"
          ],
          [
           "MATZKA Ralf"
          ],
          [
           "SCHWARZMANN Michael"
          ],
          [
           "PÖSTLBERGER Lukas"
          ],
          [
           "BAUGNIES Jérôme"
          ],
          [
           "VAN MELSEN Kévin"
          ],
          [
           "DEVENYNS Dries"
          ],
          [
           "WALLAYS Jelle"
          ],
          [
           "REUS Kai"
          ],
          [
           "TRUSOV Nikolay"
          ],
          [
           "SKJERPING Kristoffer"
          ],
          [
           "HAYMAN Mathew"
          ],
          [
           "BOŽIČ Borut"
          ],
          [
           "VAN GENECHTEN Jonas"
          ],
          [
           "JARRIER Benoît"
          ],
          [
           "MOUREY Francis"
          ],
          [
           "ŠIŠKEVIČIUS Evaldas"
          ],
          [
           "LABORIE Christophe"
          ],
          [
           "STENUIT Robin"
          ],
          [
           "TRONET Steven"
          ],
          [
           "GERTS Floris"
          ],
          [
           "FARAZIJN Maxime"
          ],
          [
           "BREEN Vegard"
          ],
          [
           "MULLEN Ryan"
          ],
          [
           "CASTELIJNS Twan"
          ],
          [
           "BRÄNDLE Matthias"
          ],
          [
           "BONNAMOUR Franck"
          ],
          [
           "HUTAROVICH Yauheni"
          ],
          [
           "MCLAY Daniel"
          ],
          [
           "VALLÉE Boris"
          ],
          [
           "JÕEÄÄR Gert"
          ],
          [
           "GRELLIER Fabien"
          ],
          [
           "HOELGAARD Daniel"
          ],
          [
           "ISAYCHEV Vladimir"
          ],
          [
           "COSTA Mário"
          ],
          [
           "VAN POPPEL Boy"
          ],
          [
           "VAN DER HAAR Lars"
          ],
          [
           "AYAZBAYEV Maxat"
          ],
          [
           "MORENO Javier"
          ],
          [
           "GAIMON Phillip"
          ],
          [
           "MARTINEZ Yannick"
          ],
          [
           "ARISTI Mikel"
          ],
          [
           "LAAS Martin"
          ],
          [
           "COMBAUD Romain"
          ],
          [
           "GALTA Fredrik Strand"
          ],
          [
           "GIRAUD Benjamin"
          ],
          [
           "GASPAROTTO Enrico"
          ],
          [
           "VALGREN Michael"
          ],
          [
           "ALAPHILIPPE Julian"
          ],
          [
           "VLIEGEN Loïc"
          ],
          [
           "WELLENS Tim"
          ],
          [
           "GERRANS Simon"
          ],
          [
           "MOLLEMA Bauke"
          ],
          [
           "BARGUIL Warren"
          ],
          [
           "LAMMERTINK Maurits"
          ],
          [
           "COSTA Rui"
          ],
          [
           "TEUNS Dylan"
          ],
          [
           "MORENO Daniel"
          ],
          [
           "DE TIER Floris"
          ],
          [
           "ROSA Diego"
          ],
          [
           "GESINK Robert"
          ],
          [
           "IZAGIRRE Ion"
          ],
          [
           "SÁNCHEZ Samuel"
          ],
          [
           "HENAO Sergio"
          ],
          [
           "NORDHAUG Lars Petter"
          ],
          [
           "KELDERMAN Wilco"
          ],
          [
           "VAKOČ Petr"
          ],
          [
           "HOWES Alex"
          ],
          [
           "HERMANS Ben"
          ],
          [
           "CICCONE Giulio"
          ],
          [
           "PREIDLER Georg"
          ],
          [
           "POELS Wout"
          ],
          [
           "JUNGELS Bob"
          ],
          [
           "WARBASSE Larry"
          ],
          [
           "GAUTIER Cyril"
          ],
          [
           "HENAO Sebastián"
          ],
          [
           "SERRY Pieter"
          ],
          [
           "LINDEMAN Bert-Jan"
          ],
          [
           "VENTER Jaco"
          ],
          [
           "SBARAGLI Kristian"
          ],
          [
           "DUIJN Huub"
          ],
          [
           "POLANC Jan"
          ],
          [
           "KIŠERLOVSKI Robert"
          ],
          [
           "LOSADA Alberto"
          ],
          [
           "IZAGIRRE Gorka"
          ],
          [
           "GILBERT Philippe"
          ],
          [
           "CHERNETSKI Sergei"
          ],
          [
           "TANNER David"
          ],
          [
           "MACHADO Tiago"
          ],
          [
           "DILLIER Silvan"
          ],
          [
           "GASTAUER Ben"
          ],
          [
           "MEERSMAN Gianni"
          ],
          [
           "VAN DEN BROECK Jurgen"
          ],
          [
           "DUMOULIN Tom"
          ],
          [
           "VAN DER SANDE Tosh"
          ],
          [
           "VAUGRENARD Benoît"
          ],
          [
           "PATERSKI Maciej"
          ],
          [
           "MOHORIČ Matej"
          ],
          [
           "KING Ben"
          ],
          [
           "OWSIAN Łukasz"
          ],
          [
           "TOLHOEK Antwan"
          ],
          [
           "CONTI Valerio"
          ],
          [
           "HANSEN Jesper"
          ],
          [
           "COLLI Daniele"
          ],
          [
           "DE NEGRI Pier Paolo"
          ],
          [
           "HAGA Chad"
          ],
          [
           "MINNAARD Marco"
          ],
          [
           "VERGAERDE Otto"
          ],
          [
           "CHEREL Mikaël"
          ],
          [
           "VUILLERMOZ Alexis"
          ],
          [
           "PLUCIŃSKI Leszek"
          ],
          [
           "STACCHIOTTI Riccardo"
          ],
          [
           "BERLATO Giacomo"
          ],
          [
           "BOLE Grega"
          ],
          [
           "KOISHI Yuma"
          ],
          [
           "CUNEGO Damiano"
          ],
          [
           "KUBOKI Kazushige"
          ],
          [
           "BOUDAT Thomas"
          ],
          [
           "VOECKLER Thomas"
          ],
          [
           "EIKING Odd Christian"
          ],
          [
           "ROY Jérémy"
          ],
          [
           "YATES Adam"
          ],
          [
           "RODRÍGUEZ Joaquim"
          ],
          [
           "DIDIER Laurent"
          ],
          [
           "HESJEDAL Ryder"
          ],
          [
           "REIJNEN Kiel"
          ],
          [
           "SCHLECK Fränk"
          ],
          [
           "BERHANE Natnael"
          ],
          [
           "REGUIGUI Youcef"
          ],
          [
           "FRAILE Omar"
          ],
          [
           "LUDVIGSSON Fredrik"
          ],
          [
           "FRÖHLINGER Johannes"
          ],
          [
           "ARU Fabio"
          ],
          [
           "CATALDO Dario"
          ],
          [
           "WALLAYS Jens"
          ],
          [
           "VAN GESTEL Dries"
          ],
          [
           "LIETAER Eliot"
          ],
          [
           "VEUCHELEN Frederik"
          ],
          [
           "ENGER Sondre Holst"
          ],
          [
           "COPPEL Jérôme"
          ],
          [
           "DENIFL Stefan"
          ],
          [
           "CLEMENT Stef"
          ],
          [
           "SUTHERLAND Rory"
          ],
          [
           "FERNÁNDEZ Rubén"
          ],
          [
           "HOOGERLAND Johnny"
          ],
          [
           "TROFIMOV Yuri"
          ],
          [
           "MCCARTHY Jay"
          ],
          [
           "PETROV Evgeni"
          ],
          [
           "BROWN Nathan"
          ],
          [
           "MARTIN Dan"
          ],
          [
           "WOODS Michael"
          ],
          [
           "MOLARD Rudy"
          ],
          [
           "LATOUR Pierre"
          ],
          [
           "NAVARRO Daniel"
          ],
          [
           "MEINTJES Louis"
          ],
          [
           "ZEITS Andrey"
          ],
          [
           "STETINA Peter"
          ],
          [
           "SØRENSEN Chris Anker"
          ],
          [
           "OOMEN Sam"
          ],
          [
           "VACHON Florian"
          ],
          [
           "EL FARES Julien"
          ],
          [
           "WEGMANN Fabian"
          ],
          [
           "DE PLUS Laurens"
          ],
          [
           "DELAPLACE Anthony"
          ],
          [
           "ANTÓN Igor"
          ],
          [
           "MARTIN Guillaume"
          ],
          [
           "DE CLERCQ Bart"
          ],
          [
           "DE LA CRUZ David"
          ],
          [
           "CAMPENAERTS Victor"
          ],
          [
           "PICHON Laurent"
          ],
          [
           "WYSS Marcel"
          ],
          [
           "FONSECA Armindo"
          ],
          [
           "MEIER Christian"
          ],
          [
           "HARDY Romain"
          ],
          [
           "CHEVRIER Clément"
          ],
          [
           "BILLE Gaëtan"
          ],
          [
           "TIRALONGO Paolo"
          ],
          [
           "ZAUGG Oliver"
          ],
          [
           "POLJAŃSKI Paweł"
          ],
          [
           "ROVNY Ivan"
          ],
          [
           "MARCZYŃSKI Tomasz"
          ],
          [
           "DI GRÉGORIO Rémy"
          ],
          [
           "TURGIS Anthony"
          ],
          [
           "CRADDOCK Lawson"
          ],
          [
           "TEKLEHAIMANOT Daniel"
          ],
          [
           "REIHS Michael"
          ],
          [
           "VERMEULEN Alexey"
          ],
          [
           "LOUBET Julien"
          ],
          [
           "ARMÉE Sander"
          ],
          [
           "EDET Nicolas"
          ],
          [
           "BIDEAU Jean-Marc"
          ],
          [
           "DUQUE Leonardo Fabio"
          ],
          [
           "HONIG Reinier"
          ],
          [
           "FERNÁNDEZ Delio"
          ],
          [
           "BOUWMAN Koen"
          ],
          [
           "MAGER Christian"
          ],
          [
           "LEDANOIS Kévin"
          ],
          [
           "FEILLU Brice"
          ],
          [
           "ZUBELDIA Haimar"
          ],
          [
           "JANSE VAN RENSBURG Jacques"
          ],
          [
           "FAIRLY Caleb"
          ],
          [
           "NORMAN LETH Lasse "
          ],
          [
           "KOEP Thomas"
          ],
          [
           "GERDEMANN Linus"
          ],
          [
           "PEDERSEN Mads"
          ],
          [
           "CIOLEK Gerald"
          ],
          [
           "DE GENDT Thomas"
          ],
          [
           "DIAZ Daniel"
          ],
          [
           "PACHER Quentin"
          ],
          [
           "ZAKARIN Ilnur"
          ],
          [
           "KANGERT Tanel"
          ],
          [
           "BARDET Romain"
          ],
          [
           "KUDUS Merhawi"
          ],
          [
           "PERAUD Jean-Christophe"
          ],
          [
           "POZZOVIVO Domenico"
          ],
          [
           "MORABITO Steve"
          ],
          [
           "BUCHMANN Emanuel"
          ],
          [
           "FÉDRIGO Pierrick"
          ],
          [
           "MENDES José"
          ],
          [
           "SICARD Romain"
          ],
          [
           "PORTE Richie"
          ],
          [
           "SIUTSOU Kanstantsin"
          ],
          [
           "BOUET Maxime"
          ],
          [
           "HUZARSKI Bartosz"
          ],
          [
           "FROOME Chris"
          ],
          [
           "MAJKA Rafał"
          ],
          [
           "BAGOT Yoann"
          ],
          [
           "ROSSKOPF Joey"
          ],
          [
           "LUNKE Sindre"
          ],
          [
           "JEANDESBOZ Fabrice"
          ],
          [
           "CALMEJANE Lilian"
          ],
          [
           "QUÉMÉNEUR Perrig"
          ],
          [
           "CORNU Jérémy"
          ],
          [
           "TAARAMÄE Rein"
          ],
          [
           "BOBRIDGE Jack"
          ],
          [
           "VAN WINDEN Dennis"
          ],
          [
           "VAN DER LIJKE Nick"
          ],
          [
           "ROCHE Nicolas"
          ],
          [
           "BENNETT George"
          ],
          [
           "NIEVE Mikel"
          ],
          [
           "URÁN Rigoberto"
          ],
          [
           "KRUIJSWIJK Steven"
          ],
          [
           "MADRAZO Ángel"
          ],
          [
           "FRANK Mathias"
          ],
          [
           "CONTADOR Alberto"
          ],
          [
           "PETILLI Simone"
          ],
          [
           "BILBAO Pello"
          ],
          [
           "ELISSONDE Kenny"
          ],
          [
           "SILIN Egor"
          ],
          [
           "ROSSETTO Stéphane"
          ],
          [
           "FORMOLO Davide"
          ],
          [
           "PARDILLA Sergio"
          ],
          [
           "LANDA Mikel"
          ],
          [
           "KOSHEVOY Ilia"
          ],
          [
           "ROJAS José Joaquín"
          ],
          [
           "VILLELLA Davide"
          ],
          [
           "ARROYO David"
          ],
          [
           "CASTROVIEJO Jonathan"
          ],
          [
           "CARTHY Hugh"
          ],
          [
           "TXURRUKA Amets"
          ],
          [
           "ROSÓN Jaime"
          ],
          [
           "NIYONSHUTI Adrien"
          ],
          [
           "PINEAU Cédric"
          ],
          [
           "HERNÁNDEZ BLÁZQUEZ Jesús"
          ],
          [
           "MAS Lluís"
          ],
          [
           "LÓPEZ David"
          ],
          [
           "KADRI Blel"
          ],
          [
           "BONNAFOND Guillaume"
          ],
          [
           "VELITS Peter"
          ],
          [
           "BARBERO Carlos"
          ],
          [
           "CHETOUT Loïc"
          ],
          [
           "GENIEZ Alexandre"
          ],
          [
           "RESTREPO Jhonatan"
          ],
          [
           "NIEMIEC Przemysław"
          ],
          [
           "JIM Songezo"
          ],
          [
           "LAMMERTINK Steven"
          ],
          [
           "TEN DAM Laurens"
          ],
          [
           "MALACARNE Davide"
          ],
          [
           "ZANDIO Xabier"
          ],
          [
           "LANG Pirmin"
          ],
          [
           "VERVAEKE Louis"
          ],
          [
           "DE BIE Sean"
          ],
          [
           "PAULINHO Sérgio Miguel"
          ],
          [
           "EWAN Caleb"
          ],
          [
           "DEGENKOLB John"
          ],
          [
           "GROENEWEGEN Dylan"
          ],
          [
           "TLEUBAYEV Ruslan"
          ],
          [
           "SIMÓN Jordi"
          ],
          [
           "POLNICKÝ Jiří"
          ],
          [
           "GRADEK Kamil"
          ],
          [
           "ZEPUNTKE Ruben"
          ],
          [
           "KITTEL Marcel"
          ],
          [
           "BAUHAUS Phil"
          ],
          [
           "GULDHAMMER Rasmus"
          ],
          [
           "KAMP Alexander"
          ],
          [
           "MARTINELLI Davide"
          ],
          [
           "BOUHANNI Rayane"
          ],
          [
           "BÉRARD Julien"
          ],
          [
           "FRANCZAK Paweł"
          ],
          [
           "HERRADA Jesús"
          ],
          [
           "BANASZEK Adrian"
          ],
          [
           "FOMINYKH Daniil"
          ],
          [
           "BANASZEK Norbert"
          ],
          [
           "SENNI Manuel"
          ],
          [
           "ARREDONDO Julián David"
          ],
          [
           "WALSCHEID Max"
          ],
          [
           "GUARDINI Andrea"
          ],
          [
           "TENBROCK Jonas"
          ],
          [
           "DOWSETT Alex"
          ],
          [
           "KOCH Jonas"
          ],
          [
           "ANIOŁKOWSKI Stanisław"
          ],
          [
           "DUMOULIN Samuel"
          ],
          [
           "VELASCO Simone"
          ],
          [
           "FUMEAUX Jonathan"
          ],
          [
           "ZARDINI Edoardo"
          ],
          [
           "DEGAND Thomas"
          ],
          [
           "HUPOND Thierry"
          ],
          [
           "WIŚNIOWSKI Łukasz"
          ],
          [
           "MOINARD Amaël"
          ],
          [
           "VERONA Carlos"
          ],
          [
           "SEPÚLVEDA Eduardo"
          ],
          [
           "GÉRARD Arnaud"
          ],
          [
           "HIRT Jan"
          ],
          [
           "GROßSCHARTNER Felix"
          ],
          [
           "SAMOILAU Branislau"
          ],
          [
           "PLAZA Rubén"
          ],
          [
           "KOZONTCHUK Dmitry"
          ],
          [
           "VAN ZYL Johann"
          ],
          [
           "DEIGNAN Philip"
          ],
          [
           "SOLER Marc"
          ],
          [
           "KRAGH ANDERSEN Asbjørn"
          ],
          [
           "BOIVIN Guillaume"
          ],
          [
           "LANGLOIS Bruno"
          ],
          [
           "BOOKWALTER Brent"
          ],
          [
           "DROUIN David"
          ],
          [
           "CARDOSO André"
          ],
          [
           "PERRY Benjamin"
          ],
          [
           "MAISON Jérémy"
          ],
          [
           "BELKOV Maxim"
          ],
          [
           "ELLSAY Nigel"
          ],
          [
           "DAL-CIN Matteo"
          ],
          [
           "CATAFORD Alexander"
          ],
          [
           "MASBOURIAN Nicolas"
          ],
          [
           "MALORI Adriano"
          ],
          [
           "BOECKMANS Kris"
          ],
          [
           "CHAVES Esteban"
          ],
          [
           "TORRES Rodolfo Andrés"
          ],
          [
           "MAMYKIN Matvey"
          ],
          [
           "ATAPUMA Darwin"
          ],
          [
           "REICHENBACH Sébastien"
          ],
          [
           "TALIANI Alessio"
          ],
          [
           "KOCHETKOV Pavel"
          ],
          [
           "GODOY Yonder"
          ],
          [
           "SOLOMENNIKOV Andrei"
          ],
          [
           "DUPONT Hubert"
          ],
          [
           "YAMAMOTO Genki"
          ],
          [
           "FILOSI Iuri"
          ],
          [
           "ZILIOLI Gianfranco"
          ],
          [
           "GROSU Eduard-Michael"
          ],
          [
           "PEREZ Anthony"
          ],
          [
           "ANDRIATO Rafael"
          ],
          [
           "ZHUPA Eugert"
          ],
          [
           "RODRÍGUEZ Cristián"
          ],
          [
           "HOWSON Damien"
          ],
          [
           "POWER Robert"
          ],
          [
           "ĐURASEK Kristijan"
          ],
          [
           "BERNARD Julien"
          ],
          [
           "LUDVIGSSON Tobias"
          ],
          [
           "LÓPEZ Miguel Ángel"
          ],
          [
           "KIRYIENKA Vasil"
          ],
          [
           "KÖNIG Leopold"
          ],
          [
           "FIRSANOV Sergey"
          ],
          [
           "FOLIFOROV Alexander"
          ],
          [
           "SHALUNOV Evgeny"
          ],
          [
           "KOLOBNEV Alexandr"
          ],
          [
           "ZAKARIN Aydar"
          ],
          [
           "NYCH Artem"
          ],
          [
           "BOEV Igor"
          ],
          [
           "DOCKX Gert"
          ],
          [
           "MONFORT Maxime"
          ],
          [
           "BANDIERA Marco"
          ],
          [
           "NARDIN Alberto"
          ],
          [
           "RATTO Daniele"
          ],
          [
           "BONGIORNO Francesco Manuel"
          ],
          [
           "MEYER Cameron"
          ],
          [
           "VALLS Rafael"
          ],
          [
           "HAMILTON Lucas"
          ],
          [
           "HINDLEY Jai"
          ],
          [
           "STORER Michael"
          ],
          [
           "ACEVEDO Janier"
          ],
          [
           "CANTY Brendan"
          ],
          [
           "PLANCKAERT Baptiste"
          ],
          [
           "GATE Aaron"
          ],
          [
           "SHAW James"
          ],
          [
           "CLARKE Jonathan"
          ],
          [
           "NORRIS Lachlan"
          ],
          [
           "GONÇALVES José"
          ],
          [
           "BAYLY Cameron"
          ],
          [
           "BOWDEN Scott"
          ],
          [
           "MEIJERS Jeroen"
          ],
          [
           "MCCABE Travis"
          ],
          [
           "HEPBURN Michael"
          ],
          [
           "O'CONNOR Ben"
          ],
          [
           "KONING Peter"
          ],
          [
           "HAMILTON Chris"
          ],
          [
           "PORTER Alexander"
          ],
          [
           "VAN DER HOORN Taco"
          ],
          [
           "ARIESEN Tim"
          ],
          [
           "NIKOLAEV Sergey"
          ],
          [
           "BIDARD François"
          ],
          [
           "TUSVELD Martijn"
          ],
          [
           "DUNNE Conor"
          ],
          [
           "VELITS Martin"
          ],
          [
           "HOFSTEDE Lennard"
          ],
          [
           "MAS Enric"
          ],
          [
           "PUTT Tanner"
          ],
          [
           "SCOTSON Miles"
          ],
          [
           "DENNIS Rohan"
          ],
          [
           "MORTON Lachlan"
          ],
          [
           "WATSON Calvin"
          ],
          [
           "SAVITSKIY Ivan"
          ],
          [
           "ERSHOV Artur"
          ],
          [
           "HEGYVARY Adrian"
          ],
          [
           "HENDERSON Gregory"
          ],
          [
           "GUERREIRO Ruben"
          ],
          [
           "ACKERMANN Pascal"
          ],
          [
           "SVESHNIKOV Kirill"
          ],
          [
           "CLARKE Will"
          ],
          [
           "JULES Justin"
          ],
          [
           "ISTA Kevyn"
          ],
          [
           "VAN GOETHEM Brian"
          ],
          [
           "TURGIS Jimmy"
          ],
          [
           "PFINGSTEN Christoph"
          ],
          [
           "SPRENGERS Thomas"
          ],
          [
           "PARDINI Olivier"
          ],
          [
           "NAESEN Lawrence"
          ],
          [
           "CORDEEL Sander"
          ],
          [
           "GARCÍA CORTINA Iván"
          ],
          [
           "VANTOMME Maxime"
          ],
          [
           "LAMPAERT Yves"
          ],
          [
           "SCULLY Tom"
          ],
          [
           "PÉRICHON Pierre-Luc"
          ],
          [
           "DUVAL Julien"
          ],
          [
           "CORBEL Erwann"
          ],
          [
           "FOURNIER Marc"
          ],
          [
           "BIERMANS Jenthe"
          ],
          [
           "KORSÆTH Truls Engen"
          ],
          [
           "DELTOMBE Kevin"
          ],
          [
           "PLANCKAERT Edward"
          ],
          [
           "DE GENDT Aimé"
          ],
          [
           "STASSEN Julien"
          ],
          [
           "KIRSCH Alex"
          ],
          [
           "SPENGLER Lukas"
          ],
          [
           "DE BONDT Dries"
          ],
          [
           "VAN ZUMMEREN Stef"
          ],
          [
           "PREMONT Christophe"
          ],
          [
           "VERMELTFOORT Coen"
          ],
          [
           "MOURIS Jens"
          ],
          [
           "WILLIAMS Tyler"
          ],
          [
           "YECHEZKEL Aviv"
          ],
          [
           "RÄIM Mihkel"
          ],
          [
           "SCHREURS Hamish"
          ],
          [
           "INSAUSTI Jon Ander"
          ],
          [
           "NIBALI Antonio"
          ],
          [
           "NOVAK Domen"
          ],
          [
           "PER David"
          ],
          [
           "REINDERS Elmar"
          ],
          [
           "PINOT Thibaut"
          ],
          [
           "CINK Ondřej"
          ],
          [
           "ROGLIČ Primož"
          ],
          [
           "GEOGHEGAN HART Tao"
          ],
          [
           "PETERS Nans"
          ],
          [
           "CANOLA Marco"
          ],
          [
           "CARAPAZ Richard"
          ],
          [
           "FRAPPORTI Mattia"
          ],
          [
           "MASNADA Fausto"
          ],
          [
           "SANTAROMITA Ivan"
          ],
          [
           "BONUSI Raffaello"
          ],
          [
           "BAGIOLI Nicola"
          ],
          [
           "UCHIMA Kohei"
          ],
          [
           "EDMONDSON Alex"
          ],
          [
           "MATHIS Marco"
          ],
          [
           "WÜRTZ SCHMIDT Mads"
          ],
          [
           "RAVASI Edward"
          ],
          [
           "TROIA Oliviero"
          ],
          [
           "RICHEZE Maximiliano"
          ],
          [
           "DOULL Owain"
          ],
          [
           "BOSWELL Ian"
          ],
          [
           "BICO Nuno"
          ],
          [
           "BALLERINI Davide"
          ],
          [
           "BENFATTO Marco"
          ],
          [
           "SOSA Iván Ramiro"
          ],
          [
           "PACIONI Luca"
          ],
          [
           "WACKERMANN Luca"
          ],
          [
           "VENDRAME Andrea"
          ],
          [
           "BUSATO Matteo"
          ],
          [
           "MOSCA Jacopo"
          ],
          [
           "CARRETERO Héctor"
          ],
          [
           "PALINI Andrea"
          ],
          [
           "CALABRIA Fabio"
          ],
          [
           "VAN IJZENDOORN Rik"
          ],
          [
           "POLI Umberto"
          ],
          [
           "MAIKIN Roman"
          ],
          [
           "KAMSTRA Brian"
          ],
          [
           "NAKANE Hideto"
          ],
          [
           "BARBIER Rudy"
          ],
          [
           "VAN ROOY Kenneth"
          ],
          [
           "CONSONNI Simone"
          ],
          [
           "NEILANDS Krists"
          ],
          [
           "TUREK Daniel"
          ],
          [
           "JANSEN Amund Grøndahl"
          ],
          [
           "BOHLI Tom"
          ],
          [
           "MINALI Riccardo"
          ],
          [
           "MANZIN Lorrenzo"
          ],
          [
           "DERUETTE Thomas"
          ],
          [
           "DE WINTER Ludwig"
          ],
          [
           "KRUOPIS Aidis"
          ],
          [
           "VAN BREUSSEGEM Elias"
          ],
          [
           "DUPONT Timothy"
          ],
          [
           "GOOLAERTS Michael"
          ],
          [
           "SAGIV Guy"
          ],
          [
           "MERTZ Rémy"
          ],
          [
           "DECLERCQ Benjamin"
          ],
          [
           "ALLEGAERT Piet"
          ],
          [
           "DUQUENNOY Jimmy"
          ],
          [
           "ROBEET Ludovic"
          ],
          [
           "MASSON Christophe"
          ],
          [
           "PASQUALON Andrea"
          ],
          [
           "GANNA Filippo"
          ],
          [
           "DIBBEN Jonathan"
          ],
          [
           "TURRIN Alex"
          ],
          [
           "SMITH Dion"
          ],
          [
           "BERTAZZO Liam"
          ],
          [
           "BIZHIGITOV Zhandos"
          ],
          [
           "WANG Meiyin"
          ],
          [
           "GIBBONS Ryan"
          ],
          [
           "LEMARCHAND Romain"
          ],
          [
           "MEURISSE Xandro"
          ],
          [
           "HIVERT Jonathan"
          ],
          [
           "BUDDING Martijn"
          ],
          [
           "TRATNIK Jan"
          ],
          [
           "KACZMAREK Jakub"
          ],
          [
           "SCHACHMANN Maximilian"
          ],
          [
           "STALNOV Nikita"
          ],
          [
           "COURTEILLE Arnaud"
          ],
          [
           "RIESEBEEK Oscar"
          ],
          [
           "SISR František"
          ],
          [
           "OURSELIN Paul"
          ],
          [
           "DANIEL Gregory"
          ],
          [
           "ALBANESE Vincenzo"
          ],
          [
           "MARONESE Marco"
          ],
          [
           "ARASHIRO Yukiya"
          ],
          [
           "GAUDU David"
          ],
          [
           "GESBERT Élie"
          ],
          [
           "PEYSKENS Dimitri"
          ],
          [
           "WARNIER Antoine"
          ],
          [
           "NAULEAU Bryan"
          ],
          [
           "DELFOSSE Sébastien"
          ],
          [
           "CHRISTIAN Mark"
          ],
          [
           "GRMAY Tsgabu"
          ],
          [
           "HABEAUX Grégory"
          ],
          [
           "GUILLEMOIS Romain"
          ],
          [
           "POLS Ruben"
          ],
          [
           "DOUBEY Fabien"
          ],
          [
           "PEARSON Daniel"
          ],
          [
           "VAN EMPEL Etienne"
          ],
          [
           "MIRZA Yousif"
          ],
          [
           "OLIVIER Daan"
          ],
          [
           "LEVARLET Guillaume"
          ],
          [
           "ZIMMERMANN Georg"
          ],
          [
           "RAPP Jonas"
          ],
          [
           "HOLLER Nikodemus"
          ],
          [
           "LOEF Georg"
          ],
          [
           "FREIENSTEIN Raphael"
          ],
          [
           "SOBALLA Carl"
          ],
          [
           "HATZ Christopher"
          ],
          [
           "WOUTERS Enzo"
          ],
          [
           "IRVINE Martyn"
          ],
          [
           "HERRADA José"
          ],
          [
           "BRAJKOVIČ Janez"
          ],
          [
           "ZAKHAROV Artyom"
          ],
          [
           "SCHULTZ Nick"
          ],
          [
           "SÁEZ Héctor"
          ],
          [
           "REIS Rafael"
          ],
          [
           "PRADES Eduard"
          ],
          [
           "LE TURNIER Mathias"
          ],
          [
           "VINCENT Léo"
          ],
          [
           "HERKLOTZ Silvio"
          ],
          [
           "INTXAUSTI Beñat"
          ],
          [
           "TALANSKY Andrew"
          ],
          [
           "LASTRA Jonathan"
          ],
          [
           "FERRARI Fabricio"
          ],
          [
           "IRISARRI Jon"
          ],
          [
           "DÍAZ José Manuel"
          ],
          [
           "ZABALA Josu"
          ],
          [
           "PAGE Dylan"
          ],
          [
           "TACIAK Mateusz"
          ],
          [
           "VAN HOOYDONCK Nathan"
          ],
          [
           "CECCHIN Alberto"
          ],
          [
           "LOWNDES Jason"
          ],
          [
           "BROŻYNA Piotr"
          ],
          [
           "GOLDSTEIN Roy"
          ],
          [
           "MALUCELLI Matteo"
          ],
          [
           "CAVAGNA Rémi"
          ],
          [
           "GODON Dorian"
          ],
          [
           "KEIZER Martijn"
          ],
          [
           "MAŁECKI Kamil"
          ],
          [
           "FINETTO Mauro"
          ],
          [
           "ROLLAND Pierre"
          ],
          [
           "VENTURINI Clément"
          ],
          [
           "BURKE Jack"
          ],
          [
           "KOZHATAYEV Bakhtiyar"
          ],
          [
           "SOUCY Marc-antoine"
          ],
          [
           "COWAN Alexander"
          ],
          [
           "COTÉ Pier-André"
          ],
          [
           "QUINTANA Nairo"
          ],
          [
           "BERNAL Egan"
          ],
          [
           "BISOLTI Alessandro"
          ],
          [
           "KOBAYASHI Marino"
          ],
          [
           "FLÓREZ Miguel Eduardo"
          ],
          [
           "ARSLANOV Ildar"
          ],
          [
           "STERBINI Simone"
          ],
          [
           "VAN AERT Wout"
          ],
          [
           "MÜLLER Patrick"
          ],
          [
           "WELTEN Bram"
          ],
          [
           "CARBEL Michael"
          ],
          [
           "RIABUSHENKO Alexandr"
          ],
          [
           "LAWLESS Chris"
          ],
          [
           "LEYSEN Senne"
          ],
          [
           "OWEN Logan"
          ],
          [
           "MADOUAS Valentin"
          ],
          [
           "KUSS Sepp"
          ],
          [
           "HATSUYAMA Sho"
          ],
          [
           "CIMA Damiano"
          ],
          [
           "TIZZA Marco"
          ],
          [
           "BOU Joan"
          ],
          [
           "ARMIRAIL Bruno"
          ],
          [
           "KÄMNA Lennard"
          ],
          [
           "BASSO Leonardo"
          ],
          [
           "DE WITTE Mathias"
          ],
          [
           "RIVERA Kevin"
          ],
          [
           "SPREAFICO Matteo"
          ],
          [
           "PADUN Mark"
          ],
          [
           "MAGNUSSON Kim"
          ],
          [
           "JENSEN August"
          ],
          [
           "POWLESS Neilson"
          ],
          [
           "CARBONI Giovanni"
          ],
          [
           "VLASOV Aleksandr"
          ],
          [
           "KURIANOV Stepan"
          ],
          [
           "BRAND Sam"
          ],
          [
           "CHERKASOV Nikolay"
          ],
          [
           "KOBERNYAK Evgeny"
          ],
          [
           "TURGIS Tanguy"
          ],
          [
           "HALVORSEN Kristoffer"
          ],
          [
           "VAN SCHIP Jan-Willem"
          ],
          [
           "LECROQ Jérémy"
          ],
          [
           "GAREL Adrien"
          ],
          [
           "NOPPE Christophe"
          ],
          [
           "WARLOP Jordi"
          ],
          [
           "MENTEN Milan"
          ],
          [
           "PEDERSEN Casper"
          ],
          [
           "HODEG Álvaro José"
          ],
          [
           "SELLIER Simon"
          ],
          [
           "VERWILST Aaron"
          ],
          [
           "EENKHOORN Pascal"
          ],
          [
           "MORTIER Julien"
          ],
          [
           "TRARIEUX Julien"
          ],
          [
           "JONES Brenton"
          ],
          [
           "KASPERKIEWICZ Przemysław"
          ],
          [
           "ERMENAULT Corentin"
          ],
          [
           "COSNEFROY Benoît"
          ],
          [
           "DUNBAR Eddie"
          ],
          [
           "DAVIES Scott"
          ],
          [
           "SEIGLE Romain"
          ],
          [
           "SMIT Willie"
          ],
          [
           "CRAS Steff"
          ],
          [
           "GHEBREIGZABHIER Amanuel"
          ],
          [
           "MOTTIER Justin"
          ],
          [
           "PERNSTEINER Hermann"
          ],
          [
           "LAMBRECHT Bjorg"
          ],
          [
           "FRANKINY Kilian"
          ],
          [
           "FABBRO Matteo"
          ],
          [
           "DLAMINI Nic"
          ],
          [
           "KNOX James"
          ],
          [
           "VAN GOMPEL Mathias"
          ],
          [
           "DE ROSSI Lucas"
          ],
          [
           "RODRÍGUEZ Jhon Anderson"
          ],
          [
           "ANTUNES Amaro"
          ],
          [
           "SCHLEGEL Michal"
          ],
          [
           "CIEŚLIK Paweł"
          ],
          [
           "JAKOBSEN Fabio"
          ],
          [
           "GIDICH Yevgeniy"
          ],
          [
           "FRAME Alex"
          ],
          [
           "ARANBURU Alex"
          ],
          [
           "EZQUERRA Jesús"
          ],
          [
           "ITURRIA Mikel"
          ],
          [
           "NARVÁEZ Jhonatan"
          ],
          [
           "BOL Jetse"
          ],
          [
           "BARTHE Cyril"
          ],
          [
           "RODRÍGUEZ Sergio"
          ],
          [
           "ASGREEN Kasper"
          ],
          [
           "TORRES Pablo"
          ],
          [
           "CUBERO Jorge"
          ],
          [
           "RUBIO Diego"
          ],
          [
           "SOTO Nelson Andrés"
          ],
          [
           "IRIZAR Julen"
          ],
          [
           "BRAVO Garikoitz"
          ],
          [
           "BIZKARRA Mikel"
          ],
          [
           "BAGÜES Aritz"
          ],
          [
           "LIVYNS Arjen"
          ],
          [
           "SHILOV Sergey"
          ],
          [
           "GODRIE Stan"
          ],
          [
           "RUSSO Clément"
          ],
          [
           "RAGGIO Luca"
          ],
          [
           "VAN DEN BERG Julius"
          ],
          [
           "LEVEAU Jérémy"
          ],
          [
           "MCNULTY Brandon"
          ],
          [
           "PICCOLI James"
          ],
          [
           "CASTRILLO Jaime"
          ],
          [
           "CARPENTER Robin"
          ],
          [
           "BRITTON Rob"
          ],
          [
           "ROBERGE Adam"
          ],
          [
           "VANHOUCKE Harm"
          ],
          [
           "EARLE Nathan"
          ],
          [
           "DE VOS Adam"
          ],
          [
           "JOYCE Colin"
          ],
          [
           "WALSH Edward"
          ],
          [
           "ZUKOWSKY Nickolas"
          ],
          [
           "DOMBROWSKI Joe"
          ],
          [
           "CHRÉTIEN Charles-Étienne"
          ],
          [
           "NIV Guy"
          ],
          [
           "CONCI Nicola"
          ],
          [
           "SCHÖNBERGER Sebastian"
          ],
          [
           "LE ROUX Romain"
          ],
          [
           "ZACCANTI Filippo"
          ],
          [
           "EG Niklas"
          ],
          [
           "GOLDSTEIN Omer"
          ],
          [
           "GEBREMEDHIN Awet"
          ],
          [
           "ORSINI Umberto"
          ],
          [
           "SUNDERLAND Dylan"
          ],
          [
           "SIVAKOV Pavel"
          ],
          [
           "POGAČAR Tadej"
          ],
          [
           "PHILIPSEN Jasper"
          ],
          [
           "BOL Cees"
          ],
          [
           "SAJNOK Szymon"
          ],
          [
           "HAGEN Carl Fredrik"
          ],
          [
           "TOOVEY Ayden"
          ],
          [
           "FREIBERG Michael"
          ],
          [
           "WHITE Nicholas"
          ],
          [
           "WHELAN James"
          ],
          [
           "SWEENY Harry"
          ],
          [
           "STANNARD Robert"
          ],
          [
           "GREGAARD Jonas"
          ],
          [
           "HONORÉ Mikkel Frølich"
          ],
          [
           "STRAKHOV Dmitry"
          ],
          [
           "ELLIOTT Nathan"
          ],
          [
           "OLIVEIRA Ivo"
          ],
          [
           "KANTER Max"
          ],
          [
           "TURNBULL Carter"
          ],
          [
           "TOUZÉ Damien"
          ],
          [
           "JANSSENS Jimmy"
          ],
          [
           "LIEPIŅŠ Emīls"
          ],
          [
           "TAMINIAUX Lionel"
          ],
          [
           "MEISEN Marcel"
          ],
          [
           "VAN TRIJP Maarten"
          ],
          [
           "STALLAERT Joeri"
          ],
          [
           "AFFINI Edoardo"
          ],
          [
           "TANFIELD Harry"
          ],
          [
           "MOLANO Juan Sebastián"
          ],
          [
           "TILLER Rasmus"
          ],
          [
           "WIRTGEN Tom"
          ],
          [
           "CAICEDO Jonathan Klever"
          ],
          [
           "HIRSCHI Marc"
          ],
          [
           "GAROSIO Andrea"
          ],
          [
           "LONARDI Giovanni"
          ],
          [
           "SCOTSON Callum"
          ],
          [
           "MOSCHETTI Matteo"
          ],
          [
           "MÄDER Gino"
          ],
          [
           "BENNETT Sean"
          ],
          [
           "CAM Maxime"
          ],
          [
           "MARENGO Umberto"
          ],
          [
           "KUSZTOR Péter"
          ],
          [
           "PESSOT Alessandro"
          ],
          [
           "NÕMMELA Aksel"
          ],
          [
           "BERNAS Paweł"
          ],
          [
           "TIMMERMANS Justin"
          ],
          [
           "BURGAUDEAU Mathieu"
          ],
          [
           "STORK Florian"
          ],
          [
           "DEWULF Stan"
          ],
          [
           "SIX Franklin"
          ],
          [
           "PAASSCHENS Mathijs"
          ],
          [
           "GHYS Robbe"
          ],
          [
           "WEEMAES Sasha"
          ],
          [
           "FORTIN Filippo"
          ],
          [
           "DE DECKER Alfdan"
          ],
          [
           "WILLEMS Thimo"
          ],
          [
           "IVERSEN Rasmus"
          ],
          [
           "CARISEY Clément"
          ],
          [
           "DE VYLDER Lindsay"
          ],
          [
           "PLANCKAERT Emiel"
          ],
          [
           "VAN DER POEL Mathieu"
          ],
          [
           "VERMEERSCH Gianni"
          ],
          [
           "RIOU Alan"
          ],
          [
           "ARERUYA Joseph"
          ],
          [
           "WALSLEBEN Philipp"
          ],
          [
           "GONZÁLEZ Mario"
          ],
          [
           "PARET-PEINTRE Aurélien"
          ],
          [
           "BARTA Will"
          ],
          [
           "MANNION Gavin"
          ],
          [
           "MOLLY Kenny"
          ],
          [
           "RODRÍGUEZ Óscar"
          ],
          [
           "BARRENETXEA Ander"
          ],
          [
           "ÁVILA Edwin"
          ],
          [
           "VAN POUCKE Aaron"
          ],
          [
           "GABBURO Davide"
          ],
          [
           "NIEUWENHUIS Joris"
          ],
          [
           "FORTUNATO Lorenzo"
          ],
          [
           "BOUCHARD Geoffrey"
          ],
          [
           "OLIVEIRA Rui"
          ],
          [
           "ROSA Massimo"
          ],
          [
           "VOROBYEV Anton"
          ],
          [
           "EVENEPOEL Remco"
          ],
          [
           "HÄNNINEN Jaakko"
          ],
          [
           "ZOIDL Riccardo"
          ],
          [
           "SERRANO Gonzalo"
          ],
          [
           "BARCELÓ Fernando"
          ],
          [
           "NICOLAU Joel"
          ],
          [
           "SESSLER Nícolas"
          ],
          [
           "NEVES José"
          ],
          [
           "GENIETS Kevin"
          ],
          [
           "HAYTER Ethan"
          ],
          [
           "WALLS Matthew"
          ],
          [
           "FEDELI Alessandro"
          ],
          [
           "THIJSSEN Gerben"
          ],
          [
           "GUERIN Alexis"
          ],
          [
           "SWIFT Connor"
          ],
          [
           "STEWART Thomas"
          ],
          [
           "SCHMIDT Fabien"
          ],
          [
           "CULLAIGH Gabriel"
          ],
          [
           "VILLALOBOS Luis"
          ],
          [
           "RIKUNOV Petr"
          ],
          [
           "CONTRERAS Rodrigo"
          ],
          [
           "KULIKOV Vladislav"
          ],
          [
           "VAN MOER Brent"
          ],
          [
           "GERVAIS Laurent"
          ],
          [
           "VINGEGAARD Jonas"
          ],
          [
           "CHEYNE Jordan"
          ],
          [
           "BURTNIK Evan"
          ],
          [
           "PLAMONDON Robin"
          ],
          [
           "HIGUITA Sergio"
          ],
          [
           "RUMAC Josip"
          ],
          [
           "COVILI Luca"
          ],
          [
           "SAVINI Daniel"
          ],
          [
           "MUÑOZ Daniel"
          ],
          [
           "RYBALKIN Aleksey"
          ],
          [
           "ROMANO Francesco"
          ],
          [
           "HOLMES Matthew"
          ],
          [
           "LIENHARD Fabian"
          ],
          [
           "DE BOD Stefan"
          ],
          [
           "SCHELLING Ide"
          ],
          [
           "ALMEIDA João"
          ],
          [
           "LÓPEZ Juan Pedro"
          ],
          [
           "PORTER Rudy"
          ],
          [
           "RUTSCH Jonas"
          ],
          [
           "RIES Michel"
          ],
          [
           "BATTISTELLA Samuele"
          ],
          [
           "LEAHY Conor"
          ],
          [
           "DAINESE Alberto"
          ],
          [
           "WURF Cameron"
          ],
          [
           "SCHULTZ Elliot"
          ],
          [
           "QUICK Blake"
          ],
          [
           "BUITRAGO Santiago"
          ],
          [
           "JACOBS Johan"
          ],
          [
           "KONYCHEV Alexander"
          ],
          [
           "WRIGHT Fred"
          ],
          [
           "MORIN Emmanuel"
          ],
          [
           "BJERG Mikkel"
          ],
          [
           "COVI Alessandro"
          ],
          [
           "SIMMONS Quinn"
          ],
          [
           "STOKBRO Andreas"
          ],
          [
           "EEKHOFF Nils"
          ],
          [
           "GAMPER Patrick"
          ],
          [
           "BEULLENS Cedric"
          ],
          [
           "DE WILDE Gilles"
          ],
          [
           "SUTER Joel"
          ],
          [
           "HOLLMANN Juri"
          ],
          [
           "JORGENSON Matteo"
          ],
          [
           "RAVANELLI Simone"
          ],
          [
           "GUGLIELMI Simon"
          ],
          [
           "SOBRERO Matteo"
          ],
          [
           "HERMANS Quinten"
          ],
          [
           "VAN KESSEL Corné"
          ],
          [
           "RUBIO Einer Augusto"
          ],
          [
           "GOOSSENS Kobe"
          ],
          [
           "VERMEERSCH Florian"
          ],
          [
           "OLDANI Stefano"
          ],
          [
           "VAHTRA Norman"
          ],
          [
           "VIEL Mattia"
          ],
          [
           "MAZZUCCO Fabio"
          ],
          [
           "DALLA VALLE Nicolas"
          ],
          [
           "FIORELLI Filippo"
          ],
          [
           "CHEVALIER Maxime"
          ],
          [
           "GONZÁLEZ Roberto Carlos"
          ],
          [
           "BAIS Mattia"
          ],
          [
           "CIMA Imerio"
          ],
          [
           "BONIFAZIO Leonardo"
          ],
          [
           "MITRI James"
          ],
          [
           "VENCHIARUTTI Nicola"
          ],
          [
           "BADILATTI Matteo"
          ],
          [
           "TEJADA Harold"
          ],
          [
           "HARPER Chris"
          ],
          [
           "ALBA Juan Diego"
          ],
          [
           "VALTER Attila"
          ],
          [
           "THOMAS Benjamin"
          ],
          [
           "ZANA Filippo"
          ],
          [
           "DELACROIX Théo"
          ],
          [
           "CHAMPOUSSIN Clément"
          ],
          [
           "VIVIANI Attilio"
          ],
          [
           "BRUNEL Alexys"
          ],
          [
           "DYBALL Benjamin"
          ],
          [
           "BAGIOLI Andrea"
          ],
          [
           "DE PLUS Jasper"
          ],
          [
           "KUZMIN Anton"
          ],
          [
           "NEKRASOV Denis"
          ],
          [
           "CHIRICO Luca"
          ],
          [
           "MOZZATO Luca"
          ],
          [
           "GAILLARD Marlon"
          ],
          [
           "STEIMLE Jannik"
          ],
          [
           "LAFAY Victor"
          ],
          [
           "TORRES Albert"
          ],
          [
           "QUARTERMAN Charlie"
          ],
          [
           "BOHÓRQUEZ Hernando"
          ],
          [
           "GIRMAY Biniam"
          ],
          [
           "MORA Sebastián"
          ],
          [
           "INKELAAR Kevin"
          ],
          [
           "ELOSEGUI Iñigo"
          ],
          [
           "CABOT Jérémy"
          ],
          [
           "GALL Felix"
          ],
          [
           "VAN WILDER Ilan"
          ],
          [
           "SAMITIER Sergio"
          ],
          [
           "HUYS Laurens"
          ],
          [
           "TULETT Ben"
          ],
          [
           "FERRON Valentin"
          ],
          [
           "VANSEVENANT Mauri"
          ],
          [
           "DONOVAN Mark"
          ],
          [
           "MERTENS Julian"
          ],
          [
           "ARENSMAN Thymen"
          ],
          [
           "WILLIAMS Stephen"
          ],
          [
           "FINÉ Eddy"
          ],
          [
           "GARRISON Ian"
          ],
          [
           "PEÁK Barnabás"
          ],
          [
           "MUÑOZ Cristian Camilo"
          ],
          [
           "ARDILA Andrés Camilo"
          ],
          [
           "SCHELLING Patrick"
          ],
          [
           "MERLIER Tim"
          ],
          [
           "STEWART Jake"
          ],
          [
           "GROVES Kaden"
          ],
          [
           "CASTRIQUE Jonas"
          ],
          [
           "EINHORN Itamar"
          ],
          [
           "VAN DEN BOSSCHE Fabio"
          ],
          [
           "MAITRE Florian"
          ],
          [
           "WIRTGEN Luc"
          ],
          [
           "KRIEGER Alexander"
          ],
          [
           "BISSEGGER Stefan"
          ],
          [
           "KONGSTAD Tobias"
          ],
          [
           "RODRÍGUEZ Carlos"
          ],
          [
           "LOUVEL Matis"
          ],
          [
           "GRONDIN Donavan"
          ],
          [
           "DE KLEIJN Arvid"
          ],
          [
           "ERIKSSON Lucas"
          ],
          [
           "HAVIK Piotr"
          ],
          [
           "DE KETELE Kenny"
          ],
          [
           "PIDCOCK Thomas"
          ],
          [
           "CARVALHO Andre"
          ],
          [
           "KRON Andreas"
          ],
          [
           "KOOIJ Olav"
          ],
          [
           "NORSGAARD Mathias"
          ],
          [
           "COLMAN Alex"
          ],
          [
           "FEDOROV Yevgeniy"
          ],
          [
           "EGHOLM Jakob"
          ],
          [
           "VINJEBO Emil Mielke"
          ],
          [
           "MÄRKL Niklas"
          ],
          [
           "CARR Simon"
          ],
          [
           "SCHMID Mauro"
          ],
          [
           "FOSS Tobias"
          ],
          [
           "ALEOTTI Giovanni"
          ],
          [
           "ZWIEHOFF Ben"
          ],
          [
           "GONZÁLEZ Abner"
          ],
          [
           "CONCA Filippo"
          ],
          [
           "CHAMPION Thomas"
          ],
          [
           "FETTER Erik"
          ],
          [
           "BAIS Davide"
          ],
          [
           "DI RENZO Andrea"
          ],
          [
           "ZOCCARATO Samuele"
          ],
          [
           "VERMAERKE Kevin"
          ],
          [
           "TAGLIANI Filippo"
          ],
          [
           "ORRICO Davide"
          ],
          [
           "BEVILACQUA Mattia"
          ],
          [
           "RENARD Alexis"
          ],
          [
           "CEPEDA Jefferson Alexander"
          ],
          [
           "SEVILLA Diego Pablo"
          ],
          [
           "GARCÍA Sergio"
          ],
          [
           "GRÁVALOS Arturo"
          ],
          [
           "VIEGAS Daniel"
          ],
          [
           "GUERNALEC Thibault"
          ],
          [
           "BEVILACQUA Simone"
          ],
          [
           "IACCHI Alessandro"
          ],
          [
           "PETELIN Jan"
          ],
          [
           "VACEK Karel"
          ],
          [
           "RIVI Samuele"
          ],
          [
           "PONOMAR Andrii"
          ],
          [
           "DAVY Clément"
          ],
          [
           "MARIT Arne"
          ],
          [
           "DEKKER David"
          ],
          [
           "JULLIEN Anthony"
          ],
          [
           "REYNDERS Jens"
          ],
          [
           "APERS Ruben"
          ],
          [
           "TORTOMASI Leonardo"
          ],
          [
           "RESELL Erik Nordsæter"
          ],
          [
           "PELUCCHI Matteo"
          ],
          [
           "REX Laurenz"
          ],
          [
           "MILAN Jonathan"
          ],
          [
           "SCHNEITER Joab"
          ],
          [
           "GRIGNARD Sébastien"
          ],
          [
           "WÆRSTED Syver"
          ],
          [
           "LEKNESSUND Andreas"
          ],
          [
           "SALMON Martin"
          ],
          [
           "VAN ELZAKKER Wout"
          ],
          [
           "RODENBERG Frederik"
          ],
          [
           "SKAARSETH Anders"
          ],
          [
           "LARSEN Niklas"
          ],
          [
           "HOELGAARD Markus"
          ],
          [
           "HVIDEBERG Jonas Iversby"
          ],
          [
           "VANHOOF Ward"
          ],
          [
           "PAQUOT Tom"
          ],
          [
           "ARROYAVE Daniel"
          ],
          [
           "MEEUS Jordi"
          ],
          [
           "ABRAHAMSEN Jonas"
          ],
          [
           "HERREGODTS Rune"
          ],
          [
           "URIANSTAD Martin"
          ],
          [
           "SKAARSETH Iver"
          ],
          [
           "MONIQUET Sylvain"
          ],
          [
           "BRENNER Marco"
          ],
          [
           "ROCHAS Rémy"
          ],
          [
           "VAN GILS Maxim"
          ],
          [
           "AYUSO Juan"
          ],
          [
           "ADRIÀ Roger"
          ],
          [
           "BERRADE Urko"
          ],
          [
           "AGIRRE Jon"
          ],
          [
           "PARRA José Félix"
          ],
          [
           "AZURMENDI Ibai"
          ],
          [
           "COLLEONI Kevin"
          ],
          [
           "VAN DEN BERG Lars"
          ],
          [
           "MARTÍN Gotzon"
          ],
          [
           "BERWICK Sebastian"
          ],
          [
           "LAZKANO Oier"
          ],
          [
           "LANGELLOTTI Victor"
          ],
          [
           "NATAROV Yuriy"
          ],
          [
           "ROMO Javier"
          ],
          [
           "MURGUIALDAY Jokin"
          ],
          [
           "SÁNCHEZ Pelayo"
          ],
          [
           "MOLENAAR Alex"
          ],
          [
           "CABEDO Óscar"
          ],
          [
           "BARRENETXEA Jon"
          ],
          [
           "BROWN Connor"
          ],
          [
           "VERVLOESEM Xandres"
          ],
          [
           "AZPARREN Xabier Mikel"
          ],
          [
           "NOVIKOV Savva"
          ],
          [
           "LÓPEZ Jordi"
          ],
          [
           "GARCÍA PIERNA Raúl"
          ],
          [
           "FERASSE Thibault"
          ],
          [
           "SKJELMOSE Mattias"
          ],
          [
           "LÓPEZ-CÓZAR Juan Antonio"
          ],
          [
           "PEÑALVER Manuel"
          ],
          [
           "FUENTES Ángel"
          ],
          [
           "BELLICAUD Jeremy"
          ],
          [
           "DELETTRE Alexandre"
          ],
          [
           "LEEMREIZE Gijs"
          ],
          [
           "CANTÓN Isaac"
          ],
          [
           "APARICIO Mario"
          ],
          [
           "MULLER Gabriel"
          ],
          [
           "TIBERI Antonio"
          ],
          [
           "WANDAHL Frederik"
          ],
          [
           "RIVERA Brandon Smith"
          ],
          [
           "BERTHET Clément"
          ],
          [
           "HULGAARD Morten"
          ],
          [
           "PRODHOMME Nicolas"
          ],
          [
           "SCARONI Christian"
          ],
          [
           "TRÆEN Torstein"
          ],
          [
           "RICHARDSON Alexandar"
          ],
          [
           "BAYER Tobias"
          ],
          [
           "HINDSGAUL Jacob"
          ],
          [
           "DE PESTEL Sander"
          ],
          [
           "BRUSSENSKIY Gleb"
          ],
          [
           "BARBIER Pierre"
          ],
          [
           "RAJOVIĆ Dušan"
          ],
          [
           "MONACO Alessandro"
          ],
          [
           "CAMARGO Diego Andrés"
          ],
          [
           "DVERSNES Fredrik"
          ],
          [
           "VAUQUELIN Kévin"
          ],
          [
           "JOHANNESSEN Tobias Halland"
          ],
          [
           "TURNER Ben"
          ],
          [
           "HEALY Ben"
          ],
          [
           "ASKEY Lewis"
          ],
          [
           "BLOUWE Louis"
          ],
          [
           "HOOLE Daan"
          ],
          [
           "SHEFFIELD Magnus"
          ],
          [
           "MAAS Jan"
          ],
          [
           "BALLERSTEDT Maurice"
          ],
          [
           "MAYRHOFER Marius"
          ],
          [
           "HEINSCHKE Leon"
          ],
          [
           "GAZZOLI Michele"
          ],
          [
           "STRONG Corbin"
          ],
          [
           "ZAMBANINI Edoardo"
          ],
          [
           "VADER Milan"
          ],
          [
           "VAN DEN BERG Marijn"
          ],
          [
           "JONES Taj"
          ],
          [
           "BENEDETTI Gabriele"
          ],
          [
           "CAÑAVERAL Johnatan"
          ],
          [
           "TOLIO Alex"
          ],
          [
           "DINA Márton"
          ],
          [
           "OSORIO Alejandro"
          ],
          [
           "EL GOUZI Omar"
          ],
          [
           "ZURITA Ricardo Alejandro"
          ],
          [
           "MERCHAN Didier"
          ],
          [
           "DE LIE Arnaud"
          ],
          [
           "WÆRENSKJOLD Søren"
          ],
          [
           "FRETIN Milan"
          ],
          [
           "WELSFORD Sam"
          ],
          [
           "DUJARDIN Sandy"
          ],
          [
           "STEWART Campbell"
          ],
          [
           "PAJUR Markus"
          ],
          [
           "GROß Felix"
          ],
          [
           "MACIEJUK Filip"
          ],
          [
           "JOHANSEN Julius"
          ],
          [
           "ZANONCELLO Enrico"
          ],
          [
           "LAUK Karl Patrick"
          ],
          [
           "HESTERS Jules"
          ],
          [
           "O'BRIEN Kelland"
          ],
          [
           "ABERASTURI Jon"
          ],
          [
           "COLNAGHI Luca"
          ],
          [
           "DENS Tuur"
          ],
          [
           "SAUGSTAD Lars"
          ],
          [
           "VAN DIJKE Tim"
          ],
          [
           "BLUME LEVY William"
          ],
          [
           "KORETZKY Victor"
          ],
          [
           "PAGE Hugo"
          ],
          [
           "RAUGEL Antoine"
          ],
          [
           "HEIDUK Kim"
          ],
          [
           "BERCKMOES Jenno"
          ],
          [
           "BRAET Vito"
          ],
          [
           "VAN DIJKE Mick"
          ],
          [
           "GUDMESTAD Tord"
          ],
          [
           "VAN TRICHT Stan"
          ],
          [
           "UIJTDEBROEKS Cian"
          ],
          [
           "BARONCINI Filippo"
          ],
          [
           "MEENS Johan"
          ],
          [
           "RANGEL Vinicius"
          ],
          [
           "BALMER Alexandre"
          ],
          [
           "FISHER-BLACK Finn"
          ],
          [
           "RASTELLI Luca"
          ],
          [
           "BOILEAU Alan"
          ],
          [
           "TIETEMA Bas"
          ],
          [
           "PRICE-PEJTERSEN Johan"
          ],
          [
           "BONNEU Kamiel"
          ],
          [
           "ZINGLE Axel"
          ],
          [
           "JOUSSEAUME Alan"
          ],
          [
           "VANDENABEELE Henri"
          ],
          [
           "VERSCHAEVE Viktor"
          ],
          [
           "HESSMANN Michel"
          ],
          [
           "LAPEIRA Paul"
          ],
          [
           "PEÑA Jesús David"
          ],
          [
           "SLEEN Torjus"
          ],
          [
           "ANDERSEN Idar"
          ],
          [
           "MIQUEL Pau"
          ],
          [
           "VINE Jay"
          ],
          [
           "SÁNCHEZ Eugenio"
          ],
          [
           "RUIZ Ibon"
          ],
          [
           "VAN DER TUUK Danny"
          ],
          [
           "JOHANNESSEN Anders Halland"
          ],
          [
           "GALVÁN Francisco"
          ],
          [
           "PELEGRÍ Óscar"
          ],
          [
           "DESAL Ceriel"
          ],
          [
           "ORTS Felipe"
          ],
          [
           "VENNER Quentin"
          ],
          [
           "ANGULO Antonio"
          ],
          [
           "OKAMIKA Ander"
          ],
          [
           "PRONSKIY Vadim"
          ],
          [
           "MORENO Adrià"
          ],
          [
           "AULAR Orluis"
          ],
          [
           "GARCÍA Jhojan"
          ],
          [
           "IRIBAR Unai"
          ],
          [
           "JUARISTI Txomin"
          ],
          [
           "ARRIETA Igor"
          ],
          [
           "HELLEMOSE Asbjørn"
          ],
          [
           "BITTNER Pavel"
          ],
          [
           "GOVEKAR Matevž"
          ],
          [
           "BRUSTENGA Marc"
          ],
          [
           "LAURANCE Axel"
          ],
          [
           "PICCOLO Andrea"
          ],
          [
           "RETAILLEAU Valentin"
          ],
          [
           "BARRÉ Louis"
          ],
          [
           "TOUMIRE Hugo"
          ],
          [
           "RIVARD Nicolas"
          ],
          [
           "MILES Carson"
          ],
          [
           "SCHELLENBERG Thomas"
          ],
          [
           "COWAN Quentin"
          ],
          [
           "CÔTÉ Nicolas"
          ],
          [
           "FANCELLU Alessandro"
          ],
          [
           "UMBA Santiago"
          ],
          [
           "TESFATSION Natnael"
          ],
          [
           "QUINN Sean"
          ],
          [
           "MARTÍN Sergio Roman"
          ],
          [
           "MULUBRHAN Henok"
          ]
         ],
         "hovertemplate": "0=%{x}<br>1=%{y}<br>rider=%{customdata[0]}<br>cluster=%{marker.color}<extra></extra>",
         "legendgroup": "",
         "marker": {
          "color": [
           3,
           0,
           1,
           3,
           2,
           4,
           1,
           0,
           1,
           3,
           3,
           2,
           0,
           1,
           2,
           1,
           0,
           0,
           1,
           0,
           0,
           0,
           1,
           4,
           0,
           1,
           1,
           0,
           1,
           0,
           2,
           0,
           1,
           1,
           0,
           0,
           0,
           0,
           0,
           3,
           1,
           4,
           0,
           0,
           1,
           0,
           0,
           0,
           1,
           0,
           0,
           0,
           0,
           4,
           4,
           0,
           1,
           2,
           2,
           0,
           0,
           0,
           1,
           0,
           1,
           0,
           0,
           0,
           1,
           0,
           0,
           0,
           0,
           0,
           0,
           0,
           0,
           0,
           4,
           1,
           0,
           0,
           0,
           4,
           3,
           0,
           0,
           0,
           0,
           1,
           0,
           0,
           0,
           0,
           1,
           0,
           0,
           0,
           0,
           0,
           0,
           0,
           0,
           0,
           0,
           0,
           0,
           0,
           0,
           4,
           0,
           1,
           0,
           1,
           0,
           0,
           0,
           0,
           0,
           0,
           0,
           0,
           0,
           0,
           0,
           4,
           0,
           0,
           4,
           0,
           0,
           0,
           0,
           0,
           0,
           0,
           0,
           0,
           0,
           4,
           0,
           3,
           4,
           0,
           0,
           0,
           0,
           0,
           0,
           0,
           0,
           0,
           0,
           0,
           0,
           0,
           1,
           1,
           0,
           0,
           0,
           0,
           0,
           0,
           0,
           0,
           1,
           0,
           3,
           0,
           0,
           1,
           0,
           0,
           0,
           0,
           0,
           0,
           0,
           0,
           0,
           0,
           0,
           0,
           0,
           0,
           0,
           1,
           0,
           0,
           0,
           0,
           0,
           1,
           0,
           0,
           0,
           0,
           0,
           0,
           0,
           0,
           3,
           0,
           1,
           0,
           0,
           0,
           1,
           1,
           0,
           0,
           0,
           0,
           1,
           0,
           0,
           0,
           0,
           0,
           0,
           0,
           0,
           0,
           0,
           0,
           1,
           0,
           0,
           0,
           0,
           0,
           4,
           0,
           0,
           0,
           0,
           0,
           0,
           0,
           0,
           0,
           0,
           0,
           0,
           0,
           0,
           1,
           0,
           4,
           0,
           0,
           1,
           0,
           0,
           0,
           0,
           0,
           1,
           0,
           0,
           4,
           0,
           0,
           0,
           0,
           0,
           0,
           0,
           0,
           0,
           0,
           0,
           1,
           1,
           0,
           0,
           0,
           0,
           0,
           0,
           0,
           0,
           0,
           0,
           0,
           0,
           1,
           0,
           0,
           0,
           0,
           0,
           0,
           0,
           0,
           0,
           0,
           0,
           0,
           0,
           0,
           0,
           0,
           1,
           0,
           4,
           0,
           0,
           0,
           0,
           1,
           1,
           0,
           0,
           0,
           1,
           0,
           0,
           1,
           4,
           3,
           0,
           0,
           0,
           1,
           0,
           0,
           0,
           1,
           0,
           0,
           0,
           0,
           0,
           0,
           4,
           4,
           0,
           0,
           0,
           0,
           0,
           0,
           0,
           4,
           0,
           0,
           0,
           0,
           0,
           0,
           0,
           0,
           0,
           0,
           0,
           0,
           0,
           4,
           0,
           0,
           0,
           0,
           0,
           0,
           0,
           0,
           0,
           0,
           0,
           0,
           0,
           0,
           0,
           0,
           0,
           0,
           0,
           0,
           1,
           0,
           0,
           0,
           0,
           0,
           0,
           0,
           0,
           0,
           0,
           0,
           0,
           0,
           3,
           1,
           2,
           0,
           1,
           0,
           1,
           1,
           0,
           1,
           1,
           0,
           0,
           0,
           1,
           1,
           0,
           1,
           0,
           1,
           0,
           0,
           1,
           1,
           0,
           0,
           1,
           0,
           0,
           0,
           0,
           0,
           0,
           1,
           0,
           0,
           0,
           0,
           1,
           2,
           1,
           1,
           0,
           1,
           0,
           0,
           0,
           3,
           0,
           0,
           0,
           3,
           0,
           0,
           1,
           0,
           0,
           0,
           0,
           0,
           0,
           0,
           0,
           1,
           0,
           0,
           0,
           0,
           0,
           0,
           0,
           0,
           0,
           1,
           0,
           1,
           3,
           0,
           0,
           0,
           1,
           0,
           0,
           0,
           0,
           0,
           0,
           0,
           0,
           0,
           0,
           0,
           0,
           1,
           0,
           0,
           0,
           0,
           0,
           0,
           0,
           0,
           0,
           1,
           1,
           1,
           1,
           0,
           0,
           0,
           0,
           0,
           0,
           0,
           0,
           0,
           0,
           0,
           1,
           1,
           0,
           0,
           0,
           4,
           0,
           0,
           0,
           0,
           0,
           0,
           0,
           0,
           0,
           0,
           0,
           0,
           3,
           0,
           0,
           0,
           0,
           0,
           0,
           0,
           0,
           0,
           0,
           0,
           0,
           0,
           0,
           0,
           0,
           0,
           0,
           0,
           0,
           0,
           2,
           0,
           0,
           0,
           0,
           0,
           0,
           1,
           0,
           0,
           1,
           0,
           1,
           0,
           0,
           0,
           0,
           0,
           0,
           0,
           0,
           1,
           0,
           0,
           0,
           0,
           0,
           0,
           0,
           0,
           0,
           0,
           0,
           1,
           1,
           1,
           1,
           1,
           0,
           1,
           0,
           0,
           3,
           1,
           0,
           0,
           3,
           0,
           1,
           0,
           0,
           1,
           0,
           0,
           0,
           0,
           0,
           0,
           0,
           0,
           0,
           0,
           0,
           0,
           0,
           0,
           0,
           0,
           0,
           0,
           0,
           0,
           0,
           0,
           0,
           0,
           0,
           0,
           0,
           3,
           4,
           3,
           0,
           0,
           0,
           0,
           0,
           0,
           0,
           0,
           1,
           0,
           0,
           0,
           0,
           1,
           0,
           0,
           0,
           0,
           0,
           1,
           0,
           1,
           0,
           0,
           1,
           0,
           0,
           0,
           0,
           0,
           0,
           0,
           0,
           0,
           0,
           0,
           0,
           0,
           0,
           0,
           0,
           0,
           0,
           0,
           0,
           0,
           0,
           0,
           0,
           0,
           0,
           0,
           0,
           0,
           0,
           0,
           0,
           0,
           0,
           1,
           1,
           1,
           0,
           0,
           1,
           0,
           0,
           0,
           0,
           0,
           0,
           0,
           0,
           0,
           0,
           0,
           0,
           0,
           3,
           0,
           0,
           0,
           0,
           0,
           0,
           0,
           0,
           0,
           0,
           0,
           0,
           0,
           0,
           0,
           0,
           0,
           0,
           0,
           1,
           0,
           0,
           1,
           0,
           0,
           0,
           4,
           0,
           0,
           0,
           0,
           0,
           0,
           0,
           0,
           0,
           0,
           0,
           0,
           0,
           1,
           0,
           0,
           0,
           0,
           0,
           0,
           0,
           0,
           1,
           0,
           0,
           0,
           0,
           0,
           0,
           0,
           0,
           0,
           1,
           4,
           0,
           0,
           0,
           0,
           0,
           0,
           0,
           0,
           0,
           0,
           0,
           4,
           0,
           3,
           0,
           0,
           0,
           0,
           0,
           0,
           0,
           0,
           0,
           1,
           0,
           1,
           0,
           0,
           0,
           0,
           0,
           0,
           0,
           0,
           0,
           0,
           0,
           0,
           0,
           0,
           0,
           1,
           0,
           1,
           0,
           1,
           0,
           1,
           0,
           1,
           0,
           0,
           0,
           0,
           0,
           0,
           0,
           0,
           0,
           0,
           0,
           0,
           0,
           1,
           0,
           0,
           0,
           0,
           0,
           0,
           0,
           0,
           1,
           0,
           0,
           0,
           0,
           0,
           0,
           0,
           0,
           4,
           0,
           0,
           4,
           0,
           0,
           0,
           0,
           0,
           0,
           0,
           0,
           0,
           0,
           0,
           0,
           1,
           0,
           0,
           0,
           4,
           0,
           0,
           0,
           0,
           0,
           0,
           0,
           0,
           0,
           0,
           0,
           0,
           0,
           0,
           1,
           0,
           0,
           0,
           0,
           0,
           0,
           0,
           0,
           0,
           1,
           0,
           0,
           0,
           0,
           0,
           0,
           0,
           0,
           0,
           0,
           0,
           0,
           0,
           0,
           0,
           0,
           0,
           0,
           0,
           0,
           0,
           0,
           0,
           0,
           0,
           0,
           0,
           0,
           0,
           0,
           0,
           0,
           0,
           0,
           0,
           0,
           0,
           0,
           0,
           0,
           0,
           0,
           0,
           0,
           0,
           0,
           0,
           0,
           0,
           0,
           0,
           0,
           1,
           0,
           0,
           1,
           0,
           0,
           0,
           0,
           0,
           0,
           1,
           3,
           0,
           0,
           0,
           0,
           0,
           2,
           0,
           0,
           0,
           0,
           0,
           0,
           0,
           1,
           0,
           0,
           0,
           0,
           0,
           0,
           0,
           0,
           0,
           0,
           0,
           0,
           0,
           0,
           1,
           0,
           1,
           0,
           0,
           0,
           0,
           0,
           0,
           1,
           1,
           0,
           0,
           0,
           0,
           0,
           0,
           0,
           0,
           1,
           0,
           0,
           0,
           0,
           0,
           2,
           1,
           0,
           0,
           0,
           0,
           0,
           0,
           1,
           2,
           0,
           0,
           0,
           0,
           0,
           0,
           0,
           0,
           0,
           0,
           1,
           0,
           0,
           1,
           0,
           0,
           3,
           0,
           0,
           0,
           3,
           0,
           0,
           0,
           0,
           0,
           0,
           0,
           0,
           0,
           1,
           0,
           0,
           0,
           0,
           0,
           0,
           0,
           0,
           0,
           0,
           0,
           0,
           0,
           0,
           0,
           0,
           0,
           0,
           0,
           0,
           0,
           0,
           0,
           0,
           0,
           0,
           0,
           0,
           0,
           2,
           1,
           4,
           0,
           0,
           1,
           0,
           0,
           0,
           0,
           0,
           0,
           0,
           1,
           0,
           0,
           0,
           0,
           0,
           0,
           0,
           0,
           0,
           0,
           0,
           0,
           0,
           0,
           0,
           1,
           0,
           0,
           1,
           0,
           0,
           0,
           0,
           0,
           0,
           0,
           0,
           0,
           0,
           0,
           0,
           0,
           1,
           0,
           0,
           0,
           0,
           0,
           1,
           0,
           0,
           0,
           0,
           0,
           0,
           0,
           2,
           1,
           0,
           0,
           0,
           0,
           0,
           0,
           0,
           0,
           0,
           0,
           0,
           0,
           4,
           0,
           0,
           0,
           0,
           0,
           0,
           3,
           0,
           0,
           1,
           0,
           0,
           0,
           0,
           1,
           4,
           0,
           1,
           1,
           0,
           1,
           0,
           0,
           0,
           0,
           0,
           0,
           1,
           0,
           0,
           1,
           0,
           0,
           0,
           1,
           0,
           0,
           0,
           0,
           0,
           0,
           0,
           0,
           1,
           0,
           0,
           0,
           0,
           1,
           0,
           0,
           0,
           0,
           0,
           0,
           0,
           0,
           0,
           0,
           1,
           0,
           0,
           0,
           0,
           0,
           1,
           0,
           1,
           0,
           0,
           0,
           0,
           0,
           0,
           0,
           4,
           0,
           0,
           0,
           4,
           0,
           0,
           0,
           0,
           0,
           0,
           1,
           0,
           0,
           0,
           0,
           0,
           0,
           0,
           0,
           0,
           0,
           3,
           4,
           0,
           0,
           0,
           0,
           0,
           0,
           1,
           0,
           0,
           0,
           0,
           1,
           0,
           0,
           0,
           0,
           0,
           0,
           2,
           0,
           0,
           0,
           0,
           0,
           0,
           0,
           0,
           1,
           0,
           1,
           0,
           0,
           0,
           0,
           0,
           0,
           0,
           0,
           0,
           0,
           3,
           1,
           0,
           0,
           0,
           0,
           0,
           0,
           0,
           0,
           0,
           1,
           0,
           0,
           0,
           0,
           0,
           0,
           3,
           0,
           0,
           4,
           1,
           0,
           0,
           0,
           0,
           0,
           0,
           1,
           0,
           1,
           0,
           0,
           0,
           0,
           0,
           0,
           0,
           0,
           0,
           0,
           0,
           0,
           0,
           0,
           0,
           0,
           0,
           0,
           0,
           0,
           0,
           0,
           0,
           0,
           0,
           0,
           0,
           0,
           0,
           0,
           0,
           0,
           0,
           0,
           1,
           0,
           0,
           0,
           0,
           0,
           0,
           0,
           0,
           1,
           0,
           3,
           0,
           0,
           0,
           0,
           0,
           0,
           0,
           0,
           0,
           0,
           0,
           0,
           1,
           0,
           1,
           0,
           0,
           0,
           0,
           0,
           0,
           0,
           0,
           1,
           0,
           0,
           0,
           0,
           0,
           0,
           0,
           0,
           0,
           0,
           0,
           0,
           0,
           0,
           0,
           2,
           0,
           0,
           0,
           0,
           0,
           0,
           0,
           0,
           0,
           0,
           0,
           0,
           1,
           0,
           1,
           0,
           0,
           1,
           0,
           0,
           1,
           0,
           0,
           0,
           0,
           0,
           0,
           0,
           0,
           0,
           0,
           0,
           0,
           0,
           0,
           0,
           0,
           0,
           0,
           0,
           0,
           0,
           0,
           0,
           0,
           0,
           0,
           0,
           0,
           0,
           0,
           0,
           0,
           0,
           0,
           0,
           0,
           1,
           0,
           0,
           0,
           1,
           0,
           0,
           0,
           0,
           1,
           0,
           0,
           0,
           0,
           0,
           0,
           1,
           0,
           0,
           0,
           0,
           0,
           0,
           0,
           0,
           0,
           0,
           0,
           0,
           0,
           0,
           0,
           0,
           0,
           0,
           0,
           0,
           0,
           0,
           0,
           0,
           0,
           0,
           0,
           0,
           1,
           0,
           0,
           0,
           0,
           0,
           0,
           1,
           0,
           1,
           0,
           0,
           0,
           0,
           0,
           0,
           0,
           0,
           0,
           0,
           1,
           0,
           0,
           0,
           0,
           0,
           0,
           0,
           0,
           0,
           0,
           0,
           0,
           0,
           0,
           0,
           0,
           0,
           0,
           0
          ],
          "coloraxis": "coloraxis",
          "symbol": "circle"
         },
         "mode": "markers",
         "name": "",
         "showlegend": false,
         "type": "scattergl",
         "x": [
          0.10266684740781784,
          -0.0017924774438142776,
          0.12320981174707413,
          0.16129794716835022,
          0.5847983360290527,
          0.314288854598999,
          0.06751638650894165,
          0.12705418467521667,
          0.29749423265457153,
          0.10822809487581253,
          0.12359883636236191,
          0.4704451858997345,
          -0.05299065262079239,
          0.14701592922210693,
          0.4694312512874603,
          0.14347770810127258,
          -0.12725697457790375,
          0.06848576664924622,
          0.08247121423482895,
          0.03628134727478027,
          0.0598900131881237,
          -0.04643169417977333,
          0.09416339546442032,
          0.22925348579883575,
          0.009600966237485409,
          0.115226611495018,
          0.0799681544303894,
          -0.044813357293605804,
          0.055998824536800385,
          -0.06260515749454498,
          0.5783962607383728,
          -0.05286387726664543,
          0.12814931571483612,
          0.17622263729572296,
          -0.03987132012844086,
          -0.029251879081130028,
          -0.030038807541131973,
          -0.06734292209148407,
          -0.047801464796066284,
          0.23594412207603455,
          0.06074060499668121,
          -0.03395193815231323,
          0.055474430322647095,
          0.02336757816374302,
          0.08833981305360794,
          0.036250680685043335,
          -0.05151922255754471,
          -0.07296553254127502,
          0.02390013448894024,
          0.03471512347459793,
          0.04177728295326233,
          0.007197222672402859,
          0.01923096738755703,
          -0.023065773770213127,
          0.07387971132993698,
          0.0635824054479599,
          0.02591710165143013,
          0.34329888224601746,
          0.4600816071033478,
          -0.05940237641334534,
          0.019754769280552864,
          -0.02785988710820675,
          0.15702936053276062,
          -0.05843085050582886,
          0.049513742327690125,
          0.02879827283322811,
          0.037118688225746155,
          0.02902373857796192,
          0.2219594568014145,
          -0.074086032807827,
          -0.019430367276072502,
          0.02899846062064171,
          -0.04623875394463539,
          -0.030196769163012505,
          -0.007173802703619003,
          -0.0277992095798254,
          -0.025731369853019714,
          -0.04947371780872345,
          -0.04926889017224312,
          0.052856091409921646,
          -0.009168345481157303,
          -0.044251516461372375,
          -0.011715483851730824,
          0.059515997767448425,
          0.1402963101863861,
          -0.05025186762213707,
          -0.06196068227291107,
          0.06619275361299515,
          0.020601049065589905,
          0.07418617606163025,
          0.030802328139543533,
          0.04797617346048355,
          -0.04971914365887642,
          0.011838292703032494,
          0.2330571860074997,
          0.0068343644961714745,
          -0.03818453103303909,
          0.026316458359360695,
          0.015117071568965912,
          -0.0460229367017746,
          0.023517485707998276,
          -0.03711716830730438,
          -0.04633012413978577,
          0.07204728573560715,
          -0.028378644958138466,
          -0.04166216403245926,
          -0.10632991045713425,
          -0.07059702277183533,
          -0.013304932974278927,
          -0.05702847242355347,
          -0.009936544112861156,
          0.2322869598865509,
          0.04990888386964798,
          0.09952470660209656,
          -0.016136471182107925,
          -0.07074379175901413,
          -0.04436875879764557,
          -0.03184423968195915,
          -0.046764448285102844,
          -0.02915281616151333,
          0.04492020979523659,
          0.03327926620841026,
          0.0600958876311779,
          0.007121269125491381,
          -0.01181777287274599,
          -0.20721013844013214,
          -0.025259416550397873,
          0.037031687796115875,
          -0.14440086483955383,
          0.0017179016722366214,
          -0.10155201703310013,
          -0.00518952077254653,
          -0.028020795434713364,
          -0.08184698224067688,
          0.035852596163749695,
          -0.02477467805147171,
          0.04355989396572113,
          0.03735332936048508,
          -0.052856314927339554,
          -0.04065060615539551,
          -0.016106445342302322,
          0.24090741574764252,
          -0.14265820384025574,
          -0.0609167255461216,
          -0.05788427218794823,
          -0.05898268520832062,
          0.010060083121061325,
          -0.030938265845179558,
          0.016107317060232162,
          0.0015610521659255028,
          0.05033732205629349,
          -0.06336227059364319,
          -0.02750019170343876,
          -0.07567759603261948,
          -0.04757946729660034,
          -0.010563923977315426,
          0.09331350773572922,
          0.06646360456943512,
          -0.014626896008849144,
          -0.0280104149132967,
          0.03802725300192833,
          0.005592872854322195,
          -0.03591890633106232,
          -0.02073637768626213,
          -0.030382895842194557,
          0.002746017649769783,
          0.05366818979382515,
          -0.059841081500053406,
          0.06701337546110153,
          0.023999329656362534,
          0.010741603560745716,
          0.017432328313589096,
          -0.045314013957977295,
          -0.04848605766892433,
          -0.07265233248472214,
          -0.06915128231048584,
          0.007150973659008741,
          0.022473277524113655,
          -0.04517940431833267,
          0.014236410148441792,
          -0.01604481041431427,
          0.036435410380363464,
          -0.053549591451883316,
          -0.059007175266742706,
          -0.04135461151599884,
          0.014572557993233204,
          -0.0794287919998169,
          0.1887684166431427,
          0.039877645671367645,
          -0.065172478556633,
          -0.31091591715812683,
          -0.013593163341283798,
          -0.036973483860492706,
          0.06464692950248718,
          0.002757309703156352,
          -0.021829813718795776,
          -0.027492009103298187,
          -0.034832797944545746,
          0.021913237869739532,
          -0.029504217207431793,
          -0.0036974900867789984,
          -0.026048334315419197,
          0.2912968099117279,
          0.034339796751737595,
          0.18082797527313232,
          0.0639304369688034,
          -0.07078979909420013,
          -0.011672222055494785,
          0.013254529796540737,
          0.07178518176078796,
          0.030399197712540627,
          0.0048817903734743595,
          -0.012252194806933403,
          -0.023595932871103287,
          0.08827798813581467,
          -0.037469543516635895,
          0.01813426800072193,
          -0.03406509757041931,
          -0.04702899232506752,
          0.02990243397653103,
          -0.010568248108029366,
          -0.07475936412811279,
          -0.033049799501895905,
          -0.02436348982155323,
          -0.0622798390686512,
          0.046232838183641434,
          0.07671404629945755,
          -0.07731020450592041,
          -0.09761690348386765,
          0.07445745170116425,
          -0.07654847204685211,
          0.026530707255005836,
          -0.0017550347838550806,
          0.04073350131511688,
          -0.043951258063316345,
          -0.12113078683614731,
          -0.008681696839630604,
          -0.072636678814888,
          -0.0732857808470726,
          -0.0485362708568573,
          -0.029847674071788788,
          -0.007781993597745895,
          -0.02752179279923439,
          -0.007576259318739176,
          -0.04969344288110733,
          0.00843166932463646,
          -0.015822751447558403,
          0.20367547869682312,
          -0.023122044280171394,
          0.003427517367526889,
          -0.03967120498418808,
          9.773547208169475e-05,
          0.018342340365052223,
          -0.03864574059844017,
          -0.05697716400027275,
          -0.07038970291614532,
          -0.028693746775388718,
          0.059258848428726196,
          0.03376554325222969,
          -0.10365784913301468,
          0.04315364733338356,
          0.032714467495679855,
          0.008041013963520527,
          -0.02040509320795536,
          -0.08604709059000015,
          -0.042709045112133026,
          -0.05457927659153938,
          -0.10336148738861084,
          -0.004307243041694164,
          0.02336244285106659,
          -0.028640862554311752,
          -0.021767891943454742,
          -0.020508866757154465,
          0.10741723328828812,
          0.022309284657239914,
          -0.053791388869285583,
          -0.007817381992936134,
          0.03328496962785721,
          -0.053519848734140396,
          0.06103910133242607,
          -0.0006720595993101597,
          -0.07125154882669449,
          -0.09576083719730377,
          -0.0089841578155756,
          -0.05052297189831734,
          0.048061057925224304,
          -0.01981770060956478,
          0.3118988573551178,
          0.038334839046001434,
          0.03858032450079918,
          0.056321293115615845,
          0.014703268185257912,
          -0.016602274030447006,
          0.012596848420798779,
          -0.056229494512081146,
          -0.012503438629209995,
          0.016583004966378212,
          -0.002015572041273117,
          -0.0751953050494194,
          -0.021032236516475677,
          -0.0720810517668724,
          -0.03824779391288757,
          -0.01181828510016203,
          -0.024882616475224495,
          0.20202308893203735,
          -0.05624817684292793,
          -0.12382800877094269,
          0.02641080878674984,
          -0.05055012181401253,
          -0.09432662278413773,
          0.04394495487213135,
          0.13017083704471588,
          0.1505163609981537,
          -0.051729414612054825,
          -0.0714493915438652,
          0.04884932190179825,
          0.04930037632584572,
          0.011873697862029076,
          -0.030081897974014282,
          0.1278744488954544,
          -0.057475846260786057,
          0.14369453489780426,
          -0.0612933412194252,
          0.01962580904364586,
          0.031130068004131317,
          0.10715574026107788,
          0.005379324778914452,
          -0.05194893851876259,
          -0.04163951799273491,
          0.09793557226657867,
          0.033928945660591125,
          -0.03502978757023811,
          0.018412107601761818,
          -0.024830514565110207,
          -0.08887409418821335,
          -0.015957864001393318,
          -0.021518632769584656,
          0.2737669050693512,
          -0.02743968367576599,
          -0.020454127341508865,
          -0.045810267329216,
          -0.0322842001914978,
          -0.014620120637118816,
          -0.05620034784078598,
          -0.06273186951875687,
          0.2004978060722351,
          -0.01944168470799923,
          -0.06860242038965225,
          -0.011190151795744896,
          -0.0034723386634141207,
          -0.08758707344532013,
          0.06815538555383682,
          -0.05479514226317406,
          -0.09326351433992386,
          0.02248968742787838,
          -0.009446331299841404,
          -0.08160769194364548,
          -0.001940893940627575,
          -0.00805949978530407,
          -0.07900170981884003,
          -0.07363691926002502,
          -0.015923263505101204,
          -0.027789389714598656,
          0.021908501163125038,
          -0.014181441627442837,
          -0.01737169548869133,
          0.014523875899612904,
          0.022286348044872284,
          -0.12319736927747726,
          -0.05753398314118385,
          -0.030242880806326866,
          -0.023181160911917686,
          -0.034359730780124664,
          -0.06879866123199463,
          -0.02022397704422474,
          -0.014108017086982727,
          0.010610048659145832,
          -0.08385809510946274,
          -0.007066166028380394,
          -0.07885642349720001,
          0.015381420031189919,
          -0.0258925948292017,
          -0.052054792642593384,
          -0.02023724839091301,
          -0.03959386423230171,
          -0.057246096432209015,
          -0.02668048068881035,
          -0.061538152396678925,
          -0.008691469207406044,
          0.0049691288731992245,
          -0.12638714909553528,
          -0.05001261085271835,
          -0.014903680421411991,
          -0.020029613748192787,
          0.07226096838712692,
          0.24748595058918,
          0.4627894461154938,
          0.014912789687514305,
          0.2056194543838501,
          -0.07114800065755844,
          0.34352871775627136,
          0.20611579716205597,
          0.025823552161455154,
          0.12783586978912354,
          0.20656219124794006,
          0.03333567827939987,
          0.01929457113146782,
          -0.029366470873355865,
          0.2039322704076767,
          0.13950839638710022,
          0.07182890921831131,
          0.12152482569217682,
          0.02494148723781109,
          0.09341038763523102,
          0.014202597551047802,
          0.016953030601143837,
          0.10369376093149185,
          0.17799322307109833,
          0.04676060006022453,
          0.060162488371133804,
          0.134309783577919,
          0.009695216082036495,
          0.05034778267145157,
          -0.038632746785879135,
          -0.004633203614503145,
          -0.09028158336877823,
          -0.08894497156143188,
          0.10825429856777191,
          -0.08203141391277313,
          0.045557085424661636,
          -0.007535363547503948,
          -0.021534370258450508,
          0.07447406649589539,
          0.4141741693019867,
          0.03717533126473427,
          0.03702303022146225,
          -0.03388375788927078,
          0.042809031903743744,
          0.017778487876057625,
          -0.03082025796175003,
          -0.047961506992578506,
          0.13749399781227112,
          0.020312229171395302,
          -0.09246665239334106,
          -0.06423303484916687,
          0.21913635730743408,
          0.007822321727871895,
          0.009879225865006447,
          0.058226872235536575,
          -0.08903700858354568,
          0.00237497640773654,
          -0.03336028754711151,
          -0.06024681776762009,
          -0.07708790153265,
          -6.330792530206963e-05,
          -0.10406995564699173,
          0.04623938351869583,
          0.1262306421995163,
          0.03391086682677269,
          -0.04999971389770508,
          0.025420404970645905,
          -0.18115711212158203,
          -0.021289797499775887,
          0.03037346713244915,
          -0.03327976167201996,
          -0.014731603674590588,
          -0.05456376075744629,
          0.17545601725578308,
          -0.022449934855103493,
          0.21714255213737488,
          0.2975527048110962,
          -0.0988646075129509,
          0.04227982833981514,
          0.0014638151042163372,
          0.034133415669202805,
          -0.0067192004062235355,
          -0.1061529740691185,
          -0.05840394273400307,
          -0.05360708385705948,
          -0.042747728526592255,
          -0.07311204820871353,
          -0.06389186531305313,
          -0.002499121706932783,
          0.008820205926895142,
          -0.054589930921792984,
          -0.03335682302713394,
          -0.03694143891334534,
          0.029109297320246696,
          -0.05598461255431175,
          -0.002626886125653982,
          -0.02886693738400936,
          0.034155044704675674,
          -0.0814051479101181,
          -0.021735144779086113,
          0.06711845844984055,
          -0.013877256773412228,
          -0.011792521923780441,
          0.07285349816083908,
          0.15882445871829987,
          0.12785184383392334,
          0.04672097787261009,
          -0.016071496531367302,
          -0.031429316848516464,
          -0.06476708501577377,
          -0.037142135202884674,
          0.017038756981492043,
          0.03819409757852554,
          -0.0615849494934082,
          -0.03789006173610687,
          0.008631433360278606,
          0.06508573144674301,
          0.018616223707795143,
          0.09227517247200012,
          0.07834065705537796,
          -0.04666759818792343,
          -0.009718414396047592,
          0.03014007955789566,
          -0.0242850873619318,
          0.011530858464539051,
          -0.04917781054973602,
          -0.06686029583215714,
          -0.03119775839149952,
          -0.043910447508096695,
          -0.015072360634803772,
          -0.05243758484721184,
          0.03810887783765793,
          0.02682366408407688,
          -0.027041396126151085,
          0.00130393635481596,
          -0.0038708278443664312,
          0.1505049169063568,
          -0.0822453573346138,
          -0.01241865660995245,
          0.016293687745928764,
          -0.05407162755727768,
          -0.037257105112075806,
          0.01043055858463049,
          0.04708399996161461,
          -0.02986874431371689,
          -0.04341468587517738,
          -0.0377952940762043,
          -0.017212314531207085,
          -0.006718432996422052,
          -0.02105269953608513,
          -0.012118952348828316,
          -0.03253502771258354,
          0.07166648656129837,
          -0.05340268462896347,
          -0.02437601052224636,
          -0.00739049818366766,
          0.016662010923027992,
          0.010331855155527592,
          0.20047931373119354,
          -0.04552841559052467,
          -0.11376950889825821,
          -0.018713761121034622,
          0.04787129908800125,
          -0.013155207969248295,
          0.044708456844091415,
          0.22866278886795044,
          -0.0421568788588047,
          -0.05236348509788513,
          0.05539492517709732,
          0.004675618372857571,
          0.02982010506093502,
          -0.049611423164606094,
          -0.08684725314378738,
          -0.016129422932863235,
          0.012405293062329292,
          -0.08831574767827988,
          0.03428039699792862,
          -0.00789759960025549,
          0.0025339508429169655,
          0.038753896951675415,
          -0.04114418849349022,
          0.03574925288558006,
          -0.04523424431681633,
          -0.0009778045350685716,
          0.029364237561821938,
          -0.026688415557146072,
          -0.033074747771024704,
          -0.0415414534509182,
          -0.03933725133538246,
          0.003388858400285244,
          -0.03198964148759842,
          0.10757196694612503,
          0.01531878300011158,
          0.033080294728279114,
          0.13680529594421387,
          0.1784827709197998,
          -0.030220262706279755,
          0.045265983790159225,
          0.015062312595546246,
          0.04124464467167854,
          0.13947391510009766,
          0.04583166167140007,
          -0.05037098005414009,
          0.02964392863214016,
          0.05307439714670181,
          -0.012445068918168545,
          0.08381978422403336,
          -0.006405986845493317,
          0.03332666680216789,
          -0.018893733620643616,
          0.013478809036314487,
          -0.03332212194800377,
          -0.03784787282347679,
          -0.009330986067652702,
          0.00793618056923151,
          -0.03673521801829338,
          -0.06390641629695892,
          0.025972284376621246,
          0.0034171652514487505,
          -0.06312527507543564,
          -0.05563822388648987,
          -0.09333902597427368,
          -0.05678510293364525,
          -0.016213448718190193,
          -0.0354410856962204,
          -0.04064749553799629,
          -0.09583443403244019,
          -0.08353698998689651,
          -0.06309714913368225,
          -0.024215320125222206,
          -0.045892346650362015,
          -0.022295886650681496,
          -0.08808338642120361,
          -0.012738359160721302,
          0.02662961371243,
          -0.07536879926919937,
          -0.014052467420697212,
          0.16529329121112823,
          0.031634729355573654,
          -0.1590116024017334,
          -0.024990739300847054,
          0.0304305050522089,
          -0.0002461328695062548,
          -0.06256554275751114,
          -0.041463930159807205,
          0.006487713195383549,
          -0.00021166975784581155,
          0.03348681703209877,
          0.09732923656702042,
          -0.07571111619472504,
          -0.008713144809007645,
          -0.01748710684478283,
          -0.0017147039761766791,
          0.23445536196231842,
          0.024712972342967987,
          -0.10005325824022293,
          0.017422929406166077,
          -0.04336166754364967,
          -0.10048242658376694,
          0.054782066494226456,
          -0.06211294233798981,
          0.06906083226203918,
          -0.028147181496024132,
          -0.05469828099012375,
          0.016355551779270172,
          -0.020369354635477066,
          0.04808991402387619,
          -0.006890333257615566,
          -0.04054567962884903,
          -0.00653911242261529,
          -0.023513544350862503,
          -0.0906488448381424,
          -0.07452789694070816,
          0.032249510288238525,
          -0.04871739074587822,
          -0.03178173676133156,
          0.0323575958609581,
          -0.0357852578163147,
          0.04515683278441429,
          -0.025851240381598473,
          -0.026697678491473198,
          -0.07906344532966614,
          -0.09291858226060867,
          -0.06290778517723083,
          -0.04986881464719772,
          -0.021907154470682144,
          0.03997545316815376,
          0.06503012776374817,
          -0.018705526366829872,
          0.025701414793729782,
          0.015805037692189217,
          -0.09753478318452835,
          -0.07880564033985138,
          -0.0776841938495636,
          -0.04858693107962608,
          -0.08244241774082184,
          -0.0650382786989212,
          -0.0065635503269732,
          -0.0956740602850914,
          0.13483622670173645,
          0.06774590164422989,
          0.046903327107429504,
          0.0054900916293263435,
          -0.034101422876119614,
          0.07302769273519516,
          -0.005813499912619591,
          -0.03816636651754379,
          -0.010725707747042179,
          -0.03938360884785652,
          -0.03461364656686783,
          -0.018442116677761078,
          -0.02751043625175953,
          -0.0773368552327156,
          -0.028058942407369614,
          -0.04196593165397644,
          -0.02682247757911682,
          -0.06275375932455063,
          -0.09231008589267731,
          0.05418296530842781,
          -0.03125656023621559,
          -0.058309152722358704,
          -0.09841258823871613,
          -0.015526462346315384,
          -0.0739123597741127,
          -0.037915799766778946,
          -0.04609467461705208,
          -0.023308003321290016,
          0.0028164491523057222,
          0.045371539890766144,
          -0.027345148846507072,
          -0.025919251143932343,
          -0.03301884979009628,
          -0.056401804089546204,
          -0.03989672288298607,
          -0.009159309789538383,
          0.033688984811306,
          0.03041502647101879,
          0.03333047032356262,
          0.08295706659555435,
          0.03482703119516373,
          0.03974934667348862,
          0.08754581958055496,
          -0.00022491710842587054,
          0.025132767856121063,
          0.011400247924029827,
          -0.02125794254243374,
          -0.04727933928370476,
          -0.007081047631800175,
          0.0072036986239254475,
          -0.007573250215500593,
          -0.07323683053255081,
          0.034304067492485046,
          -0.02882094494998455,
          -0.06181461364030838,
          -0.059400346130132675,
          0.013554118573665619,
          -0.08128873258829117,
          -0.017024308443069458,
          -0.059977658092975616,
          0.0447145514190197,
          0.02492796815931797,
          -0.06265483051538467,
          0.010921197012066841,
          0.027588877826929092,
          -0.012437163852155209,
          -0.049923125654459,
          0.01361058373004198,
          -0.072476826608181,
          0.06678272783756256,
          -0.018221639096736908,
          -0.011034931056201458,
          -0.0008616599952802062,
          -0.04504895955324173,
          -0.09740978479385376,
          -0.061177629977464676,
          -0.03763241693377495,
          0.017021233215928078,
          -0.04507720097899437,
          0.10976468026638031,
          -0.06318003684282303,
          -0.00864214077591896,
          -0.03925298526883125,
          -0.09966582804918289,
          -0.06527940928936005,
          -0.05468171089887619,
          0.03264375030994415,
          -0.004453395493328571,
          0.04887127876281738,
          -0.014212634414434433,
          -0.061393026262521744,
          -0.02243942953646183,
          0.10881850868463516,
          0.0012547776568681002,
          0.10223628580570221,
          0.01766202226281166,
          0.004189683590084314,
          -0.06887926906347275,
          -0.04346785694360733,
          -0.03762836009263992,
          0.010339011438190937,
          -0.02267441712319851,
          -0.05491606146097183,
          -0.006388227920979261,
          -0.006042755674570799,
          -0.026126207783818245,
          0.05755756050348282,
          -0.06668487191200256,
          -0.028561808168888092,
          -0.04748345538973808,
          -0.041523274034261703,
          -0.004590808879584074,
          -0.013029197230935097,
          -0.0348253957927227,
          0.008794328197836876,
          0.011248299852013588,
          -0.06181295961141586,
          -0.01968489959836006,
          -0.13759185373783112,
          -0.05789000540971756,
          -0.05113678425550461,
          -0.04367222636938095,
          0.17047430574893951,
          0.042147837579250336,
          0.049160413444042206,
          0.0458073727786541,
          0.0809636041522026,
          0.055436648428440094,
          0.04764021188020706,
          0.0059432899579405785,
          0.07084057480096817,
          -0.05374690517783165,
          -0.015918508172035217,
          -0.07802937924861908,
          -0.03715870529413223,
          0.032512836158275604,
          -0.11736589670181274,
          0.015836291015148163,
          -0.048907019197940826,
          -0.08536672592163086,
          -0.03845548629760742,
          -0.0031296792440116405,
          -0.05096728727221489,
          -0.0684828907251358,
          0.02158149518072605,
          -0.023938316851854324,
          -0.07397712767124176,
          -0.009557479992508888,
          -0.026604274287819862,
          0.09769712388515472,
          0.07766827195882797,
          -0.017327897250652313,
          -0.04139014706015587,
          0.05007711052894592,
          -0.04369226470589638,
          0.016111746430397034,
          -0.042183902114629745,
          -0.0793919637799263,
          -0.027852386236190796,
          -0.06933344900608063,
          -0.01469638105481863,
          -0.01935303956270218,
          -0.012989925220608711,
          0.057626184076070786,
          -0.03033459559082985,
          0.06489326059818268,
          -0.010824106633663177,
          -0.013909905217587948,
          -0.061389803886413574,
          -0.03354429453611374,
          -0.09124206751585007,
          -0.03231475502252579,
          -0.035367731004953384,
          -0.06862109154462814,
          -0.0647478848695755,
          -0.15786026418209076,
          -0.026608174666762352,
          -0.11056748777627945,
          0.032913725823163986,
          -0.08617105334997177,
          -0.06345581263303757,
          -0.028413107618689537,
          0.014976633712649345,
          -0.05693309009075165,
          -0.07357819378376007,
          -0.030784472823143005,
          -0.07438013702630997,
          -0.0051218424923717976,
          -0.05970069393515587,
          -0.032043084502220154,
          -0.05803564935922623,
          0.015338672325015068,
          -0.0693458765745163,
          -0.04976947233080864,
          0.005574996583163738,
          0.08249470591545105,
          -0.01978190988302231,
          0.1548270732164383,
          -0.02841498889029026,
          -0.05925741791725159,
          0.03769734129309654,
          0.004411330912262201,
          -0.10021688789129257,
          -0.010631578043103218,
          -0.029975246638059616,
          -0.03616748005151749,
          0.03416027873754501,
          0.12743979692459106,
          -0.02739734947681427,
          -0.08805182576179504,
          -0.032800473272800446,
          -0.023372884839773178,
          -0.03291292488574982,
          -0.0536765530705452,
          -0.024403871968388557,
          -0.03347625210881233,
          0.005620993208140135,
          -0.020553646609187126,
          -0.03255704790353775,
          -0.0014034766936674714,
          -0.01013938244432211,
          -0.027750957757234573,
          -0.00038940462400205433,
          0.03272586315870285,
          0.048712629824876785,
          -0.026037966832518578,
          -0.023624859750270844,
          -0.04844679310917854,
          0.007274110335856676,
          0.044757992029190063,
          -0.030020570382475853,
          0.03636881709098816,
          -0.01245369017124176,
          0.0031368769705295563,
          0.0003889001382049173,
          -0.04658164829015732,
          -0.01089736633002758,
          -0.007413836661726236,
          -0.01005044300109148,
          0.06028682738542557,
          -0.052835896611213684,
          -0.0737670436501503,
          -0.01849270425736904,
          -0.009037339128553867,
          -0.017493417486548424,
          0.08031493425369263,
          -0.006835040170699358,
          -0.009076479822397232,
          -0.01077970676124096,
          -0.00594274653121829,
          0.003690864657983184,
          -0.018609415739774704,
          -0.013562415726482868,
          0.021013682708144188,
          -0.01571434549987316,
          -0.004848277196288109,
          -0.05151405557990074,
          -0.0304808858782053,
          0.023529203608632088,
          0.030088672414422035,
          0.05638319253921509,
          -0.024150162935256958,
          -0.01428911741822958,
          0.022922346368432045,
          0.05672896280884743,
          0.005959392990916967,
          -0.07301219552755356,
          -0.03137454763054848,
          -0.014111905358731747,
          0.0002925627341028303,
          0.12859493494033813,
          0.22860445082187653,
          -0.0006527756922878325,
          -0.020224392414093018,
          -0.05157046020030975,
          -0.012470668181777,
          0.02341681718826294,
          0.8857370615005493,
          -0.017682349309325218,
          -0.0919884517788887,
          -0.03699922561645508,
          -0.05089019984006882,
          -0.0027590510435402393,
          -0.026003440842032433,
          -0.047819700092077255,
          0.17444320023059845,
          0.0545865036547184,
          0.024742303416132927,
          -0.020107602700591087,
          -0.015412558801472187,
          -0.0594247430562973,
          -0.09223814308643341,
          -0.0711994618177414,
          -0.0832161083817482,
          -0.0431404672563076,
          -0.011682378128170967,
          -0.060245152562856674,
          0.08173194527626038,
          -0.01540454849600792,
          -0.0219726599752903,
          0.24074754118919373,
          -0.01541139930486679,
          0.25280457735061646,
          0.0006832338403910398,
          0.005963666830211878,
          -0.027892792597413063,
          -0.020304225385189056,
          -0.025270845741033554,
          -0.05548328906297684,
          0.08208787441253662,
          0.021001040935516357,
          -0.07315902411937714,
          0.00573364645242691,
          -0.06801857054233551,
          -0.025439007207751274,
          -0.0928574725985527,
          -0.06472710520029068,
          -0.07123523950576782,
          -0.05225004255771637,
          0.09726449847221375,
          -0.022650785744190216,
          -0.02292274311184883,
          -0.07059142738580704,
          -0.0179143026471138,
          -0.04678013548254967,
          0.29781147837638855,
          0.07996256649494171,
          -0.08731851726770401,
          -0.004523743875324726,
          -0.06537047773599625,
          -0.016597013920545578,
          -0.06841469556093216,
          0.003107549389824271,
          0.09405458718538284,
          0.25437331199645996,
          -0.0338270477950573,
          -0.05626388639211655,
          -0.03663229942321777,
          0.026739224791526794,
          -0.0076583754271268845,
          -0.03451021760702133,
          -0.07530365884304047,
          0.0077456142753362656,
          -0.01106791291385889,
          0.04493057355284691,
          0.09645862132310867,
          -0.058537617325782776,
          -0.06046149507164955,
          0.1632976084947586,
          -0.021841805428266525,
          -0.03511243313550949,
          -0.06397054344415665,
          -0.059928517788648605,
          -0.04925139620900154,
          -0.015703529119491577,
          0.19133983552455902,
          0.0013892267597839236,
          -0.0030234206933528185,
          -0.04787116497755051,
          -0.021640148013830185,
          -0.03195086494088173,
          0.003567018546164036,
          0.014170516282320023,
          -0.09664466232061386,
          0.056822728365659714,
          0.0934082418680191,
          -0.01672774739563465,
          -0.028374040499329567,
          -0.0532027930021286,
          -0.03842916712164879,
          -0.03858201950788498,
          -0.08325602114200592,
          0.013379114679992199,
          -0.03570881485939026,
          -0.016484003514051437,
          -0.03959456831216812,
          -0.0472417026758194,
          -0.04498717561364174,
          0.020824749022722244,
          -0.0017901472747325897,
          0.04317343980073929,
          0.0013330938527360559,
          -0.019090084359049797,
          -0.017860909923911095,
          -0.02854243852198124,
          -0.08038001507520676,
          -0.06343445181846619,
          -0.046231672167778015,
          -0.03706013783812523,
          -0.03807199001312256,
          0.0007971337181515992,
          0.010400533676147461,
          -0.02234538085758686,
          -0.015251011587679386,
          -0.04342508688569069,
          0.5196091532707214,
          0.497364342212677,
          -0.14662179350852966,
          -0.00042356306221336126,
          -0.034560929983854294,
          0.08523642271757126,
          0.027651652693748474,
          -0.015092317014932632,
          -0.042812079191207886,
          -0.05063496530056,
          0.01819317601621151,
          -0.020632045343518257,
          -0.04153318330645561,
          0.18163983523845673,
          -0.050730228424072266,
          0.01335197314620018,
          -0.05275129899382591,
          -0.09355660527944565,
          -0.01673940382897854,
          0.006444578059017658,
          -0.08980101346969604,
          -0.04246819391846657,
          -0.023257672786712646,
          -0.08749925345182419,
          -0.03512072563171387,
          -0.015923188999295235,
          -0.06348098814487457,
          -0.11271753162145615,
          -0.08385191112756729,
          0.051551397889852524,
          -0.05741364136338234,
          -0.010446230880916119,
          0.19659581780433655,
          -0.07483071088790894,
          0.03474174439907074,
          -0.060309555381536484,
          -0.00664826575666666,
          -0.10222861915826797,
          -0.036569755524396896,
          -0.00712633179500699,
          -0.027968525886535645,
          -0.012512934394180775,
          -0.007392650004476309,
          0.02048245444893837,
          -0.07163902372121811,
          -0.07235411554574966,
          0.10704653710126877,
          -0.11206794530153275,
          0.045817576348781586,
          -0.08786322921514511,
          -0.03127247840166092,
          0.01667322963476181,
          0.030015671625733376,
          -0.12038443237543106,
          0.03014804981648922,
          0.010731574147939682,
          -0.039586156606674194,
          -0.0845550075173378,
          -0.09860118478536606,
          -0.07315725833177567,
          0.998037576675415,
          0.17709411680698395,
          -0.078690305352211,
          -0.014874355867505074,
          -0.05884993448853493,
          -0.02558051235973835,
          0.05494450032711029,
          -0.09266449511051178,
          0.003989179152995348,
          -0.025402851402759552,
          -0.08048496395349503,
          -0.047849833965301514,
          -0.01238622423261404,
          0.017915023490786552,
          0.006522790994495153,
          -0.03729340806603432,
          0.008504950441420078,
          0.012995443306863308,
          0.058599747717380524,
          -0.03264112025499344,
          -0.04338434338569641,
          0.5821868777275085,
          -0.00916000921279192,
          -0.061223581433296204,
          0.08089574426412582,
          -0.0036689448170363903,
          0.024049166589975357,
          0.011398356407880783,
          -0.05249102786183357,
          0.04752960056066513,
          0.17714302241802216,
          -0.023022066801786423,
          0.20050039887428284,
          0.097516268491745,
          0.03198022022843361,
          0.06629426777362823,
          -0.03655850514769554,
          -0.0029087963048368692,
          -0.11921258270740509,
          -0.039336349815130234,
          -0.04287521913647652,
          -0.0428372323513031,
          0.019657345488667488,
          0.049038197845220566,
          -0.04060252755880356,
          0.101718470454216,
          0.00021511233353521675,
          -0.022757023572921753,
          -0.0012841979041695595,
          0.17310652136802673,
          0.020346909761428833,
          0.011079217307269573,
          -0.03715363144874573,
          -0.004246462136507034,
          0.0017654236871749163,
          -0.051999177783727646,
          -0.14117048680782318,
          0.05361558124423027,
          0.075254887342453,
          -0.04674041271209717,
          -0.029017699882388115,
          -0.029227159917354584,
          -0.011014127172529697,
          0.008645151741802692,
          -0.03743894025683403,
          -0.11677783727645874,
          -0.015745410695672035,
          -0.07563235610723495,
          -0.1086244061589241,
          -0.03679345175623894,
          0.02474738471210003,
          -0.08709496259689331,
          -0.02165873534977436,
          -0.022582486271858215,
          0.09331994503736496,
          -0.029910247772932053,
          -0.0462818518280983,
          -0.06073471158742905,
          0.03682958334684372,
          -0.11383222043514252,
          0.007904971949756145,
          -0.04095125570893288,
          -0.01327377837151289,
          -0.11071086674928665,
          -0.03528442978858948,
          0.05239081755280495,
          -0.054785218089818954,
          -0.0633615255355835,
          0.005739146843552589,
          -0.08029733598232269,
          -0.0866902694106102,
          -0.004217937123030424,
          -0.012851230800151825,
          -0.042085565626621246,
          -0.040045417845249176,
          0.023786908015608788,
          -0.08786192536354065,
          -0.005593863315880299,
          -0.019039710983633995,
          -0.06642963737249374,
          -0.00909698847681284,
          0.07236364483833313,
          -0.030182654038071632,
          -0.011294307187199593,
          0.04118013381958008,
          0.008752848953008652,
          -0.04580266401171684,
          -0.012254084460437298,
          0.03321191295981407,
          -0.005413598846644163,
          0.036576613783836365,
          -0.10795756429433823,
          0.17330962419509888,
          0.025936109945178032,
          0.04075159505009651,
          -0.03199314326047897,
          0.034464482218027115,
          -0.08314990252256393,
          -0.08361069113016129,
          -0.037009309977293015,
          0.26167818903923035,
          0.0043025086633861065,
          -0.037193119525909424,
          -0.03890864923596382,
          -0.05269027128815651,
          0.08296584337949753,
          -0.010046667419373989,
          0.06500665098428726,
          -0.02716776728630066,
          -0.028473801910877228,
          -0.10414545983076096,
          -0.06618063896894455,
          0.31933093070983887,
          -0.006693525239825249,
          -0.009435620158910751,
          -0.09519576281309128,
          -0.03943250700831413,
          -0.0748186707496643,
          -0.05672598257660866,
          -0.030783681198954582,
          -0.0041760946623981,
          0.12105647474527359,
          -0.003936946392059326,
          0.09930935502052307,
          0.016258249059319496,
          -0.061274006962776184,
          -0.04617279767990112,
          -0.022601567208766937,
          -0.09731326997280121,
          0.0071318321861326694,
          -0.08611977100372314,
          -0.013447197154164314,
          -0.012410891242325306,
          0.032365329563617706,
          0.30399268865585327,
          0.30969223380088806,
          0.0032617037650197744,
          -0.09066823869943619,
          0.006568135228008032,
          0.010868211276829243,
          -0.04325179010629654,
          -0.014231379143893719,
          -0.05374107509851456,
          0.008956887759268284,
          0.025514677166938782,
          0.19666875898838043,
          0.08044512569904327,
          -0.013028047047555447,
          0.012734782882034779,
          0.015289118513464928,
          -0.02621346153318882,
          0.011561211198568344,
          0.24560357630252838,
          -0.07728215306997299,
          -0.06592579931020737,
          0.001637060777284205,
          0.04681488126516342,
          0.003274403978139162,
          -0.09770303219556808,
          -0.06415355205535889,
          -0.022032421082258224,
          -0.03507612273097038,
          -0.040608879178762436,
          0.19824354350566864,
          -0.0324661061167717,
          0.11716635525226593,
          -0.014553170651197433,
          -0.041068438440561295,
          -0.08074552565813065,
          -0.030564844608306885,
          -0.0062109422869980335,
          0.03701801970601082,
          -0.01037012692540884,
          -0.024011211469769478,
          -0.005299755837768316,
          -0.01918737217783928,
          -0.05340075492858887,
          -0.022884218022227287,
          -0.04518812149763107,
          -0.024687692523002625,
          -0.03241030499339104,
          -0.015611833892762661,
          0.00897759199142456,
          0.03230699524283409,
          -0.06715400516986847,
          -0.027151312679052353,
          -0.07862832397222519,
          7.224990258691832e-05,
          -0.060982123017311096,
          -0.04309380427002907,
          -0.012165742926299572,
          -0.03504084423184395,
          -0.0514446459710598,
          -0.015697255730628967,
          0.026886001229286194,
          -0.0520133413374424,
          -0.02922356314957142,
          -0.04100412875413895,
          0.008597488515079021,
          -0.0165207851678133,
          0.05385996401309967,
          -0.11803609132766724,
          -0.04874967783689499,
          0.0009905960178002715,
          0.005628748331218958,
          0.010297884233295918,
          -0.04024267569184303,
          -0.020463667809963226,
          -0.05964278057217598,
          0.039174921810626984,
          -0.03769852593541145,
          0.09608223289251328,
          0.02475503645837307,
          -0.012270044535398483,
          -0.039621930569410324,
          -0.04164310172200203,
          -0.11016729474067688,
          -0.05217223986983299,
          -0.03190765902400017,
          -0.04753424972295761,
          -0.04008139669895172,
          0.06700305640697479,
          -0.0726664662361145,
          -0.010370125994086266,
          0.09545020759105682,
          -0.07277604937553406,
          0.15945830941200256,
          0.018337545916438103,
          0.0006165711674839258,
          -0.02541683055460453,
          -0.04693975672125816,
          -0.03901071101427078,
          0.017447294667363167,
          0.01712033525109291,
          -0.02642611227929592,
          0.030813146382570267,
          -0.018877577036619186,
          -0.057734616100788116,
          -0.018282679840922356,
          -0.011157765053212643,
          -0.01985543593764305,
          -0.033288367092609406,
          -0.021846167743206024,
          0.013773031532764435,
          -0.051613543182611465,
          -0.01796981692314148,
          0.006733722519129515,
          -0.06504258513450623,
          -0.03185797482728958,
          -0.08934691548347473,
          0.03899228945374489,
          0.24449104070663452,
          -0.0003160359337925911,
          -0.006163130979984999,
          0.02126511000096798,
          0.030752556398510933,
          -0.04551675543189049,
          0.008303666487336159,
          0.017742976546287537,
          -0.011817993596196175,
          0.003703501308336854,
          -0.049807194620370865,
          -0.04949359595775604,
          -0.041818954050540924,
          0.12867723405361176,
          -0.014068657532334328,
          0.06335002183914185,
          -0.022689338773489,
          0.005145028233528137,
          0.07335261255502701,
          -0.026933928951621056,
          -0.02927560731768608,
          0.07514343410730362,
          -0.03812238574028015,
          -0.06012243404984474,
          -0.03608458489179611,
          0.013506710529327393,
          0.00022062062635086477,
          0.00522549357265234,
          0.049395039677619934,
          0.03936508670449257,
          0.043929729610681534,
          -0.10281794518232346,
          0.040185168385505676,
          -0.026039347052574158,
          -0.02599334344267845,
          0.03622335195541382,
          -0.06680867820978165,
          -0.047789692878723145,
          -0.0690775141119957,
          -0.08570742607116699,
          -0.049678776413202286,
          -0.06511502712965012,
          0.0008489316678605974,
          0.01822715252637863,
          0.03922862187027931,
          -0.032717734575271606,
          -0.04621920362114906,
          0.0021158759482204914,
          -0.07525551319122314,
          0.0034854034893214703,
          0.028089217841625214,
          0.003762038890272379,
          0.017706766724586487,
          0.00948530063033104,
          -0.025269584730267525,
          -0.04992317780852318,
          -0.05004516616463661,
          -0.03931848704814911,
          0.04156499728560448,
          -0.05494224652647972,
          1.8332762920181267e-05,
          -0.04800795763731003,
          0.026327895000576973,
          -0.03640644624829292,
          -0.04603773355484009,
          -0.05787856504321098,
          -0.010726042091846466,
          0.11603561043739319,
          0.03465496003627777,
          -0.05436103790998459,
          -0.03549163043498993,
          -0.029877858236432076,
          0.018698129802942276,
          0.00808476097881794,
          0.06439470499753952,
          -0.02099742740392685,
          -0.015788039192557335,
          -0.07920652627944946,
          0.0077670905739068985,
          -0.0351066067814827,
          -0.002189283724874258,
          -0.04927440360188484,
          -0.02236277423799038,
          -0.018346156924962997,
          -0.01777583546936512,
          -0.022287817671895027,
          -0.011698266491293907,
          -0.0688958391547203,
          -0.025881271809339523,
          -0.0452846996486187,
          -0.0933324322104454,
          -0.02815583534538746,
          0.021772295236587524,
          -0.040232960134744644,
          -0.03384577855467796,
          0.005458138883113861,
          0.024621980264782906,
          -0.043250128626823425,
          -0.029956387355923653,
          -0.09299608319997787,
          -0.05393074080348015,
          -0.059129972010850906,
          -0.05067029967904091,
          0.0283245537430048,
          -0.020600412040948868,
          -0.0495767816901207,
          -0.043967798352241516,
          -0.022769857197999954,
          -0.008634277619421482,
          0.030469153076410294,
          0.03393488749861717,
          -0.009772536344826221,
          0.03457128256559372,
          0.0012862378498539329,
          -0.03358834236860275,
          0.0025085860397666693,
          -0.028177926316857338,
          -0.03204837813973427,
          -0.03884457051753998,
          -0.04873928800225258,
          -0.045428983867168427,
          -0.08690695464611053,
          -0.07362062484025955,
          0.052992530167102814,
          -0.030764933675527573,
          -0.06390766054391861,
          0.006158411502838135,
          -0.02582285925745964,
          -0.020642360672354698,
          -0.009918354451656342,
          -0.029235022142529488,
          -0.01090210396796465,
          -0.01228366233408451,
          -0.0037401127628982067,
          -0.016296397894620895,
          -0.05496431887149811,
          -0.014597875066101551,
          0.005097097717225552,
          0.008887275122106075,
          0.015304936096072197,
          0.011204107664525509,
          0.005680842325091362,
          -0.05408293381333351
         ],
         "xaxis": "x",
         "y": [
          0.22677959501743317,
          0.07127650082111359,
          0.0804167166352272,
          0.2593119144439697,
          -0.05478832870721817,
          0.316781610250473,
          0.03933965414762497,
          0.05815581604838371,
          -0.1420423984527588,
          0.2855672240257263,
          0.2489136904478073,
          0.13674330711364746,
          0.07473740726709366,
          -0.08469665795564651,
          -0.5056986808776855,
          0.0033585999626666307,
          0.0180042777210474,
          0.12991295754909515,
          -0.01864633895456791,
          0.07248184829950333,
          0.026227211579680443,
          -0.009434439241886139,
          0.0009258065838366747,
          0.053449004888534546,
          -0.06393276154994965,
          0.04643898457288742,
          0.01608012057840824,
          -0.009667863138020039,
          -0.011172294616699219,
          -0.03630420193076134,
          0.3759680986404419,
          0.04011763632297516,
          -0.12412414699792862,
          -0.04841916635632515,
          -0.12026037275791168,
          0.036215007305145264,
          0.008123998530209064,
          -0.03453543782234192,
          0.0037421679589897394,
          0.09540338814258575,
          0.04113456979393959,
          0.3937675952911377,
          -0.11985272914171219,
          0.007554222829639912,
          -0.026417694985866547,
          0.06324734538793564,
          -0.03506213054060936,
          0.10230544954538345,
          -0.06724929064512253,
          -0.03226263076066971,
          0.021583901718258858,
          0.0006305453716777265,
          -0.03364995867013931,
          0.18563304841518402,
          0.032809771597385406,
          -0.06550022959709167,
          -0.09920266270637512,
          -0.24247215688228607,
          0.10066454112529755,
          0.0635882243514061,
          0.03423041105270386,
          -0.026734786108136177,
          0.07684003561735153,
          -0.020755887031555176,
          -0.08340403437614441,
          0.0068270922638475895,
          0.02656552568078041,
          -0.047963134944438934,
          0.08327415585517883,
          -0.013252721168100834,
          0.031362056732177734,
          -0.025758828967809677,
          -0.000772577419411391,
          0.16758684813976288,
          -0.010462586767971516,
          0.00046507103252224624,
          0.009110033512115479,
          -0.05663524195551872,
          0.36761850118637085,
          0.04914160072803497,
          0.0157857034355402,
          0.007921845652163029,
          0.0014408512506633997,
          0.6113688349723816,
          0.255268931388855,
          0.0034837464336305857,
          -0.009967516176402569,
          -0.1251891851425171,
          -0.003686672542244196,
          -0.11955514550209045,
          0.06155000999569893,
          0.021125899627804756,
          0.011050321161746979,
          -0.05122438818216324,
          0.008556955493986607,
          0.05255183205008507,
          0.0383823998272419,
          0.019600344821810722,
          0.04016291722655296,
          -0.03078109584748745,
          0.037987302988767624,
          0.007731585763394833,
          0.019649699330329895,
          0.07454946637153625,
          0.031053945422172546,
          0.0004515474138315767,
          -0.019337842240929604,
          0.1019478589296341,
          0.00616650702431798,
          -0.011374254710972309,
          0.009352030232548714,
          -0.009545130655169487,
          0.02260931394994259,
          -0.03158901259303093,
          0.03169756755232811,
          0.03563360124826431,
          -0.0027940869331359863,
          -0.0320330373942852,
          0.010701029561460018,
          0.048850711435079575,
          0.007099749054759741,
          -0.030147885903716087,
          -0.09770467132329941,
          0.04437977448105812,
          -0.033628057688474655,
          -0.006819814909249544,
          0.10319022089242935,
          -0.016124283894896507,
          0.4544602334499359,
          0.01021269615739584,
          -0.07533638924360275,
          0.021286288276314735,
          0.014881867915391922,
          -0.016092529520392418,
          0.015592634677886963,
          0.06773282587528229,
          0.0023444409016519785,
          0.07696149498224258,
          0.016833320260047913,
          0.30445554852485657,
          0.003592731896787882,
          0.05521447956562042,
          0.10989741235971451,
          0.004076991230249405,
          -0.04002005234360695,
          -0.0017007491551339626,
          0.06540898978710175,
          -0.11663741618394852,
          -0.037400465458631516,
          -0.06807364523410797,
          -0.029527727514505386,
          0.01371401734650135,
          0.045907337218523026,
          0.0014302743365988135,
          -0.0061981952749192715,
          -0.0062269531190395355,
          0.03718118369579315,
          -0.04527285322546959,
          0.04435268044471741,
          0.02063649147748947,
          -0.0034877541474997997,
          0.003965463954955339,
          0.028169235214591026,
          -0.03846996650099754,
          -0.02959071844816208,
          -0.051437318325042725,
          -2.4431887140963227e-05,
          0.07175557315349579,
          0.31212446093559265,
          -0.020861517637968063,
          0.08603400737047195,
          -0.023725925013422966,
          -0.037692539393901825,
          -0.012832708656787872,
          0.01918768510222435,
          -0.004302431363612413,
          0.00872180424630642,
          -0.014384878799319267,
          0.03527038171887398,
          0.027860160917043686,
          -0.0018983627669513226,
          -0.0075494092889130116,
          0.03534659370779991,
          0.0028416067361831665,
          -0.00879160687327385,
          0.0007610786706209183,
          -0.050447408109903336,
          0.02346120961010456,
          0.015974722802639008,
          -0.008191904053092003,
          0.03541570156812668,
          -0.05331817641854286,
          -0.06557121127843857,
          -0.05597357451915741,
          -0.006903183180838823,
          -0.014799719676375389,
          -0.03406582400202751,
          -0.011748566292226315,
          0.060463935136795044,
          -0.008072770200669765,
          0.029819142073392868,
          0.0295600313693285,
          0.18426108360290527,
          0.06876544654369354,
          0.051555365324020386,
          -0.009436936117708683,
          -0.013073221780359745,
          0.07022314518690109,
          -0.07779688388109207,
          -0.031774479895830154,
          0.04204447194933891,
          0.0443841852247715,
          0.02228042110800743,
          0.02804040163755417,
          -0.04944995790719986,
          -0.04423368349671364,
          0.02526935003697872,
          -0.0540035255253315,
          -0.02499964088201523,
          0.005900056101381779,
          -0.027482325211167336,
          0.07763247191905975,
          -0.00804521981626749,
          0.0741497203707695,
          0.12200483679771423,
          0.031650323420763016,
          -0.04659496620297432,
          0.0647326111793518,
          -0.06019757688045502,
          0.11827453225851059,
          0.027831662446260452,
          0.05413351580500603,
          0.12595073878765106,
          0.011216714046895504,
          -0.01000527199357748,
          0.0679381787776947,
          0.0005383593961596489,
          0.005040166899561882,
          -0.011288801208138466,
          -0.0148388696834445,
          -0.013446033000946045,
          -0.0046049426309764385,
          0.03646399825811386,
          0.010709848254919052,
          0.07612236589193344,
          -0.03184760361909866,
          0.005722775589674711,
          0.06719134747982025,
          -0.02419552020728588,
          0.20033645629882812,
          -0.04549574479460716,
          -0.045560918748378754,
          -0.0578853003680706,
          -0.02338523231446743,
          -0.09032509475946426,
          0.010583882220089436,
          0.011724158190190792,
          0.022005824372172356,
          -0.05749158561229706,
          -0.003952088765799999,
          0.006452609319239855,
          0.19674789905548096,
          -0.011736683547496796,
          -0.01895787939429283,
          -0.06590469181537628,
          -0.03146034851670265,
          0.012874996289610863,
          -0.06354423612356186,
          0.08480989933013916,
          0.011555117554962635,
          0.007942650467157364,
          -0.013978205621242523,
          -0.0687405988574028,
          0.1107877865433693,
          -0.02985369600355625,
          0.0142299123108387,
          0.06489332765340805,
          0.03456397354602814,
          -0.035435378551483154,
          -0.0056416369043290615,
          -0.014522354118525982,
          -0.06616879254579544,
          -0.006709807552397251,
          -0.0669424757361412,
          -0.10057513415813446,
          -0.0021534792613238096,
          0.003876576665788889,
          0.04328446090221405,
          0.015629779547452927,
          -0.013078337535262108,
          0.024616654962301254,
          -0.03683970123529434,
          -0.026189811527729034,
          0.06042996421456337,
          0.010696087963879108,
          -0.019269615411758423,
          -0.012713439762592316,
          -0.026549486443400383,
          0.06196153163909912,
          -0.002481072209775448,
          -0.0156554002314806,
          -0.02710372768342495,
          -0.04031682014465332,
          0.07337511330842972,
          0.005349010229110718,
          0.0017685029888525605,
          0.17264653742313385,
          0.030216097831726074,
          -0.06445707380771637,
          -0.021610407158732414,
          0.05365697667002678,
          0.014078793115913868,
          -0.0797935426235199,
          0.0003768980095628649,
          -0.041872236877679825,
          -0.013362093828618526,
          -0.06308306753635406,
          -0.0024132111575454473,
          -0.021637840196490288,
          -0.05157909169793129,
          0.05630214512348175,
          0.18286347389221191,
          0.1594628393650055,
          -0.022481516003608704,
          0.024792149662971497,
          -0.2194332480430603,
          -0.0498553067445755,
          0.01525107678025961,
          -0.013582101091742516,
          -0.026911115273833275,
          0.005358933936804533,
          -0.021705474704504013,
          -0.045332882553339005,
          -0.03920288756489754,
          0.000286895694443956,
          0.0003310625033918768,
          0.058368194848299026,
          0.14926549792289734,
          -0.042325709015131,
          -0.010064958594739437,
          -0.058329563587903976,
          -0.07867231220006943,
          0.03531448543071747,
          0.008295471780002117,
          -0.11813457310199738,
          -0.035921938717365265,
          0.03651445358991623,
          -0.08213382959365845,
          -0.04264802485704422,
          -0.0018166331574320793,
          0.02495673857629299,
          0.006492271088063717,
          0.04376508668065071,
          -0.0026732273399829865,
          0.029138416051864624,
          -0.020109795033931732,
          0.007521113846451044,
          0.11510197818279266,
          -0.01320030726492405,
          -0.19717898964881897,
          -0.05724320560693741,
          0.08275122195482254,
          -0.002791942795738578,
          -0.03441848233342171,
          0.009548526257276535,
          0.014903801493346691,
          -0.02237292192876339,
          -0.02280600741505623,
          0.0667218267917633,
          -0.017527686432003975,
          0.005591040011495352,
          -0.03732811659574509,
          0.07416260987520218,
          -0.034602340310811996,
          -0.03240829333662987,
          -0.0003188227128703147,
          0.012347106821835041,
          -0.05484277009963989,
          -0.03381229564547539,
          -0.035228464752435684,
          -0.16646577417850494,
          0.014439783059060574,
          0.008808033540844917,
          0.018736934289336205,
          -0.03200628235936165,
          0.012236708775162697,
          -0.09782149642705917,
          0.0005015074857510626,
          -0.0644778460264206,
          -0.031228842213749886,
          -0.037403590977191925,
          0.05564000830054283,
          -0.003371118800714612,
          0.015416261740028858,
          0.036247480660676956,
          -0.01608818769454956,
          -0.3766399919986725,
          0.009457942098379135,
          -0.016755208373069763,
          0.05283762514591217,
          -0.23112444579601288,
          -0.24101296067237854,
          -0.03698493167757988,
          -0.054673515260219574,
          -0.23696157336235046,
          -0.043832845985889435,
          0.04151466116309166,
          0.024224253371357918,
          -0.06849408894777298,
          -0.04299900680780411,
          -0.09713495522737503,
          -0.03208931162953377,
          -0.013073409907519817,
          -0.10393547266721725,
          -0.03367061913013458,
          -0.02812335081398487,
          0.007971297949552536,
          -0.08780847489833832,
          -0.03613978996872902,
          -0.017790894955396652,
          0.005640058778226376,
          -0.01075672172009945,
          0.004980060271918774,
          -0.01129390113055706,
          0.06601940840482712,
          0.020686045289039612,
          0.014302469789981842,
          -0.02179209515452385,
          -0.019929921254515648,
          -4.6458739234367386e-05,
          0.024281548336148262,
          -0.009034682996571064,
          -0.007429582066833973,
          0.0690414234995842,
          -0.09957680106163025,
          -0.09846433997154236,
          0.019188815727829933,
          -0.095131516456604,
          0.007270769216120243,
          -0.01801835559308529,
          0.02086092159152031,
          0.14063520729541779,
          0.041984159499406815,
          -0.009850352071225643,
          0.011823617853224277,
          0.15119600296020508,
          0.06454667448997498,
          0.0225274208933115,
          -0.012122126296162605,
          0.053062960505485535,
          -0.08198783546686172,
          -0.003792377421632409,
          0.045082226395606995,
          -0.06251079589128494,
          -0.009430868551135063,
          -0.05116674676537514,
          -0.008317197673022747,
          -0.16866104304790497,
          -0.0446770004928112,
          0.009727222844958305,
          0.014937609434127808,
          -0.05326556786894798,
          0.0015221432549878955,
          0.054784394800662994,
          0.008246591314673424,
          -0.0023307870142161846,
          -0.008105174638330936,
          -0.04561147838830948,
          0.05937564745545387,
          -0.0854572281241417,
          0.1697586178779602,
          -0.029795678332448006,
          0.016795840114355087,
          -0.05028397589921951,
          -0.008535522036254406,
          0.025492124259471893,
          0.016618240624666214,
          0.05954696983098984,
          -0.001603615703061223,
          -0.053676050156354904,
          0.035880040377378464,
          -0.05778660997748375,
          -0.025500191375613213,
          -0.009518160484731197,
          0.006088340189307928,
          0.008986539207398891,
          0.016666747629642487,
          -0.04808417707681656,
          -0.008678819052875042,
          0.03133148327469826,
          0.013522966764867306,
          0.06590427458286285,
          -0.03216990828514099,
          -0.057442620396614075,
          0.05238518491387367,
          0.04600409045815468,
          0.010950824245810509,
          -0.21625502407550812,
          -0.20272856950759888,
          -0.09327653795480728,
          -0.12769807875156403,
          -0.044243622571229935,
          0.0077236108481884,
          0.024690765887498856,
          0.027001457288861275,
          0.006218425929546356,
          0.010436740703880787,
          0.036681946367025375,
          -0.004485310986638069,
          -0.0505792535841465,
          -0.0365864634513855,
          -0.05907135456800461,
          -0.04537491127848625,
          -0.03606319800019264,
          0.03815928474068642,
          0.0612296462059021,
          0.11630978435277939,
          -0.11311416327953339,
          0.01583743840456009,
          0.013149604201316833,
          -0.07745885848999023,
          0.004115744028240442,
          -0.00627916818484664,
          -0.0195364598184824,
          0.019064364954829216,
          0.000798783905338496,
          0.04543091356754303,
          -0.0011281659826636314,
          -0.016437657177448273,
          0.01934107020497322,
          0.1451958566904068,
          0.007090949919074774,
          -0.0028140549547970295,
          -0.021216943860054016,
          -0.01336898747831583,
          0.005088601261377335,
          -0.017351059243083,
          -0.027609210461378098,
          0.006244152784347534,
          -0.007889429107308388,
          0.024935299530625343,
          -0.019500093534588814,
          -0.011253082193434238,
          -0.010926133021712303,
          0.013498861342668533,
          0.00583450635895133,
          0.08394212275743484,
          0.0753040537238121,
          0.03529499098658562,
          -0.02482583373785019,
          0.0302374716848135,
          0.048348378390073776,
          0.07678651064634323,
          -0.023917516693472862,
          -0.02430598996579647,
          0.025157973170280457,
          0.018868710845708847,
          0.006756455637514591,
          -0.008723248727619648,
          -0.10750184208154678,
          -0.010982288047671318,
          0.009397403337061405,
          -0.0913332849740982,
          -0.000817184685729444,
          -0.06439504027366638,
          0.05211460962891579,
          0.020950982347130775,
          0.01017651055008173,
          -0.15414896607398987,
          0.04010523855686188,
          -0.04228179156780243,
          -0.0436759777367115,
          -0.026098407804965973,
          -0.08902139961719513,
          0.0541633777320385,
          -0.0261729434132576,
          -0.04283713176846504,
          -0.016267307102680206,
          -0.0035141436383128166,
          -0.03354838490486145,
          0.01860819198191166,
          0.0027589525561779737,
          0.007450038567185402,
          0.09842585027217865,
          0.038940027356147766,
          -0.10889258980751038,
          -0.14676229655742645,
          -0.09728465974330902,
          -0.13321645557880402,
          -0.061530981212854385,
          0.004942195024341345,
          -0.0420314222574234,
          0.030702633783221245,
          0.034423548728227615,
          0.21211545169353485,
          -0.021237149834632874,
          -0.02671138197183609,
          0.005343352910131216,
          0.09090745449066162,
          0.020121045410633087,
          -0.06158900633454323,
          -0.0022323697339743376,
          0.028378378599882126,
          -0.09125995635986328,
          0.03647380694746971,
          0.06724399328231812,
          -0.010276260785758495,
          0.03993498161435127,
          -0.007330103777348995,
          -0.024421658366918564,
          0.01940424181520939,
          -0.01457168534398079,
          0.020652014762163162,
          -0.03645363450050354,
          -0.025299813598394394,
          0.006470583379268646,
          -0.028951352462172508,
          0.017014695331454277,
          -0.02189668081700802,
          -0.0028073007706552744,
          -0.042195841670036316,
          -0.03837282210588455,
          -0.026017475873231888,
          0.0020054408814758062,
          -0.025102894753217697,
          -0.026712583377957344,
          -0.015906905755400658,
          -0.004793442320078611,
          0.05867902189493179,
          -0.003616651054471731,
          0.007343278266489506,
          0.17337468266487122,
          0.5290536284446716,
          0.636742889881134,
          0.17034567892551422,
          0.15908364951610565,
          0.07104644179344177,
          -0.03219450265169144,
          -0.03746587410569191,
          0.047786347568035126,
          0.09306681901216507,
          -0.04177727922797203,
          0.02773597277700901,
          -0.009388950653374195,
          -0.04705112427473068,
          -0.01746230386197567,
          -0.017299966886639595,
          -0.09556113928556442,
          -0.0517500601708889,
          -0.06673342734575272,
          -0.030385449528694153,
          -0.038833100348711014,
          -0.0055830166675150394,
          -0.05011633783578873,
          -0.041420768946409225,
          -0.05342131853103638,
          -0.089753158390522,
          0.011839653365314007,
          -0.08291927725076675,
          -0.078973688185215,
          0.01637945882976055,
          0.01464130636304617,
          -0.02342420257627964,
          0.009877918288111687,
          0.0015269811265170574,
          -0.02831755019724369,
          0.04638839513063431,
          -0.03971187397837639,
          -0.02089853212237358,
          -0.012169035151600838,
          0.04862641170620918,
          -0.020431097596883774,
          -0.002391971880570054,
          -0.013585531152784824,
          -0.04273657873272896,
          0.001806591171771288,
          0.009629334323108196,
          -0.014181725680828094,
          -0.021474460139870644,
          -0.05362310633063316,
          0.033648230135440826,
          0.04587308689951897,
          0.006239716429263353,
          0.009908279404044151,
          0.0010165143758058548,
          -0.02095187082886696,
          0.0174444280564785,
          0.021053873002529144,
          -0.043680135160684586,
          -0.000995697220787406,
          0.026838961988687515,
          0.04729348421096802,
          -0.019966570660471916,
          -0.44483518600463867,
          -0.025319304317235947,
          -0.10080849379301071,
          -0.009840304031968117,
          0.010826260782778263,
          -0.06684215366840363,
          0.018700091168284416,
          0.005332340486347675,
          -0.0232019554823637,
          -0.0006857917178422213,
          0.02263316698372364,
          0.016321837902069092,
          0.04157816618680954,
          0.02003704197704792,
          0.01279789675027132,
          0.05862615630030632,
          -0.016552118584513664,
          0.011101370677351952,
          -0.04374499246478081,
          0.14564840495586395,
          0.003581148339435458,
          0.005358280148357153,
          0.044387321919202805,
          -0.011764757335186005,
          0.02556997910141945,
          0.04892374947667122,
          -0.017878349870443344,
          -0.004336385987699032,
          -0.016812309622764587,
          0.045433349907398224,
          0.023234190419316292,
          -0.0021166508086025715,
          -0.0006502089672721922,
          -0.030611801892518997,
          0.008448955602943897,
          0.022118696942925453,
          -0.026184413582086563,
          0.01704937033355236,
          0.03350765258073807,
          -0.010723143815994263,
          -0.0801832526922226,
          0.0319284126162529,
          0.0076558878645300865,
          -0.03847751021385193,
          -0.015012331306934357,
          -0.035856299102306366,
          0.05252044275403023,
          -0.026693305000662804,
          0.0194203183054924,
          -0.03313348814845085,
          -0.014340844005346298,
          0.08438080549240112,
          -0.04735598340630531,
          0.05175064876675606,
          -0.0031958799809217453,
          -0.06966880708932877,
          0.00897167343646288,
          -0.051941342651844025,
          -0.0929323062300682,
          -0.011453432030975819,
          -0.07170255482196808,
          0.013171170838177204,
          -0.06372927129268646,
          -0.0013313801027834415,
          0.047575101256370544,
          0.031099960207939148,
          0.06481283158063889,
          -0.003640533657744527,
          0.004048926755785942,
          -0.2251548022031784,
          0.055560316890478134,
          -0.03178628906607628,
          -0.0021504126489162445,
          -0.01381881907582283,
          -0.06683052331209183,
          -0.06368522346019745,
          -0.03256656602025032,
          -0.015567762777209282,
          -0.015516773797571659,
          -0.03768162801861763,
          0.19820749759674072,
          -0.01683417521417141,
          0.030108951032161713,
          0.21569108963012695,
          0.028566060587763786,
          -0.02656838670372963,
          -0.033570025116205215,
          0.019187478348612785,
          0.0061476691626012325,
          -0.004561060108244419,
          -0.04317300766706467,
          -0.010368237271904945,
          0.1264960914850235,
          0.16966894268989563,
          0.43239516019821167,
          0.009750843048095703,
          0.05162959173321724,
          0.02104760892689228,
          -0.020459070801734924,
          0.00819056760519743,
          0.006397600285708904,
          0.05905136838555336,
          -0.04743308946490288,
          0.02633950673043728,
          -0.11581610143184662,
          -0.014941847883164883,
          -0.017810026183724403,
          0.0077302963472902775,
          -0.045420438051223755,
          -0.0016654611099511385,
          -0.020296121016144753,
          -0.007663138676434755,
          -0.013208487071096897,
          0.00941543374210596,
          0.004688623361289501,
          0.01793774776160717,
          -0.004894237034022808,
          -0.015072738751769066,
          -0.01572137512266636,
          -0.0001351320679532364,
          -0.034486282616853714,
          -0.048059336841106415,
          -0.4272105097770691,
          0.10504753887653351,
          -0.489045113325119,
          0.006612871773540974,
          -0.061366524547338486,
          -0.006010276731103659,
          -0.2128024697303772,
          -0.004565737210214138,
          -0.26981401443481445,
          0.01987699791789055,
          -0.06206648796796799,
          -0.057213589549064636,
          -0.02728545479476452,
          -0.005494392942637205,
          -0.043538082391023636,
          -0.0037298023235052824,
          -0.021929357200860977,
          0.036383237689733505,
          0.11791066825389862,
          0.028198739513754845,
          0.02568531408905983,
          0.07213366031646729,
          -0.024609463289380074,
          0.0031894980929791927,
          -0.023613395169377327,
          -0.019819237291812897,
          -0.009493494406342506,
          0.11148859560489655,
          0.05306485667824745,
          -0.03996619954705238,
          -0.01609976403415203,
          -0.04628529027104378,
          -0.010569819249212742,
          -0.029347237199544907,
          -0.01825212873518467,
          -0.03391709551215172,
          0.021477168425917625,
          -0.060790080577135086,
          -0.06779291480779648,
          -0.016435593366622925,
          0.12432119995355606,
          -0.011797936633229256,
          -0.03320550546050072,
          -0.0682898685336113,
          -0.05022872984409332,
          0.04048468545079231,
          0.07170852273702621,
          -0.019229622557759285,
          -0.02111143432557583,
          -0.05299168452620506,
          -0.017335880547761917,
          0.11310090124607086,
          -0.042737171053886414,
          -0.04652886092662811,
          0.009811796247959137,
          -0.03693053126335144,
          -0.021059591323137283,
          0.012671556323766708,
          -0.00888712890446186,
          0.009141678921878338,
          0.08540602773427963,
          0.0038586279843002558,
          -0.023448869585990906,
          0.004746309015899897,
          0.2380726933479309,
          -0.041699014604091644,
          -0.08492927998304367,
          -0.017597012221813202,
          0.04336551949381828,
          -0.012564271688461304,
          -0.029191482812166214,
          -0.03013889491558075,
          -0.03747466951608658,
          0.026623019948601723,
          -0.027442364022135735,
          -0.05572029948234558,
          0.004108857363462448,
          -0.04814763739705086,
          0.04363635554909706,
          -0.04707847535610199,
          0.034255366772413254,
          0.05726208537817001,
          0.00199229852296412,
          0.01641668938100338,
          0.013965530321002007,
          -0.14037825167179108,
          0.011099260300397873,
          0.03207750618457794,
          -0.060216598212718964,
          -0.017857277765870094,
          -0.0410933643579483,
          0.03721071407198906,
          0.03405967354774475,
          0.01930203102529049,
          -0.04337600991129875,
          0.03593892976641655,
          0.04955226927995682,
          0.0244353786110878,
          0.037150949239730835,
          -0.024606997147202492,
          -0.05802908167243004,
          0.001675497624091804,
          0.016533873975276947,
          -0.0451350063085556,
          -0.036153394728899,
          -0.0046944040805101395,
          -0.013089303858578205,
          -0.02479737065732479,
          -0.01677805744111538,
          -0.053208135068416595,
          -0.035501979291439056,
          -0.050836361944675446,
          0.03725026920437813,
          -0.025164173915982246,
          -0.08973818272352219,
          0.0652489885687828,
          -0.007227832451462746,
          0.01139495987445116,
          0.037530019879341125,
          -0.009101074188947678,
          0.022349106147885323,
          -0.056625038385391235,
          -0.01625404879450798,
          0.041849661618471146,
          -0.007648850325495005,
          -0.03774850070476532,
          0.003465237095952034,
          -0.03934788331389427,
          -0.02367490343749523,
          -0.0009705635602585971,
          0.06256834417581558,
          -0.0021269959397614002,
          -0.008077713660895824,
          -0.0028299293480813503,
          -0.045677173882722855,
          0.04420170560479164,
          -0.003893667133525014,
          -0.024993130937218666,
          -0.06808723509311676,
          -0.034243933856487274,
          -0.029165802523493767,
          -0.05616706609725952,
          -0.015525133349001408,
          0.042114026844501495,
          0.025127150118350983,
          0.010209357365965843,
          -0.017950430512428284,
          -0.022642124444246292,
          -0.1670423299074173,
          0.27241194248199463,
          -0.01175227016210556,
          0.019317051395773888,
          0.0378001369535923,
          -0.00894492119550705,
          -0.008789720013737679,
          0.16717633605003357,
          -0.014687521383166313,
          0.018590642139315605,
          -0.041072141379117966,
          -0.0006346455193124712,
          -0.05793476849794388,
          -0.027858726680278778,
          -0.050021518021821976,
          0.02255360782146454,
          0.04587307199835777,
          -0.0067715710029006,
          0.03418559953570366,
          0.005152578931301832,
          -0.03272678330540657,
          -0.0521962009370327,
          -0.005320480093359947,
          -0.044130366295576096,
          0.09004294872283936,
          -0.030624041333794594,
          -0.020049456506967545,
          0.04152596369385719,
          -0.018438171595335007,
          -0.005592061206698418,
          0.06802251935005188,
          0.01993129774928093,
          -0.37986746430397034,
          0.019972283393144608,
          -0.017678363248705864,
          0.02248581126332283,
          0.022554170340299606,
          0.07228648662567139,
          0.14649152755737305,
          0.010147436521947384,
          -0.12237349897623062,
          -0.0671972706913948,
          -0.062020085752010345,
          0.00018396372615825385,
          0.08262138068675995,
          0.0036301303189247847,
          -0.012635378167033195,
          -0.02491292543709278,
          -0.03721577301621437,
          0.028639378026127815,
          -0.0017503108829259872,
          0.08160988986492157,
          -0.029721582308411598,
          -0.012296522036194801,
          0.015425479970872402,
          -0.0003094703424721956,
          0.1146257147192955,
          0.0020457645878195763,
          0.061095599085092545,
          -0.020459048449993134,
          -0.08712152391672134,
          0.007805087137967348,
          0.03569350764155388,
          0.0439564473927021,
          -0.0409984216094017,
          0.014603731222450733,
          -0.007154750172048807,
          -0.04019949585199356,
          0.020283062011003494,
          -0.056650709360837936,
          -1.7075844880309887e-05,
          0.05280185490846634,
          -0.02671840973198414,
          -0.031228862702846527,
          -0.0168154239654541,
          -0.0851859375834465,
          0.0253745149821043,
          -0.04043344408273697,
          0.045179858803749084,
          -0.015472155064344406,
          -0.0065248990431427956,
          0.5221633911132812,
          0.013314928859472275,
          0.04249968379735947,
          0.030491655692458153,
          0.20133672654628754,
          -0.021288566291332245,
          0.012654309161007404,
          -0.013753210194408894,
          -0.02337229624390602,
          -0.025888223201036453,
          -0.018070273101329803,
          0.002507039112970233,
          -0.014271404594182968,
          0.04745405912399292,
          0.007435097359120846,
          -0.01800684444606304,
          0.17907562851905823,
          0.04528187960386276,
          -0.016085706651210785,
          -0.006012239959090948,
          -0.0005968400510028005,
          0.034773893654346466,
          0.03700907900929451,
          -0.03412233293056488,
          0.028868064284324646,
          0.04399639368057251,
          0.05663907527923584,
          0.018334437161684036,
          0.00796890165656805,
          -0.01454659178853035,
          0.016118526458740234,
          0.020708203315734863,
          0.01751919835805893,
          -0.0051504443399608135,
          -0.040832504630088806,
          -0.003381074406206608,
          -0.00869729183614254,
          0.029256630688905716,
          -0.0022764033637940884,
          0.005387166980654001,
          0.02608165517449379,
          0.03639863058924675,
          0.033814482390880585,
          0.008225650526583195,
          0.08364149928092957,
          -0.36146363615989685,
          0.531524658203125,
          0.12024115771055222,
          -0.04343416541814804,
          -0.0375802256166935,
          -0.05169644206762314,
          -0.005063345655798912,
          0.0054693459533154964,
          0.030064048245549202,
          -0.05510570853948593,
          -0.001743933535180986,
          -0.029605697840452194,
          0.006175100337713957,
          0.03548943251371384,
          -0.05117814987897873,
          -0.01774309016764164,
          0.12570053339004517,
          -0.005420084577053785,
          -0.02891606278717518,
          -0.043682362884283066,
          0.0014828377170488238,
          -0.06999018043279648,
          0.012440884485840797,
          -0.022316107526421547,
          0.010999739170074463,
          -0.02816944196820259,
          -0.01247407402843237,
          -0.0048711406998336315,
          -0.04697141423821449,
          -0.018141211941838264,
          0.008904417976737022,
          -0.1969819962978363,
          -0.003669615602120757,
          0.003958627115935087,
          -0.050227079540491104,
          0.06644532084465027,
          -0.03075685165822506,
          -0.04296620190143585,
          0.0057633318938314915,
          -0.0007865071529522538,
          0.019527530297636986,
          -0.044459354132413864,
          0.06906665861606598,
          0.00469756405800581,
          -0.024129493162035942,
          -0.010804364457726479,
          -0.05478079989552498,
          0.004708610009402037,
          -0.0037948251701891422,
          -0.037845734506845474,
          -0.01933700032532215,
          -0.113881416618824,
          -0.04795820266008377,
          -0.026527902111411095,
          -0.05569813773036003,
          -0.08074192702770233,
          -0.06836891919374466,
          -0.06623757630586624,
          -0.0038226530887186527,
          0.17326222360134125,
          -0.010828319005668163,
          0.0402049794793129,
          0.05179262533783913,
          0.028427090495824814,
          -0.03662635385990143,
          0.07350059598684311,
          0.0629015862941742,
          0.052092716097831726,
          0.049436796456575394,
          0.013284984976053238,
          -0.002436319598928094,
          0.04908245801925659,
          0.036929383873939514,
          0.12121622264385223,
          0.020336145535111427,
          0.02639167383313179,
          -0.031142668798565865,
          0.024892661720514297,
          -0.02954094670712948,
          -0.03332173079252243,
          0.1827593594789505,
          -0.06179360672831535,
          -0.011662216857075691,
          -0.031125426292419434,
          0.005687701515853405,
          -0.02405223809182644,
          0.03648591786623001,
          0.017302069813013077,
          -0.069939523935318,
          0.1238841637969017,
          0.033056676387786865,
          -0.027323666960000992,
          -0.013825028203427792,
          -0.034975942224264145,
          -0.09395519644021988,
          -0.01770724356174469,
          -0.011736261658370495,
          0.03267964720726013,
          -0.0947151631116867,
          0.005208746530115604,
          0.006195597350597382,
          -0.0487753227353096,
          0.04317225515842438,
          0.008006769232451916,
          0.03646647930145264,
          0.029785171151161194,
          -0.07275005429983139,
          -0.02550116740167141,
          -0.07920975983142853,
          -0.004947548266500235,
          -0.005958153400570154,
          0.06191001832485199,
          0.0362434908747673,
          -0.010924761183559895,
          0.0019361465238034725,
          -0.04210474714636803,
          -0.007732418365776539,
          -0.029172513633966446,
          0.013815289363265038,
          0.07667886465787888,
          0.05224354565143585,
          -0.028019120916724205,
          -0.08396856486797333,
          -0.03266426920890808,
          -0.06043308973312378,
          -0.042747389525175095,
          -0.040647413581609726,
          0.026414642110466957,
          0.014940996654331684,
          -0.00510130962356925,
          -0.026427824050188065,
          0.023490730673074722,
          -0.006004082504659891,
          0.03105648048222065,
          0.039264459162950516,
          -0.0051092784851789474,
          0.008665967732667923,
          0.11321116238832474,
          -0.021567894145846367,
          -0.14438612759113312,
          -0.050734881311655045,
          -0.025716912001371384,
          -0.06926614791154861,
          -0.05810605362057686,
          0.011502302251756191,
          0.0727444514632225,
          0.002343791304156184,
          -0.0034120494965463877,
          -0.045592788606882095,
          0.6568438410758972,
          -0.050362370908260345,
          0.04154514521360397,
          -0.008347267284989357,
          -0.09435480087995529,
          0.01247519999742508,
          -0.0774143636226654,
          -0.05108990892767906,
          -0.00535271130502224,
          0.04040442034602165,
          -0.0022989914286881685,
          -0.014894494786858559,
          -0.03448932245373726,
          -0.010453050024807453,
          0.001110335811972618,
          -0.0007740877335891128,
          -0.0243634432554245,
          0.009450849145650864,
          0.03421857953071594,
          0.040510233491659164,
          0.008006288670003414,
          -0.046461839228868484,
          0.22424182295799255,
          0.1056959256529808,
          0.11286622285842896,
          0.05555271357297897,
          0.0825452134013176,
          -0.0710262656211853,
          -0.05196800455451012,
          0.009365112520754337,
          -0.09665670990943909,
          -0.03387700766324997,
          -0.03640159219503403,
          0.021484630182385445,
          0.053017858415842056,
          -0.012831555679440498,
          -0.03857537358999252,
          -0.034033674746751785,
          0.01764625310897827,
          0.013257645070552826,
          -0.01717502810060978,
          -0.029338980093598366,
          0.22811126708984375,
          -0.07607140392065048,
          0.006515996064990759,
          -0.08337724208831787,
          -0.02878684364259243,
          0.028553098440170288,
          0.015287688933312893,
          0.0336604118347168,
          0.037730757147073746,
          -0.07516767084598541,
          -0.015698285773396492,
          -0.05846370384097099,
          -0.03348489850759506,
          -0.009621783159673214,
          0.05749634653329849,
          0.060021065175533295,
          -0.02369406260550022,
          -0.06339988857507706,
          -0.005877157207578421,
          -0.018173374235630035,
          0.022154757753014565,
          0.01570548303425312,
          0.642296314239502,
          -0.2056991308927536,
          -0.021571459248661995,
          -0.03435354307293892,
          -0.03862369433045387,
          -0.04196201264858246,
          -0.02860487997531891,
          -0.0899055227637291,
          0.036570239812135696,
          -0.02253192849457264,
          -0.037152472883462906,
          -0.24343517422676086,
          0.05119515582919121,
          -0.028977641835808754,
          -0.03045705333352089,
          -0.015791337937116623,
          -0.00994656141847372,
          -0.04166996479034424,
          0.12707659602165222,
          0.03793594241142273,
          -0.009155670180916786,
          0.22049137949943542,
          -0.03899119049310684,
          -0.05002625659108162,
          -0.03713361546397209,
          -0.03149743378162384,
          0.08716535568237305,
          -0.017648736014962196,
          -0.0031100872438400984,
          -0.01251268945634365,
          -0.0269297044724226,
          -0.0402422770857811,
          0.013536876998841763,
          0.04001111164689064,
          -0.004682095255702734,
          -0.022983606904745102,
          0.005607092287391424,
          0.03181722015142441,
          -0.013506434857845306,
          -0.05320269614458084,
          0.01663868874311447,
          -0.0077931019477546215,
          -0.024274982511997223,
          0.045296937227249146,
          -0.08018934726715088,
          -0.004248674027621746,
          0.047646619379520416,
          -0.07295504957437515,
          0.010666602291166782,
          -0.02344479225575924,
          -0.06059505045413971,
          0.01026985514909029,
          -0.006057587917894125,
          -0.047904569655656815,
          -0.012099537998437881,
          -0.019790848717093468,
          -0.03038506582379341,
          0.06595978140830994,
          0.013546764850616455,
          -0.021304793655872345,
          -0.05534249544143677,
          0.05797877535223961,
          -0.04858468472957611,
          -0.04830937460064888,
          -0.034425437450408936,
          0.005837780889123678,
          -0.0729425698518753,
          -0.04467589780688286,
          -0.07935173064470291,
          -0.025040237233042717,
          -0.0789717584848404,
          0.014018948189914227,
          -0.05003032088279724,
          -0.03716510906815529,
          -0.05947791412472725,
          0.00477122375741601,
          -0.033890992403030396,
          0.1579868048429489,
          -0.043931763619184494,
          -0.036838069558143616,
          -0.015960734337568283,
          -0.029528146609663963,
          -0.05046181008219719,
          -0.03476293385028839,
          0.0437251515686512,
          -0.02087252028286457,
          0.06582501530647278,
          -0.02062290720641613,
          0.0015616040909662843,
          0.023060645908117294,
          -0.002812683815136552,
          0.0671016126871109,
          -0.039837539196014404,
          0.04084509238600731,
          -0.021500583738088608,
          0.00737068522721529,
          0.010220997035503387,
          0.00814925879240036,
          0.008912209421396255,
          0.01150703988969326,
          -0.0014506407314911485,
          -0.03789108991622925,
          -0.055569618940353394,
          0.027630651369690895,
          -0.0023431123699992895,
          0.044067081063985825,
          -0.031124217435717583,
          0.019602101296186447,
          0.04578543081879616,
          -0.04939933866262436,
          -0.07545412331819534,
          -0.06225375458598137,
          -0.004616007674485445,
          -0.010201427154242992,
          0.03063075803220272,
          -0.04171997681260109,
          -0.03290410712361336,
          -0.03306758776307106,
          -0.07279617339372635,
          0.017974073067307472,
          -0.0303360465914011,
          -0.003207727335393429,
          -0.00543555011972785,
          0.03668077662587166,
          -0.016958406195044518,
          -0.004212572239339352,
          -0.027331611141562462,
          0.0227988101541996,
          -0.01722903363406658,
          -0.0035125375725328922,
          -0.022651012986898422,
          -0.040762078016996384,
          -0.06380579620599747,
          0.0533900111913681,
          -3.1731771741760895e-05,
          -0.05097349360585213,
          -0.0010225552832707763,
          -0.0160316564142704,
          -0.09476137906312943,
          -0.04168670251965523,
          -0.02482793480157852,
          0.022848907858133316,
          -0.00891296286135912,
          -0.006264576688408852,
          -0.02677103318274021,
          -0.028159037232398987,
          -0.07561971992254257,
          0.05977539345622063,
          -0.05270581319928169,
          -0.016187729313969612,
          -0.025332044810056686,
          -0.05958271026611328,
          0.09135474264621735,
          -0.023288194090127945,
          -0.04420151188969612,
          -0.06346891820430756,
          -0.04599248245358467,
          -0.017206698656082153,
          0.050020985305309296,
          -0.015223790891468525,
          -0.04436147212982178,
          0.09978187084197998,
          -0.040872883051633835,
          0.01806221529841423,
          0.012474321760237217,
          0.011534844525158405,
          -0.03013298660516739,
          0.008792349137365818,
          -0.004508902784436941,
          0.0028469841927289963,
          -0.04062185809016228,
          -0.029072124511003494,
          0.09160846471786499,
          -0.00788905844092369,
          -0.01514902338385582,
          -0.04905726760625839,
          -0.04449052736163139,
          -0.011426134966313839,
          -0.05052749067544937,
          -0.04616343230009079,
          -0.0052267019636929035,
          -0.012788313440978527,
          -0.06778223067522049,
          -0.0250620748847723,
          -0.13359229266643524,
          -0.035837091505527496,
          0.0017775602173060179,
          -0.011278649792075157,
          -0.018824568018317223,
          -0.02496473863720894,
          -0.026575841009616852,
          0.022337470203638077,
          -0.0025120603386312723,
          -0.1002398282289505,
          0.002179408445954323,
          -0.034861426800489426,
          -0.02345268242061138,
          0.026772862300276756,
          -0.01053701527416706,
          -0.01805911958217621,
          -0.006792610976845026,
          0.004907723981887102,
          -0.011935210786759853,
          0.0021907908376306295,
          0.025157175958156586,
          0.033421967178583145,
          -0.023631805554032326,
          0.015581993386149406,
          -0.007947444915771484,
          0.03606408089399338,
          -0.0170720387250185,
          0.1160564050078392,
          0.020457511767745018,
          -0.00048380301450379193,
          0.01961934007704258,
          -0.015682779252529144,
          -0.05077270790934563,
          -0.03984194993972778,
          -0.008306678384542465,
          0.03128107637166977,
          -0.06377219408750534,
          -0.030417900532484055,
          0.02502545155584812,
          -0.08389472961425781,
          -0.047085367143154144,
          0.031847596168518066,
          -0.02999378927052021,
          -0.07214579731225967,
          -0.03718848153948784,
          -0.045951854437589645,
          0.01322851236909628,
          0.03421624377369881,
          -0.03634954243898392,
          -0.029698939993977547,
          -0.002704466925933957,
          0.031980063766241074,
          0.06878791004419327,
          -0.08810663223266602,
          -0.03352801874279976,
          0.08357510715723038,
          -0.09235990047454834,
          -0.0240167323499918,
          -0.02792489528656006,
          -0.031071975827217102,
          -0.011842489242553711,
          -0.0048647476360201836,
          -0.0036702596116811037,
          0.03447311371564865,
          0.016619769856333733,
          -0.004553549457341433,
          0.043349552899599075,
          0.019602850079536438,
          0.005732878111302853,
          -0.036799535155296326,
          0.003384772688150406,
          0.0031506004743278027,
          0.013363005593419075,
          0.02164233848452568,
          0.011428006924688816,
          0.03756295517086983
         ],
         "yaxis": "y"
        }
       ],
       "layout": {
        "coloraxis": {
         "colorbar": {
          "title": {
           "text": "cluster"
          }
         },
         "colorscale": [
          [
           0,
           "#0d0887"
          ],
          [
           0.1111111111111111,
           "#46039f"
          ],
          [
           0.2222222222222222,
           "#7201a8"
          ],
          [
           0.3333333333333333,
           "#9c179e"
          ],
          [
           0.4444444444444444,
           "#bd3786"
          ],
          [
           0.5555555555555556,
           "#d8576b"
          ],
          [
           0.6666666666666666,
           "#ed7953"
          ],
          [
           0.7777777777777778,
           "#fb9f3a"
          ],
          [
           0.8888888888888888,
           "#fdca26"
          ],
          [
           1,
           "#f0f921"
          ]
         ]
        },
        "legend": {
         "tracegroupgap": 0
        },
        "margin": {
         "t": 60
        },
        "template": {
         "data": {
          "bar": [
           {
            "error_x": {
             "color": "#2a3f5f"
            },
            "error_y": {
             "color": "#2a3f5f"
            },
            "marker": {
             "line": {
              "color": "#E5ECF6",
              "width": 0.5
             },
             "pattern": {
              "fillmode": "overlay",
              "size": 10,
              "solidity": 0.2
             }
            },
            "type": "bar"
           }
          ],
          "barpolar": [
           {
            "marker": {
             "line": {
              "color": "#E5ECF6",
              "width": 0.5
             },
             "pattern": {
              "fillmode": "overlay",
              "size": 10,
              "solidity": 0.2
             }
            },
            "type": "barpolar"
           }
          ],
          "carpet": [
           {
            "aaxis": {
             "endlinecolor": "#2a3f5f",
             "gridcolor": "white",
             "linecolor": "white",
             "minorgridcolor": "white",
             "startlinecolor": "#2a3f5f"
            },
            "baxis": {
             "endlinecolor": "#2a3f5f",
             "gridcolor": "white",
             "linecolor": "white",
             "minorgridcolor": "white",
             "startlinecolor": "#2a3f5f"
            },
            "type": "carpet"
           }
          ],
          "choropleth": [
           {
            "colorbar": {
             "outlinewidth": 0,
             "ticks": ""
            },
            "type": "choropleth"
           }
          ],
          "contour": [
           {
            "colorbar": {
             "outlinewidth": 0,
             "ticks": ""
            },
            "colorscale": [
             [
              0,
              "#0d0887"
             ],
             [
              0.1111111111111111,
              "#46039f"
             ],
             [
              0.2222222222222222,
              "#7201a8"
             ],
             [
              0.3333333333333333,
              "#9c179e"
             ],
             [
              0.4444444444444444,
              "#bd3786"
             ],
             [
              0.5555555555555556,
              "#d8576b"
             ],
             [
              0.6666666666666666,
              "#ed7953"
             ],
             [
              0.7777777777777778,
              "#fb9f3a"
             ],
             [
              0.8888888888888888,
              "#fdca26"
             ],
             [
              1,
              "#f0f921"
             ]
            ],
            "type": "contour"
           }
          ],
          "contourcarpet": [
           {
            "colorbar": {
             "outlinewidth": 0,
             "ticks": ""
            },
            "type": "contourcarpet"
           }
          ],
          "heatmap": [
           {
            "colorbar": {
             "outlinewidth": 0,
             "ticks": ""
            },
            "colorscale": [
             [
              0,
              "#0d0887"
             ],
             [
              0.1111111111111111,
              "#46039f"
             ],
             [
              0.2222222222222222,
              "#7201a8"
             ],
             [
              0.3333333333333333,
              "#9c179e"
             ],
             [
              0.4444444444444444,
              "#bd3786"
             ],
             [
              0.5555555555555556,
              "#d8576b"
             ],
             [
              0.6666666666666666,
              "#ed7953"
             ],
             [
              0.7777777777777778,
              "#fb9f3a"
             ],
             [
              0.8888888888888888,
              "#fdca26"
             ],
             [
              1,
              "#f0f921"
             ]
            ],
            "type": "heatmap"
           }
          ],
          "heatmapgl": [
           {
            "colorbar": {
             "outlinewidth": 0,
             "ticks": ""
            },
            "colorscale": [
             [
              0,
              "#0d0887"
             ],
             [
              0.1111111111111111,
              "#46039f"
             ],
             [
              0.2222222222222222,
              "#7201a8"
             ],
             [
              0.3333333333333333,
              "#9c179e"
             ],
             [
              0.4444444444444444,
              "#bd3786"
             ],
             [
              0.5555555555555556,
              "#d8576b"
             ],
             [
              0.6666666666666666,
              "#ed7953"
             ],
             [
              0.7777777777777778,
              "#fb9f3a"
             ],
             [
              0.8888888888888888,
              "#fdca26"
             ],
             [
              1,
              "#f0f921"
             ]
            ],
            "type": "heatmapgl"
           }
          ],
          "histogram": [
           {
            "marker": {
             "pattern": {
              "fillmode": "overlay",
              "size": 10,
              "solidity": 0.2
             }
            },
            "type": "histogram"
           }
          ],
          "histogram2d": [
           {
            "colorbar": {
             "outlinewidth": 0,
             "ticks": ""
            },
            "colorscale": [
             [
              0,
              "#0d0887"
             ],
             [
              0.1111111111111111,
              "#46039f"
             ],
             [
              0.2222222222222222,
              "#7201a8"
             ],
             [
              0.3333333333333333,
              "#9c179e"
             ],
             [
              0.4444444444444444,
              "#bd3786"
             ],
             [
              0.5555555555555556,
              "#d8576b"
             ],
             [
              0.6666666666666666,
              "#ed7953"
             ],
             [
              0.7777777777777778,
              "#fb9f3a"
             ],
             [
              0.8888888888888888,
              "#fdca26"
             ],
             [
              1,
              "#f0f921"
             ]
            ],
            "type": "histogram2d"
           }
          ],
          "histogram2dcontour": [
           {
            "colorbar": {
             "outlinewidth": 0,
             "ticks": ""
            },
            "colorscale": [
             [
              0,
              "#0d0887"
             ],
             [
              0.1111111111111111,
              "#46039f"
             ],
             [
              0.2222222222222222,
              "#7201a8"
             ],
             [
              0.3333333333333333,
              "#9c179e"
             ],
             [
              0.4444444444444444,
              "#bd3786"
             ],
             [
              0.5555555555555556,
              "#d8576b"
             ],
             [
              0.6666666666666666,
              "#ed7953"
             ],
             [
              0.7777777777777778,
              "#fb9f3a"
             ],
             [
              0.8888888888888888,
              "#fdca26"
             ],
             [
              1,
              "#f0f921"
             ]
            ],
            "type": "histogram2dcontour"
           }
          ],
          "mesh3d": [
           {
            "colorbar": {
             "outlinewidth": 0,
             "ticks": ""
            },
            "type": "mesh3d"
           }
          ],
          "parcoords": [
           {
            "line": {
             "colorbar": {
              "outlinewidth": 0,
              "ticks": ""
             }
            },
            "type": "parcoords"
           }
          ],
          "pie": [
           {
            "automargin": true,
            "type": "pie"
           }
          ],
          "scatter": [
           {
            "fillpattern": {
             "fillmode": "overlay",
             "size": 10,
             "solidity": 0.2
            },
            "type": "scatter"
           }
          ],
          "scatter3d": [
           {
            "line": {
             "colorbar": {
              "outlinewidth": 0,
              "ticks": ""
             }
            },
            "marker": {
             "colorbar": {
              "outlinewidth": 0,
              "ticks": ""
             }
            },
            "type": "scatter3d"
           }
          ],
          "scattercarpet": [
           {
            "marker": {
             "colorbar": {
              "outlinewidth": 0,
              "ticks": ""
             }
            },
            "type": "scattercarpet"
           }
          ],
          "scattergeo": [
           {
            "marker": {
             "colorbar": {
              "outlinewidth": 0,
              "ticks": ""
             }
            },
            "type": "scattergeo"
           }
          ],
          "scattergl": [
           {
            "marker": {
             "colorbar": {
              "outlinewidth": 0,
              "ticks": ""
             }
            },
            "type": "scattergl"
           }
          ],
          "scattermapbox": [
           {
            "marker": {
             "colorbar": {
              "outlinewidth": 0,
              "ticks": ""
             }
            },
            "type": "scattermapbox"
           }
          ],
          "scatterpolar": [
           {
            "marker": {
             "colorbar": {
              "outlinewidth": 0,
              "ticks": ""
             }
            },
            "type": "scatterpolar"
           }
          ],
          "scatterpolargl": [
           {
            "marker": {
             "colorbar": {
              "outlinewidth": 0,
              "ticks": ""
             }
            },
            "type": "scatterpolargl"
           }
          ],
          "scatterternary": [
           {
            "marker": {
             "colorbar": {
              "outlinewidth": 0,
              "ticks": ""
             }
            },
            "type": "scatterternary"
           }
          ],
          "surface": [
           {
            "colorbar": {
             "outlinewidth": 0,
             "ticks": ""
            },
            "colorscale": [
             [
              0,
              "#0d0887"
             ],
             [
              0.1111111111111111,
              "#46039f"
             ],
             [
              0.2222222222222222,
              "#7201a8"
             ],
             [
              0.3333333333333333,
              "#9c179e"
             ],
             [
              0.4444444444444444,
              "#bd3786"
             ],
             [
              0.5555555555555556,
              "#d8576b"
             ],
             [
              0.6666666666666666,
              "#ed7953"
             ],
             [
              0.7777777777777778,
              "#fb9f3a"
             ],
             [
              0.8888888888888888,
              "#fdca26"
             ],
             [
              1,
              "#f0f921"
             ]
            ],
            "type": "surface"
           }
          ],
          "table": [
           {
            "cells": {
             "fill": {
              "color": "#EBF0F8"
             },
             "line": {
              "color": "white"
             }
            },
            "header": {
             "fill": {
              "color": "#C8D4E3"
             },
             "line": {
              "color": "white"
             }
            },
            "type": "table"
           }
          ]
         },
         "layout": {
          "annotationdefaults": {
           "arrowcolor": "#2a3f5f",
           "arrowhead": 0,
           "arrowwidth": 1
          },
          "autotypenumbers": "strict",
          "coloraxis": {
           "colorbar": {
            "outlinewidth": 0,
            "ticks": ""
           }
          },
          "colorscale": {
           "diverging": [
            [
             0,
             "#8e0152"
            ],
            [
             0.1,
             "#c51b7d"
            ],
            [
             0.2,
             "#de77ae"
            ],
            [
             0.3,
             "#f1b6da"
            ],
            [
             0.4,
             "#fde0ef"
            ],
            [
             0.5,
             "#f7f7f7"
            ],
            [
             0.6,
             "#e6f5d0"
            ],
            [
             0.7,
             "#b8e186"
            ],
            [
             0.8,
             "#7fbc41"
            ],
            [
             0.9,
             "#4d9221"
            ],
            [
             1,
             "#276419"
            ]
           ],
           "sequential": [
            [
             0,
             "#0d0887"
            ],
            [
             0.1111111111111111,
             "#46039f"
            ],
            [
             0.2222222222222222,
             "#7201a8"
            ],
            [
             0.3333333333333333,
             "#9c179e"
            ],
            [
             0.4444444444444444,
             "#bd3786"
            ],
            [
             0.5555555555555556,
             "#d8576b"
            ],
            [
             0.6666666666666666,
             "#ed7953"
            ],
            [
             0.7777777777777778,
             "#fb9f3a"
            ],
            [
             0.8888888888888888,
             "#fdca26"
            ],
            [
             1,
             "#f0f921"
            ]
           ],
           "sequentialminus": [
            [
             0,
             "#0d0887"
            ],
            [
             0.1111111111111111,
             "#46039f"
            ],
            [
             0.2222222222222222,
             "#7201a8"
            ],
            [
             0.3333333333333333,
             "#9c179e"
            ],
            [
             0.4444444444444444,
             "#bd3786"
            ],
            [
             0.5555555555555556,
             "#d8576b"
            ],
            [
             0.6666666666666666,
             "#ed7953"
            ],
            [
             0.7777777777777778,
             "#fb9f3a"
            ],
            [
             0.8888888888888888,
             "#fdca26"
            ],
            [
             1,
             "#f0f921"
            ]
           ]
          },
          "colorway": [
           "#636efa",
           "#EF553B",
           "#00cc96",
           "#ab63fa",
           "#FFA15A",
           "#19d3f3",
           "#FF6692",
           "#B6E880",
           "#FF97FF",
           "#FECB52"
          ],
          "font": {
           "color": "#2a3f5f"
          },
          "geo": {
           "bgcolor": "white",
           "lakecolor": "white",
           "landcolor": "#E5ECF6",
           "showlakes": true,
           "showland": true,
           "subunitcolor": "white"
          },
          "hoverlabel": {
           "align": "left"
          },
          "hovermode": "closest",
          "mapbox": {
           "style": "light"
          },
          "paper_bgcolor": "white",
          "plot_bgcolor": "#E5ECF6",
          "polar": {
           "angularaxis": {
            "gridcolor": "white",
            "linecolor": "white",
            "ticks": ""
           },
           "bgcolor": "#E5ECF6",
           "radialaxis": {
            "gridcolor": "white",
            "linecolor": "white",
            "ticks": ""
           }
          },
          "scene": {
           "xaxis": {
            "backgroundcolor": "#E5ECF6",
            "gridcolor": "white",
            "gridwidth": 2,
            "linecolor": "white",
            "showbackground": true,
            "ticks": "",
            "zerolinecolor": "white"
           },
           "yaxis": {
            "backgroundcolor": "#E5ECF6",
            "gridcolor": "white",
            "gridwidth": 2,
            "linecolor": "white",
            "showbackground": true,
            "ticks": "",
            "zerolinecolor": "white"
           },
           "zaxis": {
            "backgroundcolor": "#E5ECF6",
            "gridcolor": "white",
            "gridwidth": 2,
            "linecolor": "white",
            "showbackground": true,
            "ticks": "",
            "zerolinecolor": "white"
           }
          },
          "shapedefaults": {
           "line": {
            "color": "#2a3f5f"
           }
          },
          "ternary": {
           "aaxis": {
            "gridcolor": "white",
            "linecolor": "white",
            "ticks": ""
           },
           "baxis": {
            "gridcolor": "white",
            "linecolor": "white",
            "ticks": ""
           },
           "bgcolor": "#E5ECF6",
           "caxis": {
            "gridcolor": "white",
            "linecolor": "white",
            "ticks": ""
           }
          },
          "title": {
           "x": 0.05
          },
          "xaxis": {
           "automargin": true,
           "gridcolor": "white",
           "linecolor": "white",
           "ticks": "",
           "title": {
            "standoff": 15
           },
           "zerolinecolor": "white",
           "zerolinewidth": 2
          },
          "yaxis": {
           "automargin": true,
           "gridcolor": "white",
           "linecolor": "white",
           "ticks": "",
           "title": {
            "standoff": 15
           },
           "zerolinecolor": "white",
           "zerolinewidth": 2
          }
         }
        },
        "xaxis": {
         "anchor": "y",
         "domain": [
          0,
          1
         ],
         "title": {
          "text": "0"
         }
        },
        "yaxis": {
         "anchor": "x",
         "domain": [
          0,
          1
         ],
         "title": {
          "text": "1"
         }
        }
       }
      },
      "text/html": [
       "<div>                            <div id=\"1662fa87-1fa5-425c-9b8d-7e6994d9da20\" class=\"plotly-graph-div\" style=\"height:525px; width:100%;\"></div>            <script type=\"text/javascript\">                require([\"plotly\"], function(Plotly) {                    window.PLOTLYENV=window.PLOTLYENV || {};                                    if (document.getElementById(\"1662fa87-1fa5-425c-9b8d-7e6994d9da20\")) {                    Plotly.newPlot(                        \"1662fa87-1fa5-425c-9b8d-7e6994d9da20\",                        [{\"customdata\":[[\"D\\u00c9MARE Arnaud\"],[\"SWIFT Ben\"],[\"ROELANDTS J\\u00fcrgen\"],[\"BOUHANNI Nacer\"],[\"VAN AVERMAET Greg\"],[\"KRISTOFF Alexander\"],[\"HAUSSLER Heinrich\"],[\"POZZATO Filippo\"],[\"COLBRELLI Sonny\"],[\"TRENTIN Matteo\"],[\"S\\u00c1NCHEZ Luis Le\\u00f3n\"],[\"SAGAN Peter\"],[\"MONTAGUTI Matteo\"],[\"SLAGTER Tom-Jelte\"],[\"VALVERDE Alejandro\"],[\"BAKELANTS Jan\"],[\"BONIFAZIO Niccol\\u00f2\"],[\"VICHOT Arthur\"],[\"GESCHKE Simon\"],[\"GAVAZZI Francesco\"],[\"REBELLIN Davide\"],[\"FEDI Andrea\"],[\"VO\\u00df Paul\"],[\"VANMARCKE Sep\"],[\"BOOM Lars\"],[\"BOASSON HAGEN Edvald\"],[\"CARUSO Damiano\"],[\"QUINTANA Dayer\"],[\"BATTAGLIN Enrico\"],[\"PELLIZOTTI Franco\"],[\"CANCELLARA Fabian\"],[\"PANTANO Jarlinson\"],[\"NIBALI Vincenzo\"],[\"GALLOPIN Tony\"],[\"DEBUSSCHERE Jens\"],[\"JEANNESSON Arnold\"],[\"GUARNIERI Jacopo\"],[\"SOUPE Geoffrey\"],[\"REYN\\u00c9S Vicente\"],[\"KWIATKOWSKI Micha\\u0142\"],[\"NAVARDAUSKAS Ram\\u016bnas\"],[\"NIZZOLO Giacomo\"],[\"ELMIGER Martin\"],[\"DE KORT Koen\"],[\"VISCONTI Giovanni\"],[\"AMADOR Andrey\"],[\"HOWARD Leigh\"],[\"SARAMOTINS Aleksejs\"],[\"KENNAUGH Peter\"],[\"MARTENS Paul\"],[\"FELLINE Fabio\"],[\"VIGAN\\u00d2 Davide\"],[\"SELVAGGI Mirko\"],[\"M\\u00d8RK\\u00d8V Michael\"],[\"BOONEN Tom\"],[\"KREUZIGER Roman\"],[\"STANNARD Ian\"],[\"ULISSI Diego\"],[\"MATTHEWS Michael\"],[\"PUCCIO Salvatore\"],[\"DE MARCHI Alessandro\"],[\"NERZ Dominik\"],[\"ROUX Anthony\"],[\"WAEYTENS Zico\"],[\"GATTO Oscar\"],[\"DE VREESE Laurens\"],[\"VANDENBERGH Stijn\"],[\"KONOVALOVAS Ignatas\"],[\"VAN BAARLE Dylan\"],[\"B\\u00c1RTA Jan\"],[\"WYSS Danilo\"],[\"BARBIN Enrico\"],[\"PONZI Simone\"],[\"BYSTR\\u00d8M Sven Erik\"],[\"\\u0160PILAK Simon\"],[\"VICIOSO \\u00c1ngel\"],[\"CUMMINGS Steve\"],[\"SABATINI Fabio\"],[\"GAVIRIA Fernando\"],[\"BRAMBILLA Gianluca\"],[\"SMUKULIS Gatis\"],[\"GRIVKO Andrey\"],[\"FRAPPORTI Marco\"],[\"VIVIANI Elia\"],[\"LAPORTE Christophe\"],[\"LADAGNOUS Matthieu\"],[\"RIBLON Christophe\"],[\"VANENDERT Jelle\"],[\"BURGHARDT Marcus\"],[\"KONRAD Patrick\"],[\"ROWE Luke\"],[\"JANSE VAN RENSBURG Reinardt\"],[\"REZA K\\u00e9vin\"],[\"LOZANO David\"],[\"YATES Simon\"],[\"OSS Daniel\"],[\"AGNOLI Valerio\"],[\"KOREN Kristijan\"],[\"TJALLINGII Maarten\"],[\"TOSATTO Matteo\"],[\"MAESTRI Mirco\"],[\"MOSER Moreno\"],[\"ANDREETTA Simone\"],[\"MODOLO Sacha\"],[\"SELIG R\\u00fcdiger\"],[\"MATYSIAK Bart\\u0142omiej\"],[\"CAPECCHI Eros\"],[\"CIMOLAI Davide\"],[\"MARYCZ Jaros\\u0142aw\"],[\"CAVENDISH Mark\"],[\"RAST Gr\\u00e9gory\"],[\"ROTA Lorenzo\"],[\"ANACONA Winner\"],[\"SIMON Julien\"],[\"MAT\\u00c9 Luis \\u00c1ngel\"],[\"KLUGE Roger\"],[\"HANSEN Adam\"],[\"BODNAR Maciej\"],[\"POPOVYCH Yaroslav\"],[\"FERRARI Roberto\"],[\"HOULE Hugo\"],[\"ALBASINI Michael\"],[\"MART\\u00cdNEZ Daniel Felipe\"],[\"CURVERS Roy\"],[\"DE LA PARTE V\\u00edctor\"],[\"LIGTHART Pim\"],[\"HALLER Marco\"],[\"BENEDETTI Cesare\"],[\"BENNETT Sam\"],[\"DE BACKER Bert\"],[\"STAMSNIJDER Tom\"],[\"VAN ASBROECK Tom\"],[\"SERGENT Jesse\"],[\"VENTOSO Francisco Jos\\u00e9\"],[\"BAK Lars Ytting\"],[\"QUINZIATO Manuel\"],[\"AMEZQUETA Julen\"],[\"M\\u00dcHLBERGER Gregor\"],[\"RENSHAW Mark\"],[\"DRUCKER Jempy\"],[\"CHICCHI Francesco\"],[\"\\u0160TYBAR Zden\\u011bk\"],[\"LOBATO Juan Jos\\u00e9\"],[\"BOARO Manuele\"],[\"COLEDAN Marco\"],[\"CATTANEO Mattia\"],[\"BONO Matteo\"],[\"BELLETTI Manuel\"],[\"TEDESCHI Mirko\"],[\"GRETSCH Patrick\"],[\"HENTTALA Joonas\"],[\"MARANGONI Alan\"],[\"VERSCHOOR Martijn\"],[\"WILLIAMS Christopher\"],[\"\\u021aVETCOV Serghei\"],[\"BAGDONAS Gediminas\"],[\"MEZGEC Luka\"],[\"PLANET Charles\"],[\"KEUKELEIRE Jens\"],[\"DE MESMAEKER Kevin\"],[\"HOLLENSTEIN Reto\"],[\"VAN EMDEN Jos\"],[\"DELAGE Micka\\u00ebl\"],[\"LEEZER Tom\"],[\"BONNET William\"],[\"SIEBERG Marcel\"],[\"IMPEY Daryl\"],[\"BLYTHE Adam\"],[\"THOMAS Geraint\"],[\"HONKISZ Adrian\"],[\"JUUL-JENSEN Christopher\"],[\"LANGEVELD Sebastian\"],[\"KUREK Adrian\"],[\"THOMSON Jay Robert\"],[\"ALAFACI Eugenio\"],[\"MIHAYLOV Nikolay\"],[\"TONELLI Alessandro\"],[\"CONTI Samuele\"],[\"MARECZKO Jakub\"],[\"DOMONT Axel\"],[\"COUSIN J\\u00e9r\\u00f4me\"],[\"LEMOINE Cyril\"],[\"BEWLEY Sam\"],[\"LAGUTIN Sergey\"],[\"ZURLO Federico\"],[\"MORI Manuele\"],[\"PAUWELS Serge\"],[\"HAAS Nathan\"],[\"VERMOTE Julien\"],[\"TIMMER Albert\"],[\"ARNDT Nikias\"],[\"MEG\\u00cdAS Javier\"],[\"PERON Andrea\"],[\"BETANCUR Carlos\"],[\"BENNATI Daniele\"],[\"CECCHINEL Giorgio\"],[\"BOEM Nicola\"],[\"PIRAZZI Stefano\"],[\"CLARKE Simon\"],[\"HOFLAND Moreno\"],[\"KUZNETSOV Viacheslav\"],[\"VANSPEYBROUCK Pieter\"],[\"BENOOT Tiesj\"],[\"BRUTT Pavel\"],[\"TERPSTRA Niki\"],[\"COQUARD Bryan\"],[\"DE VRIES Berden\"],[\"PORSEV Alexander\"],[\"PHINNEY Taylor\"],[\"THEUNS Edward\"],[\"GO\\u0141A\\u015a Micha\\u0142\"],[\"MAES Nikolas\"],[\"VAN LERBERGHE Bert\"],[\"TANKINK Bram\"],[\"CAPIOT Amaury\"],[\"G\\u00c8NE Yohann\"],[\"S\\u00dcTTERLIN Jasha\"],[\"DOCKER Mitchell\"],[\"SIMION Paolo\"],[\"SCH\\u00c4R Michael\"],[\"ASSELMAN Jesper\"],[\"JANS Roy\"],[\"FISCHER Murilo Antonio\"],[\"KIENDY\\u015a Tomasz\"],[\"KUMP Marko\"],[\"DE BUYST Jasper\"],[\"KREDER Raymond\"],[\"VAN STAEYEN Michael\"],[\"WAGNER Robert\"],[\"TEUNISSEN Mike\"],[\"TURGOT S\\u00e9bastien\"],[\"VAN KEIRSBULCK Guillaume\"],[\"VAN POPPEL Danny\"],[\"CHAVANEL Sylvain\"],[\"HELVEN Sander\"],[\"\\u010cERN\\u00dd Josef\"],[\"KREDER Wesley\"],[\"FARRAR Tyler\"],[\"DOUGALL Nic\"],[\"PELLAUD Simon\"],[\"DANIEL Maxime\"],[\"JAUREGUI Quentin\"],[\"DENZ Nico\"],[\"GAUDIN Damien\"],[\"ZABEL Rick\"],[\"ST\\u0118PNIAK Grzegorz\"],[\"PALUTA Micha\\u0142\"],[\"S\\u00c9N\\u00c9CHAL Florian\"],[\"VANBILSEN Kenneth\"],[\"HOFSTETTER Hugo\"],[\"AHLSTRAND Jonas\"],[\"MORICE Julien\"],[\"PETIT Adrien\"],[\"CARDIS Romain\"],[\"TULIK Ang\\u00e9lo\"],[\"HUREL Tony\"],[\"LE BON Johan\"],[\"LE GAC Olivier\"],[\"OFFREDO Yoann\"],[\"TUFT Svein\"],[\"DURBRIDGE Luke\"],[\"CORT Magnus\"],[\"PIBERNIK Luka\"],[\"XU Gang\"],[\"FENG Chun Kai\"],[\"BEPPU Fumiyuki\"],[\"DEBESAY Mekseb\"],[\"BRAMMEIER Matt\"],[\"KRAGH ANDERSEN S\\u00f8ren\"],[\"SINKELDAM Ramon\"],[\"GRUZDEV Dmitriy\"],[\"WESTRA Lieuwe\"],[\"KAMYSHEV Arman\"],[\"LUTSENKO Alexey\"],[\"KNEES Christian\"],[\"FENN Andrew\"],[\"RICKAERT Jonas\"],[\"VAN HOECKE Gijs\"],[\"VAN MEIRHAEGHE Jef\"],[\"VAN HECKE Preben\"],[\"DEMOITI\\u00c9 Antoine\"],[\"NAPOLITANO Danilo\"],[\"ANTONINI Simone\"],[\"DEVRIENDT Tom\"],[\"DEHAES Kenny\"],[\"MARCATO Marco\"],[\"MCNALLY Mark\"],[\"NAESEN Oliver\"],[\"LAENGEN Vegard Stake\"],[\"OLIVEIRA Nelson\"],[\"PEDRERO Antonio\"],[\"ARCAS Jorge\"],[\"FRISON Frederik\"],[\"GREIPEL Andr\\u00e9\"],[\"LOOIJ Andr\\u00e9\"],[\"MARKUS Barry\"],[\"SLIK Ivar\"],[\"KERKHOF Tim\"],[\"BA\\u0160KA Erik\"],[\"GOGL Michael\"],[\"KOL\\u00c1\\u0158 Michael\"],[\"STERBINI Luca\"],[\"RUFFONI Nicola\"],[\"BRESCHEL Matti\"],[\"BETTIOL Alberto\"],[\"BEVIN Patrick\"],[\"WIPPERT Wouter\"],[\"BAUER Jack\"],[\"GOUGEARD Alexis\"],[\"ERVITI Imanol\"],[\"CLAEYS Dimitri\"],[\"THWAITES Scott\"],[\"FUGLSANG Jakob\"],[\"SAGAN Juraj\"],[\"VAN GINNEKEN Sjoerd\"],[\"ROOSEN Timo\"],[\"BACKAERT Frederik\"],[\"STEELS Stijn\"],[\"DUCHESNE Antoine\"],[\"SKUJI\\u0145\\u0160 Toms\"],[\"DEMPSTER Zak\"],[\"K\\u00dcNG Stefan\"],[\"DECLERCQ Tim\"],[\"PICHOT Alexandre\"],[\"SCHILLINGER Andreas\"],[\"MOSCON Gianni\"],[\"MINARD S\\u00e9bastien\"],[\"IRIZAR Markel\"],[\"THURAU Bj\\u00f6rn\"],[\"POLITT Nils\"],[\"WYNANTS Maarten\"],[\"WEENING Pieter\"],[\"DEVOLDER Stijn\"],[\"KEISSE Iljo\"],[\"ANDERSON Ryan\"],[\"MARTIN Tony\"],[\"KREDER Michel\"],[\"STUYVEN Jasper\"],[\"STOSZ Patryk\"],[\"DAL COL Andrea\"],[\"TROSINO Mirko\"],[\"FONZI Giuseppe\"],[\"DRAPERI Matteo\"],[\"SANZ Enrique\"],[\"SARREAU Marc\"],[\"HAIG Jack\"],[\"TSATEVICH Alexey\"],[\"EISEL Bernhard\"],[\"ARCHBOLD Shane\"],[\"MATZKA Ralf\"],[\"SCHWARZMANN Michael\"],[\"P\\u00d6STLBERGER Lukas\"],[\"BAUGNIES J\\u00e9r\\u00f4me\"],[\"VAN MELSEN K\\u00e9vin\"],[\"DEVENYNS Dries\"],[\"WALLAYS Jelle\"],[\"REUS Kai\"],[\"TRUSOV Nikolay\"],[\"SKJERPING Kristoffer\"],[\"HAYMAN Mathew\"],[\"BO\\u017dI\\u010c Borut\"],[\"VAN GENECHTEN Jonas\"],[\"JARRIER Beno\\u00eet\"],[\"MOUREY Francis\"],[\"\\u0160I\\u0160KEVI\\u010cIUS Evaldas\"],[\"LABORIE Christophe\"],[\"STENUIT Robin\"],[\"TRONET Steven\"],[\"GERTS Floris\"],[\"FARAZIJN Maxime\"],[\"BREEN Vegard\"],[\"MULLEN Ryan\"],[\"CASTELIJNS Twan\"],[\"BR\\u00c4NDLE Matthias\"],[\"BONNAMOUR Franck\"],[\"HUTAROVICH Yauheni\"],[\"MCLAY Daniel\"],[\"VALL\\u00c9E Boris\"],[\"J\\u00d5E\\u00c4\\u00c4R Gert\"],[\"GRELLIER Fabien\"],[\"HOELGAARD Daniel\"],[\"ISAYCHEV Vladimir\"],[\"COSTA M\\u00e1rio\"],[\"VAN POPPEL Boy\"],[\"VAN DER HAAR Lars\"],[\"AYAZBAYEV Maxat\"],[\"MORENO Javier\"],[\"GAIMON Phillip\"],[\"MARTINEZ Yannick\"],[\"ARISTI Mikel\"],[\"LAAS Martin\"],[\"COMBAUD Romain\"],[\"GALTA Fredrik Strand\"],[\"GIRAUD Benjamin\"],[\"GASPAROTTO Enrico\"],[\"VALGREN Michael\"],[\"ALAPHILIPPE Julian\"],[\"VLIEGEN Lo\\u00efc\"],[\"WELLENS Tim\"],[\"GERRANS Simon\"],[\"MOLLEMA Bauke\"],[\"BARGUIL Warren\"],[\"LAMMERTINK Maurits\"],[\"COSTA Rui\"],[\"TEUNS Dylan\"],[\"MORENO Daniel\"],[\"DE TIER Floris\"],[\"ROSA Diego\"],[\"GESINK Robert\"],[\"IZAGIRRE Ion\"],[\"S\\u00c1NCHEZ Samuel\"],[\"HENAO Sergio\"],[\"NORDHAUG Lars Petter\"],[\"KELDERMAN Wilco\"],[\"VAKO\\u010c Petr\"],[\"HOWES Alex\"],[\"HERMANS Ben\"],[\"CICCONE Giulio\"],[\"PREIDLER Georg\"],[\"POELS Wout\"],[\"JUNGELS Bob\"],[\"WARBASSE Larry\"],[\"GAUTIER Cyril\"],[\"HENAO Sebasti\\u00e1n\"],[\"SERRY Pieter\"],[\"LINDEMAN Bert-Jan\"],[\"VENTER Jaco\"],[\"SBARAGLI Kristian\"],[\"DUIJN Huub\"],[\"POLANC Jan\"],[\"KI\\u0160ERLOVSKI Robert\"],[\"LOSADA Alberto\"],[\"IZAGIRRE Gorka\"],[\"GILBERT Philippe\"],[\"CHERNETSKI Sergei\"],[\"TANNER David\"],[\"MACHADO Tiago\"],[\"DILLIER Silvan\"],[\"GASTAUER Ben\"],[\"MEERSMAN Gianni\"],[\"VAN DEN BROECK Jurgen\"],[\"DUMOULIN Tom\"],[\"VAN DER SANDE Tosh\"],[\"VAUGRENARD Beno\\u00eet\"],[\"PATERSKI Maciej\"],[\"MOHORI\\u010c Matej\"],[\"KING Ben\"],[\"OWSIAN \\u0141ukasz\"],[\"TOLHOEK Antwan\"],[\"CONTI Valerio\"],[\"HANSEN Jesper\"],[\"COLLI Daniele\"],[\"DE NEGRI Pier Paolo\"],[\"HAGA Chad\"],[\"MINNAARD Marco\"],[\"VERGAERDE Otto\"],[\"CHEREL Mika\\u00ebl\"],[\"VUILLERMOZ Alexis\"],[\"PLUCI\\u0143SKI Leszek\"],[\"STACCHIOTTI Riccardo\"],[\"BERLATO Giacomo\"],[\"BOLE Grega\"],[\"KOISHI Yuma\"],[\"CUNEGO Damiano\"],[\"KUBOKI Kazushige\"],[\"BOUDAT Thomas\"],[\"VOECKLER Thomas\"],[\"EIKING Odd Christian\"],[\"ROY J\\u00e9r\\u00e9my\"],[\"YATES Adam\"],[\"RODR\\u00cdGUEZ Joaquim\"],[\"DIDIER Laurent\"],[\"HESJEDAL Ryder\"],[\"REIJNEN Kiel\"],[\"SCHLECK Fr\\u00e4nk\"],[\"BERHANE Natnael\"],[\"REGUIGUI Youcef\"],[\"FRAILE Omar\"],[\"LUDVIGSSON Fredrik\"],[\"FR\\u00d6HLINGER Johannes\"],[\"ARU Fabio\"],[\"CATALDO Dario\"],[\"WALLAYS Jens\"],[\"VAN GESTEL Dries\"],[\"LIETAER Eliot\"],[\"VEUCHELEN Frederik\"],[\"ENGER Sondre Holst\"],[\"COPPEL J\\u00e9r\\u00f4me\"],[\"DENIFL Stefan\"],[\"CLEMENT Stef\"],[\"SUTHERLAND Rory\"],[\"FERN\\u00c1NDEZ Rub\\u00e9n\"],[\"HOOGERLAND Johnny\"],[\"TROFIMOV Yuri\"],[\"MCCARTHY Jay\"],[\"PETROV Evgeni\"],[\"BROWN Nathan\"],[\"MARTIN Dan\"],[\"WOODS Michael\"],[\"MOLARD Rudy\"],[\"LATOUR Pierre\"],[\"NAVARRO Daniel\"],[\"MEINTJES Louis\"],[\"ZEITS Andrey\"],[\"STETINA Peter\"],[\"S\\u00d8RENSEN Chris Anker\"],[\"OOMEN Sam\"],[\"VACHON Florian\"],[\"EL FARES Julien\"],[\"WEGMANN Fabian\"],[\"DE PLUS Laurens\"],[\"DELAPLACE Anthony\"],[\"ANT\\u00d3N Igor\"],[\"MARTIN Guillaume\"],[\"DE CLERCQ Bart\"],[\"DE LA CRUZ David\"],[\"CAMPENAERTS Victor\"],[\"PICHON Laurent\"],[\"WYSS Marcel\"],[\"FONSECA Armindo\"],[\"MEIER Christian\"],[\"HARDY Romain\"],[\"CHEVRIER Cl\\u00e9ment\"],[\"BILLE Ga\\u00ebtan\"],[\"TIRALONGO Paolo\"],[\"ZAUGG Oliver\"],[\"POLJA\\u0143SKI Pawe\\u0142\"],[\"ROVNY Ivan\"],[\"MARCZY\\u0143SKI Tomasz\"],[\"DI GR\\u00c9GORIO R\\u00e9my\"],[\"TURGIS Anthony\"],[\"CRADDOCK Lawson\"],[\"TEKLEHAIMANOT Daniel\"],[\"REIHS Michael\"],[\"VERMEULEN Alexey\"],[\"LOUBET Julien\"],[\"ARM\\u00c9E Sander\"],[\"EDET Nicolas\"],[\"BIDEAU Jean-Marc\"],[\"DUQUE Leonardo Fabio\"],[\"HONIG Reinier\"],[\"FERN\\u00c1NDEZ Delio\"],[\"BOUWMAN Koen\"],[\"MAGER Christian\"],[\"LEDANOIS K\\u00e9vin\"],[\"FEILLU Brice\"],[\"ZUBELDIA Haimar\"],[\"JANSE VAN RENSBURG Jacques\"],[\"FAIRLY Caleb\"],[\"NORMAN LETH Lasse \"],[\"KOEP Thomas\"],[\"GERDEMANN Linus\"],[\"PEDERSEN Mads\"],[\"CIOLEK Gerald\"],[\"DE GENDT Thomas\"],[\"DIAZ Daniel\"],[\"PACHER Quentin\"],[\"ZAKARIN Ilnur\"],[\"KANGERT Tanel\"],[\"BARDET Romain\"],[\"KUDUS Merhawi\"],[\"PERAUD Jean-Christophe\"],[\"POZZOVIVO Domenico\"],[\"MORABITO Steve\"],[\"BUCHMANN Emanuel\"],[\"F\\u00c9DRIGO Pierrick\"],[\"MENDES Jos\\u00e9\"],[\"SICARD Romain\"],[\"PORTE Richie\"],[\"SIUTSOU Kanstantsin\"],[\"BOUET Maxime\"],[\"HUZARSKI Bartosz\"],[\"FROOME Chris\"],[\"MAJKA Rafa\\u0142\"],[\"BAGOT Yoann\"],[\"ROSSKOPF Joey\"],[\"LUNKE Sindre\"],[\"JEANDESBOZ Fabrice\"],[\"CALMEJANE Lilian\"],[\"QU\\u00c9M\\u00c9NEUR Perrig\"],[\"CORNU J\\u00e9r\\u00e9my\"],[\"TAARAM\\u00c4E Rein\"],[\"BOBRIDGE Jack\"],[\"VAN WINDEN Dennis\"],[\"VAN DER LIJKE Nick\"],[\"ROCHE Nicolas\"],[\"BENNETT George\"],[\"NIEVE Mikel\"],[\"UR\\u00c1N Rigoberto\"],[\"KRUIJSWIJK Steven\"],[\"MADRAZO \\u00c1ngel\"],[\"FRANK Mathias\"],[\"CONTADOR Alberto\"],[\"PETILLI Simone\"],[\"BILBAO Pello\"],[\"ELISSONDE Kenny\"],[\"SILIN Egor\"],[\"ROSSETTO St\\u00e9phane\"],[\"FORMOLO Davide\"],[\"PARDILLA Sergio\"],[\"LANDA Mikel\"],[\"KOSHEVOY Ilia\"],[\"ROJAS Jos\\u00e9 Joaqu\\u00edn\"],[\"VILLELLA Davide\"],[\"ARROYO David\"],[\"CASTROVIEJO Jonathan\"],[\"CARTHY Hugh\"],[\"TXURRUKA Amets\"],[\"ROS\\u00d3N Jaime\"],[\"NIYONSHUTI Adrien\"],[\"PINEAU C\\u00e9dric\"],[\"HERN\\u00c1NDEZ BL\\u00c1ZQUEZ Jes\\u00fas\"],[\"MAS Llu\\u00eds\"],[\"L\\u00d3PEZ David\"],[\"KADRI Blel\"],[\"BONNAFOND Guillaume\"],[\"VELITS Peter\"],[\"BARBERO Carlos\"],[\"CHETOUT Lo\\u00efc\"],[\"GENIEZ Alexandre\"],[\"RESTREPO Jhonatan\"],[\"NIEMIEC Przemys\\u0142aw\"],[\"JIM Songezo\"],[\"LAMMERTINK Steven\"],[\"TEN DAM Laurens\"],[\"MALACARNE Davide\"],[\"ZANDIO Xabier\"],[\"LANG Pirmin\"],[\"VERVAEKE Louis\"],[\"DE BIE Sean\"],[\"PAULINHO S\\u00e9rgio Miguel\"],[\"EWAN Caleb\"],[\"DEGENKOLB John\"],[\"GROENEWEGEN Dylan\"],[\"TLEUBAYEV Ruslan\"],[\"SIM\\u00d3N Jordi\"],[\"POLNICK\\u00dd Ji\\u0159\\u00ed\"],[\"GRADEK Kamil\"],[\"ZEPUNTKE Ruben\"],[\"KITTEL Marcel\"],[\"BAUHAUS Phil\"],[\"GULDHAMMER Rasmus\"],[\"KAMP Alexander\"],[\"MARTINELLI Davide\"],[\"BOUHANNI Rayane\"],[\"B\\u00c9RARD Julien\"],[\"FRANCZAK Pawe\\u0142\"],[\"HERRADA Jes\\u00fas\"],[\"BANASZEK Adrian\"],[\"FOMINYKH Daniil\"],[\"BANASZEK Norbert\"],[\"SENNI Manuel\"],[\"ARREDONDO Juli\\u00e1n David\"],[\"WALSCHEID Max\"],[\"GUARDINI Andrea\"],[\"TENBROCK Jonas\"],[\"DOWSETT Alex\"],[\"KOCH Jonas\"],[\"ANIO\\u0141KOWSKI Stanis\\u0142aw\"],[\"DUMOULIN Samuel\"],[\"VELASCO Simone\"],[\"FUMEAUX Jonathan\"],[\"ZARDINI Edoardo\"],[\"DEGAND Thomas\"],[\"HUPOND Thierry\"],[\"WI\\u015aNIOWSKI \\u0141ukasz\"],[\"MOINARD Ama\\u00ebl\"],[\"VERONA Carlos\"],[\"SEP\\u00daLVEDA Eduardo\"],[\"G\\u00c9RARD Arnaud\"],[\"HIRT Jan\"],[\"GRO\\u00dfSCHARTNER Felix\"],[\"SAMOILAU Branislau\"],[\"PLAZA Rub\\u00e9n\"],[\"KOZONTCHUK Dmitry\"],[\"VAN ZYL Johann\"],[\"DEIGNAN Philip\"],[\"SOLER Marc\"],[\"KRAGH ANDERSEN Asbj\\u00f8rn\"],[\"BOIVIN Guillaume\"],[\"LANGLOIS Bruno\"],[\"BOOKWALTER Brent\"],[\"DROUIN David\"],[\"CARDOSO Andr\\u00e9\"],[\"PERRY Benjamin\"],[\"MAISON J\\u00e9r\\u00e9my\"],[\"BELKOV Maxim\"],[\"ELLSAY Nigel\"],[\"DAL-CIN Matteo\"],[\"CATAFORD Alexander\"],[\"MASBOURIAN Nicolas\"],[\"MALORI Adriano\"],[\"BOECKMANS Kris\"],[\"CHAVES Esteban\"],[\"TORRES Rodolfo Andr\\u00e9s\"],[\"MAMYKIN Matvey\"],[\"ATAPUMA Darwin\"],[\"REICHENBACH S\\u00e9bastien\"],[\"TALIANI Alessio\"],[\"KOCHETKOV Pavel\"],[\"GODOY Yonder\"],[\"SOLOMENNIKOV Andrei\"],[\"DUPONT Hubert\"],[\"YAMAMOTO Genki\"],[\"FILOSI Iuri\"],[\"ZILIOLI Gianfranco\"],[\"GROSU Eduard-Michael\"],[\"PEREZ Anthony\"],[\"ANDRIATO Rafael\"],[\"ZHUPA Eugert\"],[\"RODR\\u00cdGUEZ Cristi\\u00e1n\"],[\"HOWSON Damien\"],[\"POWER Robert\"],[\"\\u0110URASEK Kristijan\"],[\"BERNARD Julien\"],[\"LUDVIGSSON Tobias\"],[\"L\\u00d3PEZ Miguel \\u00c1ngel\"],[\"KIRYIENKA Vasil\"],[\"K\\u00d6NIG Leopold\"],[\"FIRSANOV Sergey\"],[\"FOLIFOROV Alexander\"],[\"SHALUNOV Evgeny\"],[\"KOLOBNEV Alexandr\"],[\"ZAKARIN Aydar\"],[\"NYCH Artem\"],[\"BOEV Igor\"],[\"DOCKX Gert\"],[\"MONFORT Maxime\"],[\"BANDIERA Marco\"],[\"NARDIN Alberto\"],[\"RATTO Daniele\"],[\"BONGIORNO Francesco Manuel\"],[\"MEYER Cameron\"],[\"VALLS Rafael\"],[\"HAMILTON Lucas\"],[\"HINDLEY Jai\"],[\"STORER Michael\"],[\"ACEVEDO Janier\"],[\"CANTY Brendan\"],[\"PLANCKAERT Baptiste\"],[\"GATE Aaron\"],[\"SHAW James\"],[\"CLARKE Jonathan\"],[\"NORRIS Lachlan\"],[\"GON\\u00c7ALVES Jos\\u00e9\"],[\"BAYLY Cameron\"],[\"BOWDEN Scott\"],[\"MEIJERS Jeroen\"],[\"MCCABE Travis\"],[\"HEPBURN Michael\"],[\"O'CONNOR Ben\"],[\"KONING Peter\"],[\"HAMILTON Chris\"],[\"PORTER Alexander\"],[\"VAN DER HOORN Taco\"],[\"ARIESEN Tim\"],[\"NIKOLAEV Sergey\"],[\"BIDARD Fran\\u00e7ois\"],[\"TUSVELD Martijn\"],[\"DUNNE Conor\"],[\"VELITS Martin\"],[\"HOFSTEDE Lennard\"],[\"MAS Enric\"],[\"PUTT Tanner\"],[\"SCOTSON Miles\"],[\"DENNIS Rohan\"],[\"MORTON Lachlan\"],[\"WATSON Calvin\"],[\"SAVITSKIY Ivan\"],[\"ERSHOV Artur\"],[\"HEGYVARY Adrian\"],[\"HENDERSON Gregory\"],[\"GUERREIRO Ruben\"],[\"ACKERMANN Pascal\"],[\"SVESHNIKOV Kirill\"],[\"CLARKE Will\"],[\"JULES Justin\"],[\"ISTA Kevyn\"],[\"VAN GOETHEM Brian\"],[\"TURGIS Jimmy\"],[\"PFINGSTEN Christoph\"],[\"SPRENGERS Thomas\"],[\"PARDINI Olivier\"],[\"NAESEN Lawrence\"],[\"CORDEEL Sander\"],[\"GARC\\u00cdA CORTINA Iv\\u00e1n\"],[\"VANTOMME Maxime\"],[\"LAMPAERT Yves\"],[\"SCULLY Tom\"],[\"P\\u00c9RICHON Pierre-Luc\"],[\"DUVAL Julien\"],[\"CORBEL Erwann\"],[\"FOURNIER Marc\"],[\"BIERMANS Jenthe\"],[\"KORS\\u00c6TH Truls Engen\"],[\"DELTOMBE Kevin\"],[\"PLANCKAERT Edward\"],[\"DE GENDT Aim\\u00e9\"],[\"STASSEN Julien\"],[\"KIRSCH Alex\"],[\"SPENGLER Lukas\"],[\"DE BONDT Dries\"],[\"VAN ZUMMEREN Stef\"],[\"PREMONT Christophe\"],[\"VERMELTFOORT Coen\"],[\"MOURIS Jens\"],[\"WILLIAMS Tyler\"],[\"YECHEZKEL Aviv\"],[\"R\\u00c4IM Mihkel\"],[\"SCHREURS Hamish\"],[\"INSAUSTI Jon Ander\"],[\"NIBALI Antonio\"],[\"NOVAK Domen\"],[\"PER David\"],[\"REINDERS Elmar\"],[\"PINOT Thibaut\"],[\"CINK Ond\\u0159ej\"],[\"ROGLI\\u010c Primo\\u017e\"],[\"GEOGHEGAN HART Tao\"],[\"PETERS Nans\"],[\"CANOLA Marco\"],[\"CARAPAZ Richard\"],[\"FRAPPORTI Mattia\"],[\"MASNADA Fausto\"],[\"SANTAROMITA Ivan\"],[\"BONUSI Raffaello\"],[\"BAGIOLI Nicola\"],[\"UCHIMA Kohei\"],[\"EDMONDSON Alex\"],[\"MATHIS Marco\"],[\"W\\u00dcRTZ SCHMIDT Mads\"],[\"RAVASI Edward\"],[\"TROIA Oliviero\"],[\"RICHEZE Maximiliano\"],[\"DOULL Owain\"],[\"BOSWELL Ian\"],[\"BICO Nuno\"],[\"BALLERINI Davide\"],[\"BENFATTO Marco\"],[\"SOSA Iv\\u00e1n Ramiro\"],[\"PACIONI Luca\"],[\"WACKERMANN Luca\"],[\"VENDRAME Andrea\"],[\"BUSATO Matteo\"],[\"MOSCA Jacopo\"],[\"CARRETERO H\\u00e9ctor\"],[\"PALINI Andrea\"],[\"CALABRIA Fabio\"],[\"VAN IJZENDOORN Rik\"],[\"POLI Umberto\"],[\"MAIKIN Roman\"],[\"KAMSTRA Brian\"],[\"NAKANE Hideto\"],[\"BARBIER Rudy\"],[\"VAN ROOY Kenneth\"],[\"CONSONNI Simone\"],[\"NEILANDS Krists\"],[\"TUREK Daniel\"],[\"JANSEN Amund Gr\\u00f8ndahl\"],[\"BOHLI Tom\"],[\"MINALI Riccardo\"],[\"MANZIN Lorrenzo\"],[\"DERUETTE Thomas\"],[\"DE WINTER Ludwig\"],[\"KRUOPIS Aidis\"],[\"VAN BREUSSEGEM Elias\"],[\"DUPONT Timothy\"],[\"GOOLAERTS Michael\"],[\"SAGIV Guy\"],[\"MERTZ R\\u00e9my\"],[\"DECLERCQ Benjamin\"],[\"ALLEGAERT Piet\"],[\"DUQUENNOY Jimmy\"],[\"ROBEET Ludovic\"],[\"MASSON Christophe\"],[\"PASQUALON Andrea\"],[\"GANNA Filippo\"],[\"DIBBEN Jonathan\"],[\"TURRIN Alex\"],[\"SMITH Dion\"],[\"BERTAZZO Liam\"],[\"BIZHIGITOV Zhandos\"],[\"WANG Meiyin\"],[\"GIBBONS Ryan\"],[\"LEMARCHAND Romain\"],[\"MEURISSE Xandro\"],[\"HIVERT Jonathan\"],[\"BUDDING Martijn\"],[\"TRATNIK Jan\"],[\"KACZMAREK Jakub\"],[\"SCHACHMANN Maximilian\"],[\"STALNOV Nikita\"],[\"COURTEILLE Arnaud\"],[\"RIESEBEEK Oscar\"],[\"SISR Franti\\u0161ek\"],[\"OURSELIN Paul\"],[\"DANIEL Gregory\"],[\"ALBANESE Vincenzo\"],[\"MARONESE Marco\"],[\"ARASHIRO Yukiya\"],[\"GAUDU David\"],[\"GESBERT \\u00c9lie\"],[\"PEYSKENS Dimitri\"],[\"WARNIER Antoine\"],[\"NAULEAU Bryan\"],[\"DELFOSSE S\\u00e9bastien\"],[\"CHRISTIAN Mark\"],[\"GRMAY Tsgabu\"],[\"HABEAUX Gr\\u00e9gory\"],[\"GUILLEMOIS Romain\"],[\"POLS Ruben\"],[\"DOUBEY Fabien\"],[\"PEARSON Daniel\"],[\"VAN EMPEL Etienne\"],[\"MIRZA Yousif\"],[\"OLIVIER Daan\"],[\"LEVARLET Guillaume\"],[\"ZIMMERMANN Georg\"],[\"RAPP Jonas\"],[\"HOLLER Nikodemus\"],[\"LOEF Georg\"],[\"FREIENSTEIN Raphael\"],[\"SOBALLA Carl\"],[\"HATZ Christopher\"],[\"WOUTERS Enzo\"],[\"IRVINE Martyn\"],[\"HERRADA Jos\\u00e9\"],[\"BRAJKOVI\\u010c Janez\"],[\"ZAKHAROV Artyom\"],[\"SCHULTZ Nick\"],[\"S\\u00c1EZ H\\u00e9ctor\"],[\"REIS Rafael\"],[\"PRADES Eduard\"],[\"LE TURNIER Mathias\"],[\"VINCENT L\\u00e9o\"],[\"HERKLOTZ Silvio\"],[\"INTXAUSTI Be\\u00f1at\"],[\"TALANSKY Andrew\"],[\"LASTRA Jonathan\"],[\"FERRARI Fabricio\"],[\"IRISARRI Jon\"],[\"D\\u00cdAZ Jos\\u00e9 Manuel\"],[\"ZABALA Josu\"],[\"PAGE Dylan\"],[\"TACIAK Mateusz\"],[\"VAN HOOYDONCK Nathan\"],[\"CECCHIN Alberto\"],[\"LOWNDES Jason\"],[\"BRO\\u017bYNA Piotr\"],[\"GOLDSTEIN Roy\"],[\"MALUCELLI Matteo\"],[\"CAVAGNA R\\u00e9mi\"],[\"GODON Dorian\"],[\"KEIZER Martijn\"],[\"MA\\u0141ECKI Kamil\"],[\"FINETTO Mauro\"],[\"ROLLAND Pierre\"],[\"VENTURINI Cl\\u00e9ment\"],[\"BURKE Jack\"],[\"KOZHATAYEV Bakhtiyar\"],[\"SOUCY Marc-antoine\"],[\"COWAN Alexander\"],[\"COT\\u00c9 Pier-Andr\\u00e9\"],[\"QUINTANA Nairo\"],[\"BERNAL Egan\"],[\"BISOLTI Alessandro\"],[\"KOBAYASHI Marino\"],[\"FL\\u00d3REZ Miguel Eduardo\"],[\"ARSLANOV Ildar\"],[\"STERBINI Simone\"],[\"VAN AERT Wout\"],[\"M\\u00dcLLER Patrick\"],[\"WELTEN Bram\"],[\"CARBEL Michael\"],[\"RIABUSHENKO Alexandr\"],[\"LAWLESS Chris\"],[\"LEYSEN Senne\"],[\"OWEN Logan\"],[\"MADOUAS Valentin\"],[\"KUSS Sepp\"],[\"HATSUYAMA Sho\"],[\"CIMA Damiano\"],[\"TIZZA Marco\"],[\"BOU Joan\"],[\"ARMIRAIL Bruno\"],[\"K\\u00c4MNA Lennard\"],[\"BASSO Leonardo\"],[\"DE WITTE Mathias\"],[\"RIVERA Kevin\"],[\"SPREAFICO Matteo\"],[\"PADUN Mark\"],[\"MAGNUSSON Kim\"],[\"JENSEN August\"],[\"POWLESS Neilson\"],[\"CARBONI Giovanni\"],[\"VLASOV Aleksandr\"],[\"KURIANOV Stepan\"],[\"BRAND Sam\"],[\"CHERKASOV Nikolay\"],[\"KOBERNYAK Evgeny\"],[\"TURGIS Tanguy\"],[\"HALVORSEN Kristoffer\"],[\"VAN SCHIP Jan-Willem\"],[\"LECROQ J\\u00e9r\\u00e9my\"],[\"GAREL Adrien\"],[\"NOPPE Christophe\"],[\"WARLOP Jordi\"],[\"MENTEN Milan\"],[\"PEDERSEN Casper\"],[\"HODEG \\u00c1lvaro Jos\\u00e9\"],[\"SELLIER Simon\"],[\"VERWILST Aaron\"],[\"EENKHOORN Pascal\"],[\"MORTIER Julien\"],[\"TRARIEUX Julien\"],[\"JONES Brenton\"],[\"KASPERKIEWICZ Przemys\\u0142aw\"],[\"ERMENAULT Corentin\"],[\"COSNEFROY Beno\\u00eet\"],[\"DUNBAR Eddie\"],[\"DAVIES Scott\"],[\"SEIGLE Romain\"],[\"SMIT Willie\"],[\"CRAS Steff\"],[\"GHEBREIGZABHIER Amanuel\"],[\"MOTTIER Justin\"],[\"PERNSTEINER Hermann\"],[\"LAMBRECHT Bjorg\"],[\"FRANKINY Kilian\"],[\"FABBRO Matteo\"],[\"DLAMINI Nic\"],[\"KNOX James\"],[\"VAN GOMPEL Mathias\"],[\"DE ROSSI Lucas\"],[\"RODR\\u00cdGUEZ Jhon Anderson\"],[\"ANTUNES Amaro\"],[\"SCHLEGEL Michal\"],[\"CIE\\u015aLIK Pawe\\u0142\"],[\"JAKOBSEN Fabio\"],[\"GIDICH Yevgeniy\"],[\"FRAME Alex\"],[\"ARANBURU Alex\"],[\"EZQUERRA Jes\\u00fas\"],[\"ITURRIA Mikel\"],[\"NARV\\u00c1EZ Jhonatan\"],[\"BOL Jetse\"],[\"BARTHE Cyril\"],[\"RODR\\u00cdGUEZ Sergio\"],[\"ASGREEN Kasper\"],[\"TORRES Pablo\"],[\"CUBERO Jorge\"],[\"RUBIO Diego\"],[\"SOTO Nelson Andr\\u00e9s\"],[\"IRIZAR Julen\"],[\"BRAVO Garikoitz\"],[\"BIZKARRA Mikel\"],[\"BAG\\u00dcES Aritz\"],[\"LIVYNS Arjen\"],[\"SHILOV Sergey\"],[\"GODRIE Stan\"],[\"RUSSO Cl\\u00e9ment\"],[\"RAGGIO Luca\"],[\"VAN DEN BERG Julius\"],[\"LEVEAU J\\u00e9r\\u00e9my\"],[\"MCNULTY Brandon\"],[\"PICCOLI James\"],[\"CASTRILLO Jaime\"],[\"CARPENTER Robin\"],[\"BRITTON Rob\"],[\"ROBERGE Adam\"],[\"VANHOUCKE Harm\"],[\"EARLE Nathan\"],[\"DE VOS Adam\"],[\"JOYCE Colin\"],[\"WALSH Edward\"],[\"ZUKOWSKY Nickolas\"],[\"DOMBROWSKI Joe\"],[\"CHR\\u00c9TIEN Charles-\\u00c9tienne\"],[\"NIV Guy\"],[\"CONCI Nicola\"],[\"SCH\\u00d6NBERGER Sebastian\"],[\"LE ROUX Romain\"],[\"ZACCANTI Filippo\"],[\"EG Niklas\"],[\"GOLDSTEIN Omer\"],[\"GEBREMEDHIN Awet\"],[\"ORSINI Umberto\"],[\"SUNDERLAND Dylan\"],[\"SIVAKOV Pavel\"],[\"POGA\\u010cAR Tadej\"],[\"PHILIPSEN Jasper\"],[\"BOL Cees\"],[\"SAJNOK Szymon\"],[\"HAGEN Carl Fredrik\"],[\"TOOVEY Ayden\"],[\"FREIBERG Michael\"],[\"WHITE Nicholas\"],[\"WHELAN James\"],[\"SWEENY Harry\"],[\"STANNARD Robert\"],[\"GREGAARD Jonas\"],[\"HONOR\\u00c9 Mikkel Fr\\u00f8lich\"],[\"STRAKHOV Dmitry\"],[\"ELLIOTT Nathan\"],[\"OLIVEIRA Ivo\"],[\"KANTER Max\"],[\"TURNBULL Carter\"],[\"TOUZ\\u00c9 Damien\"],[\"JANSSENS Jimmy\"],[\"LIEPI\\u0145\\u0160 Em\\u012bls\"],[\"TAMINIAUX Lionel\"],[\"MEISEN Marcel\"],[\"VAN TRIJP Maarten\"],[\"STALLAERT Joeri\"],[\"AFFINI Edoardo\"],[\"TANFIELD Harry\"],[\"MOLANO Juan Sebasti\\u00e1n\"],[\"TILLER Rasmus\"],[\"WIRTGEN Tom\"],[\"CAICEDO Jonathan Klever\"],[\"HIRSCHI Marc\"],[\"GAROSIO Andrea\"],[\"LONARDI Giovanni\"],[\"SCOTSON Callum\"],[\"MOSCHETTI Matteo\"],[\"M\\u00c4DER Gino\"],[\"BENNETT Sean\"],[\"CAM Maxime\"],[\"MARENGO Umberto\"],[\"KUSZTOR P\\u00e9ter\"],[\"PESSOT Alessandro\"],[\"N\\u00d5MMELA Aksel\"],[\"BERNAS Pawe\\u0142\"],[\"TIMMERMANS Justin\"],[\"BURGAUDEAU Mathieu\"],[\"STORK Florian\"],[\"DEWULF Stan\"],[\"SIX Franklin\"],[\"PAASSCHENS Mathijs\"],[\"GHYS Robbe\"],[\"WEEMAES Sasha\"],[\"FORTIN Filippo\"],[\"DE DECKER Alfdan\"],[\"WILLEMS Thimo\"],[\"IVERSEN Rasmus\"],[\"CARISEY Cl\\u00e9ment\"],[\"DE VYLDER Lindsay\"],[\"PLANCKAERT Emiel\"],[\"VAN DER POEL Mathieu\"],[\"VERMEERSCH Gianni\"],[\"RIOU Alan\"],[\"ARERUYA Joseph\"],[\"WALSLEBEN Philipp\"],[\"GONZ\\u00c1LEZ Mario\"],[\"PARET-PEINTRE Aur\\u00e9lien\"],[\"BARTA Will\"],[\"MANNION Gavin\"],[\"MOLLY Kenny\"],[\"RODR\\u00cdGUEZ \\u00d3scar\"],[\"BARRENETXEA Ander\"],[\"\\u00c1VILA Edwin\"],[\"VAN POUCKE Aaron\"],[\"GABBURO Davide\"],[\"NIEUWENHUIS Joris\"],[\"FORTUNATO Lorenzo\"],[\"BOUCHARD Geoffrey\"],[\"OLIVEIRA Rui\"],[\"ROSA Massimo\"],[\"VOROBYEV Anton\"],[\"EVENEPOEL Remco\"],[\"H\\u00c4NNINEN Jaakko\"],[\"ZOIDL Riccardo\"],[\"SERRANO Gonzalo\"],[\"BARCEL\\u00d3 Fernando\"],[\"NICOLAU Joel\"],[\"SESSLER N\\u00edcolas\"],[\"NEVES Jos\\u00e9\"],[\"GENIETS Kevin\"],[\"HAYTER Ethan\"],[\"WALLS Matthew\"],[\"FEDELI Alessandro\"],[\"THIJSSEN Gerben\"],[\"GUERIN Alexis\"],[\"SWIFT Connor\"],[\"STEWART Thomas\"],[\"SCHMIDT Fabien\"],[\"CULLAIGH Gabriel\"],[\"VILLALOBOS Luis\"],[\"RIKUNOV Petr\"],[\"CONTRERAS Rodrigo\"],[\"KULIKOV Vladislav\"],[\"VAN MOER Brent\"],[\"GERVAIS Laurent\"],[\"VINGEGAARD Jonas\"],[\"CHEYNE Jordan\"],[\"BURTNIK Evan\"],[\"PLAMONDON Robin\"],[\"HIGUITA Sergio\"],[\"RUMAC Josip\"],[\"COVILI Luca\"],[\"SAVINI Daniel\"],[\"MU\\u00d1OZ Daniel\"],[\"RYBALKIN Aleksey\"],[\"ROMANO Francesco\"],[\"HOLMES Matthew\"],[\"LIENHARD Fabian\"],[\"DE BOD Stefan\"],[\"SCHELLING Ide\"],[\"ALMEIDA Jo\\u00e3o\"],[\"L\\u00d3PEZ Juan Pedro\"],[\"PORTER Rudy\"],[\"RUTSCH Jonas\"],[\"RIES Michel\"],[\"BATTISTELLA Samuele\"],[\"LEAHY Conor\"],[\"DAINESE Alberto\"],[\"WURF Cameron\"],[\"SCHULTZ Elliot\"],[\"QUICK Blake\"],[\"BUITRAGO Santiago\"],[\"JACOBS Johan\"],[\"KONYCHEV Alexander\"],[\"WRIGHT Fred\"],[\"MORIN Emmanuel\"],[\"BJERG Mikkel\"],[\"COVI Alessandro\"],[\"SIMMONS Quinn\"],[\"STOKBRO Andreas\"],[\"EEKHOFF Nils\"],[\"GAMPER Patrick\"],[\"BEULLENS Cedric\"],[\"DE WILDE Gilles\"],[\"SUTER Joel\"],[\"HOLLMANN Juri\"],[\"JORGENSON Matteo\"],[\"RAVANELLI Simone\"],[\"GUGLIELMI Simon\"],[\"SOBRERO Matteo\"],[\"HERMANS Quinten\"],[\"VAN KESSEL Corn\\u00e9\"],[\"RUBIO Einer Augusto\"],[\"GOOSSENS Kobe\"],[\"VERMEERSCH Florian\"],[\"OLDANI Stefano\"],[\"VAHTRA Norman\"],[\"VIEL Mattia\"],[\"MAZZUCCO Fabio\"],[\"DALLA VALLE Nicolas\"],[\"FIORELLI Filippo\"],[\"CHEVALIER Maxime\"],[\"GONZ\\u00c1LEZ Roberto Carlos\"],[\"BAIS Mattia\"],[\"CIMA Imerio\"],[\"BONIFAZIO Leonardo\"],[\"MITRI James\"],[\"VENCHIARUTTI Nicola\"],[\"BADILATTI Matteo\"],[\"TEJADA Harold\"],[\"HARPER Chris\"],[\"ALBA Juan Diego\"],[\"VALTER Attila\"],[\"THOMAS Benjamin\"],[\"ZANA Filippo\"],[\"DELACROIX Th\\u00e9o\"],[\"CHAMPOUSSIN Cl\\u00e9ment\"],[\"VIVIANI Attilio\"],[\"BRUNEL Alexys\"],[\"DYBALL Benjamin\"],[\"BAGIOLI Andrea\"],[\"DE PLUS Jasper\"],[\"KUZMIN Anton\"],[\"NEKRASOV Denis\"],[\"CHIRICO Luca\"],[\"MOZZATO Luca\"],[\"GAILLARD Marlon\"],[\"STEIMLE Jannik\"],[\"LAFAY Victor\"],[\"TORRES Albert\"],[\"QUARTERMAN Charlie\"],[\"BOH\\u00d3RQUEZ Hernando\"],[\"GIRMAY Biniam\"],[\"MORA Sebasti\\u00e1n\"],[\"INKELAAR Kevin\"],[\"ELOSEGUI I\\u00f1igo\"],[\"CABOT J\\u00e9r\\u00e9my\"],[\"GALL Felix\"],[\"VAN WILDER Ilan\"],[\"SAMITIER Sergio\"],[\"HUYS Laurens\"],[\"TULETT Ben\"],[\"FERRON Valentin\"],[\"VANSEVENANT Mauri\"],[\"DONOVAN Mark\"],[\"MERTENS Julian\"],[\"ARENSMAN Thymen\"],[\"WILLIAMS Stephen\"],[\"FIN\\u00c9 Eddy\"],[\"GARRISON Ian\"],[\"PE\\u00c1K Barnab\\u00e1s\"],[\"MU\\u00d1OZ Cristian Camilo\"],[\"ARDILA Andr\\u00e9s Camilo\"],[\"SCHELLING Patrick\"],[\"MERLIER Tim\"],[\"STEWART Jake\"],[\"GROVES Kaden\"],[\"CASTRIQUE Jonas\"],[\"EINHORN Itamar\"],[\"VAN DEN BOSSCHE Fabio\"],[\"MAITRE Florian\"],[\"WIRTGEN Luc\"],[\"KRIEGER Alexander\"],[\"BISSEGGER Stefan\"],[\"KONGSTAD Tobias\"],[\"RODR\\u00cdGUEZ Carlos\"],[\"LOUVEL Matis\"],[\"GRONDIN Donavan\"],[\"DE KLEIJN Arvid\"],[\"ERIKSSON Lucas\"],[\"HAVIK Piotr\"],[\"DE KETELE Kenny\"],[\"PIDCOCK Thomas\"],[\"CARVALHO Andre\"],[\"KRON Andreas\"],[\"KOOIJ Olav\"],[\"NORSGAARD Mathias\"],[\"COLMAN Alex\"],[\"FEDOROV Yevgeniy\"],[\"EGHOLM Jakob\"],[\"VINJEBO Emil Mielke\"],[\"M\\u00c4RKL Niklas\"],[\"CARR Simon\"],[\"SCHMID Mauro\"],[\"FOSS Tobias\"],[\"ALEOTTI Giovanni\"],[\"ZWIEHOFF Ben\"],[\"GONZ\\u00c1LEZ Abner\"],[\"CONCA Filippo\"],[\"CHAMPION Thomas\"],[\"FETTER Erik\"],[\"BAIS Davide\"],[\"DI RENZO Andrea\"],[\"ZOCCARATO Samuele\"],[\"VERMAERKE Kevin\"],[\"TAGLIANI Filippo\"],[\"ORRICO Davide\"],[\"BEVILACQUA Mattia\"],[\"RENARD Alexis\"],[\"CEPEDA Jefferson Alexander\"],[\"SEVILLA Diego Pablo\"],[\"GARC\\u00cdA Sergio\"],[\"GR\\u00c1VALOS Arturo\"],[\"VIEGAS Daniel\"],[\"GUERNALEC Thibault\"],[\"BEVILACQUA Simone\"],[\"IACCHI Alessandro\"],[\"PETELIN Jan\"],[\"VACEK Karel\"],[\"RIVI Samuele\"],[\"PONOMAR Andrii\"],[\"DAVY Cl\\u00e9ment\"],[\"MARIT Arne\"],[\"DEKKER David\"],[\"JULLIEN Anthony\"],[\"REYNDERS Jens\"],[\"APERS Ruben\"],[\"TORTOMASI Leonardo\"],[\"RESELL Erik Nords\\u00e6ter\"],[\"PELUCCHI Matteo\"],[\"REX Laurenz\"],[\"MILAN Jonathan\"],[\"SCHNEITER Joab\"],[\"GRIGNARD S\\u00e9bastien\"],[\"W\\u00c6RSTED Syver\"],[\"LEKNESSUND Andreas\"],[\"SALMON Martin\"],[\"VAN ELZAKKER Wout\"],[\"RODENBERG Frederik\"],[\"SKAARSETH Anders\"],[\"LARSEN Niklas\"],[\"HOELGAARD Markus\"],[\"HVIDEBERG Jonas Iversby\"],[\"VANHOOF Ward\"],[\"PAQUOT Tom\"],[\"ARROYAVE Daniel\"],[\"MEEUS Jordi\"],[\"ABRAHAMSEN Jonas\"],[\"HERREGODTS Rune\"],[\"URIANSTAD Martin\"],[\"SKAARSETH Iver\"],[\"MONIQUET Sylvain\"],[\"BRENNER Marco\"],[\"ROCHAS R\\u00e9my\"],[\"VAN GILS Maxim\"],[\"AYUSO Juan\"],[\"ADRI\\u00c0 Roger\"],[\"BERRADE Urko\"],[\"AGIRRE Jon\"],[\"PARRA Jos\\u00e9 F\\u00e9lix\"],[\"AZURMENDI Ibai\"],[\"COLLEONI Kevin\"],[\"VAN DEN BERG Lars\"],[\"MART\\u00cdN Gotzon\"],[\"BERWICK Sebastian\"],[\"LAZKANO Oier\"],[\"LANGELLOTTI Victor\"],[\"NATAROV Yuriy\"],[\"ROMO Javier\"],[\"MURGUIALDAY Jokin\"],[\"S\\u00c1NCHEZ Pelayo\"],[\"MOLENAAR Alex\"],[\"CABEDO \\u00d3scar\"],[\"BARRENETXEA Jon\"],[\"BROWN Connor\"],[\"VERVLOESEM Xandres\"],[\"AZPARREN Xabier Mikel\"],[\"NOVIKOV Savva\"],[\"L\\u00d3PEZ Jordi\"],[\"GARC\\u00cdA PIERNA Ra\\u00fal\"],[\"FERASSE Thibault\"],[\"SKJELMOSE Mattias\"],[\"L\\u00d3PEZ-C\\u00d3ZAR Juan Antonio\"],[\"PE\\u00d1ALVER Manuel\"],[\"FUENTES \\u00c1ngel\"],[\"BELLICAUD Jeremy\"],[\"DELETTRE Alexandre\"],[\"LEEMREIZE Gijs\"],[\"CANT\\u00d3N Isaac\"],[\"APARICIO Mario\"],[\"MULLER Gabriel\"],[\"TIBERI Antonio\"],[\"WANDAHL Frederik\"],[\"RIVERA Brandon Smith\"],[\"BERTHET Cl\\u00e9ment\"],[\"HULGAARD Morten\"],[\"PRODHOMME Nicolas\"],[\"SCARONI Christian\"],[\"TR\\u00c6EN Torstein\"],[\"RICHARDSON Alexandar\"],[\"BAYER Tobias\"],[\"HINDSGAUL Jacob\"],[\"DE PESTEL Sander\"],[\"BRUSSENSKIY Gleb\"],[\"BARBIER Pierre\"],[\"RAJOVI\\u0106 Du\\u0161an\"],[\"MONACO Alessandro\"],[\"CAMARGO Diego Andr\\u00e9s\"],[\"DVERSNES Fredrik\"],[\"VAUQUELIN K\\u00e9vin\"],[\"JOHANNESSEN Tobias Halland\"],[\"TURNER Ben\"],[\"HEALY Ben\"],[\"ASKEY Lewis\"],[\"BLOUWE Louis\"],[\"HOOLE Daan\"],[\"SHEFFIELD Magnus\"],[\"MAAS Jan\"],[\"BALLERSTEDT Maurice\"],[\"MAYRHOFER Marius\"],[\"HEINSCHKE Leon\"],[\"GAZZOLI Michele\"],[\"STRONG Corbin\"],[\"ZAMBANINI Edoardo\"],[\"VADER Milan\"],[\"VAN DEN BERG Marijn\"],[\"JONES Taj\"],[\"BENEDETTI Gabriele\"],[\"CA\\u00d1AVERAL Johnatan\"],[\"TOLIO Alex\"],[\"DINA M\\u00e1rton\"],[\"OSORIO Alejandro\"],[\"EL GOUZI Omar\"],[\"ZURITA Ricardo Alejandro\"],[\"MERCHAN Didier\"],[\"DE LIE Arnaud\"],[\"W\\u00c6RENSKJOLD S\\u00f8ren\"],[\"FRETIN Milan\"],[\"WELSFORD Sam\"],[\"DUJARDIN Sandy\"],[\"STEWART Campbell\"],[\"PAJUR Markus\"],[\"GRO\\u00df Felix\"],[\"MACIEJUK Filip\"],[\"JOHANSEN Julius\"],[\"ZANONCELLO Enrico\"],[\"LAUK Karl Patrick\"],[\"HESTERS Jules\"],[\"O'BRIEN Kelland\"],[\"ABERASTURI Jon\"],[\"COLNAGHI Luca\"],[\"DENS Tuur\"],[\"SAUGSTAD Lars\"],[\"VAN DIJKE Tim\"],[\"BLUME LEVY William\"],[\"KORETZKY Victor\"],[\"PAGE Hugo\"],[\"RAUGEL Antoine\"],[\"HEIDUK Kim\"],[\"BERCKMOES Jenno\"],[\"BRAET Vito\"],[\"VAN DIJKE Mick\"],[\"GUDMESTAD Tord\"],[\"VAN TRICHT Stan\"],[\"UIJTDEBROEKS Cian\"],[\"BARONCINI Filippo\"],[\"MEENS Johan\"],[\"RANGEL Vinicius\"],[\"BALMER Alexandre\"],[\"FISHER-BLACK Finn\"],[\"RASTELLI Luca\"],[\"BOILEAU Alan\"],[\"TIETEMA Bas\"],[\"PRICE-PEJTERSEN Johan\"],[\"BONNEU Kamiel\"],[\"ZINGLE Axel\"],[\"JOUSSEAUME Alan\"],[\"VANDENABEELE Henri\"],[\"VERSCHAEVE Viktor\"],[\"HESSMANN Michel\"],[\"LAPEIRA Paul\"],[\"PE\\u00d1A Jes\\u00fas David\"],[\"SLEEN Torjus\"],[\"ANDERSEN Idar\"],[\"MIQUEL Pau\"],[\"VINE Jay\"],[\"S\\u00c1NCHEZ Eugenio\"],[\"RUIZ Ibon\"],[\"VAN DER TUUK Danny\"],[\"JOHANNESSEN Anders Halland\"],[\"GALV\\u00c1N Francisco\"],[\"PELEGR\\u00cd \\u00d3scar\"],[\"DESAL Ceriel\"],[\"ORTS Felipe\"],[\"VENNER Quentin\"],[\"ANGULO Antonio\"],[\"OKAMIKA Ander\"],[\"PRONSKIY Vadim\"],[\"MORENO Adri\\u00e0\"],[\"AULAR Orluis\"],[\"GARC\\u00cdA Jhojan\"],[\"IRIBAR Unai\"],[\"JUARISTI Txomin\"],[\"ARRIETA Igor\"],[\"HELLEMOSE Asbj\\u00f8rn\"],[\"BITTNER Pavel\"],[\"GOVEKAR Matev\\u017e\"],[\"BRUSTENGA Marc\"],[\"LAURANCE Axel\"],[\"PICCOLO Andrea\"],[\"RETAILLEAU Valentin\"],[\"BARR\\u00c9 Louis\"],[\"TOUMIRE Hugo\"],[\"RIVARD Nicolas\"],[\"MILES Carson\"],[\"SCHELLENBERG Thomas\"],[\"COWAN Quentin\"],[\"C\\u00d4T\\u00c9 Nicolas\"],[\"FANCELLU Alessandro\"],[\"UMBA Santiago\"],[\"TESFATSION Natnael\"],[\"QUINN Sean\"],[\"MART\\u00cdN Sergio Roman\"],[\"MULUBRHAN Henok\"]],\"hovertemplate\":\"0=%{x}<br>1=%{y}<br>rider=%{customdata[0]}<br>cluster=%{marker.color}<extra></extra>\",\"legendgroup\":\"\",\"marker\":{\"color\":[3,0,1,3,2,4,1,0,1,3,3,2,0,1,2,1,0,0,1,0,0,0,1,4,0,1,1,0,1,0,2,0,1,1,0,0,0,0,0,3,1,4,0,0,1,0,0,0,1,0,0,0,0,4,4,0,1,2,2,0,0,0,1,0,1,0,0,0,1,0,0,0,0,0,0,0,0,0,4,1,0,0,0,4,3,0,0,0,0,1,0,0,0,0,1,0,0,0,0,0,0,0,0,0,0,0,0,0,0,4,0,1,0,1,0,0,0,0,0,0,0,0,0,0,0,4,0,0,4,0,0,0,0,0,0,0,0,0,0,4,0,3,4,0,0,0,0,0,0,0,0,0,0,0,0,0,1,1,0,0,0,0,0,0,0,0,1,0,3,0,0,1,0,0,0,0,0,0,0,0,0,0,0,0,0,0,0,1,0,0,0,0,0,1,0,0,0,0,0,0,0,0,3,0,1,0,0,0,1,1,0,0,0,0,1,0,0,0,0,0,0,0,0,0,0,0,1,0,0,0,0,0,4,0,0,0,0,0,0,0,0,0,0,0,0,0,0,1,0,4,0,0,1,0,0,0,0,0,1,0,0,4,0,0,0,0,0,0,0,0,0,0,0,1,1,0,0,0,0,0,0,0,0,0,0,0,0,1,0,0,0,0,0,0,0,0,0,0,0,0,0,0,0,0,1,0,4,0,0,0,0,1,1,0,0,0,1,0,0,1,4,3,0,0,0,1,0,0,0,1,0,0,0,0,0,0,4,4,0,0,0,0,0,0,0,4,0,0,0,0,0,0,0,0,0,0,0,0,0,4,0,0,0,0,0,0,0,0,0,0,0,0,0,0,0,0,0,0,0,0,1,0,0,0,0,0,0,0,0,0,0,0,0,0,3,1,2,0,1,0,1,1,0,1,1,0,0,0,1,1,0,1,0,1,0,0,1,1,0,0,1,0,0,0,0,0,0,1,0,0,0,0,1,2,1,1,0,1,0,0,0,3,0,0,0,3,0,0,1,0,0,0,0,0,0,0,0,1,0,0,0,0,0,0,0,0,0,1,0,1,3,0,0,0,1,0,0,0,0,0,0,0,0,0,0,0,0,1,0,0,0,0,0,0,0,0,0,1,1,1,1,0,0,0,0,0,0,0,0,0,0,0,1,1,0,0,0,4,0,0,0,0,0,0,0,0,0,0,0,0,3,0,0,0,0,0,0,0,0,0,0,0,0,0,0,0,0,0,0,0,0,0,2,0,0,0,0,0,0,1,0,0,1,0,1,0,0,0,0,0,0,0,0,1,0,0,0,0,0,0,0,0,0,0,0,1,1,1,1,1,0,1,0,0,3,1,0,0,3,0,1,0,0,1,0,0,0,0,0,0,0,0,0,0,0,0,0,0,0,0,0,0,0,0,0,0,0,0,0,0,0,3,4,3,0,0,0,0,0,0,0,0,1,0,0,0,0,1,0,0,0,0,0,1,0,1,0,0,1,0,0,0,0,0,0,0,0,0,0,0,0,0,0,0,0,0,0,0,0,0,0,0,0,0,0,0,0,0,0,0,0,0,0,1,1,1,0,0,1,0,0,0,0,0,0,0,0,0,0,0,0,0,3,0,0,0,0,0,0,0,0,0,0,0,0,0,0,0,0,0,0,0,1,0,0,1,0,0,0,4,0,0,0,0,0,0,0,0,0,0,0,0,0,1,0,0,0,0,0,0,0,0,1,0,0,0,0,0,0,0,0,0,1,4,0,0,0,0,0,0,0,0,0,0,0,4,0,3,0,0,0,0,0,0,0,0,0,1,0,1,0,0,0,0,0,0,0,0,0,0,0,0,0,0,0,1,0,1,0,1,0,1,0,1,0,0,0,0,0,0,0,0,0,0,0,0,0,1,0,0,0,0,0,0,0,0,1,0,0,0,0,0,0,0,0,4,0,0,4,0,0,0,0,0,0,0,0,0,0,0,0,1,0,0,0,4,0,0,0,0,0,0,0,0,0,0,0,0,0,0,1,0,0,0,0,0,0,0,0,0,1,0,0,0,0,0,0,0,0,0,0,0,0,0,0,0,0,0,0,0,0,0,0,0,0,0,0,0,0,0,0,0,0,0,0,0,0,0,0,0,0,0,0,0,0,0,0,0,0,0,0,0,0,1,0,0,1,0,0,0,0,0,0,1,3,0,0,0,0,0,2,0,0,0,0,0,0,0,1,0,0,0,0,0,0,0,0,0,0,0,0,0,0,1,0,1,0,0,0,0,0,0,1,1,0,0,0,0,0,0,0,0,1,0,0,0,0,0,2,1,0,0,0,0,0,0,1,2,0,0,0,0,0,0,0,0,0,0,1,0,0,1,0,0,3,0,0,0,3,0,0,0,0,0,0,0,0,0,1,0,0,0,0,0,0,0,0,0,0,0,0,0,0,0,0,0,0,0,0,0,0,0,0,0,0,0,0,0,2,1,4,0,0,1,0,0,0,0,0,0,0,1,0,0,0,0,0,0,0,0,0,0,0,0,0,0,0,1,0,0,1,0,0,0,0,0,0,0,0,0,0,0,0,0,1,0,0,0,0,0,1,0,0,0,0,0,0,0,2,1,0,0,0,0,0,0,0,0,0,0,0,0,4,0,0,0,0,0,0,3,0,0,1,0,0,0,0,1,4,0,1,1,0,1,0,0,0,0,0,0,1,0,0,1,0,0,0,1,0,0,0,0,0,0,0,0,1,0,0,0,0,1,0,0,0,0,0,0,0,0,0,0,1,0,0,0,0,0,1,0,1,0,0,0,0,0,0,0,4,0,0,0,4,0,0,0,0,0,0,1,0,0,0,0,0,0,0,0,0,0,3,4,0,0,0,0,0,0,1,0,0,0,0,1,0,0,0,0,0,0,2,0,0,0,0,0,0,0,0,1,0,1,0,0,0,0,0,0,0,0,0,0,3,1,0,0,0,0,0,0,0,0,0,1,0,0,0,0,0,0,3,0,0,4,1,0,0,0,0,0,0,1,0,1,0,0,0,0,0,0,0,0,0,0,0,0,0,0,0,0,0,0,0,0,0,0,0,0,0,0,0,0,0,0,0,0,0,0,1,0,0,0,0,0,0,0,0,1,0,3,0,0,0,0,0,0,0,0,0,0,0,0,1,0,1,0,0,0,0,0,0,0,0,1,0,0,0,0,0,0,0,0,0,0,0,0,0,0,0,2,0,0,0,0,0,0,0,0,0,0,0,0,1,0,1,0,0,1,0,0,1,0,0,0,0,0,0,0,0,0,0,0,0,0,0,0,0,0,0,0,0,0,0,0,0,0,0,0,0,0,0,0,0,0,0,0,0,1,0,0,0,1,0,0,0,0,1,0,0,0,0,0,0,1,0,0,0,0,0,0,0,0,0,0,0,0,0,0,0,0,0,0,0,0,0,0,0,0,0,0,0,0,1,0,0,0,0,0,0,1,0,1,0,0,0,0,0,0,0,0,0,0,1,0,0,0,0,0,0,0,0,0,0,0,0,0,0,0,0,0,0,0],\"coloraxis\":\"coloraxis\",\"symbol\":\"circle\"},\"mode\":\"markers\",\"name\":\"\",\"showlegend\":false,\"x\":[0.10266684740781784,-0.0017924774438142776,0.12320981174707413,0.16129794716835022,0.5847983360290527,0.314288854598999,0.06751638650894165,0.12705418467521667,0.29749423265457153,0.10822809487581253,0.12359883636236191,0.4704451858997345,-0.05299065262079239,0.14701592922210693,0.4694312512874603,0.14347770810127258,-0.12725697457790375,0.06848576664924622,0.08247121423482895,0.03628134727478027,0.0598900131881237,-0.04643169417977333,0.09416339546442032,0.22925348579883575,0.009600966237485409,0.115226611495018,0.0799681544303894,-0.044813357293605804,0.055998824536800385,-0.06260515749454498,0.5783962607383728,-0.05286387726664543,0.12814931571483612,0.17622263729572296,-0.03987132012844086,-0.029251879081130028,-0.030038807541131973,-0.06734292209148407,-0.047801464796066284,0.23594412207603455,0.06074060499668121,-0.03395193815231323,0.055474430322647095,0.02336757816374302,0.08833981305360794,0.036250680685043335,-0.05151922255754471,-0.07296553254127502,0.02390013448894024,0.03471512347459793,0.04177728295326233,0.007197222672402859,0.01923096738755703,-0.023065773770213127,0.07387971132993698,0.0635824054479599,0.02591710165143013,0.34329888224601746,0.4600816071033478,-0.05940237641334534,0.019754769280552864,-0.02785988710820675,0.15702936053276062,-0.05843085050582886,0.049513742327690125,0.02879827283322811,0.037118688225746155,0.02902373857796192,0.2219594568014145,-0.074086032807827,-0.019430367276072502,0.02899846062064171,-0.04623875394463539,-0.030196769163012505,-0.007173802703619003,-0.0277992095798254,-0.025731369853019714,-0.04947371780872345,-0.04926889017224312,0.052856091409921646,-0.009168345481157303,-0.044251516461372375,-0.011715483851730824,0.059515997767448425,0.1402963101863861,-0.05025186762213707,-0.06196068227291107,0.06619275361299515,0.020601049065589905,0.07418617606163025,0.030802328139543533,0.04797617346048355,-0.04971914365887642,0.011838292703032494,0.2330571860074997,0.0068343644961714745,-0.03818453103303909,0.026316458359360695,0.015117071568965912,-0.0460229367017746,0.023517485707998276,-0.03711716830730438,-0.04633012413978577,0.07204728573560715,-0.028378644958138466,-0.04166216403245926,-0.10632991045713425,-0.07059702277183533,-0.013304932974278927,-0.05702847242355347,-0.009936544112861156,0.2322869598865509,0.04990888386964798,0.09952470660209656,-0.016136471182107925,-0.07074379175901413,-0.04436875879764557,-0.03184423968195915,-0.046764448285102844,-0.02915281616151333,0.04492020979523659,0.03327926620841026,0.0600958876311779,0.007121269125491381,-0.01181777287274599,-0.20721013844013214,-0.025259416550397873,0.037031687796115875,-0.14440086483955383,0.0017179016722366214,-0.10155201703310013,-0.00518952077254653,-0.028020795434713364,-0.08184698224067688,0.035852596163749695,-0.02477467805147171,0.04355989396572113,0.03735332936048508,-0.052856314927339554,-0.04065060615539551,-0.016106445342302322,0.24090741574764252,-0.14265820384025574,-0.0609167255461216,-0.05788427218794823,-0.05898268520832062,0.010060083121061325,-0.030938265845179558,0.016107317060232162,0.0015610521659255028,0.05033732205629349,-0.06336227059364319,-0.02750019170343876,-0.07567759603261948,-0.04757946729660034,-0.010563923977315426,0.09331350773572922,0.06646360456943512,-0.014626896008849144,-0.0280104149132967,0.03802725300192833,0.005592872854322195,-0.03591890633106232,-0.02073637768626213,-0.030382895842194557,0.002746017649769783,0.05366818979382515,-0.059841081500053406,0.06701337546110153,0.023999329656362534,0.010741603560745716,0.017432328313589096,-0.045314013957977295,-0.04848605766892433,-0.07265233248472214,-0.06915128231048584,0.007150973659008741,0.022473277524113655,-0.04517940431833267,0.014236410148441792,-0.01604481041431427,0.036435410380363464,-0.053549591451883316,-0.059007175266742706,-0.04135461151599884,0.014572557993233204,-0.0794287919998169,0.1887684166431427,0.039877645671367645,-0.065172478556633,-0.31091591715812683,-0.013593163341283798,-0.036973483860492706,0.06464692950248718,0.002757309703156352,-0.021829813718795776,-0.027492009103298187,-0.034832797944545746,0.021913237869739532,-0.029504217207431793,-0.0036974900867789984,-0.026048334315419197,0.2912968099117279,0.034339796751737595,0.18082797527313232,0.0639304369688034,-0.07078979909420013,-0.011672222055494785,0.013254529796540737,0.07178518176078796,0.030399197712540627,0.0048817903734743595,-0.012252194806933403,-0.023595932871103287,0.08827798813581467,-0.037469543516635895,0.01813426800072193,-0.03406509757041931,-0.04702899232506752,0.02990243397653103,-0.010568248108029366,-0.07475936412811279,-0.033049799501895905,-0.02436348982155323,-0.0622798390686512,0.046232838183641434,0.07671404629945755,-0.07731020450592041,-0.09761690348386765,0.07445745170116425,-0.07654847204685211,0.026530707255005836,-0.0017550347838550806,0.04073350131511688,-0.043951258063316345,-0.12113078683614731,-0.008681696839630604,-0.072636678814888,-0.0732857808470726,-0.0485362708568573,-0.029847674071788788,-0.007781993597745895,-0.02752179279923439,-0.007576259318739176,-0.04969344288110733,0.00843166932463646,-0.015822751447558403,0.20367547869682312,-0.023122044280171394,0.003427517367526889,-0.03967120498418808,9.773547208169475e-05,0.018342340365052223,-0.03864574059844017,-0.05697716400027275,-0.07038970291614532,-0.028693746775388718,0.059258848428726196,0.03376554325222969,-0.10365784913301468,0.04315364733338356,0.032714467495679855,0.008041013963520527,-0.02040509320795536,-0.08604709059000015,-0.042709045112133026,-0.05457927659153938,-0.10336148738861084,-0.004307243041694164,0.02336244285106659,-0.028640862554311752,-0.021767891943454742,-0.020508866757154465,0.10741723328828812,0.022309284657239914,-0.053791388869285583,-0.007817381992936134,0.03328496962785721,-0.053519848734140396,0.06103910133242607,-0.0006720595993101597,-0.07125154882669449,-0.09576083719730377,-0.0089841578155756,-0.05052297189831734,0.048061057925224304,-0.01981770060956478,0.3118988573551178,0.038334839046001434,0.03858032450079918,0.056321293115615845,0.014703268185257912,-0.016602274030447006,0.012596848420798779,-0.056229494512081146,-0.012503438629209995,0.016583004966378212,-0.002015572041273117,-0.0751953050494194,-0.021032236516475677,-0.0720810517668724,-0.03824779391288757,-0.01181828510016203,-0.024882616475224495,0.20202308893203735,-0.05624817684292793,-0.12382800877094269,0.02641080878674984,-0.05055012181401253,-0.09432662278413773,0.04394495487213135,0.13017083704471588,0.1505163609981537,-0.051729414612054825,-0.0714493915438652,0.04884932190179825,0.04930037632584572,0.011873697862029076,-0.030081897974014282,0.1278744488954544,-0.057475846260786057,0.14369453489780426,-0.0612933412194252,0.01962580904364586,0.031130068004131317,0.10715574026107788,0.005379324778914452,-0.05194893851876259,-0.04163951799273491,0.09793557226657867,0.033928945660591125,-0.03502978757023811,0.018412107601761818,-0.024830514565110207,-0.08887409418821335,-0.015957864001393318,-0.021518632769584656,0.2737669050693512,-0.02743968367576599,-0.020454127341508865,-0.045810267329216,-0.0322842001914978,-0.014620120637118816,-0.05620034784078598,-0.06273186951875687,0.2004978060722351,-0.01944168470799923,-0.06860242038965225,-0.011190151795744896,-0.0034723386634141207,-0.08758707344532013,0.06815538555383682,-0.05479514226317406,-0.09326351433992386,0.02248968742787838,-0.009446331299841404,-0.08160769194364548,-0.001940893940627575,-0.00805949978530407,-0.07900170981884003,-0.07363691926002502,-0.015923263505101204,-0.027789389714598656,0.021908501163125038,-0.014181441627442837,-0.01737169548869133,0.014523875899612904,0.022286348044872284,-0.12319736927747726,-0.05753398314118385,-0.030242880806326866,-0.023181160911917686,-0.034359730780124664,-0.06879866123199463,-0.02022397704422474,-0.014108017086982727,0.010610048659145832,-0.08385809510946274,-0.007066166028380394,-0.07885642349720001,0.015381420031189919,-0.0258925948292017,-0.052054792642593384,-0.02023724839091301,-0.03959386423230171,-0.057246096432209015,-0.02668048068881035,-0.061538152396678925,-0.008691469207406044,0.0049691288731992245,-0.12638714909553528,-0.05001261085271835,-0.014903680421411991,-0.020029613748192787,0.07226096838712692,0.24748595058918,0.4627894461154938,0.014912789687514305,0.2056194543838501,-0.07114800065755844,0.34352871775627136,0.20611579716205597,0.025823552161455154,0.12783586978912354,0.20656219124794006,0.03333567827939987,0.01929457113146782,-0.029366470873355865,0.2039322704076767,0.13950839638710022,0.07182890921831131,0.12152482569217682,0.02494148723781109,0.09341038763523102,0.014202597551047802,0.016953030601143837,0.10369376093149185,0.17799322307109833,0.04676060006022453,0.060162488371133804,0.134309783577919,0.009695216082036495,0.05034778267145157,-0.038632746785879135,-0.004633203614503145,-0.09028158336877823,-0.08894497156143188,0.10825429856777191,-0.08203141391277313,0.045557085424661636,-0.007535363547503948,-0.021534370258450508,0.07447406649589539,0.4141741693019867,0.03717533126473427,0.03702303022146225,-0.03388375788927078,0.042809031903743744,0.017778487876057625,-0.03082025796175003,-0.047961506992578506,0.13749399781227112,0.020312229171395302,-0.09246665239334106,-0.06423303484916687,0.21913635730743408,0.007822321727871895,0.009879225865006447,0.058226872235536575,-0.08903700858354568,0.00237497640773654,-0.03336028754711151,-0.06024681776762009,-0.07708790153265,-6.330792530206963e-05,-0.10406995564699173,0.04623938351869583,0.1262306421995163,0.03391086682677269,-0.04999971389770508,0.025420404970645905,-0.18115711212158203,-0.021289797499775887,0.03037346713244915,-0.03327976167201996,-0.014731603674590588,-0.05456376075744629,0.17545601725578308,-0.022449934855103493,0.21714255213737488,0.2975527048110962,-0.0988646075129509,0.04227982833981514,0.0014638151042163372,0.034133415669202805,-0.0067192004062235355,-0.1061529740691185,-0.05840394273400307,-0.05360708385705948,-0.042747728526592255,-0.07311204820871353,-0.06389186531305313,-0.002499121706932783,0.008820205926895142,-0.054589930921792984,-0.03335682302713394,-0.03694143891334534,0.029109297320246696,-0.05598461255431175,-0.002626886125653982,-0.02886693738400936,0.034155044704675674,-0.0814051479101181,-0.021735144779086113,0.06711845844984055,-0.013877256773412228,-0.011792521923780441,0.07285349816083908,0.15882445871829987,0.12785184383392334,0.04672097787261009,-0.016071496531367302,-0.031429316848516464,-0.06476708501577377,-0.037142135202884674,0.017038756981492043,0.03819409757852554,-0.0615849494934082,-0.03789006173610687,0.008631433360278606,0.06508573144674301,0.018616223707795143,0.09227517247200012,0.07834065705537796,-0.04666759818792343,-0.009718414396047592,0.03014007955789566,-0.0242850873619318,0.011530858464539051,-0.04917781054973602,-0.06686029583215714,-0.03119775839149952,-0.043910447508096695,-0.015072360634803772,-0.05243758484721184,0.03810887783765793,0.02682366408407688,-0.027041396126151085,0.00130393635481596,-0.0038708278443664312,0.1505049169063568,-0.0822453573346138,-0.01241865660995245,0.016293687745928764,-0.05407162755727768,-0.037257105112075806,0.01043055858463049,0.04708399996161461,-0.02986874431371689,-0.04341468587517738,-0.0377952940762043,-0.017212314531207085,-0.006718432996422052,-0.02105269953608513,-0.012118952348828316,-0.03253502771258354,0.07166648656129837,-0.05340268462896347,-0.02437601052224636,-0.00739049818366766,0.016662010923027992,0.010331855155527592,0.20047931373119354,-0.04552841559052467,-0.11376950889825821,-0.018713761121034622,0.04787129908800125,-0.013155207969248295,0.044708456844091415,0.22866278886795044,-0.0421568788588047,-0.05236348509788513,0.05539492517709732,0.004675618372857571,0.02982010506093502,-0.049611423164606094,-0.08684725314378738,-0.016129422932863235,0.012405293062329292,-0.08831574767827988,0.03428039699792862,-0.00789759960025549,0.0025339508429169655,0.038753896951675415,-0.04114418849349022,0.03574925288558006,-0.04523424431681633,-0.0009778045350685716,0.029364237561821938,-0.026688415557146072,-0.033074747771024704,-0.0415414534509182,-0.03933725133538246,0.003388858400285244,-0.03198964148759842,0.10757196694612503,0.01531878300011158,0.033080294728279114,0.13680529594421387,0.1784827709197998,-0.030220262706279755,0.045265983790159225,0.015062312595546246,0.04124464467167854,0.13947391510009766,0.04583166167140007,-0.05037098005414009,0.02964392863214016,0.05307439714670181,-0.012445068918168545,0.08381978422403336,-0.006405986845493317,0.03332666680216789,-0.018893733620643616,0.013478809036314487,-0.03332212194800377,-0.03784787282347679,-0.009330986067652702,0.00793618056923151,-0.03673521801829338,-0.06390641629695892,0.025972284376621246,0.0034171652514487505,-0.06312527507543564,-0.05563822388648987,-0.09333902597427368,-0.05678510293364525,-0.016213448718190193,-0.0354410856962204,-0.04064749553799629,-0.09583443403244019,-0.08353698998689651,-0.06309714913368225,-0.024215320125222206,-0.045892346650362015,-0.022295886650681496,-0.08808338642120361,-0.012738359160721302,0.02662961371243,-0.07536879926919937,-0.014052467420697212,0.16529329121112823,0.031634729355573654,-0.1590116024017334,-0.024990739300847054,0.0304305050522089,-0.0002461328695062548,-0.06256554275751114,-0.041463930159807205,0.006487713195383549,-0.00021166975784581155,0.03348681703209877,0.09732923656702042,-0.07571111619472504,-0.008713144809007645,-0.01748710684478283,-0.0017147039761766791,0.23445536196231842,0.024712972342967987,-0.10005325824022293,0.017422929406166077,-0.04336166754364967,-0.10048242658376694,0.054782066494226456,-0.06211294233798981,0.06906083226203918,-0.028147181496024132,-0.05469828099012375,0.016355551779270172,-0.020369354635477066,0.04808991402387619,-0.006890333257615566,-0.04054567962884903,-0.00653911242261529,-0.023513544350862503,-0.0906488448381424,-0.07452789694070816,0.032249510288238525,-0.04871739074587822,-0.03178173676133156,0.0323575958609581,-0.0357852578163147,0.04515683278441429,-0.025851240381598473,-0.026697678491473198,-0.07906344532966614,-0.09291858226060867,-0.06290778517723083,-0.04986881464719772,-0.021907154470682144,0.03997545316815376,0.06503012776374817,-0.018705526366829872,0.025701414793729782,0.015805037692189217,-0.09753478318452835,-0.07880564033985138,-0.0776841938495636,-0.04858693107962608,-0.08244241774082184,-0.0650382786989212,-0.0065635503269732,-0.0956740602850914,0.13483622670173645,0.06774590164422989,0.046903327107429504,0.0054900916293263435,-0.034101422876119614,0.07302769273519516,-0.005813499912619591,-0.03816636651754379,-0.010725707747042179,-0.03938360884785652,-0.03461364656686783,-0.018442116677761078,-0.02751043625175953,-0.0773368552327156,-0.028058942407369614,-0.04196593165397644,-0.02682247757911682,-0.06275375932455063,-0.09231008589267731,0.05418296530842781,-0.03125656023621559,-0.058309152722358704,-0.09841258823871613,-0.015526462346315384,-0.0739123597741127,-0.037915799766778946,-0.04609467461705208,-0.023308003321290016,0.0028164491523057222,0.045371539890766144,-0.027345148846507072,-0.025919251143932343,-0.03301884979009628,-0.056401804089546204,-0.03989672288298607,-0.009159309789538383,0.033688984811306,0.03041502647101879,0.03333047032356262,0.08295706659555435,0.03482703119516373,0.03974934667348862,0.08754581958055496,-0.00022491710842587054,0.025132767856121063,0.011400247924029827,-0.02125794254243374,-0.04727933928370476,-0.007081047631800175,0.0072036986239254475,-0.007573250215500593,-0.07323683053255081,0.034304067492485046,-0.02882094494998455,-0.06181461364030838,-0.059400346130132675,0.013554118573665619,-0.08128873258829117,-0.017024308443069458,-0.059977658092975616,0.0447145514190197,0.02492796815931797,-0.06265483051538467,0.010921197012066841,0.027588877826929092,-0.012437163852155209,-0.049923125654459,0.01361058373004198,-0.072476826608181,0.06678272783756256,-0.018221639096736908,-0.011034931056201458,-0.0008616599952802062,-0.04504895955324173,-0.09740978479385376,-0.061177629977464676,-0.03763241693377495,0.017021233215928078,-0.04507720097899437,0.10976468026638031,-0.06318003684282303,-0.00864214077591896,-0.03925298526883125,-0.09966582804918289,-0.06527940928936005,-0.05468171089887619,0.03264375030994415,-0.004453395493328571,0.04887127876281738,-0.014212634414434433,-0.061393026262521744,-0.02243942953646183,0.10881850868463516,0.0012547776568681002,0.10223628580570221,0.01766202226281166,0.004189683590084314,-0.06887926906347275,-0.04346785694360733,-0.03762836009263992,0.010339011438190937,-0.02267441712319851,-0.05491606146097183,-0.006388227920979261,-0.006042755674570799,-0.026126207783818245,0.05755756050348282,-0.06668487191200256,-0.028561808168888092,-0.04748345538973808,-0.041523274034261703,-0.004590808879584074,-0.013029197230935097,-0.0348253957927227,0.008794328197836876,0.011248299852013588,-0.06181295961141586,-0.01968489959836006,-0.13759185373783112,-0.05789000540971756,-0.05113678425550461,-0.04367222636938095,0.17047430574893951,0.042147837579250336,0.049160413444042206,0.0458073727786541,0.0809636041522026,0.055436648428440094,0.04764021188020706,0.0059432899579405785,0.07084057480096817,-0.05374690517783165,-0.015918508172035217,-0.07802937924861908,-0.03715870529413223,0.032512836158275604,-0.11736589670181274,0.015836291015148163,-0.048907019197940826,-0.08536672592163086,-0.03845548629760742,-0.0031296792440116405,-0.05096728727221489,-0.0684828907251358,0.02158149518072605,-0.023938316851854324,-0.07397712767124176,-0.009557479992508888,-0.026604274287819862,0.09769712388515472,0.07766827195882797,-0.017327897250652313,-0.04139014706015587,0.05007711052894592,-0.04369226470589638,0.016111746430397034,-0.042183902114629745,-0.0793919637799263,-0.027852386236190796,-0.06933344900608063,-0.01469638105481863,-0.01935303956270218,-0.012989925220608711,0.057626184076070786,-0.03033459559082985,0.06489326059818268,-0.010824106633663177,-0.013909905217587948,-0.061389803886413574,-0.03354429453611374,-0.09124206751585007,-0.03231475502252579,-0.035367731004953384,-0.06862109154462814,-0.0647478848695755,-0.15786026418209076,-0.026608174666762352,-0.11056748777627945,0.032913725823163986,-0.08617105334997177,-0.06345581263303757,-0.028413107618689537,0.014976633712649345,-0.05693309009075165,-0.07357819378376007,-0.030784472823143005,-0.07438013702630997,-0.0051218424923717976,-0.05970069393515587,-0.032043084502220154,-0.05803564935922623,0.015338672325015068,-0.0693458765745163,-0.04976947233080864,0.005574996583163738,0.08249470591545105,-0.01978190988302231,0.1548270732164383,-0.02841498889029026,-0.05925741791725159,0.03769734129309654,0.004411330912262201,-0.10021688789129257,-0.010631578043103218,-0.029975246638059616,-0.03616748005151749,0.03416027873754501,0.12743979692459106,-0.02739734947681427,-0.08805182576179504,-0.032800473272800446,-0.023372884839773178,-0.03291292488574982,-0.0536765530705452,-0.024403871968388557,-0.03347625210881233,0.005620993208140135,-0.020553646609187126,-0.03255704790353775,-0.0014034766936674714,-0.01013938244432211,-0.027750957757234573,-0.00038940462400205433,0.03272586315870285,0.048712629824876785,-0.026037966832518578,-0.023624859750270844,-0.04844679310917854,0.007274110335856676,0.044757992029190063,-0.030020570382475853,0.03636881709098816,-0.01245369017124176,0.0031368769705295563,0.0003889001382049173,-0.04658164829015732,-0.01089736633002758,-0.007413836661726236,-0.01005044300109148,0.06028682738542557,-0.052835896611213684,-0.0737670436501503,-0.01849270425736904,-0.009037339128553867,-0.017493417486548424,0.08031493425369263,-0.006835040170699358,-0.009076479822397232,-0.01077970676124096,-0.00594274653121829,0.003690864657983184,-0.018609415739774704,-0.013562415726482868,0.021013682708144188,-0.01571434549987316,-0.004848277196288109,-0.05151405557990074,-0.0304808858782053,0.023529203608632088,0.030088672414422035,0.05638319253921509,-0.024150162935256958,-0.01428911741822958,0.022922346368432045,0.05672896280884743,0.005959392990916967,-0.07301219552755356,-0.03137454763054848,-0.014111905358731747,0.0002925627341028303,0.12859493494033813,0.22860445082187653,-0.0006527756922878325,-0.020224392414093018,-0.05157046020030975,-0.012470668181777,0.02341681718826294,0.8857370615005493,-0.017682349309325218,-0.0919884517788887,-0.03699922561645508,-0.05089019984006882,-0.0027590510435402393,-0.026003440842032433,-0.047819700092077255,0.17444320023059845,0.0545865036547184,0.024742303416132927,-0.020107602700591087,-0.015412558801472187,-0.0594247430562973,-0.09223814308643341,-0.0711994618177414,-0.0832161083817482,-0.0431404672563076,-0.011682378128170967,-0.060245152562856674,0.08173194527626038,-0.01540454849600792,-0.0219726599752903,0.24074754118919373,-0.01541139930486679,0.25280457735061646,0.0006832338403910398,0.005963666830211878,-0.027892792597413063,-0.020304225385189056,-0.025270845741033554,-0.05548328906297684,0.08208787441253662,0.021001040935516357,-0.07315902411937714,0.00573364645242691,-0.06801857054233551,-0.025439007207751274,-0.0928574725985527,-0.06472710520029068,-0.07123523950576782,-0.05225004255771637,0.09726449847221375,-0.022650785744190216,-0.02292274311184883,-0.07059142738580704,-0.0179143026471138,-0.04678013548254967,0.29781147837638855,0.07996256649494171,-0.08731851726770401,-0.004523743875324726,-0.06537047773599625,-0.016597013920545578,-0.06841469556093216,0.003107549389824271,0.09405458718538284,0.25437331199645996,-0.0338270477950573,-0.05626388639211655,-0.03663229942321777,0.026739224791526794,-0.0076583754271268845,-0.03451021760702133,-0.07530365884304047,0.0077456142753362656,-0.01106791291385889,0.04493057355284691,0.09645862132310867,-0.058537617325782776,-0.06046149507164955,0.1632976084947586,-0.021841805428266525,-0.03511243313550949,-0.06397054344415665,-0.059928517788648605,-0.04925139620900154,-0.015703529119491577,0.19133983552455902,0.0013892267597839236,-0.0030234206933528185,-0.04787116497755051,-0.021640148013830185,-0.03195086494088173,0.003567018546164036,0.014170516282320023,-0.09664466232061386,0.056822728365659714,0.0934082418680191,-0.01672774739563465,-0.028374040499329567,-0.0532027930021286,-0.03842916712164879,-0.03858201950788498,-0.08325602114200592,0.013379114679992199,-0.03570881485939026,-0.016484003514051437,-0.03959456831216812,-0.0472417026758194,-0.04498717561364174,0.020824749022722244,-0.0017901472747325897,0.04317343980073929,0.0013330938527360559,-0.019090084359049797,-0.017860909923911095,-0.02854243852198124,-0.08038001507520676,-0.06343445181846619,-0.046231672167778015,-0.03706013783812523,-0.03807199001312256,0.0007971337181515992,0.010400533676147461,-0.02234538085758686,-0.015251011587679386,-0.04342508688569069,0.5196091532707214,0.497364342212677,-0.14662179350852966,-0.00042356306221336126,-0.034560929983854294,0.08523642271757126,0.027651652693748474,-0.015092317014932632,-0.042812079191207886,-0.05063496530056,0.01819317601621151,-0.020632045343518257,-0.04153318330645561,0.18163983523845673,-0.050730228424072266,0.01335197314620018,-0.05275129899382591,-0.09355660527944565,-0.01673940382897854,0.006444578059017658,-0.08980101346969604,-0.04246819391846657,-0.023257672786712646,-0.08749925345182419,-0.03512072563171387,-0.015923188999295235,-0.06348098814487457,-0.11271753162145615,-0.08385191112756729,0.051551397889852524,-0.05741364136338234,-0.010446230880916119,0.19659581780433655,-0.07483071088790894,0.03474174439907074,-0.060309555381536484,-0.00664826575666666,-0.10222861915826797,-0.036569755524396896,-0.00712633179500699,-0.027968525886535645,-0.012512934394180775,-0.007392650004476309,0.02048245444893837,-0.07163902372121811,-0.07235411554574966,0.10704653710126877,-0.11206794530153275,0.045817576348781586,-0.08786322921514511,-0.03127247840166092,0.01667322963476181,0.030015671625733376,-0.12038443237543106,0.03014804981648922,0.010731574147939682,-0.039586156606674194,-0.0845550075173378,-0.09860118478536606,-0.07315725833177567,0.998037576675415,0.17709411680698395,-0.078690305352211,-0.014874355867505074,-0.05884993448853493,-0.02558051235973835,0.05494450032711029,-0.09266449511051178,0.003989179152995348,-0.025402851402759552,-0.08048496395349503,-0.047849833965301514,-0.01238622423261404,0.017915023490786552,0.006522790994495153,-0.03729340806603432,0.008504950441420078,0.012995443306863308,0.058599747717380524,-0.03264112025499344,-0.04338434338569641,0.5821868777275085,-0.00916000921279192,-0.061223581433296204,0.08089574426412582,-0.0036689448170363903,0.024049166589975357,0.011398356407880783,-0.05249102786183357,0.04752960056066513,0.17714302241802216,-0.023022066801786423,0.20050039887428284,0.097516268491745,0.03198022022843361,0.06629426777362823,-0.03655850514769554,-0.0029087963048368692,-0.11921258270740509,-0.039336349815130234,-0.04287521913647652,-0.0428372323513031,0.019657345488667488,0.049038197845220566,-0.04060252755880356,0.101718470454216,0.00021511233353521675,-0.022757023572921753,-0.0012841979041695595,0.17310652136802673,0.020346909761428833,0.011079217307269573,-0.03715363144874573,-0.004246462136507034,0.0017654236871749163,-0.051999177783727646,-0.14117048680782318,0.05361558124423027,0.075254887342453,-0.04674041271209717,-0.029017699882388115,-0.029227159917354584,-0.011014127172529697,0.008645151741802692,-0.03743894025683403,-0.11677783727645874,-0.015745410695672035,-0.07563235610723495,-0.1086244061589241,-0.03679345175623894,0.02474738471210003,-0.08709496259689331,-0.02165873534977436,-0.022582486271858215,0.09331994503736496,-0.029910247772932053,-0.0462818518280983,-0.06073471158742905,0.03682958334684372,-0.11383222043514252,0.007904971949756145,-0.04095125570893288,-0.01327377837151289,-0.11071086674928665,-0.03528442978858948,0.05239081755280495,-0.054785218089818954,-0.0633615255355835,0.005739146843552589,-0.08029733598232269,-0.0866902694106102,-0.004217937123030424,-0.012851230800151825,-0.042085565626621246,-0.040045417845249176,0.023786908015608788,-0.08786192536354065,-0.005593863315880299,-0.019039710983633995,-0.06642963737249374,-0.00909698847681284,0.07236364483833313,-0.030182654038071632,-0.011294307187199593,0.04118013381958008,0.008752848953008652,-0.04580266401171684,-0.012254084460437298,0.03321191295981407,-0.005413598846644163,0.036576613783836365,-0.10795756429433823,0.17330962419509888,0.025936109945178032,0.04075159505009651,-0.03199314326047897,0.034464482218027115,-0.08314990252256393,-0.08361069113016129,-0.037009309977293015,0.26167818903923035,0.0043025086633861065,-0.037193119525909424,-0.03890864923596382,-0.05269027128815651,0.08296584337949753,-0.010046667419373989,0.06500665098428726,-0.02716776728630066,-0.028473801910877228,-0.10414545983076096,-0.06618063896894455,0.31933093070983887,-0.006693525239825249,-0.009435620158910751,-0.09519576281309128,-0.03943250700831413,-0.0748186707496643,-0.05672598257660866,-0.030783681198954582,-0.0041760946623981,0.12105647474527359,-0.003936946392059326,0.09930935502052307,0.016258249059319496,-0.061274006962776184,-0.04617279767990112,-0.022601567208766937,-0.09731326997280121,0.0071318321861326694,-0.08611977100372314,-0.013447197154164314,-0.012410891242325306,0.032365329563617706,0.30399268865585327,0.30969223380088806,0.0032617037650197744,-0.09066823869943619,0.006568135228008032,0.010868211276829243,-0.04325179010629654,-0.014231379143893719,-0.05374107509851456,0.008956887759268284,0.025514677166938782,0.19666875898838043,0.08044512569904327,-0.013028047047555447,0.012734782882034779,0.015289118513464928,-0.02621346153318882,0.011561211198568344,0.24560357630252838,-0.07728215306997299,-0.06592579931020737,0.001637060777284205,0.04681488126516342,0.003274403978139162,-0.09770303219556808,-0.06415355205535889,-0.022032421082258224,-0.03507612273097038,-0.040608879178762436,0.19824354350566864,-0.0324661061167717,0.11716635525226593,-0.014553170651197433,-0.041068438440561295,-0.08074552565813065,-0.030564844608306885,-0.0062109422869980335,0.03701801970601082,-0.01037012692540884,-0.024011211469769478,-0.005299755837768316,-0.01918737217783928,-0.05340075492858887,-0.022884218022227287,-0.04518812149763107,-0.024687692523002625,-0.03241030499339104,-0.015611833892762661,0.00897759199142456,0.03230699524283409,-0.06715400516986847,-0.027151312679052353,-0.07862832397222519,7.224990258691832e-05,-0.060982123017311096,-0.04309380427002907,-0.012165742926299572,-0.03504084423184395,-0.0514446459710598,-0.015697255730628967,0.026886001229286194,-0.0520133413374424,-0.02922356314957142,-0.04100412875413895,0.008597488515079021,-0.0165207851678133,0.05385996401309967,-0.11803609132766724,-0.04874967783689499,0.0009905960178002715,0.005628748331218958,0.010297884233295918,-0.04024267569184303,-0.020463667809963226,-0.05964278057217598,0.039174921810626984,-0.03769852593541145,0.09608223289251328,0.02475503645837307,-0.012270044535398483,-0.039621930569410324,-0.04164310172200203,-0.11016729474067688,-0.05217223986983299,-0.03190765902400017,-0.04753424972295761,-0.04008139669895172,0.06700305640697479,-0.0726664662361145,-0.010370125994086266,0.09545020759105682,-0.07277604937553406,0.15945830941200256,0.018337545916438103,0.0006165711674839258,-0.02541683055460453,-0.04693975672125816,-0.03901071101427078,0.017447294667363167,0.01712033525109291,-0.02642611227929592,0.030813146382570267,-0.018877577036619186,-0.057734616100788116,-0.018282679840922356,-0.011157765053212643,-0.01985543593764305,-0.033288367092609406,-0.021846167743206024,0.013773031532764435,-0.051613543182611465,-0.01796981692314148,0.006733722519129515,-0.06504258513450623,-0.03185797482728958,-0.08934691548347473,0.03899228945374489,0.24449104070663452,-0.0003160359337925911,-0.006163130979984999,0.02126511000096798,0.030752556398510933,-0.04551675543189049,0.008303666487336159,0.017742976546287537,-0.011817993596196175,0.003703501308336854,-0.049807194620370865,-0.04949359595775604,-0.041818954050540924,0.12867723405361176,-0.014068657532334328,0.06335002183914185,-0.022689338773489,0.005145028233528137,0.07335261255502701,-0.026933928951621056,-0.02927560731768608,0.07514343410730362,-0.03812238574028015,-0.06012243404984474,-0.03608458489179611,0.013506710529327393,0.00022062062635086477,0.00522549357265234,0.049395039677619934,0.03936508670449257,0.043929729610681534,-0.10281794518232346,0.040185168385505676,-0.026039347052574158,-0.02599334344267845,0.03622335195541382,-0.06680867820978165,-0.047789692878723145,-0.0690775141119957,-0.08570742607116699,-0.049678776413202286,-0.06511502712965012,0.0008489316678605974,0.01822715252637863,0.03922862187027931,-0.032717734575271606,-0.04621920362114906,0.0021158759482204914,-0.07525551319122314,0.0034854034893214703,0.028089217841625214,0.003762038890272379,0.017706766724586487,0.00948530063033104,-0.025269584730267525,-0.04992317780852318,-0.05004516616463661,-0.03931848704814911,0.04156499728560448,-0.05494224652647972,1.8332762920181267e-05,-0.04800795763731003,0.026327895000576973,-0.03640644624829292,-0.04603773355484009,-0.05787856504321098,-0.010726042091846466,0.11603561043739319,0.03465496003627777,-0.05436103790998459,-0.03549163043498993,-0.029877858236432076,0.018698129802942276,0.00808476097881794,0.06439470499753952,-0.02099742740392685,-0.015788039192557335,-0.07920652627944946,0.0077670905739068985,-0.0351066067814827,-0.002189283724874258,-0.04927440360188484,-0.02236277423799038,-0.018346156924962997,-0.01777583546936512,-0.022287817671895027,-0.011698266491293907,-0.0688958391547203,-0.025881271809339523,-0.0452846996486187,-0.0933324322104454,-0.02815583534538746,0.021772295236587524,-0.040232960134744644,-0.03384577855467796,0.005458138883113861,0.024621980264782906,-0.043250128626823425,-0.029956387355923653,-0.09299608319997787,-0.05393074080348015,-0.059129972010850906,-0.05067029967904091,0.0283245537430048,-0.020600412040948868,-0.0495767816901207,-0.043967798352241516,-0.022769857197999954,-0.008634277619421482,0.030469153076410294,0.03393488749861717,-0.009772536344826221,0.03457128256559372,0.0012862378498539329,-0.03358834236860275,0.0025085860397666693,-0.028177926316857338,-0.03204837813973427,-0.03884457051753998,-0.04873928800225258,-0.045428983867168427,-0.08690695464611053,-0.07362062484025955,0.052992530167102814,-0.030764933675527573,-0.06390766054391861,0.006158411502838135,-0.02582285925745964,-0.020642360672354698,-0.009918354451656342,-0.029235022142529488,-0.01090210396796465,-0.01228366233408451,-0.0037401127628982067,-0.016296397894620895,-0.05496431887149811,-0.014597875066101551,0.005097097717225552,0.008887275122106075,0.015304936096072197,0.011204107664525509,0.005680842325091362,-0.05408293381333351],\"xaxis\":\"x\",\"y\":[0.22677959501743317,0.07127650082111359,0.0804167166352272,0.2593119144439697,-0.05478832870721817,0.316781610250473,0.03933965414762497,0.05815581604838371,-0.1420423984527588,0.2855672240257263,0.2489136904478073,0.13674330711364746,0.07473740726709366,-0.08469665795564651,-0.5056986808776855,0.0033585999626666307,0.0180042777210474,0.12991295754909515,-0.01864633895456791,0.07248184829950333,0.026227211579680443,-0.009434439241886139,0.0009258065838366747,0.053449004888534546,-0.06393276154994965,0.04643898457288742,0.01608012057840824,-0.009667863138020039,-0.011172294616699219,-0.03630420193076134,0.3759680986404419,0.04011763632297516,-0.12412414699792862,-0.04841916635632515,-0.12026037275791168,0.036215007305145264,0.008123998530209064,-0.03453543782234192,0.0037421679589897394,0.09540338814258575,0.04113456979393959,0.3937675952911377,-0.11985272914171219,0.007554222829639912,-0.026417694985866547,0.06324734538793564,-0.03506213054060936,0.10230544954538345,-0.06724929064512253,-0.03226263076066971,0.021583901718258858,0.0006305453716777265,-0.03364995867013931,0.18563304841518402,0.032809771597385406,-0.06550022959709167,-0.09920266270637512,-0.24247215688228607,0.10066454112529755,0.0635882243514061,0.03423041105270386,-0.026734786108136177,0.07684003561735153,-0.020755887031555176,-0.08340403437614441,0.0068270922638475895,0.02656552568078041,-0.047963134944438934,0.08327415585517883,-0.013252721168100834,0.031362056732177734,-0.025758828967809677,-0.000772577419411391,0.16758684813976288,-0.010462586767971516,0.00046507103252224624,0.009110033512115479,-0.05663524195551872,0.36761850118637085,0.04914160072803497,0.0157857034355402,0.007921845652163029,0.0014408512506633997,0.6113688349723816,0.255268931388855,0.0034837464336305857,-0.009967516176402569,-0.1251891851425171,-0.003686672542244196,-0.11955514550209045,0.06155000999569893,0.021125899627804756,0.011050321161746979,-0.05122438818216324,0.008556955493986607,0.05255183205008507,0.0383823998272419,0.019600344821810722,0.04016291722655296,-0.03078109584748745,0.037987302988767624,0.007731585763394833,0.019649699330329895,0.07454946637153625,0.031053945422172546,0.0004515474138315767,-0.019337842240929604,0.1019478589296341,0.00616650702431798,-0.011374254710972309,0.009352030232548714,-0.009545130655169487,0.02260931394994259,-0.03158901259303093,0.03169756755232811,0.03563360124826431,-0.0027940869331359863,-0.0320330373942852,0.010701029561460018,0.048850711435079575,0.007099749054759741,-0.030147885903716087,-0.09770467132329941,0.04437977448105812,-0.033628057688474655,-0.006819814909249544,0.10319022089242935,-0.016124283894896507,0.4544602334499359,0.01021269615739584,-0.07533638924360275,0.021286288276314735,0.014881867915391922,-0.016092529520392418,0.015592634677886963,0.06773282587528229,0.0023444409016519785,0.07696149498224258,0.016833320260047913,0.30445554852485657,0.003592731896787882,0.05521447956562042,0.10989741235971451,0.004076991230249405,-0.04002005234360695,-0.0017007491551339626,0.06540898978710175,-0.11663741618394852,-0.037400465458631516,-0.06807364523410797,-0.029527727514505386,0.01371401734650135,0.045907337218523026,0.0014302743365988135,-0.0061981952749192715,-0.0062269531190395355,0.03718118369579315,-0.04527285322546959,0.04435268044471741,0.02063649147748947,-0.0034877541474997997,0.003965463954955339,0.028169235214591026,-0.03846996650099754,-0.02959071844816208,-0.051437318325042725,-2.4431887140963227e-05,0.07175557315349579,0.31212446093559265,-0.020861517637968063,0.08603400737047195,-0.023725925013422966,-0.037692539393901825,-0.012832708656787872,0.01918768510222435,-0.004302431363612413,0.00872180424630642,-0.014384878799319267,0.03527038171887398,0.027860160917043686,-0.0018983627669513226,-0.0075494092889130116,0.03534659370779991,0.0028416067361831665,-0.00879160687327385,0.0007610786706209183,-0.050447408109903336,0.02346120961010456,0.015974722802639008,-0.008191904053092003,0.03541570156812668,-0.05331817641854286,-0.06557121127843857,-0.05597357451915741,-0.006903183180838823,-0.014799719676375389,-0.03406582400202751,-0.011748566292226315,0.060463935136795044,-0.008072770200669765,0.029819142073392868,0.0295600313693285,0.18426108360290527,0.06876544654369354,0.051555365324020386,-0.009436936117708683,-0.013073221780359745,0.07022314518690109,-0.07779688388109207,-0.031774479895830154,0.04204447194933891,0.0443841852247715,0.02228042110800743,0.02804040163755417,-0.04944995790719986,-0.04423368349671364,0.02526935003697872,-0.0540035255253315,-0.02499964088201523,0.005900056101381779,-0.027482325211167336,0.07763247191905975,-0.00804521981626749,0.0741497203707695,0.12200483679771423,0.031650323420763016,-0.04659496620297432,0.0647326111793518,-0.06019757688045502,0.11827453225851059,0.027831662446260452,0.05413351580500603,0.12595073878765106,0.011216714046895504,-0.01000527199357748,0.0679381787776947,0.0005383593961596489,0.005040166899561882,-0.011288801208138466,-0.0148388696834445,-0.013446033000946045,-0.0046049426309764385,0.03646399825811386,0.010709848254919052,0.07612236589193344,-0.03184760361909866,0.005722775589674711,0.06719134747982025,-0.02419552020728588,0.20033645629882812,-0.04549574479460716,-0.045560918748378754,-0.0578853003680706,-0.02338523231446743,-0.09032509475946426,0.010583882220089436,0.011724158190190792,0.022005824372172356,-0.05749158561229706,-0.003952088765799999,0.006452609319239855,0.19674789905548096,-0.011736683547496796,-0.01895787939429283,-0.06590469181537628,-0.03146034851670265,0.012874996289610863,-0.06354423612356186,0.08480989933013916,0.011555117554962635,0.007942650467157364,-0.013978205621242523,-0.0687405988574028,0.1107877865433693,-0.02985369600355625,0.0142299123108387,0.06489332765340805,0.03456397354602814,-0.035435378551483154,-0.0056416369043290615,-0.014522354118525982,-0.06616879254579544,-0.006709807552397251,-0.0669424757361412,-0.10057513415813446,-0.0021534792613238096,0.003876576665788889,0.04328446090221405,0.015629779547452927,-0.013078337535262108,0.024616654962301254,-0.03683970123529434,-0.026189811527729034,0.06042996421456337,0.010696087963879108,-0.019269615411758423,-0.012713439762592316,-0.026549486443400383,0.06196153163909912,-0.002481072209775448,-0.0156554002314806,-0.02710372768342495,-0.04031682014465332,0.07337511330842972,0.005349010229110718,0.0017685029888525605,0.17264653742313385,0.030216097831726074,-0.06445707380771637,-0.021610407158732414,0.05365697667002678,0.014078793115913868,-0.0797935426235199,0.0003768980095628649,-0.041872236877679825,-0.013362093828618526,-0.06308306753635406,-0.0024132111575454473,-0.021637840196490288,-0.05157909169793129,0.05630214512348175,0.18286347389221191,0.1594628393650055,-0.022481516003608704,0.024792149662971497,-0.2194332480430603,-0.0498553067445755,0.01525107678025961,-0.013582101091742516,-0.026911115273833275,0.005358933936804533,-0.021705474704504013,-0.045332882553339005,-0.03920288756489754,0.000286895694443956,0.0003310625033918768,0.058368194848299026,0.14926549792289734,-0.042325709015131,-0.010064958594739437,-0.058329563587903976,-0.07867231220006943,0.03531448543071747,0.008295471780002117,-0.11813457310199738,-0.035921938717365265,0.03651445358991623,-0.08213382959365845,-0.04264802485704422,-0.0018166331574320793,0.02495673857629299,0.006492271088063717,0.04376508668065071,-0.0026732273399829865,0.029138416051864624,-0.020109795033931732,0.007521113846451044,0.11510197818279266,-0.01320030726492405,-0.19717898964881897,-0.05724320560693741,0.08275122195482254,-0.002791942795738578,-0.03441848233342171,0.009548526257276535,0.014903801493346691,-0.02237292192876339,-0.02280600741505623,0.0667218267917633,-0.017527686432003975,0.005591040011495352,-0.03732811659574509,0.07416260987520218,-0.034602340310811996,-0.03240829333662987,-0.0003188227128703147,0.012347106821835041,-0.05484277009963989,-0.03381229564547539,-0.035228464752435684,-0.16646577417850494,0.014439783059060574,0.008808033540844917,0.018736934289336205,-0.03200628235936165,0.012236708775162697,-0.09782149642705917,0.0005015074857510626,-0.0644778460264206,-0.031228842213749886,-0.037403590977191925,0.05564000830054283,-0.003371118800714612,0.015416261740028858,0.036247480660676956,-0.01608818769454956,-0.3766399919986725,0.009457942098379135,-0.016755208373069763,0.05283762514591217,-0.23112444579601288,-0.24101296067237854,-0.03698493167757988,-0.054673515260219574,-0.23696157336235046,-0.043832845985889435,0.04151466116309166,0.024224253371357918,-0.06849408894777298,-0.04299900680780411,-0.09713495522737503,-0.03208931162953377,-0.013073409907519817,-0.10393547266721725,-0.03367061913013458,-0.02812335081398487,0.007971297949552536,-0.08780847489833832,-0.03613978996872902,-0.017790894955396652,0.005640058778226376,-0.01075672172009945,0.004980060271918774,-0.01129390113055706,0.06601940840482712,0.020686045289039612,0.014302469789981842,-0.02179209515452385,-0.019929921254515648,-4.6458739234367386e-05,0.024281548336148262,-0.009034682996571064,-0.007429582066833973,0.0690414234995842,-0.09957680106163025,-0.09846433997154236,0.019188815727829933,-0.095131516456604,0.007270769216120243,-0.01801835559308529,0.02086092159152031,0.14063520729541779,0.041984159499406815,-0.009850352071225643,0.011823617853224277,0.15119600296020508,0.06454667448997498,0.0225274208933115,-0.012122126296162605,0.053062960505485535,-0.08198783546686172,-0.003792377421632409,0.045082226395606995,-0.06251079589128494,-0.009430868551135063,-0.05116674676537514,-0.008317197673022747,-0.16866104304790497,-0.0446770004928112,0.009727222844958305,0.014937609434127808,-0.05326556786894798,0.0015221432549878955,0.054784394800662994,0.008246591314673424,-0.0023307870142161846,-0.008105174638330936,-0.04561147838830948,0.05937564745545387,-0.0854572281241417,0.1697586178779602,-0.029795678332448006,0.016795840114355087,-0.05028397589921951,-0.008535522036254406,0.025492124259471893,0.016618240624666214,0.05954696983098984,-0.001603615703061223,-0.053676050156354904,0.035880040377378464,-0.05778660997748375,-0.025500191375613213,-0.009518160484731197,0.006088340189307928,0.008986539207398891,0.016666747629642487,-0.04808417707681656,-0.008678819052875042,0.03133148327469826,0.013522966764867306,0.06590427458286285,-0.03216990828514099,-0.057442620396614075,0.05238518491387367,0.04600409045815468,0.010950824245810509,-0.21625502407550812,-0.20272856950759888,-0.09327653795480728,-0.12769807875156403,-0.044243622571229935,0.0077236108481884,0.024690765887498856,0.027001457288861275,0.006218425929546356,0.010436740703880787,0.036681946367025375,-0.004485310986638069,-0.0505792535841465,-0.0365864634513855,-0.05907135456800461,-0.04537491127848625,-0.03606319800019264,0.03815928474068642,0.0612296462059021,0.11630978435277939,-0.11311416327953339,0.01583743840456009,0.013149604201316833,-0.07745885848999023,0.004115744028240442,-0.00627916818484664,-0.0195364598184824,0.019064364954829216,0.000798783905338496,0.04543091356754303,-0.0011281659826636314,-0.016437657177448273,0.01934107020497322,0.1451958566904068,0.007090949919074774,-0.0028140549547970295,-0.021216943860054016,-0.01336898747831583,0.005088601261377335,-0.017351059243083,-0.027609210461378098,0.006244152784347534,-0.007889429107308388,0.024935299530625343,-0.019500093534588814,-0.011253082193434238,-0.010926133021712303,0.013498861342668533,0.00583450635895133,0.08394212275743484,0.0753040537238121,0.03529499098658562,-0.02482583373785019,0.0302374716848135,0.048348378390073776,0.07678651064634323,-0.023917516693472862,-0.02430598996579647,0.025157973170280457,0.018868710845708847,0.006756455637514591,-0.008723248727619648,-0.10750184208154678,-0.010982288047671318,0.009397403337061405,-0.0913332849740982,-0.000817184685729444,-0.06439504027366638,0.05211460962891579,0.020950982347130775,0.01017651055008173,-0.15414896607398987,0.04010523855686188,-0.04228179156780243,-0.0436759777367115,-0.026098407804965973,-0.08902139961719513,0.0541633777320385,-0.0261729434132576,-0.04283713176846504,-0.016267307102680206,-0.0035141436383128166,-0.03354838490486145,0.01860819198191166,0.0027589525561779737,0.007450038567185402,0.09842585027217865,0.038940027356147766,-0.10889258980751038,-0.14676229655742645,-0.09728465974330902,-0.13321645557880402,-0.061530981212854385,0.004942195024341345,-0.0420314222574234,0.030702633783221245,0.034423548728227615,0.21211545169353485,-0.021237149834632874,-0.02671138197183609,0.005343352910131216,0.09090745449066162,0.020121045410633087,-0.06158900633454323,-0.0022323697339743376,0.028378378599882126,-0.09125995635986328,0.03647380694746971,0.06724399328231812,-0.010276260785758495,0.03993498161435127,-0.007330103777348995,-0.024421658366918564,0.01940424181520939,-0.01457168534398079,0.020652014762163162,-0.03645363450050354,-0.025299813598394394,0.006470583379268646,-0.028951352462172508,0.017014695331454277,-0.02189668081700802,-0.0028073007706552744,-0.042195841670036316,-0.03837282210588455,-0.026017475873231888,0.0020054408814758062,-0.025102894753217697,-0.026712583377957344,-0.015906905755400658,-0.004793442320078611,0.05867902189493179,-0.003616651054471731,0.007343278266489506,0.17337468266487122,0.5290536284446716,0.636742889881134,0.17034567892551422,0.15908364951610565,0.07104644179344177,-0.03219450265169144,-0.03746587410569191,0.047786347568035126,0.09306681901216507,-0.04177727922797203,0.02773597277700901,-0.009388950653374195,-0.04705112427473068,-0.01746230386197567,-0.017299966886639595,-0.09556113928556442,-0.0517500601708889,-0.06673342734575272,-0.030385449528694153,-0.038833100348711014,-0.0055830166675150394,-0.05011633783578873,-0.041420768946409225,-0.05342131853103638,-0.089753158390522,0.011839653365314007,-0.08291927725076675,-0.078973688185215,0.01637945882976055,0.01464130636304617,-0.02342420257627964,0.009877918288111687,0.0015269811265170574,-0.02831755019724369,0.04638839513063431,-0.03971187397837639,-0.02089853212237358,-0.012169035151600838,0.04862641170620918,-0.020431097596883774,-0.002391971880570054,-0.013585531152784824,-0.04273657873272896,0.001806591171771288,0.009629334323108196,-0.014181725680828094,-0.021474460139870644,-0.05362310633063316,0.033648230135440826,0.04587308689951897,0.006239716429263353,0.009908279404044151,0.0010165143758058548,-0.02095187082886696,0.0174444280564785,0.021053873002529144,-0.043680135160684586,-0.000995697220787406,0.026838961988687515,0.04729348421096802,-0.019966570660471916,-0.44483518600463867,-0.025319304317235947,-0.10080849379301071,-0.009840304031968117,0.010826260782778263,-0.06684215366840363,0.018700091168284416,0.005332340486347675,-0.0232019554823637,-0.0006857917178422213,0.02263316698372364,0.016321837902069092,0.04157816618680954,0.02003704197704792,0.01279789675027132,0.05862615630030632,-0.016552118584513664,0.011101370677351952,-0.04374499246478081,0.14564840495586395,0.003581148339435458,0.005358280148357153,0.044387321919202805,-0.011764757335186005,0.02556997910141945,0.04892374947667122,-0.017878349870443344,-0.004336385987699032,-0.016812309622764587,0.045433349907398224,0.023234190419316292,-0.0021166508086025715,-0.0006502089672721922,-0.030611801892518997,0.008448955602943897,0.022118696942925453,-0.026184413582086563,0.01704937033355236,0.03350765258073807,-0.010723143815994263,-0.0801832526922226,0.0319284126162529,0.0076558878645300865,-0.03847751021385193,-0.015012331306934357,-0.035856299102306366,0.05252044275403023,-0.026693305000662804,0.0194203183054924,-0.03313348814845085,-0.014340844005346298,0.08438080549240112,-0.04735598340630531,0.05175064876675606,-0.0031958799809217453,-0.06966880708932877,0.00897167343646288,-0.051941342651844025,-0.0929323062300682,-0.011453432030975819,-0.07170255482196808,0.013171170838177204,-0.06372927129268646,-0.0013313801027834415,0.047575101256370544,0.031099960207939148,0.06481283158063889,-0.003640533657744527,0.004048926755785942,-0.2251548022031784,0.055560316890478134,-0.03178628906607628,-0.0021504126489162445,-0.01381881907582283,-0.06683052331209183,-0.06368522346019745,-0.03256656602025032,-0.015567762777209282,-0.015516773797571659,-0.03768162801861763,0.19820749759674072,-0.01683417521417141,0.030108951032161713,0.21569108963012695,0.028566060587763786,-0.02656838670372963,-0.033570025116205215,0.019187478348612785,0.0061476691626012325,-0.004561060108244419,-0.04317300766706467,-0.010368237271904945,0.1264960914850235,0.16966894268989563,0.43239516019821167,0.009750843048095703,0.05162959173321724,0.02104760892689228,-0.020459070801734924,0.00819056760519743,0.006397600285708904,0.05905136838555336,-0.04743308946490288,0.02633950673043728,-0.11581610143184662,-0.014941847883164883,-0.017810026183724403,0.0077302963472902775,-0.045420438051223755,-0.0016654611099511385,-0.020296121016144753,-0.007663138676434755,-0.013208487071096897,0.00941543374210596,0.004688623361289501,0.01793774776160717,-0.004894237034022808,-0.015072738751769066,-0.01572137512266636,-0.0001351320679532364,-0.034486282616853714,-0.048059336841106415,-0.4272105097770691,0.10504753887653351,-0.489045113325119,0.006612871773540974,-0.061366524547338486,-0.006010276731103659,-0.2128024697303772,-0.004565737210214138,-0.26981401443481445,0.01987699791789055,-0.06206648796796799,-0.057213589549064636,-0.02728545479476452,-0.005494392942637205,-0.043538082391023636,-0.0037298023235052824,-0.021929357200860977,0.036383237689733505,0.11791066825389862,0.028198739513754845,0.02568531408905983,0.07213366031646729,-0.024609463289380074,0.0031894980929791927,-0.023613395169377327,-0.019819237291812897,-0.009493494406342506,0.11148859560489655,0.05306485667824745,-0.03996619954705238,-0.01609976403415203,-0.04628529027104378,-0.010569819249212742,-0.029347237199544907,-0.01825212873518467,-0.03391709551215172,0.021477168425917625,-0.060790080577135086,-0.06779291480779648,-0.016435593366622925,0.12432119995355606,-0.011797936633229256,-0.03320550546050072,-0.0682898685336113,-0.05022872984409332,0.04048468545079231,0.07170852273702621,-0.019229622557759285,-0.02111143432557583,-0.05299168452620506,-0.017335880547761917,0.11310090124607086,-0.042737171053886414,-0.04652886092662811,0.009811796247959137,-0.03693053126335144,-0.021059591323137283,0.012671556323766708,-0.00888712890446186,0.009141678921878338,0.08540602773427963,0.0038586279843002558,-0.023448869585990906,0.004746309015899897,0.2380726933479309,-0.041699014604091644,-0.08492927998304367,-0.017597012221813202,0.04336551949381828,-0.012564271688461304,-0.029191482812166214,-0.03013889491558075,-0.03747466951608658,0.026623019948601723,-0.027442364022135735,-0.05572029948234558,0.004108857363462448,-0.04814763739705086,0.04363635554909706,-0.04707847535610199,0.034255366772413254,0.05726208537817001,0.00199229852296412,0.01641668938100338,0.013965530321002007,-0.14037825167179108,0.011099260300397873,0.03207750618457794,-0.060216598212718964,-0.017857277765870094,-0.0410933643579483,0.03721071407198906,0.03405967354774475,0.01930203102529049,-0.04337600991129875,0.03593892976641655,0.04955226927995682,0.0244353786110878,0.037150949239730835,-0.024606997147202492,-0.05802908167243004,0.001675497624091804,0.016533873975276947,-0.0451350063085556,-0.036153394728899,-0.0046944040805101395,-0.013089303858578205,-0.02479737065732479,-0.01677805744111538,-0.053208135068416595,-0.035501979291439056,-0.050836361944675446,0.03725026920437813,-0.025164173915982246,-0.08973818272352219,0.0652489885687828,-0.007227832451462746,0.01139495987445116,0.037530019879341125,-0.009101074188947678,0.022349106147885323,-0.056625038385391235,-0.01625404879450798,0.041849661618471146,-0.007648850325495005,-0.03774850070476532,0.003465237095952034,-0.03934788331389427,-0.02367490343749523,-0.0009705635602585971,0.06256834417581558,-0.0021269959397614002,-0.008077713660895824,-0.0028299293480813503,-0.045677173882722855,0.04420170560479164,-0.003893667133525014,-0.024993130937218666,-0.06808723509311676,-0.034243933856487274,-0.029165802523493767,-0.05616706609725952,-0.015525133349001408,0.042114026844501495,0.025127150118350983,0.010209357365965843,-0.017950430512428284,-0.022642124444246292,-0.1670423299074173,0.27241194248199463,-0.01175227016210556,0.019317051395773888,0.0378001369535923,-0.00894492119550705,-0.008789720013737679,0.16717633605003357,-0.014687521383166313,0.018590642139315605,-0.041072141379117966,-0.0006346455193124712,-0.05793476849794388,-0.027858726680278778,-0.050021518021821976,0.02255360782146454,0.04587307199835777,-0.0067715710029006,0.03418559953570366,0.005152578931301832,-0.03272678330540657,-0.0521962009370327,-0.005320480093359947,-0.044130366295576096,0.09004294872283936,-0.030624041333794594,-0.020049456506967545,0.04152596369385719,-0.018438171595335007,-0.005592061206698418,0.06802251935005188,0.01993129774928093,-0.37986746430397034,0.019972283393144608,-0.017678363248705864,0.02248581126332283,0.022554170340299606,0.07228648662567139,0.14649152755737305,0.010147436521947384,-0.12237349897623062,-0.0671972706913948,-0.062020085752010345,0.00018396372615825385,0.08262138068675995,0.0036301303189247847,-0.012635378167033195,-0.02491292543709278,-0.03721577301621437,0.028639378026127815,-0.0017503108829259872,0.08160988986492157,-0.029721582308411598,-0.012296522036194801,0.015425479970872402,-0.0003094703424721956,0.1146257147192955,0.0020457645878195763,0.061095599085092545,-0.020459048449993134,-0.08712152391672134,0.007805087137967348,0.03569350764155388,0.0439564473927021,-0.0409984216094017,0.014603731222450733,-0.007154750172048807,-0.04019949585199356,0.020283062011003494,-0.056650709360837936,-1.7075844880309887e-05,0.05280185490846634,-0.02671840973198414,-0.031228862702846527,-0.0168154239654541,-0.0851859375834465,0.0253745149821043,-0.04043344408273697,0.045179858803749084,-0.015472155064344406,-0.0065248990431427956,0.5221633911132812,0.013314928859472275,0.04249968379735947,0.030491655692458153,0.20133672654628754,-0.021288566291332245,0.012654309161007404,-0.013753210194408894,-0.02337229624390602,-0.025888223201036453,-0.018070273101329803,0.002507039112970233,-0.014271404594182968,0.04745405912399292,0.007435097359120846,-0.01800684444606304,0.17907562851905823,0.04528187960386276,-0.016085706651210785,-0.006012239959090948,-0.0005968400510028005,0.034773893654346466,0.03700907900929451,-0.03412233293056488,0.028868064284324646,0.04399639368057251,0.05663907527923584,0.018334437161684036,0.00796890165656805,-0.01454659178853035,0.016118526458740234,0.020708203315734863,0.01751919835805893,-0.0051504443399608135,-0.040832504630088806,-0.003381074406206608,-0.00869729183614254,0.029256630688905716,-0.0022764033637940884,0.005387166980654001,0.02608165517449379,0.03639863058924675,0.033814482390880585,0.008225650526583195,0.08364149928092957,-0.36146363615989685,0.531524658203125,0.12024115771055222,-0.04343416541814804,-0.0375802256166935,-0.05169644206762314,-0.005063345655798912,0.0054693459533154964,0.030064048245549202,-0.05510570853948593,-0.001743933535180986,-0.029605697840452194,0.006175100337713957,0.03548943251371384,-0.05117814987897873,-0.01774309016764164,0.12570053339004517,-0.005420084577053785,-0.02891606278717518,-0.043682362884283066,0.0014828377170488238,-0.06999018043279648,0.012440884485840797,-0.022316107526421547,0.010999739170074463,-0.02816944196820259,-0.01247407402843237,-0.0048711406998336315,-0.04697141423821449,-0.018141211941838264,0.008904417976737022,-0.1969819962978363,-0.003669615602120757,0.003958627115935087,-0.050227079540491104,0.06644532084465027,-0.03075685165822506,-0.04296620190143585,0.0057633318938314915,-0.0007865071529522538,0.019527530297636986,-0.044459354132413864,0.06906665861606598,0.00469756405800581,-0.024129493162035942,-0.010804364457726479,-0.05478079989552498,0.004708610009402037,-0.0037948251701891422,-0.037845734506845474,-0.01933700032532215,-0.113881416618824,-0.04795820266008377,-0.026527902111411095,-0.05569813773036003,-0.08074192702770233,-0.06836891919374466,-0.06623757630586624,-0.0038226530887186527,0.17326222360134125,-0.010828319005668163,0.0402049794793129,0.05179262533783913,0.028427090495824814,-0.03662635385990143,0.07350059598684311,0.0629015862941742,0.052092716097831726,0.049436796456575394,0.013284984976053238,-0.002436319598928094,0.04908245801925659,0.036929383873939514,0.12121622264385223,0.020336145535111427,0.02639167383313179,-0.031142668798565865,0.024892661720514297,-0.02954094670712948,-0.03332173079252243,0.1827593594789505,-0.06179360672831535,-0.011662216857075691,-0.031125426292419434,0.005687701515853405,-0.02405223809182644,0.03648591786623001,0.017302069813013077,-0.069939523935318,0.1238841637969017,0.033056676387786865,-0.027323666960000992,-0.013825028203427792,-0.034975942224264145,-0.09395519644021988,-0.01770724356174469,-0.011736261658370495,0.03267964720726013,-0.0947151631116867,0.005208746530115604,0.006195597350597382,-0.0487753227353096,0.04317225515842438,0.008006769232451916,0.03646647930145264,0.029785171151161194,-0.07275005429983139,-0.02550116740167141,-0.07920975983142853,-0.004947548266500235,-0.005958153400570154,0.06191001832485199,0.0362434908747673,-0.010924761183559895,0.0019361465238034725,-0.04210474714636803,-0.007732418365776539,-0.029172513633966446,0.013815289363265038,0.07667886465787888,0.05224354565143585,-0.028019120916724205,-0.08396856486797333,-0.03266426920890808,-0.06043308973312378,-0.042747389525175095,-0.040647413581609726,0.026414642110466957,0.014940996654331684,-0.00510130962356925,-0.026427824050188065,0.023490730673074722,-0.006004082504659891,0.03105648048222065,0.039264459162950516,-0.0051092784851789474,0.008665967732667923,0.11321116238832474,-0.021567894145846367,-0.14438612759113312,-0.050734881311655045,-0.025716912001371384,-0.06926614791154861,-0.05810605362057686,0.011502302251756191,0.0727444514632225,0.002343791304156184,-0.0034120494965463877,-0.045592788606882095,0.6568438410758972,-0.050362370908260345,0.04154514521360397,-0.008347267284989357,-0.09435480087995529,0.01247519999742508,-0.0774143636226654,-0.05108990892767906,-0.00535271130502224,0.04040442034602165,-0.0022989914286881685,-0.014894494786858559,-0.03448932245373726,-0.010453050024807453,0.001110335811972618,-0.0007740877335891128,-0.0243634432554245,0.009450849145650864,0.03421857953071594,0.040510233491659164,0.008006288670003414,-0.046461839228868484,0.22424182295799255,0.1056959256529808,0.11286622285842896,0.05555271357297897,0.0825452134013176,-0.0710262656211853,-0.05196800455451012,0.009365112520754337,-0.09665670990943909,-0.03387700766324997,-0.03640159219503403,0.021484630182385445,0.053017858415842056,-0.012831555679440498,-0.03857537358999252,-0.034033674746751785,0.01764625310897827,0.013257645070552826,-0.01717502810060978,-0.029338980093598366,0.22811126708984375,-0.07607140392065048,0.006515996064990759,-0.08337724208831787,-0.02878684364259243,0.028553098440170288,0.015287688933312893,0.0336604118347168,0.037730757147073746,-0.07516767084598541,-0.015698285773396492,-0.05846370384097099,-0.03348489850759506,-0.009621783159673214,0.05749634653329849,0.060021065175533295,-0.02369406260550022,-0.06339988857507706,-0.005877157207578421,-0.018173374235630035,0.022154757753014565,0.01570548303425312,0.642296314239502,-0.2056991308927536,-0.021571459248661995,-0.03435354307293892,-0.03862369433045387,-0.04196201264858246,-0.02860487997531891,-0.0899055227637291,0.036570239812135696,-0.02253192849457264,-0.037152472883462906,-0.24343517422676086,0.05119515582919121,-0.028977641835808754,-0.03045705333352089,-0.015791337937116623,-0.00994656141847372,-0.04166996479034424,0.12707659602165222,0.03793594241142273,-0.009155670180916786,0.22049137949943542,-0.03899119049310684,-0.05002625659108162,-0.03713361546397209,-0.03149743378162384,0.08716535568237305,-0.017648736014962196,-0.0031100872438400984,-0.01251268945634365,-0.0269297044724226,-0.0402422770857811,0.013536876998841763,0.04001111164689064,-0.004682095255702734,-0.022983606904745102,0.005607092287391424,0.03181722015142441,-0.013506434857845306,-0.05320269614458084,0.01663868874311447,-0.0077931019477546215,-0.024274982511997223,0.045296937227249146,-0.08018934726715088,-0.004248674027621746,0.047646619379520416,-0.07295504957437515,0.010666602291166782,-0.02344479225575924,-0.06059505045413971,0.01026985514909029,-0.006057587917894125,-0.047904569655656815,-0.012099537998437881,-0.019790848717093468,-0.03038506582379341,0.06595978140830994,0.013546764850616455,-0.021304793655872345,-0.05534249544143677,0.05797877535223961,-0.04858468472957611,-0.04830937460064888,-0.034425437450408936,0.005837780889123678,-0.0729425698518753,-0.04467589780688286,-0.07935173064470291,-0.025040237233042717,-0.0789717584848404,0.014018948189914227,-0.05003032088279724,-0.03716510906815529,-0.05947791412472725,0.00477122375741601,-0.033890992403030396,0.1579868048429489,-0.043931763619184494,-0.036838069558143616,-0.015960734337568283,-0.029528146609663963,-0.05046181008219719,-0.03476293385028839,0.0437251515686512,-0.02087252028286457,0.06582501530647278,-0.02062290720641613,0.0015616040909662843,0.023060645908117294,-0.002812683815136552,0.0671016126871109,-0.039837539196014404,0.04084509238600731,-0.021500583738088608,0.00737068522721529,0.010220997035503387,0.00814925879240036,0.008912209421396255,0.01150703988969326,-0.0014506407314911485,-0.03789108991622925,-0.055569618940353394,0.027630651369690895,-0.0023431123699992895,0.044067081063985825,-0.031124217435717583,0.019602101296186447,0.04578543081879616,-0.04939933866262436,-0.07545412331819534,-0.06225375458598137,-0.004616007674485445,-0.010201427154242992,0.03063075803220272,-0.04171997681260109,-0.03290410712361336,-0.03306758776307106,-0.07279617339372635,0.017974073067307472,-0.0303360465914011,-0.003207727335393429,-0.00543555011972785,0.03668077662587166,-0.016958406195044518,-0.004212572239339352,-0.027331611141562462,0.0227988101541996,-0.01722903363406658,-0.0035125375725328922,-0.022651012986898422,-0.040762078016996384,-0.06380579620599747,0.0533900111913681,-3.1731771741760895e-05,-0.05097349360585213,-0.0010225552832707763,-0.0160316564142704,-0.09476137906312943,-0.04168670251965523,-0.02482793480157852,0.022848907858133316,-0.00891296286135912,-0.006264576688408852,-0.02677103318274021,-0.028159037232398987,-0.07561971992254257,0.05977539345622063,-0.05270581319928169,-0.016187729313969612,-0.025332044810056686,-0.05958271026611328,0.09135474264621735,-0.023288194090127945,-0.04420151188969612,-0.06346891820430756,-0.04599248245358467,-0.017206698656082153,0.050020985305309296,-0.015223790891468525,-0.04436147212982178,0.09978187084197998,-0.040872883051633835,0.01806221529841423,0.012474321760237217,0.011534844525158405,-0.03013298660516739,0.008792349137365818,-0.004508902784436941,0.0028469841927289963,-0.04062185809016228,-0.029072124511003494,0.09160846471786499,-0.00788905844092369,-0.01514902338385582,-0.04905726760625839,-0.04449052736163139,-0.011426134966313839,-0.05052749067544937,-0.04616343230009079,-0.0052267019636929035,-0.012788313440978527,-0.06778223067522049,-0.0250620748847723,-0.13359229266643524,-0.035837091505527496,0.0017775602173060179,-0.011278649792075157,-0.018824568018317223,-0.02496473863720894,-0.026575841009616852,0.022337470203638077,-0.0025120603386312723,-0.1002398282289505,0.002179408445954323,-0.034861426800489426,-0.02345268242061138,0.026772862300276756,-0.01053701527416706,-0.01805911958217621,-0.006792610976845026,0.004907723981887102,-0.011935210786759853,0.0021907908376306295,0.025157175958156586,0.033421967178583145,-0.023631805554032326,0.015581993386149406,-0.007947444915771484,0.03606408089399338,-0.0170720387250185,0.1160564050078392,0.020457511767745018,-0.00048380301450379193,0.01961934007704258,-0.015682779252529144,-0.05077270790934563,-0.03984194993972778,-0.008306678384542465,0.03128107637166977,-0.06377219408750534,-0.030417900532484055,0.02502545155584812,-0.08389472961425781,-0.047085367143154144,0.031847596168518066,-0.02999378927052021,-0.07214579731225967,-0.03718848153948784,-0.045951854437589645,0.01322851236909628,0.03421624377369881,-0.03634954243898392,-0.029698939993977547,-0.002704466925933957,0.031980063766241074,0.06878791004419327,-0.08810663223266602,-0.03352801874279976,0.08357510715723038,-0.09235990047454834,-0.0240167323499918,-0.02792489528656006,-0.031071975827217102,-0.011842489242553711,-0.0048647476360201836,-0.0036702596116811037,0.03447311371564865,0.016619769856333733,-0.004553549457341433,0.043349552899599075,0.019602850079536438,0.005732878111302853,-0.036799535155296326,0.003384772688150406,0.0031506004743278027,0.013363005593419075,0.02164233848452568,0.011428006924688816,0.03756295517086983],\"yaxis\":\"y\",\"type\":\"scattergl\"}],                        {\"template\":{\"data\":{\"histogram2dcontour\":[{\"type\":\"histogram2dcontour\",\"colorbar\":{\"outlinewidth\":0,\"ticks\":\"\"},\"colorscale\":[[0.0,\"#0d0887\"],[0.1111111111111111,\"#46039f\"],[0.2222222222222222,\"#7201a8\"],[0.3333333333333333,\"#9c179e\"],[0.4444444444444444,\"#bd3786\"],[0.5555555555555556,\"#d8576b\"],[0.6666666666666666,\"#ed7953\"],[0.7777777777777778,\"#fb9f3a\"],[0.8888888888888888,\"#fdca26\"],[1.0,\"#f0f921\"]]}],\"choropleth\":[{\"type\":\"choropleth\",\"colorbar\":{\"outlinewidth\":0,\"ticks\":\"\"}}],\"histogram2d\":[{\"type\":\"histogram2d\",\"colorbar\":{\"outlinewidth\":0,\"ticks\":\"\"},\"colorscale\":[[0.0,\"#0d0887\"],[0.1111111111111111,\"#46039f\"],[0.2222222222222222,\"#7201a8\"],[0.3333333333333333,\"#9c179e\"],[0.4444444444444444,\"#bd3786\"],[0.5555555555555556,\"#d8576b\"],[0.6666666666666666,\"#ed7953\"],[0.7777777777777778,\"#fb9f3a\"],[0.8888888888888888,\"#fdca26\"],[1.0,\"#f0f921\"]]}],\"heatmap\":[{\"type\":\"heatmap\",\"colorbar\":{\"outlinewidth\":0,\"ticks\":\"\"},\"colorscale\":[[0.0,\"#0d0887\"],[0.1111111111111111,\"#46039f\"],[0.2222222222222222,\"#7201a8\"],[0.3333333333333333,\"#9c179e\"],[0.4444444444444444,\"#bd3786\"],[0.5555555555555556,\"#d8576b\"],[0.6666666666666666,\"#ed7953\"],[0.7777777777777778,\"#fb9f3a\"],[0.8888888888888888,\"#fdca26\"],[1.0,\"#f0f921\"]]}],\"heatmapgl\":[{\"type\":\"heatmapgl\",\"colorbar\":{\"outlinewidth\":0,\"ticks\":\"\"},\"colorscale\":[[0.0,\"#0d0887\"],[0.1111111111111111,\"#46039f\"],[0.2222222222222222,\"#7201a8\"],[0.3333333333333333,\"#9c179e\"],[0.4444444444444444,\"#bd3786\"],[0.5555555555555556,\"#d8576b\"],[0.6666666666666666,\"#ed7953\"],[0.7777777777777778,\"#fb9f3a\"],[0.8888888888888888,\"#fdca26\"],[1.0,\"#f0f921\"]]}],\"contourcarpet\":[{\"type\":\"contourcarpet\",\"colorbar\":{\"outlinewidth\":0,\"ticks\":\"\"}}],\"contour\":[{\"type\":\"contour\",\"colorbar\":{\"outlinewidth\":0,\"ticks\":\"\"},\"colorscale\":[[0.0,\"#0d0887\"],[0.1111111111111111,\"#46039f\"],[0.2222222222222222,\"#7201a8\"],[0.3333333333333333,\"#9c179e\"],[0.4444444444444444,\"#bd3786\"],[0.5555555555555556,\"#d8576b\"],[0.6666666666666666,\"#ed7953\"],[0.7777777777777778,\"#fb9f3a\"],[0.8888888888888888,\"#fdca26\"],[1.0,\"#f0f921\"]]}],\"surface\":[{\"type\":\"surface\",\"colorbar\":{\"outlinewidth\":0,\"ticks\":\"\"},\"colorscale\":[[0.0,\"#0d0887\"],[0.1111111111111111,\"#46039f\"],[0.2222222222222222,\"#7201a8\"],[0.3333333333333333,\"#9c179e\"],[0.4444444444444444,\"#bd3786\"],[0.5555555555555556,\"#d8576b\"],[0.6666666666666666,\"#ed7953\"],[0.7777777777777778,\"#fb9f3a\"],[0.8888888888888888,\"#fdca26\"],[1.0,\"#f0f921\"]]}],\"mesh3d\":[{\"type\":\"mesh3d\",\"colorbar\":{\"outlinewidth\":0,\"ticks\":\"\"}}],\"scatter\":[{\"fillpattern\":{\"fillmode\":\"overlay\",\"size\":10,\"solidity\":0.2},\"type\":\"scatter\"}],\"parcoords\":[{\"type\":\"parcoords\",\"line\":{\"colorbar\":{\"outlinewidth\":0,\"ticks\":\"\"}}}],\"scatterpolargl\":[{\"type\":\"scatterpolargl\",\"marker\":{\"colorbar\":{\"outlinewidth\":0,\"ticks\":\"\"}}}],\"bar\":[{\"error_x\":{\"color\":\"#2a3f5f\"},\"error_y\":{\"color\":\"#2a3f5f\"},\"marker\":{\"line\":{\"color\":\"#E5ECF6\",\"width\":0.5},\"pattern\":{\"fillmode\":\"overlay\",\"size\":10,\"solidity\":0.2}},\"type\":\"bar\"}],\"scattergeo\":[{\"type\":\"scattergeo\",\"marker\":{\"colorbar\":{\"outlinewidth\":0,\"ticks\":\"\"}}}],\"scatterpolar\":[{\"type\":\"scatterpolar\",\"marker\":{\"colorbar\":{\"outlinewidth\":0,\"ticks\":\"\"}}}],\"histogram\":[{\"marker\":{\"pattern\":{\"fillmode\":\"overlay\",\"size\":10,\"solidity\":0.2}},\"type\":\"histogram\"}],\"scattergl\":[{\"type\":\"scattergl\",\"marker\":{\"colorbar\":{\"outlinewidth\":0,\"ticks\":\"\"}}}],\"scatter3d\":[{\"type\":\"scatter3d\",\"line\":{\"colorbar\":{\"outlinewidth\":0,\"ticks\":\"\"}},\"marker\":{\"colorbar\":{\"outlinewidth\":0,\"ticks\":\"\"}}}],\"scattermapbox\":[{\"type\":\"scattermapbox\",\"marker\":{\"colorbar\":{\"outlinewidth\":0,\"ticks\":\"\"}}}],\"scatterternary\":[{\"type\":\"scatterternary\",\"marker\":{\"colorbar\":{\"outlinewidth\":0,\"ticks\":\"\"}}}],\"scattercarpet\":[{\"type\":\"scattercarpet\",\"marker\":{\"colorbar\":{\"outlinewidth\":0,\"ticks\":\"\"}}}],\"carpet\":[{\"aaxis\":{\"endlinecolor\":\"#2a3f5f\",\"gridcolor\":\"white\",\"linecolor\":\"white\",\"minorgridcolor\":\"white\",\"startlinecolor\":\"#2a3f5f\"},\"baxis\":{\"endlinecolor\":\"#2a3f5f\",\"gridcolor\":\"white\",\"linecolor\":\"white\",\"minorgridcolor\":\"white\",\"startlinecolor\":\"#2a3f5f\"},\"type\":\"carpet\"}],\"table\":[{\"cells\":{\"fill\":{\"color\":\"#EBF0F8\"},\"line\":{\"color\":\"white\"}},\"header\":{\"fill\":{\"color\":\"#C8D4E3\"},\"line\":{\"color\":\"white\"}},\"type\":\"table\"}],\"barpolar\":[{\"marker\":{\"line\":{\"color\":\"#E5ECF6\",\"width\":0.5},\"pattern\":{\"fillmode\":\"overlay\",\"size\":10,\"solidity\":0.2}},\"type\":\"barpolar\"}],\"pie\":[{\"automargin\":true,\"type\":\"pie\"}]},\"layout\":{\"autotypenumbers\":\"strict\",\"colorway\":[\"#636efa\",\"#EF553B\",\"#00cc96\",\"#ab63fa\",\"#FFA15A\",\"#19d3f3\",\"#FF6692\",\"#B6E880\",\"#FF97FF\",\"#FECB52\"],\"font\":{\"color\":\"#2a3f5f\"},\"hovermode\":\"closest\",\"hoverlabel\":{\"align\":\"left\"},\"paper_bgcolor\":\"white\",\"plot_bgcolor\":\"#E5ECF6\",\"polar\":{\"bgcolor\":\"#E5ECF6\",\"angularaxis\":{\"gridcolor\":\"white\",\"linecolor\":\"white\",\"ticks\":\"\"},\"radialaxis\":{\"gridcolor\":\"white\",\"linecolor\":\"white\",\"ticks\":\"\"}},\"ternary\":{\"bgcolor\":\"#E5ECF6\",\"aaxis\":{\"gridcolor\":\"white\",\"linecolor\":\"white\",\"ticks\":\"\"},\"baxis\":{\"gridcolor\":\"white\",\"linecolor\":\"white\",\"ticks\":\"\"},\"caxis\":{\"gridcolor\":\"white\",\"linecolor\":\"white\",\"ticks\":\"\"}},\"coloraxis\":{\"colorbar\":{\"outlinewidth\":0,\"ticks\":\"\"}},\"colorscale\":{\"sequential\":[[0.0,\"#0d0887\"],[0.1111111111111111,\"#46039f\"],[0.2222222222222222,\"#7201a8\"],[0.3333333333333333,\"#9c179e\"],[0.4444444444444444,\"#bd3786\"],[0.5555555555555556,\"#d8576b\"],[0.6666666666666666,\"#ed7953\"],[0.7777777777777778,\"#fb9f3a\"],[0.8888888888888888,\"#fdca26\"],[1.0,\"#f0f921\"]],\"sequentialminus\":[[0.0,\"#0d0887\"],[0.1111111111111111,\"#46039f\"],[0.2222222222222222,\"#7201a8\"],[0.3333333333333333,\"#9c179e\"],[0.4444444444444444,\"#bd3786\"],[0.5555555555555556,\"#d8576b\"],[0.6666666666666666,\"#ed7953\"],[0.7777777777777778,\"#fb9f3a\"],[0.8888888888888888,\"#fdca26\"],[1.0,\"#f0f921\"]],\"diverging\":[[0,\"#8e0152\"],[0.1,\"#c51b7d\"],[0.2,\"#de77ae\"],[0.3,\"#f1b6da\"],[0.4,\"#fde0ef\"],[0.5,\"#f7f7f7\"],[0.6,\"#e6f5d0\"],[0.7,\"#b8e186\"],[0.8,\"#7fbc41\"],[0.9,\"#4d9221\"],[1,\"#276419\"]]},\"xaxis\":{\"gridcolor\":\"white\",\"linecolor\":\"white\",\"ticks\":\"\",\"title\":{\"standoff\":15},\"zerolinecolor\":\"white\",\"automargin\":true,\"zerolinewidth\":2},\"yaxis\":{\"gridcolor\":\"white\",\"linecolor\":\"white\",\"ticks\":\"\",\"title\":{\"standoff\":15},\"zerolinecolor\":\"white\",\"automargin\":true,\"zerolinewidth\":2},\"scene\":{\"xaxis\":{\"backgroundcolor\":\"#E5ECF6\",\"gridcolor\":\"white\",\"linecolor\":\"white\",\"showbackground\":true,\"ticks\":\"\",\"zerolinecolor\":\"white\",\"gridwidth\":2},\"yaxis\":{\"backgroundcolor\":\"#E5ECF6\",\"gridcolor\":\"white\",\"linecolor\":\"white\",\"showbackground\":true,\"ticks\":\"\",\"zerolinecolor\":\"white\",\"gridwidth\":2},\"zaxis\":{\"backgroundcolor\":\"#E5ECF6\",\"gridcolor\":\"white\",\"linecolor\":\"white\",\"showbackground\":true,\"ticks\":\"\",\"zerolinecolor\":\"white\",\"gridwidth\":2}},\"shapedefaults\":{\"line\":{\"color\":\"#2a3f5f\"}},\"annotationdefaults\":{\"arrowcolor\":\"#2a3f5f\",\"arrowhead\":0,\"arrowwidth\":1},\"geo\":{\"bgcolor\":\"white\",\"landcolor\":\"#E5ECF6\",\"subunitcolor\":\"white\",\"showland\":true,\"showlakes\":true,\"lakecolor\":\"white\"},\"title\":{\"x\":0.05},\"mapbox\":{\"style\":\"light\"}}},\"xaxis\":{\"anchor\":\"y\",\"domain\":[0.0,1.0],\"title\":{\"text\":\"0\"}},\"yaxis\":{\"anchor\":\"x\",\"domain\":[0.0,1.0],\"title\":{\"text\":\"1\"}},\"coloraxis\":{\"colorbar\":{\"title\":{\"text\":\"cluster\"}},\"colorscale\":[[0.0,\"#0d0887\"],[0.1111111111111111,\"#46039f\"],[0.2222222222222222,\"#7201a8\"],[0.3333333333333333,\"#9c179e\"],[0.4444444444444444,\"#bd3786\"],[0.5555555555555556,\"#d8576b\"],[0.6666666666666666,\"#ed7953\"],[0.7777777777777778,\"#fb9f3a\"],[0.8888888888888888,\"#fdca26\"],[1.0,\"#f0f921\"]]},\"legend\":{\"tracegroupgap\":0},\"margin\":{\"t\":60}},                        {\"responsive\": true}                    ).then(function(){\n",
       "                            \n",
       "var gd = document.getElementById('1662fa87-1fa5-425c-9b8d-7e6994d9da20');\n",
       "var x = new MutationObserver(function (mutations, observer) {{\n",
       "        var display = window.getComputedStyle(gd).display;\n",
       "        if (!display || display === 'none') {{\n",
       "            console.log([gd, 'removed!']);\n",
       "            Plotly.purge(gd);\n",
       "            observer.disconnect();\n",
       "        }}\n",
       "}});\n",
       "\n",
       "// Listen for the removal of the full notebook cells\n",
       "var notebookContainer = gd.closest('#notebook-container');\n",
       "if (notebookContainer) {{\n",
       "    x.observe(notebookContainer, {childList: true});\n",
       "}}\n",
       "\n",
       "// Listen for the clearing of the current output cell\n",
       "var outputEl = gd.closest('.output');\n",
       "if (outputEl) {{\n",
       "    x.observe(outputEl, {childList: true});\n",
       "}}\n",
       "\n",
       "                        })                };                });            </script>        </div>"
      ]
     },
     "metadata": {},
     "output_type": "display_data"
    }
   ],
   "source": [
    "import plotly.express as px\n",
    "fig = px.scatter(pca_df, x = 0, y = 1, color = 'cluster', hover_data = ['rider'])\n",
    "fig.show()"
   ]
  },
  {
   "cell_type": "code",
   "execution_count": null,
   "id": "c9e48a7d",
   "metadata": {},
   "outputs": [],
   "source": []
  }
 ],
 "metadata": {
  "kernelspec": {
   "display_name": "Python 3 (ipykernel)",
   "language": "python",
   "name": "python3"
  },
  "language_info": {
   "codemirror_mode": {
    "name": "ipython",
    "version": 3
   },
   "file_extension": ".py",
   "mimetype": "text/x-python",
   "name": "python",
   "nbconvert_exporter": "python",
   "pygments_lexer": "ipython3",
   "version": "3.10.8"
  }
 },
 "nbformat": 4,
 "nbformat_minor": 5
}
