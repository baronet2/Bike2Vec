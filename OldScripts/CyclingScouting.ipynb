{
  "nbformat": 4,
  "nbformat_minor": 0,
  "metadata": {
    "colab": {
      "name": "CyclingScouting.ipynb",
      "provenance": [],
      "collapsed_sections": []
    },
    "kernelspec": {
      "name": "python3",
      "display_name": "Python 3"
    }
  },
  "cells": [
    {
      "cell_type": "code",
      "metadata": {
        "colab": {
          "base_uri": "https://localhost:8080/"
        },
        "id": "diyAJMyYT78u",
        "outputId": "052f98fc-4032-41e6-f0a3-ba4e62cc2c73"
      },
      "source": [
        "from google.colab import drive\r\n",
        "drive.mount('/content/drive/')"
      ],
      "execution_count": null,
      "outputs": [
        {
          "output_type": "stream",
          "text": [
            "Drive already mounted at /content/drive/; to attempt to forcibly remount, call drive.mount(\"/content/drive/\", force_remount=True).\n"
          ],
          "name": "stdout"
        }
      ]
    },
    {
      "cell_type": "code",
      "metadata": {
        "id": "UXg-dSZkUnLf"
      },
      "source": [
        "import pandas as pd\r\n",
        "import numpy as np\r\n",
        "\r\n",
        "full = pd.read_csv('/content/drive/My Drive/Colab Notebooks/InputPythonUTF8.csv')"
      ],
      "execution_count": null,
      "outputs": []
    },
    {
      "cell_type": "code",
      "metadata": {
        "id": "XtE04nTOVaH9"
      },
      "source": [
        "full.columns = full.columns.str.replace(\".\", \"-\")"
      ],
      "execution_count": null,
      "outputs": []
    },
    {
      "cell_type": "code",
      "metadata": {
        "id": "x3AkU_ZDVcvG"
      },
      "source": [
        "oneday_races_cobbles = ['omloop-der-vlaamse-gewesten2'\r\n",
        "  ,'paris-roubaix-juniors'\r\n",
        "  ,'ronde-van-vlaanderen-juniores'\r\n",
        "  ,'tour-des-flandres-espoirs'\r\n",
        "  ,'paris-roubaix-espoirs'\r\n",
        "  ,'kattekoers']\r\n",
        "\r\n",
        "oneday_races_MJ = ['bernaudeau-junior'\r\n",
        "  ,'gp-general-patton'\r\n",
        "  ,'gp-dell-arno'\r\n",
        "  ,'trofeo-buffoni'\r\n",
        "  ,'trofeo-comune-di-vertova'\r\n",
        "  ,'trofeo-emilio-paganessi'\r\n",
        "  ,'le-trophee-centre-morbihan'\r\n",
        "  ,'european-championship-mj'\r\n",
        "  ,'uci-world-championships-mj']\r\n",
        "\r\n",
        "oneday_races_hilly_U23 = ['liege-bastogne-liege-u23'\r\n",
        "  ,'coppa-della-pace-trofeo-flli-anelli'\r\n",
        "  ,'gp-palio-del-recioto'\r\n",
        "  ,'gp-capodarco'\r\n",
        "  ,'gran-premio-della-liberazione'\r\n",
        "  ,'gp-industrie-del-marmo'\r\n",
        "  ,'gp-di-poggiana'\r\n",
        "  ,'piccolo-giro-di-lombardia'\r\n",
        "  ,'ruota-d-oro-gp-festa-del-perdono'\r\n",
        "  ,'gp-industria-e-commercio2'\r\n",
        "  ,'trofeo-piva'\r\n",
        "  ,'circuito-belvedere'\r\n",
        "  ,'world-championships-u23'\r\n",
        "  ,'european-championships']\r\n",
        "\r\n",
        "rest_races = ['le-triptyque-des-monts-et-chateaux'\r\n",
        "  ,'olympias-tour'\r\n",
        "  ,'tour-de-normadie'\r\n",
        "  ,'tour-de-berlin'\r\n",
        "  ,'paris-arras-tour'\r\n",
        "  ,'paris-tours-u23'\r\n",
        "  ,'eschborn-frankfurt-u23'\r\n",
        "  ,'zlm-tour']\r\n",
        "\r\n",
        "stageraces_climb = ['ronde-de-l-isard'\r\n",
        "  ,'tour-alsace']\r\n",
        "\r\n",
        "stageraces_MJ = ['tour-du-valromey'\r\n",
        ",'liege-la-gleize'\r\n",
        ",'course-de-la-paix-junior'\r\n",
        ",'grand-prix-ruebliland'\r\n",
        ",'keizer-der-juniores'\r\n",
        ",'la-coupe-du-president-de-la-ville-de-grudziadz'\r\n",
        ",'trofeo-karlsberg'\r\n",
        ",'sint-martinusprijs-kontich'\r\n",
        ",'driedaagse-van-axel'\r\n",
        ",'tour-de-l-abitibi'\r\n",
        ",'tour-du-pays-de-vaud'\r\n",
        ",'giro-internazionale-della-lunigiana'\r\n",
        ",'tour-de-l-abitibi'\r\n",
        ",'int-junioren-rundfahrt-niedersachsen']\r\n",
        "\r\n",
        "ITT_races = [\r\n",
        "  'uci-world-championships-itt-mj'\r\n",
        "  ,'chrono-des-nations-les-herbiers-vendee-mj'\r\n",
        "  ,'world-championships-itt-u23'\r\n",
        "  ,'european-championships-itt-u23']\r\n",
        "\r\n",
        "big_tours = ['tour-de-l-avenir'\r\n",
        "             ,'giro-ciclistico-d-italia'\r\n",
        "             ,'giro-ciclistico-della-valle-d-aosta-mont-blanc'\r\n",
        "             ,'tour-des-pays-de-savoie']"
      ],
      "execution_count": null,
      "outputs": []
    },
    {
      "cell_type": "code",
      "metadata": {
        "id": "QefHLzFCVfWb"
      },
      "source": [
        "oneday_races_cobbles_col = [s for s in full.columns if any(xs in s for xs in oneday_races_cobbles)]\r\n",
        "oneday_races_MJ_col = [s for s in full.columns if any(xs in s for xs in oneday_races_MJ)]\r\n",
        "oneday_races_hilly_U23_col = [s for s in full.columns if any(xs in s for xs in oneday_races_hilly_U23)]\r\n",
        "rest_races_col = [s for s in full.columns if any(xs in s for xs in rest_races)]\r\n",
        "stageraces_climb_col = [s for s in full.columns if any(xs in s for xs in stageraces_climb)]\r\n",
        "stageraces_MJ_col = [s for s in full.columns if any(xs in s for xs in stageraces_MJ)]\r\n",
        "ITT_races_col = [s for s in full.columns if any(xs in s for xs in ITT_races)]\r\n",
        "big_tours_col = [s for s in full.columns if any(xs in s for xs in big_tours)]\r\n",
        "\r\n",
        "oneday_races_hilly_U23_col = [i for i in oneday_races_hilly_U23_col if \"itt-u23\" not in i]\r\n",
        "\r\n",
        "t = [oneday_races_cobbles_col,oneday_races_MJ_col,oneday_races_hilly_U23_col,rest_races_col,stageraces_climb_col,stageraces_MJ_col,ITT_races_col,big_tours_col]\r\n",
        "race_col = [item for sublist in t for item in sublist]\r\n",
        "\r\n",
        "complete_var = np.setdiff1d(full.columns,race_col)"
      ],
      "execution_count": null,
      "outputs": []
    },
    {
      "cell_type": "code",
      "metadata": {
        "id": "LrEfv-IIVsIW"
      },
      "source": [
        "from sklearn.experimental import enable_iterative_imputer\r\n",
        "from sklearn.impute import SimpleImputer, IterativeImputer, KNNImputer\r\n",
        "from sklearn.ensemble import RandomForestRegressor\r\n",
        "from xgboost.sklearn import XGBRegressor\r\n",
        "\r\n",
        "def impute(imputation_method, train, val, test, complete_var):\r\n",
        "    \r\n",
        "    if imputation_method=='mean':\r\n",
        "        imputer = SimpleImputer(missing_values=np.nan, strategy='mean')\r\n",
        "    elif  imputation_method=='regression':    \r\n",
        "        imputer = IterativeImputer(estimator = RandomForestRegressor(n_estimators=500), max_iter=30, random_state=516)\r\n",
        "    elif  imputation_method=='knn':  \r\n",
        "        imputer = KNNImputer(n_neighbors=5, weights=\"uniform\")    \r\n",
        "    else:\r\n",
        "        print('wrong imputation method')\r\n",
        "    \r\n",
        "    col_store = train.columns\r\n",
        "\r\n",
        "    if imputation_method=='knn': \r\n",
        "        \r\n",
        "\r\n",
        "        train_impute =  train[complete_var]\r\n",
        "        test_impute = test[complete_var]\r\n",
        "        val_impute = val[complete_var]\r\n",
        "        \r\n",
        "        for columns in t:\r\n",
        "            total_col = [columns, complete_var]\r\n",
        "            total_col = [item for sublist in total_col for item in sublist]\r\n",
        "\r\n",
        "            train_tussen = train[total_col]\r\n",
        "            test_tussen = test[total_col]\r\n",
        "            val_tussen = val[total_col]\r\n",
        "\r\n",
        "            imputer.fit(train_tussen)\r\n",
        "\r\n",
        "            train_tussen = pd.DataFrame(imputer.transform(train_tussen))\r\n",
        "            test_tussen = pd.DataFrame(imputer.transform(test_tussen))\r\n",
        "            val_tussen = pd.DataFrame(imputer.transform(val_tussen))\r\n",
        "\r\n",
        "            train_tussen.columns = total_col\r\n",
        "            test_tussen.columns = total_col\r\n",
        "            val_tussen.columns = total_col\r\n",
        "\r\n",
        "            train_tussen = train_tussen[columns]\r\n",
        "            test_tussen = test_tussen[columns]\r\n",
        "            val_tussen = val_tussen[columns]\r\n",
        "\r\n",
        "            train_impute.reset_index(drop=True, inplace=True)\r\n",
        "            train_tussen.reset_index(drop=True, inplace=True)\r\n",
        "            val_impute.reset_index(drop=True, inplace=True)\r\n",
        "            val_tussen.reset_index(drop=True, inplace=True)\r\n",
        "            test_impute.reset_index(drop=True, inplace=True)\r\n",
        "            test_tussen.reset_index(drop=True, inplace=True)\r\n",
        "\r\n",
        "            train_impute = pd.concat([train_impute, train_tussen], axis = 1, ignore_index = True)\r\n",
        "            val_impute = pd.concat([val_impute, val_tussen], axis = 1, ignore_index = True)\r\n",
        "            test_impute = pd.concat([test_impute, test_tussen], axis = 1, ignore_index = True)\r\n",
        "\r\n",
        "\r\n",
        "    else:\r\n",
        "        train_impute = train\r\n",
        "        val_impute = val\r\n",
        "        test_impute = test\r\n",
        "        \r\n",
        "        imputer.fit(train_impute)\r\n",
        "\r\n",
        "        train_impute = pd.DataFrame(imputer.transform(train_impute))\r\n",
        "        val_impute = pd.DataFrame(imputer.transform(val_impute))\r\n",
        "        test_impute = pd.DataFrame(imputer.transform(test_impute))    \r\n",
        "\r\n",
        "    train_impute.columns = col_store \r\n",
        "    val_impute.columns = col_store \r\n",
        "    test_impute.columns = col_store\r\n",
        "       \r\n",
        "    return(train_impute, val_impute, test_impute) "
      ],
      "execution_count": null,
      "outputs": []
    },
    {
      "cell_type": "code",
      "metadata": {
        "id": "x8lSTiBr3sta"
      },
      "source": [
        "from sklearn.metrics import mean_squared_error\r\n",
        "from sklearn.linear_model import LinearRegression, Ridge\r\n",
        "from sklearn.ensemble import RandomForestRegressor\r\n",
        "\r\n",
        "gammas = [0.5,1,1.5,2]\r\n",
        "lrs = [0.001,0.01,0.1,0.2,0.5]\r\n",
        "num_rounds = [2,5,10,20,50,100]\r\n",
        "lambdas = [0.01,0.02, 0.05, 0.1, 0.2, 0.5, 1, 2]\r\n",
        "\r\n",
        "def render_predictions(X_train, y_train, X_val, y_val, X_test):\r\n",
        "\r\n",
        "    X_trainBig = pd.concat([X_train, X_val], axis = 0)    \r\n",
        "    y_trainBig = np.concatenate((y_train, y_val))\r\n",
        "\r\n",
        "    X_trainBig.columns = X_train.columns\r\n",
        "\r\n",
        "    print('Linear Regression')\r\n",
        "\r\n",
        "    linreg = LinearRegression()\r\n",
        "    linreg.fit(X_trainBig, y_trainBig)    \r\n",
        "    predictions_linreg = linreg.predict(X_test)\r\n",
        "\r\n",
        "    print('Ridge Regression')\r\n",
        "\r\n",
        "    waarde = 999999\r\n",
        "    final_alpha = 0\r\n",
        "\r\n",
        "    for lam in lambdas:\r\n",
        "        ridge_mod = Ridge(alpha = lam)\r\n",
        "        ridge_mod.fit(X_train, y_train)\r\n",
        "        predictions = ridge_mod.predict(X_val)\r\n",
        "        waarde2 = mean_squared_error(y_val, predictions, squared=False)\r\n",
        "        if waarde2<waarde:                    \r\n",
        "                    final_alpha = lam\r\n",
        "                    waarde = waarde2\r\n",
        "                    print(waarde2)\r\n",
        "                    print('update')\r\n",
        "\r\n",
        "    ridge_mod = Ridge(alpha = final_alpha)\r\n",
        "    ridge_mod.fit(X_trainBig, y_trainBig)    \r\n",
        "    predictions_ridge = ridge_mod.predict(X_test)\r\n",
        "\r\n",
        "    print('XGBoost')\r\n",
        "    \r\n",
        "    waarde = 999999\r\n",
        "    final_gamma = 0\r\n",
        "    final_lr = 0\r\n",
        "    final_rounds = 0\r\n",
        "\r\n",
        "    for gamma in gammas:\r\n",
        "        for lr in lrs:\r\n",
        "            for rounds in num_rounds:\r\n",
        "                xgb_model = XGBRegressor(objective=\"reg:squarederror\", n_estimators=rounds, gamma = gamma, eta = lr)\r\n",
        "                xgb_model.fit(X_train, y_train)\r\n",
        "                predictions = xgb_model.predict(X_val)\r\n",
        "                waarde2 = mean_squared_error(y_val, predictions, squared=False)\r\n",
        "                if waarde2<waarde:                    \r\n",
        "                    final_gamma = gamma\r\n",
        "                    final_lr = lr\r\n",
        "                    final_rounds = rounds\r\n",
        "                    waarde = waarde2\r\n",
        "                    print(waarde2)\r\n",
        "                    print('update')\r\n",
        "                  \r\n",
        "    xgb_model = XGBRegressor(objective=\"reg:squarederror\", n_estimators=rounds, gamma = gamma, eta = lr)\r\n",
        "\r\n",
        "    xgb_model.fit(X_trainBig, y_trainBig)\r\n",
        "    \r\n",
        "    predictions_xgb = xgb_model.predict(X_test)\r\n",
        "\r\n",
        "    print('Random Forest')\r\n",
        "\r\n",
        "    rf = RandomForestRegressor(n_estimators=500)\r\n",
        "    rf.fit(X_trainBig, y_trainBig)    \r\n",
        "    predictions_rf = rf.predict(X_test)\r\n",
        "\r\n",
        "    return(predictions_linreg, predictions_ridge, predictions_xgb, predictions_rf)"
      ],
      "execution_count": null,
      "outputs": []
    },
    {
      "cell_type": "code",
      "metadata": {
        "id": "7Mg811MS9M_b"
      },
      "source": [
        "from scipy.stats import spearmanr, percentileofscore\r\n",
        "\r\n",
        "def validation(predictions, y_test):\r\n",
        "  rmse = mean_squared_error(y_test, predictions, squared=False)\r\n",
        "  spearman = spearmanr(y_test, predictions)\r\n",
        "\r\n",
        "  #convert to percentile\r\n",
        "  pred_percentile = np.vectorize(lambda x: percentileofscore(predictions, x))(predictions)\r\n",
        "  true_percentile = np.vectorize(lambda x: percentileofscore(y_test, x))(y_test)\r\n",
        "\r\n",
        "  conditions = [\r\n",
        "    (pred_percentile<50),\r\n",
        "    ((pred_percentile>=50) & (pred_percentile<75)),\r\n",
        "    ((pred_percentile>=75) & (pred_percentile<90)),\r\n",
        "    (pred_percentile>=90),\r\n",
        "  ]\r\n",
        "  choices = [\"bottom50\", \"top50\", \"top25\", \"top10\"]\r\n",
        "\r\n",
        "  pred_categorized = np.select(conditions, choices)\r\n",
        "\r\n",
        "  conditions = [\r\n",
        "    (true_percentile<50),\r\n",
        "    ((true_percentile>=50) & (true_percentile<75)),\r\n",
        "    ((true_percentile>=75) & (true_percentile<90)),\r\n",
        "    (true_percentile>=90),\r\n",
        "  ]\r\n",
        "\r\n",
        "  true_categorized = np.select(conditions, choices)\r\n",
        "\r\n",
        "  accuracy = sum(pred_categorized==true_categorized)/len(true_categorized)\r\n",
        "\r\n",
        "  total_misclass = sum((true_categorized=='bottom50')&(pred_categorized=='top10'))+sum((true_categorized=='bottom50')&(pred_categorized=='top25'))+sum((true_categorized=='top50')&(pred_categorized=='top10')) + sum((pred_categorized=='bottom50')&(true_categorized=='top10'))+sum((pred_categorized=='bottom50')&(true_categorized=='top25'))+sum((pred_categorized=='top50')&(true_categorized=='top10'))\r\n",
        "\r\n",
        "  one_off = 1-(total_misclass/len(true_categorized))\r\n",
        "\r\n",
        "  return([rmse, spearman, accuracy, one_off])"
      ],
      "execution_count": null,
      "outputs": []
    },
    {
      "cell_type": "code",
      "metadata": {
        "id": "SpsfKo8K9Aoy"
      },
      "source": [
        "from sklearn.feature_selection import mutual_info_regression\r\n",
        "\r\n",
        "def feat_sel(train, val, test, y_train):\r\n",
        "  mi = mutual_info_regression(train, y_train)\r\n",
        "  mi /= np.max(mi)\r\n",
        "\r\n",
        "  selected_col = train.columns[mi>0]\r\n",
        "\r\n",
        "  train = train[selected_col]\r\n",
        "  val = val[selected_col]\r\n",
        "  test = test[selected_col]\r\n",
        "\r\n",
        "  return(train, val, test)"
      ],
      "execution_count": null,
      "outputs": []
    },
    {
      "cell_type": "code",
      "metadata": {
        "id": "evoaN94F8d8M"
      },
      "source": [
        "def overall_loop(year):\r\n",
        "  \r\n",
        "  print(year)  \r\n",
        "  val_year = year-1\r\n",
        "\r\n",
        "  train = full[full['Pro_year']<val_year]\r\n",
        "  val = full[full['Pro_year']==val_year]\r\n",
        "  test = full[full['Pro_year']==year]\r\n",
        "\r\n",
        "  train_rider = train['Rider']\r\n",
        "  val_rider = val['Rider']\r\n",
        "  test_rider = test['Rider']\r\n",
        "\r\n",
        "  y_train = train['Points_as_neopro']\r\n",
        "  y_val = val['Points_as_neopro']\r\n",
        "  y_test = test['Points_as_neopro']\r\n",
        "\r\n",
        "  train = train.drop(['Rider', 'Pro_year', 'Points_as_neopro'], axis=1)\r\n",
        "  val = val.drop(['Rider', 'Pro_year', 'Points_as_neopro'], axis=1)\r\n",
        "  test = test.drop(['Rider', 'Pro_year', 'Points_as_neopro'], axis=1)\r\n",
        "\r\n",
        "  complete_var2 = list(complete_var)\r\n",
        "  complete_var2.remove('Rider')\r\n",
        "  complete_var2.remove('Pro_year')\r\n",
        "  complete_var2.remove('Points_as_neopro')\r\n",
        "\r\n",
        "  train_knn, val_knn, test_knn = impute('knn', train, val, test, complete_var2)\r\n",
        "  train_mean, val_mean, test_mean = impute('mean', train, val, test, complete_var2)\r\n",
        "  train_regression, val_regression, test_regression = impute('regression', train, val, test, complete_var2)\r\n",
        "\r\n",
        "  train_knn, val_knn, test_knn = feat_sel(train_knn, val_knn, test_knn)\r\n",
        "  train_mean, val_mean, test_mean = feat_sel( train_mean, val_mean, test_mean)\r\n",
        "  train_regression, val_regression, test_regression = feat_sel(train_regression, val_regression, test_regression)\r\n",
        "\r\n",
        "  print('knn')\r\n",
        "  predictions_linreg_knn, predictions_ridge_knn, predictions_xgb_knn, predictions_rf_knn = render_predictions(train_knn,  y_train, val_knn, y_val, test_knn)\r\n",
        "  print('mean')\r\n",
        "  predictions_linreg_mean, predictions_ridge_mean, predictions_xgb_mean, predictions_rf_mean = render_predictions(train_mean, y_train, val_mean, y_val, test_mean)\r\n",
        "  print('regression')\r\n",
        "  predictions_linreg_regression, predictions_ridge_regression, predictions_xgb_regression, predictions_rf_regression = render_predictions(train_regression, y_train, val_regression, y_val, test_regression)\r\n",
        "  \r\n",
        "  validation_linreg_knn = validation(predictions_linreg_knn, y_test)\r\n",
        "  validation_ridge_knn = validation(predictions_ridge_knn, y_test)\r\n",
        "  validation_xgb_knn = validation(predictions_xgb_knn, y_test)\r\n",
        "  validation_rf_knn = validation(predictions_rf_knn, y_test)\r\n",
        "\r\n",
        "  validation_linreg_mean = validation(predictions_linreg_mean, y_test)\r\n",
        "  validation_ridge_mean = validation(predictions_ridge_mean, y_test)\r\n",
        "  validation_xgb_mean = validation(predictions_xgb_mean, y_test)\r\n",
        "  validation_rf_mean = validation(predictions_rf_mean, y_test)\r\n",
        "\r\n",
        "  validation_linreg_regression = validation(predictions_linreg_regression, y_test)\r\n",
        "  validation_ridge_regression = validation(predictions_ridge_regression, y_test)\r\n",
        "  validation_xgb_regression = validation(predictions_xgb_regression, y_test)\r\n",
        "  validation_rf_regression = validation(predictions_rf_regression, y_test)\r\n",
        "\r\n",
        "  return([validation_linreg_knn,validation_ridge_knn ,validation_xgb_knn ,validation_rf_knn ,validation_linreg_mean ,validation_ridge_mean ,validation_xgb_mean ,validation_rf_mean, validation_linreg_regression ,validation_ridge_regression,validation_xgb_regression ,validation_rf_regression])"
      ],
      "execution_count": null,
      "outputs": []
    },
    {
      "cell_type": "code",
      "metadata": {
        "colab": {
          "base_uri": "https://localhost:8080/"
        },
        "id": "8nxhcV1nRD1o",
        "outputId": "5f82ffe5-2f04-41af-d9d4-ae90f4cfc1d6"
      },
      "source": [
        "import random\r\n",
        "random.seed(123)\r\n",
        "outcome_2015 = overall_loop(2015)\r\n",
        "outcome_2016 = overall_loop(2016)\r\n",
        "outcome_2017 = overall_loop(2017)\r\n",
        "outcome_2018 = overall_loop(2018)\r\n",
        "outcome_2019 = overall_loop(2019)"
      ],
      "execution_count": null,
      "outputs": [
        {
          "output_type": "stream",
          "text": [
            "2015\n"
          ],
          "name": "stdout"
        }
      ]
    },
    {
      "cell_type": "code",
      "metadata": {
        "id": "WBGWD52CT53-"
      },
      "source": [
        "outcome_2015"
      ],
      "execution_count": null,
      "outputs": []
    },
    {
      "cell_type": "code",
      "metadata": {
        "id": "SRwUJMrrUvdQ"
      },
      "source": [
        "outcome_2016"
      ],
      "execution_count": null,
      "outputs": []
    },
    {
      "cell_type": "code",
      "metadata": {
        "id": "7kVsvIZmUxyK"
      },
      "source": [
        "outcome_2017"
      ],
      "execution_count": null,
      "outputs": []
    },
    {
      "cell_type": "code",
      "metadata": {
        "id": "PcLZssIQUyxn"
      },
      "source": [
        "outcome_2018"
      ],
      "execution_count": null,
      "outputs": []
    },
    {
      "cell_type": "code",
      "metadata": {
        "id": "sJ7ABOoAUzm_"
      },
      "source": [
        "outcome_2019"
      ],
      "execution_count": null,
      "outputs": []
    }
  ]
}