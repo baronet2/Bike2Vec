{
 "cells": [
  {
   "cell_type": "code",
   "execution_count": null,
   "id": "173526cf",
   "metadata": {},
   "outputs": [],
   "source": [
    "import requests\n",
    "from bs4 import BeautifulSoup\n",
    "import pandas as pd\n",
    "\n",
    "def load_month_races(year : int, month : int) -> pd.DataFrame:\n",
    "    url = f'https://cqranking.com/men/asp/gen/RaceCal.asp?year={year}&month={month}'\n",
    "    race_df = pd.read_html(url, match = \"Nbr\")[0].dropna(axis=1, how='all')\n",
    "    \n",
    "    page = requests.get(url)\n",
    "    soup = BeautifulSoup(page.content, 'html.parser')\n",
    "    table = soup.find('table', {'class': 'border'})\n",
    "    race_df = pd.read_html(str(table))[0].dropna(axis=1, how='all')\n",
    "    race_df['race_id'] = [int(a['href'].split('=')[1]) for a in table.find_all('a') if 'raceid' in a['href']]\n",
    "    return race_df\n",
    "\n",
    "months = range(1, 13)\n",
    "race_dfs = (load_month_races(2022, month) for month in months)\n",
    "races = pd.concat(race_dfs)\n",
    "races"
   ]
  },
  {
   "cell_type": "code",
   "execution_count": null,
   "id": "896b001a",
   "metadata": {},
   "outputs": [],
   "source": [
    "races_file_name = 'races.csv'\n",
    "\n",
    "(races\n",
    " [['Start date', 'End date', 'Cat.', 'Name', 'race_id']]\n",
    " .rename(columns = {'Start date': 'start', 'End date': 'end', 'Cat.': 'cat', 'Name': 'name'})\n",
    " .to_csv(races_file_name, index = False)\n",
    ")\n",
    "pd.read_csv(races_file_name)"
   ]
  }
 ],
 "metadata": {
  "kernelspec": {
   "display_name": "Python 3 (ipykernel)",
   "language": "python",
   "name": "python3"
  },
  "language_info": {
   "codemirror_mode": {
    "name": "ipython",
    "version": 3
   },
   "file_extension": ".py",
   "mimetype": "text/x-python",
   "name": "python",
   "nbconvert_exporter": "python",
   "pygments_lexer": "ipython3",
   "version": "3.10.8"
  }
 },
 "nbformat": 4,
 "nbformat_minor": 5
}
