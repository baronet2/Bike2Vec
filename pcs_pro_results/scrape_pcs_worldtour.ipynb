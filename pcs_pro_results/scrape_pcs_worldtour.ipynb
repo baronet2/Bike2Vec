{
 "cells": [
  {
   "cell_type": "code",
   "execution_count": 1,
   "id": "67663916",
   "metadata": {},
   "outputs": [
    {
     "name": "stdout",
     "output_type": "stream",
     "text": [
      "Requirement already satisfied: procyclingstats in /opt/conda/lib/python3.10/site-packages (0.1.1)\r\n",
      "Requirement already satisfied: selectolax in /opt/conda/lib/python3.10/site-packages (from procyclingstats) (0.3.12)\r\n",
      "Requirement already satisfied: requests in /opt/conda/lib/python3.10/site-packages (from procyclingstats) (2.28.1)\r\n",
      "Requirement already satisfied: certifi>=2017.4.17 in /opt/conda/lib/python3.10/site-packages (from requests->procyclingstats) (2022.12.7)\r\n",
      "Requirement already satisfied: idna<4,>=2.5 in /opt/conda/lib/python3.10/site-packages (from requests->procyclingstats) (3.4)\r\n",
      "Requirement already satisfied: urllib3<1.27,>=1.21.1 in /opt/conda/lib/python3.10/site-packages (from requests->procyclingstats) (1.26.13)\r\n",
      "Requirement already satisfied: charset-normalizer<3,>=2 in /opt/conda/lib/python3.10/site-packages (from requests->procyclingstats) (2.1.1)\r\n",
      "Requirement already satisfied: Cython>=0.29.23 in /opt/conda/lib/python3.10/site-packages (from selectolax->procyclingstats) (0.29.33)\r\n"
     ]
    }
   ],
   "source": [
    "!pip install procyclingstats"
   ]
  },
  {
   "cell_type": "code",
   "execution_count": 6,
   "id": "84763164",
   "metadata": {},
   "outputs": [
    {
     "data": {
      "text/html": [
       "<div>\n",
       "<style scoped>\n",
       "    .dataframe tbody tr th:only-of-type {\n",
       "        vertical-align: middle;\n",
       "    }\n",
       "\n",
       "    .dataframe tbody tr th {\n",
       "        vertical-align: top;\n",
       "    }\n",
       "\n",
       "    .dataframe thead th {\n",
       "        text-align: right;\n",
       "    }\n",
       "</style>\n",
       "<table border=\"1\" class=\"dataframe\">\n",
       "  <thead>\n",
       "    <tr style=\"text-align: right;\">\n",
       "      <th></th>\n",
       "      <th>race_name</th>\n",
       "      <th>year</th>\n",
       "      <th>stage_race</th>\n",
       "      <th>race_url</th>\n",
       "    </tr>\n",
       "  </thead>\n",
       "  <tbody>\n",
       "    <tr>\n",
       "      <th>83</th>\n",
       "      <td>tour-down-under</td>\n",
       "      <td>2016</td>\n",
       "      <td>True</td>\n",
       "      <td>race/tour-down-under/2016</td>\n",
       "    </tr>\n",
       "    <tr>\n",
       "      <th>84</th>\n",
       "      <td>paris-nice</td>\n",
       "      <td>2016</td>\n",
       "      <td>True</td>\n",
       "      <td>race/paris-nice/2016</td>\n",
       "    </tr>\n",
       "    <tr>\n",
       "      <th>85</th>\n",
       "      <td>tirreno-adriatico</td>\n",
       "      <td>2016</td>\n",
       "      <td>True</td>\n",
       "      <td>race/tirreno-adriatico/2016</td>\n",
       "    </tr>\n",
       "    <tr>\n",
       "      <th>86</th>\n",
       "      <td>milano-sanremo</td>\n",
       "      <td>2016</td>\n",
       "      <td>False</td>\n",
       "      <td>race/milano-sanremo/2016</td>\n",
       "    </tr>\n",
       "    <tr>\n",
       "      <th>87</th>\n",
       "      <td>volta-a-catalunya</td>\n",
       "      <td>2016</td>\n",
       "      <td>True</td>\n",
       "      <td>race/volta-a-catalunya/2016</td>\n",
       "    </tr>\n",
       "    <tr>\n",
       "      <th>...</th>\n",
       "      <td>...</td>\n",
       "      <td>...</td>\n",
       "      <td>...</td>\n",
       "      <td>...</td>\n",
       "    </tr>\n",
       "    <tr>\n",
       "      <th>322</th>\n",
       "      <td>benelux-tour</td>\n",
       "      <td>2022</td>\n",
       "      <td>True</td>\n",
       "      <td>race/benelux-tour/2022</td>\n",
       "    </tr>\n",
       "    <tr>\n",
       "      <th>323</th>\n",
       "      <td>gp-quebec</td>\n",
       "      <td>2022</td>\n",
       "      <td>False</td>\n",
       "      <td>race/gp-quebec/2022</td>\n",
       "    </tr>\n",
       "    <tr>\n",
       "      <th>324</th>\n",
       "      <td>gp-montreal</td>\n",
       "      <td>2022</td>\n",
       "      <td>False</td>\n",
       "      <td>race/gp-montreal/2022</td>\n",
       "    </tr>\n",
       "    <tr>\n",
       "      <th>325</th>\n",
       "      <td>il-lombardia</td>\n",
       "      <td>2022</td>\n",
       "      <td>False</td>\n",
       "      <td>race/il-lombardia/2022</td>\n",
       "    </tr>\n",
       "    <tr>\n",
       "      <th>326</th>\n",
       "      <td>tour-of-guangxi</td>\n",
       "      <td>2022</td>\n",
       "      <td>True</td>\n",
       "      <td>race/tour-of-guangxi/2022</td>\n",
       "    </tr>\n",
       "  </tbody>\n",
       "</table>\n",
       "<p>244 rows × 4 columns</p>\n",
       "</div>"
      ],
      "text/plain": [
       "             race_name  year  stage_race                     race_url\n",
       "83     tour-down-under  2016        True    race/tour-down-under/2016\n",
       "84          paris-nice  2016        True         race/paris-nice/2016\n",
       "85   tirreno-adriatico  2016        True  race/tirreno-adriatico/2016\n",
       "86      milano-sanremo  2016       False     race/milano-sanremo/2016\n",
       "87   volta-a-catalunya  2016        True  race/volta-a-catalunya/2016\n",
       "..                 ...   ...         ...                          ...\n",
       "322       benelux-tour  2022        True       race/benelux-tour/2022\n",
       "323          gp-quebec  2022       False          race/gp-quebec/2022\n",
       "324        gp-montreal  2022       False        race/gp-montreal/2022\n",
       "325       il-lombardia  2022       False       race/il-lombardia/2022\n",
       "326    tour-of-guangxi  2022        True    race/tour-of-guangxi/2022\n",
       "\n",
       "[244 rows x 4 columns]"
      ]
     },
     "execution_count": 6,
     "metadata": {},
     "output_type": "execute_result"
    }
   ],
   "source": [
    "import pandas as pd\n",
    "world_tour_races = pd.read_csv('world_tour_races.csv')\n",
    "world_tour_races['race_url'] = 'race/' + world_tour_races['race_name'] + '/' + world_tour_races['year'].astype(str)\n",
    "world_tour_races = world_tour_races.query('year >= 2016')\n",
    "world_tour_races"
   ]
  },
  {
   "cell_type": "code",
   "execution_count": 11,
   "id": "e979070c",
   "metadata": {
    "scrolled": false
   },
   "outputs": [
    {
     "name": "stderr",
     "output_type": "stream",
     "text": [
      "1it [00:00,  1.44it/s]"
     ]
    },
    {
     "name": "stdout",
     "output_type": "stream",
     "text": [
      "Unable to add results from race/e3-harelbeke/2016 - bad URL\n"
     ]
    },
    {
     "name": "stderr",
     "output_type": "stream",
     "text": [
      "19it [00:09,  2.41it/s]"
     ]
    },
    {
     "name": "stdout",
     "output_type": "stream",
     "text": [
      "Unable to add results from race/e3-harelbeke/2017 - bad URL\n"
     ]
    },
    {
     "name": "stderr",
     "output_type": "stream",
     "text": [
      "35it [00:16,  2.35it/s]"
     ]
    },
    {
     "name": "stdout",
     "output_type": "stream",
     "text": [
      "Unable to add results from race/great-ocean-race/2018 - bad HTML\n"
     ]
    },
    {
     "name": "stderr",
     "output_type": "stream",
     "text": [
      "38it [00:17,  2.56it/s]"
     ]
    },
    {
     "name": "stdout",
     "output_type": "stream",
     "text": [
      "Unable to add results from race/e3-harelbeke/2018 - bad URL\n"
     ]
    },
    {
     "name": "stderr",
     "output_type": "stream",
     "text": [
      "47it [00:20,  2.92it/s]"
     ]
    },
    {
     "name": "stdout",
     "output_type": "stream",
     "text": [
      "Unable to add results from race/eschborn-frankfurt/2018 - bad HTML\n"
     ]
    },
    {
     "name": "stderr",
     "output_type": "stream",
     "text": [
      "59it [00:24,  3.26it/s]"
     ]
    },
    {
     "name": "stdout",
     "output_type": "stream",
     "text": [
      "Unable to add results from race/e3-harelbeke/2019 - bad URL\n"
     ]
    },
    {
     "name": "stderr",
     "output_type": "stream",
     "text": [
      "77it [00:34,  2.10it/s]"
     ]
    },
    {
     "name": "stdout",
     "output_type": "stream",
     "text": [
      "Unable to add results from race/e3-harelbeke/2020 - bad URL\n"
     ]
    },
    {
     "name": "stderr",
     "output_type": "stream",
     "text": [
      "80it [00:34,  3.09it/s]"
     ]
    },
    {
     "name": "stdout",
     "output_type": "stream",
     "text": [
      "Unable to add results from race/eschborn-frankfurt/2020 - bad HTML (possibly TTT)\n",
      "Unable to add results from race/san-sebastian/2020 - bad HTML (possibly TTT)\n"
     ]
    },
    {
     "name": "stderr",
     "output_type": "stream",
     "text": [
      "84it [00:36,  2.86it/s]"
     ]
    },
    {
     "name": "stdout",
     "output_type": "stream",
     "text": [
      "Unable to add results from race/ride-london-classic/2020 - bad HTML (possibly TTT)\n"
     ]
    },
    {
     "name": "stderr",
     "output_type": "stream",
     "text": [
      "87it [00:37,  3.62it/s]"
     ]
    },
    {
     "name": "stdout",
     "output_type": "stream",
     "text": [
      "Unable to add results from race/gp-quebec/2020 - bad HTML (possibly TTT)\n",
      "Unable to add results from race/gp-montreal/2020 - bad HTML (possibly TTT)\n"
     ]
    },
    {
     "name": "stderr",
     "output_type": "stream",
     "text": [
      "89it [00:37,  3.82it/s]"
     ]
    },
    {
     "name": "stdout",
     "output_type": "stream",
     "text": [
      "Unable to add results from race/cyclassics-hamburg/2020 - bad HTML (possibly TTT)\n"
     ]
    },
    {
     "name": "stderr",
     "output_type": "stream",
     "text": [
      "91it [00:38,  3.97it/s]"
     ]
    },
    {
     "name": "stdout",
     "output_type": "stream",
     "text": [
      "Unable to add results from race/amstel-gold-race/2020 - bad HTML (possibly TTT)\n"
     ]
    },
    {
     "name": "stderr",
     "output_type": "stream",
     "text": [
      "93it [00:39,  2.97it/s]"
     ]
    },
    {
     "name": "stdout",
     "output_type": "stream",
     "text": [
      "Unable to add results from race/dwars-door-vlaanderen/2020 - bad HTML (possibly TTT)\n"
     ]
    },
    {
     "name": "stderr",
     "output_type": "stream",
     "text": [
      "97it [00:40,  3.72it/s]"
     ]
    },
    {
     "name": "stdout",
     "output_type": "stream",
     "text": [
      "Unable to add results from race/paris-roubaix/2020 - bad HTML (possibly TTT)\n",
      "Unable to add results from race/great-ocean-race/2021 - bad HTML (possibly TTT)\n"
     ]
    },
    {
     "name": "stderr",
     "output_type": "stream",
     "text": [
      "101it [00:42,  2.10it/s]"
     ]
    },
    {
     "name": "stdout",
     "output_type": "stream",
     "text": [
      "Unable to add results from race/e3-harelbeke/2021 - bad URL\n"
     ]
    },
    {
     "name": "stderr",
     "output_type": "stream",
     "text": [
      "110it [00:45,  3.16it/s]"
     ]
    },
    {
     "name": "stdout",
     "output_type": "stream",
     "text": [
      "Unable to add results from race/cyclassics-hamburg/2021 - bad HTML (possibly TTT)\n"
     ]
    },
    {
     "name": "stderr",
     "output_type": "stream",
     "text": [
      "112it [00:46,  2.71it/s]"
     ]
    },
    {
     "name": "stdout",
     "output_type": "stream",
     "text": [
      "Unable to add results from race/gp-quebec/2021 - bad HTML (possibly TTT)\n"
     ]
    },
    {
     "name": "stderr",
     "output_type": "stream",
     "text": [
      "\r",
      "113it [00:46,  3.12it/s]"
     ]
    },
    {
     "name": "stdout",
     "output_type": "stream",
     "text": [
      "Unable to add results from race/gp-montreal/2021 - bad HTML (possibly TTT)\n"
     ]
    },
    {
     "name": "stderr",
     "output_type": "stream",
     "text": [
      "117it [00:48,  2.48it/s]"
     ]
    },
    {
     "name": "stdout",
     "output_type": "stream",
     "text": [
      "Unable to add results from race/great-ocean-race/2022 - bad HTML (possibly TTT)\n"
     ]
    },
    {
     "name": "stderr",
     "output_type": "stream",
     "text": [
      "121it [00:49,  2.41it/s]"
     ]
    },
    {
     "name": "stdout",
     "output_type": "stream",
     "text": [
      "Unable to add results from race/e3-harelbeke/2022 - bad URL\n"
     ]
    },
    {
     "name": "stderr",
     "output_type": "stream",
     "text": [
      "136it [00:57,  2.38it/s]\n",
      "1it [00:03,  3.28s/it]"
     ]
    },
    {
     "name": "stdout",
     "output_type": "stream",
     "text": [
      "Unable to add results from race/paris-nice/2016/stage-3 - bad HTML (possibly TTT)\n"
     ]
    },
    {
     "name": "stderr",
     "output_type": "stream",
     "text": [
      "\r",
      "2it [00:10,  5.32s/it]"
     ]
    },
    {
     "name": "stdout",
     "output_type": "stream",
     "text": [
      "Unable to add results from race/tirreno-adriatico/2016/stage-5 - bad HTML (possibly TTT)\n"
     ]
    },
    {
     "name": "stderr",
     "output_type": "stream",
     "text": [
      "6it [00:27,  4.31s/it]"
     ]
    },
    {
     "name": "stdout",
     "output_type": "stream",
     "text": [
      "Unable to add results from race/giro-d-italia/2016/stage-8 - bad HTML\n"
     ]
    },
    {
     "name": "stderr",
     "output_type": "stream",
     "text": [
      "10it [01:10,  9.62s/it]"
     ]
    },
    {
     "name": "stdout",
     "output_type": "stream",
     "text": [
      "Unable to add results from race/tour-de-pologne/2016/stage-6 - bad HTML (possibly TTT)\n"
     ]
    },
    {
     "name": "stderr",
     "output_type": "stream",
     "text": [
      "17it [01:51,  5.55s/it]"
     ]
    },
    {
     "name": "stdout",
     "output_type": "stream",
     "text": [
      "Unable to add results from race/volta-a-catalunya/2017/stage-2 - bad HTML (possibly TTT)\n"
     ]
    },
    {
     "name": "stderr",
     "output_type": "stream",
     "text": [
      "33it [03:33,  4.60s/it]"
     ]
    },
    {
     "name": "stdout",
     "output_type": "stream",
     "text": [
      "Unable to add results from race/tirreno-adriatico/2018/stage-1 - bad HTML (possibly TTT)\n"
     ]
    },
    {
     "name": "stderr",
     "output_type": "stream",
     "text": [
      "35it [03:42,  4.60s/it]"
     ]
    },
    {
     "name": "stdout",
     "output_type": "stream",
     "text": [
      "Unable to add results from race/itzulia-basque-country/2018/stage-4 - bad HTML\n"
     ]
    },
    {
     "name": "stderr",
     "output_type": "stream",
     "text": [
      "37it [03:49,  4.08s/it]"
     ]
    },
    {
     "name": "stdout",
     "output_type": "stream",
     "text": [
      "Unable to add results from race/giro-d-italia/2018/stage-20 - bad HTML\n"
     ]
    },
    {
     "name": "stderr",
     "output_type": "stream",
     "text": [
      "39it [04:09,  6.58s/it]"
     ]
    },
    {
     "name": "stdout",
     "output_type": "stream",
     "text": [
      "Unable to add results from race/dauphine/2018/stage-3 - bad HTML\n"
     ]
    },
    {
     "name": "stderr",
     "output_type": "stream",
     "text": [
      "\r",
      "40it [04:15,  6.28s/it]"
     ]
    },
    {
     "name": "stdout",
     "output_type": "stream",
     "text": [
      "Unable to add results from race/tour-de-suisse/2018/stage-1 - bad HTML (possibly TTT)\n"
     ]
    },
    {
     "name": "stderr",
     "output_type": "stream",
     "text": [
      "\r",
      "41it [04:21,  6.17s/it]"
     ]
    },
    {
     "name": "stdout",
     "output_type": "stream",
     "text": [
      "Unable to add results from race/tour-de-france/2018/stage-3 - bad HTML (possibly TTT)\n",
      "Unable to add results from race/tour-de-france/2018/stage-9 - bad HTML\n"
     ]
    },
    {
     "name": "stderr",
     "output_type": "stream",
     "text": [
      "48it [05:10,  5.63s/it]"
     ]
    },
    {
     "name": "stdout",
     "output_type": "stream",
     "text": [
      "Unable to add results from race/uae-tour/2019/stage-1 - bad HTML (possibly TTT)\n"
     ]
    },
    {
     "name": "stderr",
     "output_type": "stream",
     "text": [
      "50it [05:18,  4.83s/it]"
     ]
    },
    {
     "name": "stdout",
     "output_type": "stream",
     "text": [
      "Unable to add results from race/tirreno-adriatico/2019/stage-1 - bad HTML (possibly TTT)\n"
     ]
    },
    {
     "name": "stderr",
     "output_type": "stream",
     "text": [
      "59it [06:09,  6.19s/it]"
     ]
    },
    {
     "name": "stdout",
     "output_type": "stream",
     "text": [
      "Unable to add results from race/tour-de-france/2019/stage-2 - bad HTML (possibly TTT)\n"
     ]
    },
    {
     "name": "stderr",
     "output_type": "stream",
     "text": [
      "\r",
      "60it [06:24,  9.02s/it]"
     ]
    },
    {
     "name": "stdout",
     "output_type": "stream",
     "text": [
      "Unable to add results from race/tour-de-pologne/2019/stage-4 - bad HTML (possibly TTT)\n"
     ]
    },
    {
     "name": "stderr",
     "output_type": "stream",
     "text": [
      "67it [07:01,  4.80s/it]"
     ]
    },
    {
     "name": "stdout",
     "output_type": "stream",
     "text": [
      "Unable to add results from race/paris-nice/2020/stage-8 - bad HTML (possibly TTT)\n"
     ]
    },
    {
     "name": "stderr",
     "output_type": "stream",
     "text": [
      "72it [07:08,  2.54s/it]"
     ]
    },
    {
     "name": "stdout",
     "output_type": "stream",
     "text": [
      "Unable to add results from race/tour-de-france/2020/stage-8 - bad HTML (possibly TTT)\n",
      "Unable to add results from race/tour-de-france/2020/stage-9 - bad HTML (possibly TTT)\n"
     ]
    },
    {
     "name": "stderr",
     "output_type": "stream",
     "text": [
      "74it [07:31,  6.53s/it]"
     ]
    },
    {
     "name": "stdout",
     "output_type": "stream",
     "text": [
      "Unable to add results from race/benelux-tour/2020/stage-2 - bad HTML (possibly TTT)\n"
     ]
    },
    {
     "name": "stderr",
     "output_type": "stream",
     "text": [
      "77it [08:03,  9.73s/it]"
     ]
    },
    {
     "name": "stdout",
     "output_type": "stream",
     "text": [
      "Unable to add results from race/tour-of-guangxi/2020/stage-1 - bad HTML (possibly TTT)\n",
      "Unable to add results from race/tour-of-guangxi/2020/stage-2 - bad HTML (possibly TTT)\n",
      "Unable to add results from race/tour-of-guangxi/2020/stage-3 - bad HTML (possibly TTT)\n",
      "Unable to add results from race/tour-of-guangxi/2020/stage-4 - bad HTML (possibly TTT)\n"
     ]
    },
    {
     "name": "stderr",
     "output_type": "stream",
     "text": [
      "\r",
      "78it [08:05,  7.41s/it]"
     ]
    },
    {
     "name": "stdout",
     "output_type": "stream",
     "text": [
      "Unable to add results from race/tour-of-guangxi/2020/stage-5 - bad HTML (possibly TTT)\n",
      "Unable to add results from race/tour-of-guangxi/2020/stage-6 - bad HTML (possibly TTT)\n",
      "Unable to add results from race/tour-down-under/2021/stage-1 - bad HTML (possibly TTT)\n",
      "Unable to add results from race/tour-down-under/2021/stage-2 - bad HTML (possibly TTT)\n",
      "Unable to add results from race/tour-down-under/2021/stage-3 - bad HTML (possibly TTT)\n",
      "Unable to add results from race/tour-down-under/2021/stage-4 - bad HTML (possibly TTT)\n",
      "Unable to add results from race/tour-down-under/2021/stage-5 - bad HTML (possibly TTT)\n"
     ]
    },
    {
     "name": "stderr",
     "output_type": "stream",
     "text": [
      "\r",
      "79it [08:07,  5.77s/it]"
     ]
    },
    {
     "name": "stdout",
     "output_type": "stream",
     "text": [
      "Unable to add results from race/tour-down-under/2021/stage-6 - bad HTML (possibly TTT)\n"
     ]
    },
    {
     "name": "stderr",
     "output_type": "stream",
     "text": [
      "93it [09:37,  5.64s/it]"
     ]
    },
    {
     "name": "stdout",
     "output_type": "stream",
     "text": [
      "Unable to add results from race/tour-down-under/2022/stage-1 - bad HTML (possibly TTT)\n",
      "Unable to add results from race/tour-down-under/2022/stage-2 - bad HTML (possibly TTT)\n",
      "Unable to add results from race/tour-down-under/2022/stage-3 - bad HTML (possibly TTT)\n",
      "Unable to add results from race/tour-down-under/2022/stage-4 - bad HTML (possibly TTT)\n",
      "Unable to add results from race/tour-down-under/2022/stage-5 - bad HTML (possibly TTT)\n"
     ]
    },
    {
     "name": "stderr",
     "output_type": "stream",
     "text": [
      "\r",
      "94it [09:40,  4.77s/it]"
     ]
    },
    {
     "name": "stdout",
     "output_type": "stream",
     "text": [
      "Unable to add results from race/tour-down-under/2022/stage-6 - bad HTML (possibly TTT)\n"
     ]
    },
    {
     "name": "stderr",
     "output_type": "stream",
     "text": [
      "106it [11:08,  9.80s/it]"
     ]
    },
    {
     "name": "stdout",
     "output_type": "stream",
     "text": [
      "Unable to add results from race/benelux-tour/2022/stage-1 - bad HTML (possibly TTT)\n",
      "Unable to add results from race/benelux-tour/2022/stage-2 - bad HTML (possibly TTT)\n",
      "Unable to add results from race/benelux-tour/2022/stage-3 - bad HTML (possibly TTT)\n",
      "Unable to add results from race/benelux-tour/2022/stage-4 - bad HTML (possibly TTT)\n",
      "Unable to add results from race/benelux-tour/2022/stage-5 - bad HTML (possibly TTT)\n"
     ]
    },
    {
     "name": "stderr",
     "output_type": "stream",
     "text": [
      "\r",
      "107it [11:09,  7.42s/it]"
     ]
    },
    {
     "name": "stdout",
     "output_type": "stream",
     "text": [
      "Unable to add results from race/benelux-tour/2022/stage-6 - bad HTML (possibly TTT)\n",
      "Unable to add results from race/benelux-tour/2022/stage-7 - bad HTML (possibly TTT)\n",
      "Unable to add results from race/tour-of-guangxi/2022/stage-1 - bad HTML (possibly TTT)\n",
      "Unable to add results from race/tour-of-guangxi/2022/stage-2 - bad HTML (possibly TTT)\n",
      "Unable to add results from race/tour-of-guangxi/2022/stage-3 - bad HTML (possibly TTT)\n",
      "Unable to add results from race/tour-of-guangxi/2022/stage-4 - bad HTML (possibly TTT)\n",
      "Unable to add results from race/tour-of-guangxi/2022/stage-5 - bad HTML (possibly TTT)\n"
     ]
    },
    {
     "name": "stderr",
     "output_type": "stream",
     "text": [
      "108it [11:12,  6.22s/it]"
     ]
    },
    {
     "name": "stdout",
     "output_type": "stream",
     "text": [
      "Unable to add results from race/tour-of-guangxi/2022/stage-6 - bad HTML (possibly TTT)\n"
     ]
    },
    {
     "name": "stderr",
     "output_type": "stream",
     "text": [
      "\n"
     ]
    }
   ],
   "source": [
    "from procyclingstats import Stage, Race\n",
    "from tqdm import tqdm\n",
    "\n",
    "riders = pd.DataFrame(columns = ['rider_url', 'rider_name', 'nationality'])\n",
    "teams = pd.DataFrame(columns = ['team_url', 'team_name'])\n",
    "results = pd.DataFrame(columns = ['rider_url', 'team_url', 'rank', 'status', 'age', 'time', 'pcs_points', 'uci_points'])\n",
    "\n",
    "def add_results_from_stage(race_url):\n",
    "    global riders, teams, results\n",
    "    \n",
    "    try:\n",
    "        stage = Stage(race_url)\n",
    "    except ValueError:\n",
    "        print(f\"Unable to add results from {race_url} - bad URL\")\n",
    "        return\n",
    "    \n",
    "    try:\n",
    "        parsed = stage.parse()\n",
    "    except IndexError:\n",
    "        print(f\"Unable to add results from {race_url} - bad HTML (possibly TTT)\")\n",
    "        return\n",
    "    except:\n",
    "        print(f\"Unable to add results from {race_url} - bad HTML\")\n",
    "        return\n",
    "    \n",
    "    full_df = pd.DataFrame(parsed['results'])\n",
    "    \n",
    "    # Clean links   \n",
    "    full_df['rider_url'] = full_df['rider_url'].str.removeprefix('rider/')\n",
    "    full_df['team_url'] = full_df['team_url'].str.removeprefix('team/')\n",
    "    full_df['race_url'] = race_url\n",
    "    \n",
    "    rider = full_df[['rider_url', 'rider_name', 'nationality']]\n",
    "    riders = pd.concat([riders, rider]).drop_duplicates()\n",
    "    team = full_df[['team_url', 'team_name']]\n",
    "    teams = pd.concat([teams, team]).drop_duplicates()\n",
    "    result = full_df[['race_url', 'rider_url', 'team_url', 'rank', 'status', 'age', 'time', 'pcs_points', 'uci_points']]\n",
    "    results = pd.concat([results, result])\n",
    "    \n",
    "def get_stage_urls(race_url):\n",
    "    stage = Race(f\"{race_url}/overview\")\n",
    "    stages = stage.parse()['stages']\n",
    "    return [stage['stage_url'] for stage in stages]\n",
    "\n",
    "for i, race_url in tqdm(world_tour_races.query('not stage_race').race_url.items()):\n",
    "    add_results_from_stage(race_url)\n",
    "    \n",
    "for i, race_url in tqdm(world_tour_races.query('stage_race').race_url.items()):\n",
    "    stage_urls = get_stage_urls(race_url)\n",
    "    for stage in stage_urls:\n",
    "        add_results_from_stage(stage)\n",
    "        \n",
    "riders.to_csv('pcs_riders.csv')\n",
    "teams.to_csv('pcs_teams.csv')\n",
    "results.to_csv('pcs_results.csv')"
   ]
  },
  {
   "cell_type": "code",
   "execution_count": null,
   "id": "2e9ffdd9",
   "metadata": {},
   "outputs": [],
   "source": []
  }
 ],
 "metadata": {
  "kernelspec": {
   "display_name": "Python 3 (ipykernel)",
   "language": "python",
   "name": "python3"
  },
  "language_info": {
   "codemirror_mode": {
    "name": "ipython",
    "version": 3
   },
   "file_extension": ".py",
   "mimetype": "text/x-python",
   "name": "python",
   "nbconvert_exporter": "python",
   "pygments_lexer": "ipython3",
   "version": "3.10.8"
  }
 },
 "nbformat": 4,
 "nbformat_minor": 5
}
